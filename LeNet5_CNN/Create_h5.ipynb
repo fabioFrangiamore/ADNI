{
 "cells": [
  {
   "cell_type": "code",
   "execution_count": 4,
   "metadata": {},
   "outputs": [],
   "source": [
    "import os\n",
    "import torch\n",
    "import pandas as pd\n",
    "import h5py\n",
    "import numpy as np\n",
    "from tqdm import tqdm\n",
    "\n",
    "import matplotlib.pyplot as plt\n",
    "import SimpleITK as sitk\n",
    "\n",
    "from sklearn.preprocessing import LabelEncoder\n",
    "from sklearn.preprocessing import OneHotEncoder\n",
    "label_encoder = LabelEncoder()\n",
    "\n"
   ]
  },
  {
   "cell_type": "code",
   "execution_count": 5,
   "metadata": {},
   "outputs": [],
   "source": [
    "Comp = 'Poli'\n",
    "if Comp == 'FabioPC':\n",
    "    df = pd.read_csv('/media/fabio/Disco locale/Fabio/Programmazione/Python/Poliambulanza/Alzheimer/Dati/ADNI/ADNI_TOT_1_10_2020.csv')\n",
    "else:\n",
    "    df = pd.read_csv('D:/ADNI/Dati/ADNI1_T1_2_11_2020.csv')"
   ]
  },
  {
   "cell_type": "code",
   "execution_count": 6,
   "metadata": {},
   "outputs": [
    {
     "data": {
      "text/html": [
       "<div>\n",
       "<style scoped>\n",
       "    .dataframe tbody tr th:only-of-type {\n",
       "        vertical-align: middle;\n",
       "    }\n",
       "\n",
       "    .dataframe tbody tr th {\n",
       "        vertical-align: top;\n",
       "    }\n",
       "\n",
       "    .dataframe thead th {\n",
       "        text-align: right;\n",
       "    }\n",
       "</style>\n",
       "<table border=\"1\" class=\"dataframe\">\n",
       "  <thead>\n",
       "    <tr style=\"text-align: right;\">\n",
       "      <th></th>\n",
       "      <th>Image Data ID</th>\n",
       "      <th>Subject</th>\n",
       "      <th>Group</th>\n",
       "      <th>Sex</th>\n",
       "      <th>Age</th>\n",
       "      <th>Visit</th>\n",
       "      <th>Modality</th>\n",
       "      <th>Description</th>\n",
       "      <th>Type</th>\n",
       "      <th>Acq Date</th>\n",
       "      <th>Format</th>\n",
       "      <th>Downloaded</th>\n",
       "    </tr>\n",
       "  </thead>\n",
       "  <tbody>\n",
       "    <tr>\n",
       "      <th>0</th>\n",
       "      <td>63898</td>\n",
       "      <td>941_S_1363</td>\n",
       "      <td>MCI</td>\n",
       "      <td>F</td>\n",
       "      <td>70</td>\n",
       "      <td>1</td>\n",
       "      <td>MRI</td>\n",
       "      <td>MPR; GradWarp; B1 Correction</td>\n",
       "      <td>Processed</td>\n",
       "      <td>3/12/2007</td>\n",
       "      <td>NiFTI</td>\n",
       "      <td>NaN</td>\n",
       "    </tr>\n",
       "    <tr>\n",
       "      <th>1</th>\n",
       "      <td>63899</td>\n",
       "      <td>941_S_1363</td>\n",
       "      <td>MCI</td>\n",
       "      <td>F</td>\n",
       "      <td>70</td>\n",
       "      <td>1</td>\n",
       "      <td>MRI</td>\n",
       "      <td>MPR; GradWarp</td>\n",
       "      <td>Processed</td>\n",
       "      <td>3/12/2007</td>\n",
       "      <td>NiFTI</td>\n",
       "      <td>NaN</td>\n",
       "    </tr>\n",
       "    <tr>\n",
       "      <th>2</th>\n",
       "      <td>63900</td>\n",
       "      <td>941_S_1363</td>\n",
       "      <td>MCI</td>\n",
       "      <td>F</td>\n",
       "      <td>70</td>\n",
       "      <td>1</td>\n",
       "      <td>MRI</td>\n",
       "      <td>MPR-R; GradWarp; B1 Correction; Mask</td>\n",
       "      <td>Processed</td>\n",
       "      <td>3/12/2007</td>\n",
       "      <td>NiFTI</td>\n",
       "      <td>NaN</td>\n",
       "    </tr>\n",
       "    <tr>\n",
       "      <th>3</th>\n",
       "      <td>63901</td>\n",
       "      <td>941_S_1363</td>\n",
       "      <td>MCI</td>\n",
       "      <td>F</td>\n",
       "      <td>70</td>\n",
       "      <td>1</td>\n",
       "      <td>MRI</td>\n",
       "      <td>MPR-R; GradWarp; B1 Correction; N3</td>\n",
       "      <td>Processed</td>\n",
       "      <td>3/12/2007</td>\n",
       "      <td>NiFTI</td>\n",
       "      <td>NaN</td>\n",
       "    </tr>\n",
       "    <tr>\n",
       "      <th>4</th>\n",
       "      <td>63902</td>\n",
       "      <td>941_S_1363</td>\n",
       "      <td>MCI</td>\n",
       "      <td>F</td>\n",
       "      <td>70</td>\n",
       "      <td>1</td>\n",
       "      <td>MRI</td>\n",
       "      <td>MPR-R; GradWarp; B1 Correction</td>\n",
       "      <td>Processed</td>\n",
       "      <td>3/12/2007</td>\n",
       "      <td>NiFTI</td>\n",
       "      <td>NaN</td>\n",
       "    </tr>\n",
       "  </tbody>\n",
       "</table>\n",
       "</div>"
      ],
      "text/plain": [
       "   Image Data ID     Subject Group Sex  Age  Visit Modality  \\\n",
       "0          63898  941_S_1363   MCI   F   70      1      MRI   \n",
       "1          63899  941_S_1363   MCI   F   70      1      MRI   \n",
       "2          63900  941_S_1363   MCI   F   70      1      MRI   \n",
       "3          63901  941_S_1363   MCI   F   70      1      MRI   \n",
       "4          63902  941_S_1363   MCI   F   70      1      MRI   \n",
       "\n",
       "                            Description       Type   Acq Date Format  \\\n",
       "0          MPR; GradWarp; B1 Correction  Processed  3/12/2007  NiFTI   \n",
       "1                         MPR; GradWarp  Processed  3/12/2007  NiFTI   \n",
       "2  MPR-R; GradWarp; B1 Correction; Mask  Processed  3/12/2007  NiFTI   \n",
       "3    MPR-R; GradWarp; B1 Correction; N3  Processed  3/12/2007  NiFTI   \n",
       "4        MPR-R; GradWarp; B1 Correction  Processed  3/12/2007  NiFTI   \n",
       "\n",
       "  Downloaded  \n",
       "0        NaN  \n",
       "1        NaN  \n",
       "2        NaN  \n",
       "3        NaN  \n",
       "4        NaN  "
      ]
     },
     "execution_count": 6,
     "metadata": {},
     "output_type": "execute_result"
    }
   ],
   "source": [
    "df.head()"
   ]
  },
  {
   "cell_type": "code",
   "execution_count": 7,
   "metadata": {},
   "outputs": [
    {
     "name": "stdout",
     "output_type": "stream",
     "text": [
      "*Translation Transform*\n"
     ]
    }
   ],
   "source": [
    "interpolator = sitk.sitkLinear\n",
    "default_value = 0\n",
    "print('*Translation Transform*')\n",
    "transform = sitk.TranslationTransform(3)"
   ]
  },
  {
   "cell_type": "code",
   "execution_count": 8,
   "metadata": {},
   "outputs": [],
   "source": [
    "if Comp == 'FabioPC':\n",
    "    IMG_Folder = '/media/fabio/Disco locale/Fabio/Programmazione/Python/Poliambulanza/Alzheimer/Dati/ADNI/ADNI_Prova/'\n",
    "else:\n",
    "    IMG_Folder = 'D:/ADNI/Dati/ADNI_T1/ADNI1_T1/ADNI_Registrate/'"
   ]
  },
  {
   "cell_type": "code",
   "execution_count": 9,
   "metadata": {},
   "outputs": [],
   "source": [
    "dati_img = os.listdir(IMG_Folder)\n",
    "cwd = os.getcwd()"
   ]
  },
  {
   "cell_type": "code",
   "execution_count": 10,
   "metadata": {},
   "outputs": [
    {
     "data": {
      "text/plain": [
       "'D:\\\\Alzheimer\\\\ADNI\\\\LeNet5_CNN'"
      ]
     },
     "execution_count": 10,
     "metadata": {},
     "output_type": "execute_result"
    }
   ],
   "source": [
    "cwd"
   ]
  },
  {
   "cell_type": "code",
   "execution_count": 26,
   "metadata": {},
   "outputs": [
    {
     "data": {
      "text/plain": [
       "'registrata_ADNI_052_S_1346_MR_MPR__GradWarp__B1_Correction__N3_Br_20070727115157792_S28024_I62298.nii'"
      ]
     },
     "execution_count": 26,
     "metadata": {},
     "output_type": "execute_result"
    }
   ],
   "source": [
    "dati_img[424]"
   ]
  },
  {
   "cell_type": "code",
   "execution_count": 12,
   "metadata": {},
   "outputs": [],
   "source": [
    "if Comp == 'FabioPC':\n",
    "    dati_img[2].split('_')[1:4]\n",
    "else:\n",
    "    dati_img[2].split('_')[2:5]"
   ]
  },
  {
   "cell_type": "code",
   "execution_count": 13,
   "metadata": {},
   "outputs": [],
   "source": [
    "if Comp == 'FabioPC':\n",
    "    ID = '_'.join(dati_img[2].split('_')[1:4])\n",
    "else:\n",
    "    ID = '_'.join(dati_img[2].split('_')[2:5])"
   ]
  },
  {
   "cell_type": "code",
   "execution_count": 14,
   "metadata": {},
   "outputs": [
    {
     "data": {
      "text/plain": [
       "'002_S_0295'"
      ]
     },
     "execution_count": 14,
     "metadata": {},
     "output_type": "execute_result"
    }
   ],
   "source": [
    "ID"
   ]
  },
  {
   "cell_type": "code",
   "execution_count": 15,
   "metadata": {},
   "outputs": [
    {
     "data": {
      "text/plain": [
       "'MRI'"
      ]
     },
     "execution_count": 15,
     "metadata": {},
     "output_type": "execute_result"
    }
   ],
   "source": [
    "df.loc[df['Subject'] == ID]['Modality'].values[0]"
   ]
  },
  {
   "cell_type": "code",
   "execution_count": 16,
   "metadata": {},
   "outputs": [
    {
     "ename": "RuntimeError",
     "evalue": "Exception thrown in SimpleITK ReadImage: C:\\Users\\dashboard\\Miniconda3\\conda-bld\\simpleitk_1546533074085\\work\\Code\\IO\\src\\sitkImageReaderBase.cxx:104:\nsitk::ERROR: Unable to open \"D:/ADNI/Dati/ADNI_T1/ADNI1_T1/ADNI_Registrate/H5Corrette\" for reading.",
     "output_type": "error",
     "traceback": [
      "\u001b[1;31m---------------------------------------------------------------------------\u001b[0m",
      "\u001b[1;31mRuntimeError\u001b[0m                              Traceback (most recent call last)",
      "\u001b[1;32m<ipython-input-16-597e78288e48>\u001b[0m in \u001b[0;36m<module>\u001b[1;34m\u001b[0m\n\u001b[1;32m----> 1\u001b[1;33m \u001b[0mreference_image\u001b[0m \u001b[1;33m=\u001b[0m \u001b[0msitk\u001b[0m\u001b[1;33m.\u001b[0m\u001b[0mReadImage\u001b[0m\u001b[1;33m(\u001b[0m\u001b[0mIMG_Folder\u001b[0m \u001b[1;33m+\u001b[0m \u001b[0mdati_img\u001b[0m\u001b[1;33m[\u001b[0m\u001b[1;36m1\u001b[0m\u001b[1;33m]\u001b[0m\u001b[1;33m)\u001b[0m\u001b[1;33m\u001b[0m\u001b[1;33m\u001b[0m\u001b[0m\n\u001b[0m",
      "\u001b[1;32mC:\\ProgramData\\Anaconda3\\lib\\site-packages\\SimpleITK\\SimpleITK.py\u001b[0m in \u001b[0;36mReadImage\u001b[1;34m(*args)\u001b[0m\n\u001b[0;32m   8874\u001b[0m \u001b[1;33m\u001b[0m\u001b[0m\n\u001b[0;32m   8875\u001b[0m     \"\"\"\n\u001b[1;32m-> 8876\u001b[1;33m     \u001b[1;32mreturn\u001b[0m \u001b[0m_SimpleITK\u001b[0m\u001b[1;33m.\u001b[0m\u001b[0mReadImage\u001b[0m\u001b[1;33m(\u001b[0m\u001b[1;33m*\u001b[0m\u001b[0margs\u001b[0m\u001b[1;33m)\u001b[0m\u001b[1;33m\u001b[0m\u001b[1;33m\u001b[0m\u001b[0m\n\u001b[0m\u001b[0;32m   8877\u001b[0m \u001b[1;32mclass\u001b[0m \u001b[0mImageViewer\u001b[0m\u001b[1;33m(\u001b[0m\u001b[0m_object\u001b[0m\u001b[1;33m)\u001b[0m\u001b[1;33m:\u001b[0m\u001b[1;33m\u001b[0m\u001b[1;33m\u001b[0m\u001b[0m\n\u001b[0;32m   8878\u001b[0m     \"\"\"\n",
      "\u001b[1;31mRuntimeError\u001b[0m: Exception thrown in SimpleITK ReadImage: C:\\Users\\dashboard\\Miniconda3\\conda-bld\\simpleitk_1546533074085\\work\\Code\\IO\\src\\sitkImageReaderBase.cxx:104:\nsitk::ERROR: Unable to open \"D:/ADNI/Dati/ADNI_T1/ADNI1_T1/ADNI_Registrate/H5Corrette\" for reading."
     ]
    }
   ],
   "source": [
    "reference_image = sitk.ReadImage(IMG_Folder + dati_img[1])"
   ]
  },
  {
   "cell_type": "code",
   "execution_count": 17,
   "metadata": {},
   "outputs": [
    {
     "name": "stdout",
     "output_type": "stream",
     "text": [
      "Already Created\n"
     ]
    },
    {
     "name": "stderr",
     "output_type": "stream",
     "text": [
      "\r",
      "  0%|                                                                                          | 0/823 [00:00<?, ?it/s]"
     ]
    },
    {
     "name": "stdout",
     "output_type": "stream",
     "text": [
      "\n",
      "8892    CN\n",
      "8893    CN\n",
      "8894    CN\n",
      "8895    CN\n",
      "8896    CN\n",
      "8897    CN\n",
      "8898    CN\n",
      "8899    CN\n",
      "8900    CN\n",
      "8901    CN\n",
      "8902    CN\n",
      "8903    CN\n",
      "Name: Group, dtype: object\n",
      "CN\n",
      "(166, 256, 256)\n"
     ]
    },
    {
     "name": "stderr",
     "output_type": "stream",
     "text": [
      "\r",
      "  0%|                                                                                  | 1/823 [00:00<06:06,  2.24it/s]"
     ]
    },
    {
     "name": "stdout",
     "output_type": "stream",
     "text": [
      "\n",
      "8874    CN\n",
      "8875    CN\n",
      "8876    CN\n",
      "8877    CN\n",
      "8878    CN\n",
      "8879    CN\n",
      "8880    CN\n",
      "8881    CN\n",
      "8882    CN\n",
      "8883    CN\n",
      "8884    CN\n",
      "8885    CN\n",
      "8886    CN\n",
      "8887    CN\n",
      "8888    CN\n",
      "8889    CN\n",
      "8890    CN\n",
      "8891    CN\n",
      "Name: Group, dtype: object\n",
      "CN\n",
      "(166, 256, 256)\n"
     ]
    },
    {
     "name": "stderr",
     "output_type": "stream",
     "text": [
      "\r",
      "  0%|▏                                                                                 | 2/823 [00:00<05:56,  2.30it/s]"
     ]
    },
    {
     "name": "stdout",
     "output_type": "stream",
     "text": [
      "\n",
      "8856    CN\n",
      "8857    CN\n",
      "8858    CN\n",
      "8859    CN\n",
      "8860    CN\n",
      "8861    CN\n",
      "8862    CN\n",
      "8863    CN\n",
      "8864    CN\n",
      "8865    CN\n",
      "8866    CN\n",
      "8867    CN\n",
      "8868    CN\n",
      "8869    CN\n",
      "8870    CN\n",
      "8871    CN\n",
      "8872    CN\n",
      "8873    CN\n",
      "Name: Group, dtype: object\n",
      "CN\n",
      "(166, 256, 256)\n"
     ]
    },
    {
     "name": "stderr",
     "output_type": "stream",
     "text": [
      "\r",
      "  0%|▎                                                                                 | 3/823 [00:01<05:44,  2.38it/s]"
     ]
    },
    {
     "name": "stdout",
     "output_type": "stream",
     "text": [
      "\n",
      "8839    CN\n",
      "8840    CN\n",
      "8841    CN\n",
      "8842    CN\n",
      "8843    CN\n",
      "8844    CN\n",
      "8845    CN\n",
      "8846    CN\n",
      "8847    CN\n",
      "8848    CN\n",
      "8849    CN\n",
      "8850    CN\n",
      "Name: Group, dtype: object\n",
      "CN\n",
      "(166, 256, 256)\n"
     ]
    },
    {
     "name": "stderr",
     "output_type": "stream",
     "text": [
      "\r",
      "  0%|▍                                                                                 | 4/823 [00:01<05:44,  2.38it/s]"
     ]
    },
    {
     "name": "stdout",
     "output_type": "stream",
     "text": [
      "\n",
      "8823    MCI\n",
      "8824    MCI\n",
      "8825    MCI\n",
      "8826    MCI\n",
      "8827    MCI\n",
      "8828    MCI\n",
      "8829    MCI\n",
      "8830    MCI\n",
      "8831    MCI\n",
      "8832    MCI\n",
      "8833    MCI\n",
      "8834    MCI\n",
      "8835    MCI\n",
      "8836    MCI\n",
      "8837    MCI\n",
      "8838    MCI\n",
      "Name: Group, dtype: object\n",
      "MCI\n",
      "(166, 256, 256)\n"
     ]
    },
    {
     "name": "stderr",
     "output_type": "stream",
     "text": [
      "\r",
      "  1%|▍                                                                                 | 5/823 [00:02<05:39,  2.41it/s]"
     ]
    },
    {
     "name": "stdout",
     "output_type": "stream",
     "text": [
      "\n",
      "8811    MCI\n",
      "8812    MCI\n",
      "8813    MCI\n",
      "8814    MCI\n",
      "8815    MCI\n",
      "8816    MCI\n",
      "8817    MCI\n",
      "8818    MCI\n",
      "8819    MCI\n",
      "8820    MCI\n",
      "8821    MCI\n",
      "8822    MCI\n",
      "Name: Group, dtype: object\n",
      "MCI\n",
      "(166, 256, 256)\n"
     ]
    },
    {
     "name": "stderr",
     "output_type": "stream",
     "text": [
      "\r",
      "  1%|▌                                                                                 | 6/823 [00:02<05:39,  2.41it/s]"
     ]
    },
    {
     "name": "stdout",
     "output_type": "stream",
     "text": [
      "\n",
      "8795    AD\n",
      "8796    AD\n",
      "8797    AD\n",
      "8798    AD\n",
      "8799    AD\n",
      "8800    AD\n",
      "8801    AD\n",
      "8802    AD\n",
      "8803    AD\n",
      "8804    AD\n",
      "8805    AD\n",
      "8806    AD\n",
      "8807    AD\n",
      "8808    AD\n",
      "8809    AD\n",
      "8810    AD\n",
      "Name: Group, dtype: object\n",
      "AD\n",
      "(166, 256, 256)\n"
     ]
    },
    {
     "name": "stderr",
     "output_type": "stream",
     "text": [
      "\r",
      "  1%|▋                                                                                 | 7/823 [00:02<05:35,  2.43it/s]"
     ]
    },
    {
     "name": "stdout",
     "output_type": "stream",
     "text": [
      "\n",
      "8783    AD\n",
      "8784    AD\n",
      "8785    AD\n",
      "8786    AD\n",
      "8787    AD\n",
      "8788    AD\n",
      "8789    AD\n",
      "8790    AD\n",
      "8791    AD\n",
      "8792    AD\n",
      "8793    AD\n",
      "8794    AD\n",
      "Name: Group, dtype: object\n",
      "AD\n",
      "(166, 256, 256)\n"
     ]
    },
    {
     "name": "stderr",
     "output_type": "stream",
     "text": [
      "\r",
      "  1%|▊                                                                                 | 8/823 [00:03<05:32,  2.45it/s]"
     ]
    },
    {
     "name": "stdout",
     "output_type": "stream",
     "text": [
      "\n",
      "8767    MCI\n",
      "8768    MCI\n",
      "8769    MCI\n",
      "8770    MCI\n",
      "8771    MCI\n",
      "8772    MCI\n",
      "8773    MCI\n",
      "8774    MCI\n",
      "8775    MCI\n",
      "8776    MCI\n",
      "8777    MCI\n",
      "8778    MCI\n",
      "8779    MCI\n",
      "8780    MCI\n",
      "8781    MCI\n",
      "8782    MCI\n",
      "Name: Group, dtype: object\n",
      "MCI\n",
      "(166, 256, 256)\n"
     ]
    },
    {
     "name": "stderr",
     "output_type": "stream",
     "text": [
      "\r",
      "  1%|▉                                                                                 | 9/823 [00:03<05:38,  2.41it/s]"
     ]
    },
    {
     "name": "stdout",
     "output_type": "stream",
     "text": [
      "\n",
      "8757    AD\n",
      "8758    AD\n",
      "8759    AD\n",
      "8760    AD\n",
      "8761    AD\n",
      "8762    AD\n",
      "8763    AD\n",
      "8764    AD\n",
      "8765    AD\n",
      "8766    AD\n",
      "Name: Group, dtype: object\n",
      "AD\n",
      "(166, 256, 256)\n"
     ]
    },
    {
     "name": "stderr",
     "output_type": "stream",
     "text": [
      "\r",
      "  1%|▉                                                                                | 10/823 [00:04<05:35,  2.43it/s]"
     ]
    },
    {
     "name": "stdout",
     "output_type": "stream",
     "text": [
      "\n",
      "8743    AD\n",
      "8744    AD\n",
      "8745    AD\n",
      "8746    AD\n",
      "8747    AD\n",
      "8748    AD\n",
      "8749    AD\n",
      "8750    AD\n",
      "8751    AD\n",
      "8752    AD\n",
      "8753    AD\n",
      "8754    AD\n",
      "8755    AD\n",
      "8756    AD\n",
      "Name: Group, dtype: object\n",
      "AD\n",
      "(166, 256, 256)\n"
     ]
    },
    {
     "name": "stderr",
     "output_type": "stream",
     "text": [
      "\r",
      "  1%|█                                                                                | 11/823 [00:04<05:32,  2.44it/s]"
     ]
    },
    {
     "name": "stdout",
     "output_type": "stream",
     "text": [
      "\n",
      "8729    MCI\n",
      "8730    MCI\n",
      "8731    MCI\n",
      "8732    MCI\n",
      "8733    MCI\n",
      "8734    MCI\n",
      "8735    MCI\n",
      "8736    MCI\n",
      "8737    MCI\n",
      "8738    MCI\n",
      "8739    MCI\n",
      "8740    MCI\n",
      "8741    MCI\n",
      "8742    MCI\n",
      "Name: Group, dtype: object\n",
      "MCI\n",
      "(166, 256, 256)\n"
     ]
    },
    {
     "name": "stderr",
     "output_type": "stream",
     "text": [
      "\r",
      "  1%|█▏                                                                               | 12/823 [00:04<05:26,  2.49it/s]"
     ]
    },
    {
     "name": "stdout",
     "output_type": "stream",
     "text": [
      "\n",
      "8720    MCI\n",
      "8721    MCI\n",
      "8722    MCI\n",
      "8723    MCI\n",
      "8724    MCI\n",
      "8725    MCI\n",
      "8726    MCI\n",
      "8727    MCI\n",
      "8728    MCI\n",
      "Name: Group, dtype: object\n",
      "MCI\n",
      "(166, 256, 256)\n"
     ]
    },
    {
     "name": "stderr",
     "output_type": "stream",
     "text": [
      "\r",
      "  2%|█▎                                                                               | 13/823 [00:05<05:35,  2.41it/s]"
     ]
    },
    {
     "name": "stdout",
     "output_type": "stream",
     "text": [
      "\n",
      "8704    CN\n",
      "8705    CN\n",
      "8706    CN\n",
      "8707    CN\n",
      "8708    CN\n",
      "8709    CN\n",
      "8710    CN\n",
      "8711    CN\n",
      "8712    CN\n",
      "8713    CN\n",
      "8714    CN\n",
      "8715    CN\n",
      "8716    CN\n",
      "8717    CN\n",
      "8718    CN\n",
      "8719    CN\n",
      "Name: Group, dtype: object\n",
      "CN\n",
      "(166, 256, 256)\n"
     ]
    },
    {
     "name": "stderr",
     "output_type": "stream",
     "text": [
      "\r",
      "  2%|█▍                                                                               | 14/823 [00:05<05:37,  2.39it/s]"
     ]
    },
    {
     "name": "stdout",
     "output_type": "stream",
     "text": [
      "\n",
      "8687    MCI\n",
      "8688    MCI\n",
      "8689    MCI\n",
      "8690    MCI\n",
      "8691    MCI\n",
      "8692    MCI\n",
      "8693    MCI\n",
      "8694    MCI\n",
      "8695    MCI\n",
      "8696    MCI\n",
      "8697    MCI\n",
      "8698    MCI\n",
      "8699    MCI\n",
      "8700    MCI\n",
      "8701    MCI\n",
      "8702    MCI\n",
      "8703    MCI\n",
      "Name: Group, dtype: object\n",
      "MCI\n",
      "(166, 256, 256)\n"
     ]
    },
    {
     "name": "stderr",
     "output_type": "stream",
     "text": [
      "\r",
      "  2%|█▍                                                                               | 15/823 [00:06<05:33,  2.42it/s]"
     ]
    },
    {
     "name": "stdout",
     "output_type": "stream",
     "text": [
      "\n",
      "8670    CN\n",
      "8671    CN\n",
      "8672    CN\n",
      "8673    CN\n",
      "8674    CN\n",
      "8675    CN\n",
      "8676    CN\n",
      "8677    CN\n",
      "8678    CN\n",
      "8679    CN\n",
      "8680    CN\n",
      "8681    CN\n",
      "8682    CN\n",
      "8683    CN\n",
      "8684    CN\n",
      "8685    CN\n",
      "8686    CN\n",
      "Name: Group, dtype: object\n",
      "CN\n",
      "(166, 256, 256)\n"
     ]
    },
    {
     "name": "stderr",
     "output_type": "stream",
     "text": [
      "\r",
      "  2%|█▌                                                                               | 16/823 [00:06<05:36,  2.40it/s]"
     ]
    },
    {
     "name": "stdout",
     "output_type": "stream",
     "text": [
      "\n",
      "8659    CN\n",
      "8660    CN\n",
      "8661    CN\n",
      "8662    CN\n",
      "8663    CN\n",
      "8664    CN\n",
      "8665    CN\n",
      "8666    CN\n",
      "8667    CN\n",
      "8668    CN\n",
      "8669    CN\n",
      "Name: Group, dtype: object\n",
      "CN\n",
      "(166, 256, 256)\n"
     ]
    },
    {
     "name": "stderr",
     "output_type": "stream",
     "text": [
      "\r",
      "  2%|█▋                                                                               | 17/823 [00:06<05:27,  2.46it/s]"
     ]
    },
    {
     "name": "stdout",
     "output_type": "stream",
     "text": [
      "\n",
      "8646    MCI\n",
      "8647    MCI\n",
      "8648    MCI\n",
      "8649    MCI\n",
      "8650    MCI\n",
      "8651    MCI\n",
      "8652    MCI\n",
      "8653    MCI\n",
      "8654    MCI\n",
      "8655    MCI\n",
      "8656    MCI\n",
      "8657    MCI\n",
      "8658    MCI\n",
      "Name: Group, dtype: object\n",
      "MCI\n",
      "(166, 256, 256)\n"
     ]
    },
    {
     "name": "stderr",
     "output_type": "stream",
     "text": [
      "\r",
      "  2%|█▊                                                                               | 18/823 [00:07<05:31,  2.43it/s]"
     ]
    },
    {
     "name": "stdout",
     "output_type": "stream",
     "text": [
      "\n",
      "8635    CN\n",
      "8636    CN\n",
      "8637    CN\n",
      "8638    CN\n",
      "8639    CN\n",
      "8640    CN\n",
      "8641    CN\n",
      "8642    CN\n",
      "8643    CN\n",
      "8644    CN\n",
      "8645    CN\n",
      "Name: Group, dtype: object\n",
      "CN\n",
      "(166, 256, 256)\n"
     ]
    },
    {
     "name": "stderr",
     "output_type": "stream",
     "text": [
      "\r",
      "  2%|█▊                                                                               | 19/823 [00:07<05:26,  2.47it/s]"
     ]
    },
    {
     "name": "stdout",
     "output_type": "stream",
     "text": [
      "\n",
      "8626    CN\n",
      "8627    CN\n",
      "8628    CN\n",
      "8629    CN\n",
      "8630    CN\n",
      "8631    CN\n",
      "8632    CN\n",
      "8633    CN\n",
      "8634    CN\n",
      "Name: Group, dtype: object\n",
      "CN\n",
      "(166, 256, 256)\n"
     ]
    },
    {
     "name": "stderr",
     "output_type": "stream",
     "text": [
      "\r",
      "  2%|█▉                                                                               | 20/823 [00:08<05:25,  2.47it/s]"
     ]
    },
    {
     "name": "stdout",
     "output_type": "stream",
     "text": [
      "\n",
      "8617    CN\n",
      "8618    CN\n",
      "8619    CN\n",
      "8620    CN\n",
      "8621    CN\n",
      "8622    CN\n",
      "8623    CN\n",
      "8624    CN\n",
      "8625    CN\n",
      "Name: Group, dtype: object\n",
      "CN\n",
      "(166, 256, 256)\n"
     ]
    },
    {
     "name": "stderr",
     "output_type": "stream",
     "text": [
      "\r",
      "  3%|██                                                                               | 21/823 [00:08<05:30,  2.42it/s]"
     ]
    },
    {
     "name": "stdout",
     "output_type": "stream",
     "text": [
      "\n",
      "8606    MCI\n",
      "8607    MCI\n",
      "8608    MCI\n",
      "8609    MCI\n",
      "8610    MCI\n",
      "8611    MCI\n",
      "8612    MCI\n",
      "8613    MCI\n",
      "8614    MCI\n",
      "8615    MCI\n",
      "8616    MCI\n",
      "Name: Group, dtype: object\n",
      "MCI\n",
      "(166, 256, 256)\n"
     ]
    },
    {
     "name": "stderr",
     "output_type": "stream",
     "text": [
      "\r",
      "  3%|██▏                                                                              | 22/823 [00:09<05:28,  2.44it/s]"
     ]
    },
    {
     "name": "stdout",
     "output_type": "stream",
     "text": [
      "\n",
      "8595    AD\n",
      "8596    AD\n",
      "8597    AD\n",
      "8598    AD\n",
      "8599    AD\n",
      "8600    AD\n",
      "8601    AD\n",
      "8602    AD\n",
      "8603    AD\n",
      "8604    AD\n",
      "8605    AD\n",
      "Name: Group, dtype: object\n",
      "AD\n",
      "(166, 256, 256)\n"
     ]
    },
    {
     "name": "stderr",
     "output_type": "stream",
     "text": [
      "\r",
      "  3%|██▎                                                                              | 23/823 [00:09<05:39,  2.36it/s]"
     ]
    },
    {
     "name": "stdout",
     "output_type": "stream",
     "text": [
      "\n",
      "8584    MCI\n",
      "8585    MCI\n",
      "8586    MCI\n",
      "8587    MCI\n",
      "8588    MCI\n",
      "8589    MCI\n",
      "8590    MCI\n",
      "8591    MCI\n",
      "8592    MCI\n",
      "8593    MCI\n",
      "8594    MCI\n",
      "Name: Group, dtype: object\n",
      "MCI\n",
      "(166, 256, 256)\n"
     ]
    },
    {
     "name": "stderr",
     "output_type": "stream",
     "text": [
      "\r",
      "  3%|██▎                                                                              | 24/823 [00:09<05:35,  2.38it/s]"
     ]
    },
    {
     "name": "stdout",
     "output_type": "stream",
     "text": [
      "\n",
      "8569    MCI\n",
      "8570    MCI\n",
      "8571    MCI\n",
      "8572    MCI\n",
      "8573    MCI\n",
      "8574    MCI\n",
      "8575    MCI\n",
      "8576    MCI\n",
      "8577    MCI\n",
      "8578    MCI\n",
      "8579    MCI\n",
      "8580    MCI\n",
      "8581    MCI\n",
      "8582    MCI\n",
      "8583    MCI\n",
      "Name: Group, dtype: object\n",
      "MCI\n",
      "(166, 256, 256)\n"
     ]
    },
    {
     "name": "stderr",
     "output_type": "stream",
     "text": [
      "\r",
      "  3%|██▍                                                                              | 25/823 [00:10<05:29,  2.43it/s]"
     ]
    },
    {
     "name": "stdout",
     "output_type": "stream",
     "text": [
      "\n",
      "8558    AD\n",
      "8559    AD\n",
      "8560    AD\n",
      "8561    AD\n",
      "8562    AD\n",
      "8563    AD\n",
      "8564    AD\n",
      "8565    AD\n",
      "8566    AD\n",
      "8567    AD\n",
      "8568    AD\n",
      "Name: Group, dtype: object\n",
      "AD\n",
      "(166, 256, 256)\n"
     ]
    },
    {
     "name": "stderr",
     "output_type": "stream",
     "text": [
      "\r",
      "  3%|██▌                                                                              | 26/823 [00:10<05:22,  2.47it/s]"
     ]
    },
    {
     "name": "stdout",
     "output_type": "stream",
     "text": [
      "\n",
      "8543    AD\n",
      "8544    AD\n",
      "8545    AD\n",
      "8546    AD\n",
      "8547    AD\n",
      "8548    AD\n",
      "8549    AD\n",
      "8550    AD\n",
      "8551    AD\n",
      "8552    AD\n",
      "8553    AD\n",
      "8554    AD\n",
      "8555    AD\n",
      "8556    AD\n",
      "8557    AD\n",
      "Name: Group, dtype: object\n",
      "AD\n",
      "(166, 256, 256)\n"
     ]
    },
    {
     "name": "stderr",
     "output_type": "stream",
     "text": [
      "\r",
      "  3%|██▋                                                                              | 27/823 [00:11<05:31,  2.40it/s]"
     ]
    },
    {
     "name": "stdout",
     "output_type": "stream",
     "text": [
      "\n",
      "8532    MCI\n",
      "8533    MCI\n",
      "8534    MCI\n",
      "8535    MCI\n",
      "8536    MCI\n",
      "8537    MCI\n",
      "8538    MCI\n",
      "8539    MCI\n",
      "8540    MCI\n",
      "8541    MCI\n",
      "8542    MCI\n",
      "Name: Group, dtype: object\n",
      "MCI\n",
      "(166, 256, 256)\n"
     ]
    },
    {
     "name": "stderr",
     "output_type": "stream",
     "text": [
      "\r",
      "  3%|██▊                                                                              | 28/823 [00:11<05:27,  2.43it/s]"
     ]
    },
    {
     "name": "stdout",
     "output_type": "stream",
     "text": [
      "\n",
      "8523    CN\n",
      "8524    CN\n",
      "8525    CN\n",
      "8526    CN\n",
      "8527    CN\n",
      "8528    CN\n",
      "8529    CN\n",
      "8530    CN\n",
      "8531    CN\n",
      "Name: Group, dtype: object\n",
      "CN\n",
      "(166, 256, 256)\n"
     ]
    },
    {
     "name": "stderr",
     "output_type": "stream",
     "text": [
      "\r",
      "  4%|██▊                                                                              | 29/823 [00:11<05:26,  2.43it/s]"
     ]
    },
    {
     "name": "stdout",
     "output_type": "stream",
     "text": [
      "\n",
      "8505    MCI\n",
      "8506    MCI\n",
      "8507    MCI\n",
      "8508    MCI\n",
      "8509    MCI\n",
      "8510    MCI\n",
      "8511    MCI\n",
      "8512    MCI\n",
      "8513    MCI\n",
      "8514    MCI\n",
      "8515    MCI\n",
      "8516    MCI\n",
      "8517    MCI\n",
      "8518    MCI\n",
      "8519    MCI\n",
      "8520    MCI\n",
      "8521    MCI\n",
      "8522    MCI\n",
      "Name: Group, dtype: object\n",
      "MCI\n",
      "(166, 256, 256)\n"
     ]
    },
    {
     "name": "stderr",
     "output_type": "stream",
     "text": [
      "\r",
      "  4%|██▉                                                                              | 30/823 [00:12<05:29,  2.41it/s]"
     ]
    },
    {
     "name": "stdout",
     "output_type": "stream",
     "text": [
      "\n",
      "8487    MCI\n",
      "8488    MCI\n",
      "8489    MCI\n",
      "8490    MCI\n",
      "8491    MCI\n",
      "8492    MCI\n",
      "8493    MCI\n",
      "8494    MCI\n",
      "8495    MCI\n",
      "8496    MCI\n",
      "8497    MCI\n",
      "8498    MCI\n",
      "8499    MCI\n",
      "8500    MCI\n",
      "8501    MCI\n",
      "8502    MCI\n",
      "8503    MCI\n",
      "8504    MCI\n",
      "Name: Group, dtype: object\n",
      "MCI\n",
      "(166, 256, 256)\n"
     ]
    },
    {
     "name": "stderr",
     "output_type": "stream",
     "text": [
      "\r",
      "  4%|███                                                                              | 31/823 [00:12<05:27,  2.42it/s]"
     ]
    },
    {
     "name": "stdout",
     "output_type": "stream",
     "text": [
      "\n",
      "8478    MCI\n",
      "8479    MCI\n",
      "8480    MCI\n",
      "8481    MCI\n",
      "8482    MCI\n",
      "8483    MCI\n",
      "8484    MCI\n",
      "8485    MCI\n",
      "8486    MCI\n",
      "Name: Group, dtype: object\n",
      "MCI\n",
      "(166, 256, 256)\n"
     ]
    },
    {
     "name": "stderr",
     "output_type": "stream",
     "text": [
      "\r",
      "  4%|███▏                                                                             | 32/823 [00:13<05:24,  2.44it/s]"
     ]
    },
    {
     "name": "stdout",
     "output_type": "stream",
     "text": [
      "\n",
      "8460    CN\n",
      "8461    CN\n",
      "8462    CN\n",
      "8463    CN\n",
      "8464    CN\n",
      "8465    CN\n",
      "8466    CN\n",
      "8467    CN\n",
      "8468    CN\n",
      "8469    CN\n",
      "8470    CN\n",
      "8471    CN\n",
      "8472    CN\n",
      "8473    CN\n",
      "8474    CN\n",
      "8475    CN\n",
      "8476    CN\n",
      "8477    CN\n",
      "Name: Group, dtype: object\n",
      "CN\n",
      "(166, 256, 256)\n"
     ]
    },
    {
     "name": "stderr",
     "output_type": "stream",
     "text": [
      "\r",
      "  4%|███▏                                                                             | 33/823 [00:13<05:25,  2.43it/s]"
     ]
    },
    {
     "name": "stdout",
     "output_type": "stream",
     "text": [
      "\n",
      "8442    MCI\n",
      "8443    MCI\n",
      "8444    MCI\n",
      "8445    MCI\n",
      "8446    MCI\n",
      "8447    MCI\n",
      "8448    MCI\n",
      "8449    MCI\n",
      "8450    MCI\n",
      "8451    MCI\n",
      "8452    MCI\n",
      "8453    MCI\n",
      "8454    MCI\n",
      "8455    MCI\n",
      "8456    MCI\n",
      "8457    MCI\n",
      "8458    MCI\n",
      "8459    MCI\n",
      "Name: Group, dtype: object\n",
      "MCI\n",
      "(166, 256, 256)\n"
     ]
    },
    {
     "name": "stderr",
     "output_type": "stream",
     "text": [
      "\r",
      "  4%|███▎                                                                             | 34/823 [00:14<05:25,  2.42it/s]"
     ]
    },
    {
     "name": "stdout",
     "output_type": "stream",
     "text": [
      "\n",
      "8424    CN\n",
      "8425    CN\n",
      "8426    CN\n",
      "8427    CN\n",
      "8428    CN\n",
      "8429    CN\n",
      "8430    CN\n",
      "8431    CN\n",
      "8432    CN\n",
      "8433    CN\n",
      "8434    CN\n",
      "8435    CN\n",
      "8436    CN\n",
      "8437    CN\n",
      "8438    CN\n",
      "8439    CN\n",
      "8440    CN\n",
      "8441    CN\n",
      "Name: Group, dtype: object\n",
      "CN\n",
      "(166, 256, 256)\n"
     ]
    },
    {
     "name": "stderr",
     "output_type": "stream",
     "text": [
      "\r",
      "  4%|███▍                                                                             | 35/823 [00:14<05:25,  2.42it/s]"
     ]
    },
    {
     "name": "stdout",
     "output_type": "stream",
     "text": [
      "\n",
      "8415    CN\n",
      "8416    CN\n",
      "8417    CN\n",
      "8418    CN\n",
      "8419    CN\n",
      "8420    CN\n",
      "8421    CN\n",
      "8422    CN\n",
      "8423    CN\n",
      "Name: Group, dtype: object\n",
      "CN\n",
      "(166, 256, 256)\n"
     ]
    },
    {
     "name": "stderr",
     "output_type": "stream",
     "text": [
      "\r",
      "  4%|███▌                                                                             | 36/823 [00:14<05:27,  2.40it/s]"
     ]
    },
    {
     "name": "stdout",
     "output_type": "stream",
     "text": [
      "\n",
      "8397    AD\n",
      "8398    AD\n",
      "8399    AD\n",
      "8400    AD\n",
      "8401    AD\n",
      "8402    AD\n",
      "8403    AD\n",
      "8404    AD\n",
      "8405    AD\n",
      "8406    AD\n",
      "8407    AD\n",
      "8408    AD\n",
      "8409    AD\n",
      "8410    AD\n",
      "8411    AD\n",
      "8412    AD\n",
      "8413    AD\n",
      "8414    AD\n",
      "Name: Group, dtype: object\n",
      "AD\n",
      "(166, 256, 256)\n"
     ]
    },
    {
     "name": "stderr",
     "output_type": "stream",
     "text": [
      "\r",
      "  4%|███▋                                                                             | 37/823 [00:15<05:29,  2.39it/s]"
     ]
    },
    {
     "name": "stdout",
     "output_type": "stream",
     "text": [
      "\n",
      "8388    AD\n",
      "8389    AD\n",
      "8390    AD\n",
      "8391    AD\n",
      "8392    AD\n",
      "8393    AD\n",
      "8394    AD\n",
      "8395    AD\n",
      "8396    AD\n",
      "Name: Group, dtype: object\n",
      "AD\n",
      "(166, 256, 256)\n"
     ]
    },
    {
     "name": "stderr",
     "output_type": "stream",
     "text": [
      "\r",
      "  5%|███▋                                                                             | 38/823 [00:15<05:32,  2.36it/s]"
     ]
    },
    {
     "name": "stdout",
     "output_type": "stream",
     "text": [
      "\n",
      "8378    MCI\n",
      "8379    MCI\n",
      "8380    MCI\n",
      "8381    MCI\n",
      "8382    MCI\n",
      "8383    MCI\n",
      "8384    MCI\n",
      "8385    MCI\n",
      "8386    MCI\n",
      "8387    MCI\n",
      "Name: Group, dtype: object\n",
      "MCI\n",
      "(166, 256, 256)\n"
     ]
    },
    {
     "name": "stderr",
     "output_type": "stream",
     "text": [
      "\r",
      "  5%|███▊                                                                             | 39/823 [00:16<05:26,  2.40it/s]"
     ]
    },
    {
     "name": "stdout",
     "output_type": "stream",
     "text": [
      "\n",
      "8366    AD\n",
      "8367    AD\n",
      "8368    AD\n",
      "8369    AD\n",
      "8370    AD\n",
      "8371    AD\n",
      "8372    AD\n",
      "8373    AD\n",
      "8374    AD\n",
      "8375    AD\n",
      "8376    AD\n",
      "8377    AD\n",
      "Name: Group, dtype: object\n",
      "AD\n",
      "(166, 256, 256)\n"
     ]
    },
    {
     "name": "stderr",
     "output_type": "stream",
     "text": [
      "\r",
      "  5%|███▉                                                                             | 40/823 [00:16<05:26,  2.39it/s]"
     ]
    },
    {
     "name": "stdout",
     "output_type": "stream",
     "text": [
      "\n",
      "8355    MCI\n",
      "8356    MCI\n",
      "8357    MCI\n",
      "8358    MCI\n",
      "8359    MCI\n",
      "8360    MCI\n",
      "8361    MCI\n",
      "8362    MCI\n",
      "8363    MCI\n",
      "8364    MCI\n",
      "8365    MCI\n",
      "Name: Group, dtype: object\n",
      "MCI\n",
      "(166, 256, 256)\n"
     ]
    },
    {
     "name": "stderr",
     "output_type": "stream",
     "text": [
      "\r",
      "  5%|████                                                                             | 41/823 [00:16<05:22,  2.43it/s]"
     ]
    },
    {
     "name": "stdout",
     "output_type": "stream",
     "text": [
      "\n",
      "8346    CN\n",
      "8347    CN\n",
      "8348    CN\n",
      "8349    CN\n",
      "8350    CN\n",
      "8351    CN\n",
      "8352    CN\n",
      "8353    CN\n",
      "8354    CN\n",
      "Name: Group, dtype: object\n",
      "CN\n",
      "(166, 256, 256)\n"
     ]
    },
    {
     "name": "stderr",
     "output_type": "stream",
     "text": [
      "\r",
      "  5%|████▏                                                                            | 42/823 [00:17<05:19,  2.44it/s]"
     ]
    },
    {
     "name": "stdout",
     "output_type": "stream",
     "text": [
      "\n",
      "8332    CN\n",
      "8333    CN\n",
      "8334    CN\n",
      "8335    CN\n",
      "8336    CN\n",
      "8337    CN\n",
      "8338    CN\n",
      "8339    CN\n",
      "8340    CN\n",
      "8341    CN\n",
      "8342    CN\n",
      "8343    CN\n",
      "8344    CN\n",
      "8345    CN\n",
      "Name: Group, dtype: object\n",
      "CN\n",
      "(166, 256, 256)\n"
     ]
    },
    {
     "name": "stderr",
     "output_type": "stream",
     "text": [
      "\r",
      "  5%|████▏                                                                            | 43/823 [00:17<05:16,  2.46it/s]"
     ]
    },
    {
     "name": "stdout",
     "output_type": "stream",
     "text": [
      "\n",
      "8319    MCI\n",
      "8320    MCI\n",
      "8321    MCI\n",
      "8322    MCI\n",
      "8323    MCI\n",
      "8324    MCI\n",
      "8325    MCI\n",
      "8326    MCI\n",
      "8327    MCI\n",
      "8328    MCI\n",
      "8329    MCI\n",
      "8330    MCI\n",
      "8331    MCI\n",
      "Name: Group, dtype: object\n",
      "MCI\n",
      "(166, 256, 256)\n"
     ]
    },
    {
     "name": "stderr",
     "output_type": "stream",
     "text": [
      "\r",
      "  5%|████▎                                                                            | 44/823 [00:18<05:17,  2.46it/s]"
     ]
    },
    {
     "name": "stdout",
     "output_type": "stream",
     "text": [
      "\n",
      "8301    AD\n",
      "8302    AD\n",
      "8303    AD\n",
      "8304    AD\n",
      "8305    AD\n",
      "8306    AD\n",
      "8307    AD\n",
      "8308    AD\n",
      "8309    AD\n",
      "8310    AD\n",
      "8311    AD\n",
      "8312    AD\n",
      "8313    AD\n",
      "8314    AD\n",
      "8315    AD\n",
      "8316    AD\n",
      "8317    AD\n",
      "8318    AD\n",
      "Name: Group, dtype: object\n",
      "AD\n",
      "(166, 256, 256)\n"
     ]
    },
    {
     "name": "stderr",
     "output_type": "stream",
     "text": [
      "\r",
      "  5%|████▍                                                                            | 45/823 [00:18<05:22,  2.41it/s]"
     ]
    },
    {
     "name": "stdout",
     "output_type": "stream",
     "text": [
      "\n",
      "8283    AD\n",
      "8284    AD\n",
      "8285    AD\n",
      "8286    AD\n",
      "8287    AD\n",
      "8288    AD\n",
      "8289    AD\n",
      "8290    AD\n",
      "8291    AD\n",
      "8292    AD\n",
      "8293    AD\n",
      "8294    AD\n",
      "8295    AD\n",
      "8296    AD\n",
      "8297    AD\n",
      "8298    AD\n",
      "8299    AD\n",
      "8300    AD\n",
      "Name: Group, dtype: object\n",
      "AD\n",
      "(166, 256, 256)\n"
     ]
    },
    {
     "name": "stderr",
     "output_type": "stream",
     "text": [
      "\r",
      "  6%|████▌                                                                            | 46/823 [00:18<05:23,  2.41it/s]"
     ]
    },
    {
     "name": "stdout",
     "output_type": "stream",
     "text": [
      "\n",
      "8274    MCI\n",
      "8275    MCI\n",
      "8276    MCI\n",
      "8277    MCI\n",
      "8278    MCI\n",
      "8279    MCI\n",
      "8280    MCI\n",
      "8281    MCI\n",
      "8282    MCI\n",
      "Name: Group, dtype: object\n",
      "MCI\n",
      "(166, 256, 256)\n"
     ]
    },
    {
     "name": "stderr",
     "output_type": "stream",
     "text": [
      "\r",
      "  6%|████▋                                                                            | 47/823 [00:19<05:19,  2.43it/s]"
     ]
    },
    {
     "name": "stdout",
     "output_type": "stream",
     "text": [
      "\n",
      "8265    CN\n",
      "8266    CN\n",
      "8267    CN\n",
      "8268    CN\n",
      "8269    CN\n",
      "8270    CN\n",
      "8271    CN\n",
      "8272    CN\n",
      "8273    CN\n",
      "Name: Group, dtype: object\n",
      "CN\n",
      "(166, 256, 256)\n"
     ]
    },
    {
     "name": "stderr",
     "output_type": "stream",
     "text": [
      "\r",
      "  6%|████▋                                                                            | 48/823 [00:19<05:16,  2.45it/s]"
     ]
    },
    {
     "name": "stdout",
     "output_type": "stream",
     "text": [
      "\n",
      "8256    CN\n",
      "8257    CN\n",
      "8258    CN\n",
      "8259    CN\n",
      "8260    CN\n",
      "8261    CN\n",
      "8262    CN\n",
      "8263    CN\n",
      "8264    CN\n",
      "Name: Group, dtype: object\n",
      "CN\n",
      "(166, 256, 256)\n"
     ]
    },
    {
     "name": "stderr",
     "output_type": "stream",
     "text": [
      "\r",
      "  6%|████▊                                                                            | 49/823 [00:20<05:18,  2.43it/s]"
     ]
    },
    {
     "name": "stdout",
     "output_type": "stream",
     "text": [
      "\n",
      "8247    MCI\n",
      "8248    MCI\n",
      "8249    MCI\n",
      "8250    MCI\n",
      "8251    MCI\n",
      "8252    MCI\n",
      "8253    MCI\n",
      "8254    MCI\n",
      "8255    MCI\n",
      "Name: Group, dtype: object\n",
      "MCI\n",
      "(166, 256, 256)\n"
     ]
    },
    {
     "name": "stderr",
     "output_type": "stream",
     "text": [
      "\r",
      "  6%|████▉                                                                            | 50/823 [00:20<05:17,  2.44it/s]"
     ]
    },
    {
     "name": "stdout",
     "output_type": "stream",
     "text": [
      "\n",
      "8237    MCI\n",
      "8238    MCI\n",
      "8239    MCI\n",
      "8240    MCI\n",
      "8241    MCI\n",
      "8242    MCI\n",
      "8243    MCI\n",
      "8244    MCI\n",
      "8245    MCI\n",
      "8246    MCI\n",
      "Name: Group, dtype: object\n",
      "MCI\n",
      "(166, 256, 256)\n"
     ]
    },
    {
     "name": "stderr",
     "output_type": "stream",
     "text": [
      "\r",
      "  6%|█████                                                                            | 51/823 [00:21<05:15,  2.44it/s]"
     ]
    },
    {
     "name": "stdout",
     "output_type": "stream",
     "text": [
      "\n",
      "8227    CN\n",
      "8228    CN\n",
      "8229    CN\n",
      "8230    CN\n",
      "8231    CN\n",
      "8232    CN\n",
      "8233    CN\n",
      "8234    CN\n",
      "8235    CN\n",
      "8236    CN\n",
      "Name: Group, dtype: object\n",
      "CN\n",
      "(166, 256, 256)\n"
     ]
    },
    {
     "name": "stderr",
     "output_type": "stream",
     "text": [
      "\r",
      "  6%|█████                                                                            | 52/823 [00:21<05:17,  2.43it/s]"
     ]
    },
    {
     "name": "stdout",
     "output_type": "stream",
     "text": [
      "\n",
      "8217    CN\n",
      "8218    CN\n",
      "8219    CN\n",
      "8220    CN\n",
      "8221    CN\n",
      "8222    CN\n",
      "8223    CN\n",
      "8224    CN\n",
      "8225    CN\n",
      "8226    CN\n",
      "Name: Group, dtype: object\n",
      "CN\n",
      "(166, 256, 256)\n"
     ]
    },
    {
     "name": "stderr",
     "output_type": "stream",
     "text": [
      "\r",
      "  6%|█████▏                                                                           | 53/823 [00:21<05:13,  2.46it/s]"
     ]
    },
    {
     "name": "stdout",
     "output_type": "stream",
     "text": [
      "\n",
      "8205    MCI\n",
      "8206    MCI\n",
      "8207    MCI\n",
      "8208    MCI\n",
      "8209    MCI\n",
      "8210    MCI\n",
      "8211    MCI\n",
      "8212    MCI\n",
      "8213    MCI\n",
      "8214    MCI\n",
      "8215    MCI\n",
      "8216    MCI\n",
      "Name: Group, dtype: object\n",
      "MCI\n",
      "(166, 256, 256)\n"
     ]
    },
    {
     "name": "stderr",
     "output_type": "stream",
     "text": [
      "\r",
      "  7%|█████▎                                                                           | 54/823 [00:22<05:18,  2.41it/s]"
     ]
    },
    {
     "name": "stdout",
     "output_type": "stream",
     "text": [
      "\n",
      "8193    MCI\n",
      "8194    MCI\n",
      "8195    MCI\n",
      "8196    MCI\n",
      "8197    MCI\n",
      "8198    MCI\n",
      "8199    MCI\n",
      "8200    MCI\n",
      "8201    MCI\n",
      "8202    MCI\n",
      "8203    MCI\n",
      "8204    MCI\n",
      "Name: Group, dtype: object\n",
      "MCI\n",
      "(166, 256, 256)\n"
     ]
    },
    {
     "name": "stderr",
     "output_type": "stream",
     "text": [
      "\r",
      "  7%|█████▍                                                                           | 55/823 [00:22<05:13,  2.45it/s]"
     ]
    },
    {
     "name": "stdout",
     "output_type": "stream",
     "text": [
      "\n",
      "8183    MCI\n",
      "8184    MCI\n",
      "8185    MCI\n",
      "8186    MCI\n",
      "8187    MCI\n",
      "8188    MCI\n",
      "8189    MCI\n",
      "8190    MCI\n",
      "8191    MCI\n",
      "8192    MCI\n",
      "Name: Group, dtype: object\n",
      "MCI\n",
      "(166, 256, 256)\n"
     ]
    },
    {
     "name": "stderr",
     "output_type": "stream",
     "text": [
      "\r",
      "  7%|█████▌                                                                           | 56/823 [00:23<05:12,  2.45it/s]"
     ]
    },
    {
     "name": "stdout",
     "output_type": "stream",
     "text": [
      "\n",
      "8173    MCI\n",
      "8174    MCI\n",
      "8175    MCI\n",
      "8176    MCI\n",
      "8177    MCI\n",
      "8178    MCI\n",
      "8179    MCI\n",
      "8180    MCI\n",
      "8181    MCI\n",
      "8182    MCI\n",
      "Name: Group, dtype: object\n",
      "MCI\n",
      "(166, 256, 256)\n"
     ]
    },
    {
     "name": "stderr",
     "output_type": "stream",
     "text": [
      "\r",
      "  7%|█████▌                                                                           | 57/823 [00:23<05:16,  2.42it/s]"
     ]
    },
    {
     "name": "stdout",
     "output_type": "stream",
     "text": [
      "\n",
      "8163    AD\n",
      "8164    AD\n",
      "8165    AD\n",
      "8166    AD\n",
      "8167    AD\n",
      "8168    AD\n",
      "8169    AD\n",
      "8170    AD\n",
      "8171    AD\n",
      "8172    AD\n",
      "Name: Group, dtype: object\n",
      "AD\n",
      "(166, 256, 256)\n"
     ]
    },
    {
     "name": "stderr",
     "output_type": "stream",
     "text": [
      "\r",
      "  7%|█████▋                                                                           | 58/823 [00:23<05:13,  2.44it/s]"
     ]
    },
    {
     "name": "stdout",
     "output_type": "stream",
     "text": [
      "\n",
      "8153    MCI\n",
      "8154    MCI\n",
      "8155    MCI\n",
      "8156    MCI\n",
      "8157    MCI\n",
      "8158    MCI\n",
      "8159    MCI\n",
      "8160    MCI\n",
      "8161    MCI\n",
      "8162    MCI\n",
      "Name: Group, dtype: object\n",
      "MCI\n",
      "(166, 256, 256)\n"
     ]
    },
    {
     "name": "stderr",
     "output_type": "stream",
     "text": [
      "\r",
      "  7%|█████▊                                                                           | 59/823 [00:24<05:11,  2.45it/s]"
     ]
    },
    {
     "name": "stdout",
     "output_type": "stream",
     "text": [
      "\n",
      "8143    MCI\n",
      "8144    MCI\n",
      "8145    MCI\n",
      "8146    MCI\n",
      "8147    MCI\n",
      "8148    MCI\n",
      "8149    MCI\n",
      "8150    MCI\n",
      "8151    MCI\n",
      "8152    MCI\n",
      "Name: Group, dtype: object\n",
      "MCI\n",
      "(166, 256, 256)\n"
     ]
    },
    {
     "name": "stderr",
     "output_type": "stream",
     "text": [
      "\r",
      "  7%|█████▉                                                                           | 60/823 [00:24<05:11,  2.45it/s]"
     ]
    },
    {
     "name": "stdout",
     "output_type": "stream",
     "text": [
      "\n",
      "8133    MCI\n",
      "8134    MCI\n",
      "8135    MCI\n",
      "8136    MCI\n",
      "8137    MCI\n",
      "8138    MCI\n",
      "8139    MCI\n",
      "8140    MCI\n",
      "8141    MCI\n",
      "8142    MCI\n",
      "Name: Group, dtype: object\n",
      "MCI\n",
      "(166, 256, 256)\n"
     ]
    },
    {
     "name": "stderr",
     "output_type": "stream",
     "text": [
      "\r",
      "  7%|██████                                                                           | 61/823 [00:25<05:15,  2.42it/s]"
     ]
    },
    {
     "name": "stdout",
     "output_type": "stream",
     "text": [
      "\n",
      "8115    CN\n",
      "8116    CN\n",
      "8117    CN\n",
      "8118    CN\n",
      "8119    CN\n",
      "8120    CN\n",
      "8121    CN\n",
      "8122    CN\n",
      "8123    CN\n",
      "8124    CN\n",
      "8125    CN\n",
      "8126    CN\n",
      "8127    CN\n",
      "8128    CN\n",
      "8129    CN\n",
      "8130    CN\n",
      "8131    CN\n",
      "8132    CN\n",
      "Name: Group, dtype: object\n",
      "CN\n",
      "(166, 256, 256)\n"
     ]
    },
    {
     "name": "stderr",
     "output_type": "stream",
     "text": [
      "\r",
      "  8%|██████                                                                           | 62/823 [00:25<05:19,  2.38it/s]"
     ]
    },
    {
     "name": "stdout",
     "output_type": "stream",
     "text": [
      "\n",
      "8097    CN\n",
      "8098    CN\n",
      "8099    CN\n",
      "8100    CN\n",
      "8101    CN\n",
      "8102    CN\n",
      "8103    CN\n",
      "8104    CN\n",
      "8105    CN\n",
      "8106    CN\n",
      "8107    CN\n",
      "8108    CN\n",
      "8109    CN\n",
      "8110    CN\n",
      "8111    CN\n",
      "8112    CN\n",
      "8113    CN\n",
      "8114    CN\n",
      "Name: Group, dtype: object\n",
      "CN\n",
      "(166, 256, 256)\n"
     ]
    },
    {
     "name": "stderr",
     "output_type": "stream",
     "text": [
      "\r",
      "  8%|██████▏                                                                          | 63/823 [00:25<05:17,  2.39it/s]"
     ]
    },
    {
     "name": "stdout",
     "output_type": "stream",
     "text": [
      "\n",
      "8088    AD\n",
      "8089    AD\n",
      "8090    AD\n",
      "8091    AD\n",
      "8092    AD\n",
      "8093    AD\n",
      "8094    AD\n",
      "8095    AD\n",
      "8096    AD\n",
      "Name: Group, dtype: object\n",
      "AD\n",
      "(166, 256, 256)\n"
     ]
    },
    {
     "name": "stderr",
     "output_type": "stream",
     "text": [
      "\r",
      "  8%|██████▎                                                                          | 64/823 [00:26<05:11,  2.43it/s]"
     ]
    },
    {
     "name": "stdout",
     "output_type": "stream",
     "text": [
      "\n",
      "8070    AD\n",
      "8071    AD\n",
      "8072    AD\n",
      "8073    AD\n",
      "8074    AD\n",
      "8075    AD\n",
      "8076    AD\n",
      "8077    AD\n",
      "8078    AD\n",
      "8079    AD\n",
      "8080    AD\n",
      "8081    AD\n",
      "8082    AD\n",
      "8083    AD\n",
      "8084    AD\n",
      "8085    AD\n",
      "8086    AD\n",
      "8087    AD\n",
      "Name: Group, dtype: object\n",
      "AD\n",
      "(166, 256, 256)\n"
     ]
    },
    {
     "name": "stderr",
     "output_type": "stream",
     "text": [
      "\r",
      "  8%|██████▍                                                                          | 65/823 [00:26<05:06,  2.47it/s]"
     ]
    },
    {
     "name": "stdout",
     "output_type": "stream",
     "text": [
      "\n",
      "8061    AD\n",
      "8062    AD\n",
      "8063    AD\n",
      "8064    AD\n",
      "8065    AD\n",
      "8066    AD\n",
      "8067    AD\n",
      "8068    AD\n",
      "8069    AD\n",
      "Name: Group, dtype: object\n",
      "AD\n",
      "(166, 256, 256)\n"
     ]
    },
    {
     "name": "stderr",
     "output_type": "stream",
     "text": [
      "\r",
      "  8%|██████▍                                                                          | 66/823 [00:27<05:02,  2.50it/s]"
     ]
    },
    {
     "name": "stdout",
     "output_type": "stream",
     "text": [
      "\n",
      "8054    CN\n",
      "8055    CN\n",
      "8056    CN\n",
      "8057    CN\n",
      "8058    CN\n",
      "8059    CN\n",
      "8060    CN\n",
      "Name: Group, dtype: object\n",
      "CN\n",
      "(166, 256, 256)\n"
     ]
    },
    {
     "name": "stderr",
     "output_type": "stream",
     "text": [
      "\r",
      "  8%|██████▌                                                                          | 67/823 [00:27<05:01,  2.51it/s]"
     ]
    },
    {
     "name": "stdout",
     "output_type": "stream",
     "text": [
      "\n",
      "8045    CN\n",
      "8046    CN\n",
      "8047    CN\n",
      "8048    CN\n",
      "8049    CN\n",
      "8050    CN\n",
      "8051    CN\n",
      "8052    CN\n",
      "8053    CN\n",
      "Name: Group, dtype: object\n",
      "CN\n",
      "(166, 256, 256)\n"
     ]
    },
    {
     "name": "stderr",
     "output_type": "stream",
     "text": [
      "\r",
      "  8%|██████▋                                                                          | 68/823 [00:27<05:01,  2.50it/s]"
     ]
    },
    {
     "name": "stdout",
     "output_type": "stream",
     "text": [
      "\n",
      "8033    CN\n",
      "8034    CN\n",
      "8035    CN\n",
      "8036    CN\n",
      "8037    CN\n",
      "8038    CN\n",
      "8039    CN\n",
      "8040    CN\n",
      "8041    CN\n",
      "8042    CN\n",
      "8043    CN\n",
      "8044    CN\n",
      "Name: Group, dtype: object\n",
      "CN\n",
      "(166, 256, 256)\n"
     ]
    },
    {
     "name": "stderr",
     "output_type": "stream",
     "text": [
      "\r",
      "  8%|██████▊                                                                          | 69/823 [00:28<05:01,  2.50it/s]"
     ]
    },
    {
     "name": "stdout",
     "output_type": "stream",
     "text": [
      "\n",
      "8021    MCI\n",
      "8022    MCI\n",
      "8023    MCI\n",
      "8024    MCI\n",
      "8025    MCI\n",
      "8026    MCI\n",
      "8027    MCI\n",
      "8028    MCI\n",
      "8029    MCI\n",
      "8030    MCI\n",
      "8031    MCI\n",
      "8032    MCI\n",
      "Name: Group, dtype: object\n",
      "MCI\n",
      "(166, 256, 256)\n"
     ]
    },
    {
     "name": "stderr",
     "output_type": "stream",
     "text": [
      "\r",
      "  9%|██████▉                                                                          | 70/823 [00:28<05:00,  2.51it/s]"
     ]
    },
    {
     "name": "stdout",
     "output_type": "stream",
     "text": [
      "\n",
      "8011    MCI\n",
      "8012    MCI\n",
      "8013    MCI\n",
      "8014    MCI\n",
      "8015    MCI\n",
      "8016    MCI\n",
      "8017    MCI\n",
      "8018    MCI\n",
      "8019    MCI\n",
      "8020    MCI\n",
      "Name: Group, dtype: object\n",
      "MCI\n",
      "(166, 256, 256)\n"
     ]
    },
    {
     "name": "stderr",
     "output_type": "stream",
     "text": [
      "\r",
      "  9%|██████▉                                                                          | 71/823 [00:29<05:09,  2.43it/s]"
     ]
    },
    {
     "name": "stdout",
     "output_type": "stream",
     "text": [
      "\n",
      "7990    AD\n",
      "7991    AD\n",
      "7992    AD\n",
      "7993    AD\n",
      "7994    AD\n",
      "7995    AD\n",
      "7996    AD\n",
      "7997    AD\n",
      "7998    AD\n",
      "7999    AD\n",
      "8000    AD\n",
      "Name: Group, dtype: object\n",
      "AD\n",
      "(166, 256, 256)\n"
     ]
    },
    {
     "name": "stderr",
     "output_type": "stream",
     "text": [
      "\r",
      "  9%|███████                                                                          | 72/823 [00:29<05:11,  2.41it/s]"
     ]
    },
    {
     "name": "stdout",
     "output_type": "stream",
     "text": [
      "\n",
      "7982    CN\n",
      "7983    CN\n",
      "7984    CN\n",
      "7985    CN\n",
      "7986    CN\n",
      "7987    CN\n",
      "7988    CN\n",
      "7989    CN\n",
      "Name: Group, dtype: object\n",
      "CN\n",
      "(166, 256, 256)\n"
     ]
    },
    {
     "name": "stderr",
     "output_type": "stream",
     "text": [
      "\r",
      "  9%|███████▏                                                                         | 73/823 [00:30<05:09,  2.42it/s]"
     ]
    },
    {
     "name": "stdout",
     "output_type": "stream",
     "text": [
      "\n",
      "7976    MCI\n",
      "7977    MCI\n",
      "7978    MCI\n",
      "7979    MCI\n",
      "7980    MCI\n",
      "7981    MCI\n",
      "Name: Group, dtype: object\n",
      "MCI\n",
      "(166, 256, 256)\n"
     ]
    },
    {
     "name": "stderr",
     "output_type": "stream",
     "text": [
      "\r",
      "  9%|███████▎                                                                         | 74/823 [00:30<05:08,  2.43it/s]"
     ]
    },
    {
     "name": "stdout",
     "output_type": "stream",
     "text": [
      "\n",
      "7968    CN\n",
      "7969    CN\n",
      "7970    CN\n",
      "7971    CN\n",
      "7972    CN\n",
      "7973    CN\n",
      "7974    CN\n",
      "7975    CN\n",
      "Name: Group, dtype: object\n",
      "CN\n",
      "(166, 256, 256)\n"
     ]
    },
    {
     "name": "stderr",
     "output_type": "stream",
     "text": [
      "\r",
      "  9%|███████▍                                                                         | 75/823 [00:30<05:05,  2.45it/s]"
     ]
    },
    {
     "name": "stdout",
     "output_type": "stream",
     "text": [
      "\n",
      "7962    CN\n",
      "7963    CN\n",
      "7964    CN\n",
      "7965    CN\n",
      "7966    CN\n",
      "7967    CN\n",
      "Name: Group, dtype: object\n",
      "CN\n",
      "(166, 256, 256)\n"
     ]
    },
    {
     "name": "stderr",
     "output_type": "stream",
     "text": [
      "\r",
      "  9%|███████▍                                                                         | 76/823 [00:31<05:04,  2.45it/s]"
     ]
    },
    {
     "name": "stdout",
     "output_type": "stream",
     "text": [
      "\n",
      "7950    MCI\n",
      "7951    MCI\n",
      "7952    MCI\n",
      "7953    MCI\n",
      "7954    MCI\n",
      "7955    MCI\n",
      "7956    MCI\n",
      "7957    MCI\n",
      "7958    MCI\n",
      "7959    MCI\n",
      "7960    MCI\n",
      "7961    MCI\n",
      "Name: Group, dtype: object\n",
      "MCI\n",
      "(166, 256, 256)\n"
     ]
    },
    {
     "name": "stderr",
     "output_type": "stream",
     "text": [
      "\r",
      "  9%|███████▌                                                                         | 77/823 [00:31<05:03,  2.46it/s]"
     ]
    },
    {
     "name": "stdout",
     "output_type": "stream",
     "text": [
      "\n",
      "7938    CN\n",
      "7939    CN\n",
      "7940    CN\n",
      "7941    CN\n",
      "7942    CN\n",
      "7943    CN\n",
      "7944    CN\n",
      "7945    CN\n",
      "7946    CN\n",
      "7947    CN\n",
      "7948    CN\n",
      "7949    CN\n",
      "Name: Group, dtype: object\n",
      "CN\n",
      "(166, 256, 256)\n"
     ]
    },
    {
     "name": "stderr",
     "output_type": "stream",
     "text": [
      "\r",
      "  9%|███████▋                                                                         | 78/823 [00:32<05:05,  2.44it/s]"
     ]
    },
    {
     "name": "stdout",
     "output_type": "stream",
     "text": [
      "\n",
      "7932    MCI\n",
      "7933    MCI\n",
      "7934    MCI\n",
      "7935    MCI\n",
      "7936    MCI\n",
      "7937    MCI\n",
      "Name: Group, dtype: object\n",
      "MCI\n",
      "(166, 256, 256)\n"
     ]
    },
    {
     "name": "stderr",
     "output_type": "stream",
     "text": [
      "\r",
      " 10%|███████▊                                                                         | 79/823 [00:32<05:02,  2.46it/s]"
     ]
    },
    {
     "name": "stdout",
     "output_type": "stream",
     "text": [
      "\n",
      "7926    AD\n",
      "7927    AD\n",
      "7928    AD\n",
      "7929    AD\n",
      "7930    AD\n",
      "7931    AD\n",
      "Name: Group, dtype: object\n",
      "AD\n",
      "(166, 256, 256)\n"
     ]
    },
    {
     "name": "stderr",
     "output_type": "stream",
     "text": [
      "\r",
      " 10%|███████▊                                                                         | 80/823 [00:32<05:00,  2.47it/s]"
     ]
    },
    {
     "name": "stdout",
     "output_type": "stream",
     "text": [
      "\n",
      "7921    MCI\n",
      "7922    MCI\n",
      "7923    MCI\n",
      "7924    MCI\n",
      "7925    MCI\n",
      "Name: Group, dtype: object\n",
      "MCI\n",
      "(166, 256, 256)\n"
     ]
    },
    {
     "name": "stderr",
     "output_type": "stream",
     "text": [
      "\r",
      " 10%|███████▉                                                                         | 81/823 [00:33<05:05,  2.43it/s]"
     ]
    },
    {
     "name": "stdout",
     "output_type": "stream",
     "text": [
      "\n",
      "7914    AD\n",
      "7915    AD\n",
      "7916    AD\n",
      "7917    AD\n",
      "7918    AD\n",
      "7919    AD\n",
      "7920    AD\n",
      "Name: Group, dtype: object\n",
      "AD\n",
      "(166, 256, 256)\n"
     ]
    },
    {
     "name": "stderr",
     "output_type": "stream",
     "text": [
      "\r",
      " 10%|████████                                                                         | 82/823 [00:33<05:06,  2.42it/s]"
     ]
    },
    {
     "name": "stdout",
     "output_type": "stream",
     "text": [
      "\n",
      "7908    MCI\n",
      "7909    MCI\n",
      "7910    MCI\n",
      "7911    MCI\n",
      "7912    MCI\n",
      "7913    MCI\n",
      "Name: Group, dtype: object\n",
      "MCI\n",
      "(166, 256, 256)\n"
     ]
    },
    {
     "name": "stderr",
     "output_type": "stream",
     "text": [
      "\r",
      " 10%|████████▏                                                                        | 83/823 [00:34<05:12,  2.37it/s]"
     ]
    },
    {
     "name": "stdout",
     "output_type": "stream",
     "text": [
      "\n",
      "7897    CN\n",
      "7898    CN\n",
      "7899    CN\n",
      "7900    CN\n",
      "7901    CN\n",
      "7902    CN\n",
      "7903    CN\n",
      "7904    CN\n",
      "7905    CN\n",
      "7906    CN\n",
      "7907    CN\n",
      "Name: Group, dtype: object\n",
      "CN\n",
      "(166, 256, 256)\n"
     ]
    },
    {
     "name": "stderr",
     "output_type": "stream",
     "text": [
      "\r",
      " 10%|████████▎                                                                        | 84/823 [00:34<05:09,  2.39it/s]"
     ]
    },
    {
     "name": "stdout",
     "output_type": "stream",
     "text": [
      "\n",
      "7888    AD\n",
      "7889    AD\n",
      "7890    AD\n",
      "7891    AD\n",
      "7892    AD\n",
      "7893    AD\n",
      "7894    AD\n",
      "7895    AD\n",
      "7896    AD\n",
      "Name: Group, dtype: object\n",
      "AD\n",
      "(166, 256, 256)\n"
     ]
    },
    {
     "name": "stderr",
     "output_type": "stream",
     "text": [
      "\r",
      " 10%|████████▎                                                                        | 85/823 [00:34<05:08,  2.40it/s]"
     ]
    },
    {
     "name": "stdout",
     "output_type": "stream",
     "text": [
      "\n",
      "7877    CN\n",
      "7878    CN\n",
      "7879    CN\n",
      "7880    CN\n",
      "7881    CN\n",
      "7882    CN\n",
      "7883    CN\n",
      "7884    CN\n",
      "7885    CN\n",
      "7886    CN\n",
      "7887    CN\n",
      "Name: Group, dtype: object\n",
      "CN\n",
      "(166, 256, 256)\n"
     ]
    },
    {
     "name": "stderr",
     "output_type": "stream",
     "text": [
      "\r",
      " 10%|████████▍                                                                        | 86/823 [00:35<05:11,  2.37it/s]"
     ]
    },
    {
     "name": "stdout",
     "output_type": "stream",
     "text": [
      "\n",
      "7868    CN\n",
      "7869    CN\n",
      "7870    CN\n",
      "7871    CN\n",
      "7872    CN\n",
      "7873    CN\n",
      "7874    CN\n",
      "7875    CN\n",
      "7876    CN\n",
      "Name: Group, dtype: object\n",
      "CN\n",
      "(166, 256, 256)\n"
     ]
    },
    {
     "name": "stderr",
     "output_type": "stream",
     "text": [
      "\r",
      " 11%|████████▌                                                                        | 87/823 [00:35<05:09,  2.38it/s]"
     ]
    },
    {
     "name": "stdout",
     "output_type": "stream",
     "text": [
      "\n",
      "7857    AD\n",
      "7858    AD\n",
      "7859    AD\n",
      "7860    AD\n",
      "7861    AD\n",
      "7862    AD\n",
      "7863    AD\n",
      "7864    AD\n",
      "7865    AD\n",
      "7866    AD\n",
      "7867    AD\n",
      "Name: Group, dtype: object\n",
      "AD\n",
      "(166, 256, 256)\n"
     ]
    },
    {
     "name": "stderr",
     "output_type": "stream",
     "text": [
      "\r",
      " 11%|████████▋                                                                        | 88/823 [00:36<05:08,  2.38it/s]"
     ]
    },
    {
     "name": "stdout",
     "output_type": "stream",
     "text": [
      "\n",
      "7846    CN\n",
      "7847    CN\n",
      "7848    CN\n",
      "7849    CN\n",
      "7850    CN\n",
      "7851    CN\n",
      "7852    CN\n",
      "7853    CN\n",
      "7854    CN\n",
      "7855    CN\n",
      "7856    CN\n",
      "Name: Group, dtype: object\n",
      "CN\n",
      "(166, 256, 256)\n"
     ]
    },
    {
     "name": "stderr",
     "output_type": "stream",
     "text": [
      "\r",
      " 11%|████████▊                                                                        | 89/823 [00:36<05:04,  2.41it/s]"
     ]
    },
    {
     "name": "stdout",
     "output_type": "stream",
     "text": [
      "\n",
      "7837    CN\n",
      "7838    CN\n",
      "7839    CN\n",
      "7840    CN\n",
      "7841    CN\n",
      "7842    CN\n",
      "7843    CN\n",
      "7844    CN\n",
      "7845    CN\n",
      "Name: Group, dtype: object\n",
      "CN\n",
      "(166, 256, 256)\n"
     ]
    },
    {
     "name": "stderr",
     "output_type": "stream",
     "text": [
      "\r",
      " 11%|████████▊                                                                        | 90/823 [00:37<04:58,  2.45it/s]"
     ]
    },
    {
     "name": "stdout",
     "output_type": "stream",
     "text": [
      "\n",
      "7828    CN\n",
      "7829    CN\n",
      "7830    CN\n",
      "7831    CN\n",
      "7832    CN\n",
      "7833    CN\n",
      "7834    CN\n",
      "7835    CN\n",
      "7836    CN\n",
      "Name: Group, dtype: object\n",
      "CN\n",
      "(166, 256, 256)\n"
     ]
    },
    {
     "name": "stderr",
     "output_type": "stream",
     "text": [
      "\r",
      " 11%|████████▉                                                                        | 91/823 [00:37<04:56,  2.47it/s]"
     ]
    },
    {
     "name": "stdout",
     "output_type": "stream",
     "text": [
      "\n",
      "7818    CN\n",
      "7819    CN\n",
      "7820    CN\n",
      "7821    CN\n",
      "7822    CN\n",
      "7823    CN\n",
      "7824    CN\n",
      "7825    CN\n",
      "7826    CN\n",
      "7827    CN\n",
      "Name: Group, dtype: object\n",
      "CN\n",
      "(166, 256, 256)\n"
     ]
    },
    {
     "name": "stderr",
     "output_type": "stream",
     "text": [
      "\r",
      " 11%|█████████                                                                        | 92/823 [00:37<04:54,  2.48it/s]"
     ]
    },
    {
     "name": "stdout",
     "output_type": "stream",
     "text": [
      "\n",
      "7809    AD\n",
      "7810    AD\n",
      "7811    AD\n",
      "7812    AD\n",
      "7813    AD\n",
      "7814    AD\n",
      "7815    AD\n",
      "7816    AD\n",
      "7817    AD\n",
      "Name: Group, dtype: object\n",
      "AD\n",
      "(166, 256, 256)\n"
     ]
    },
    {
     "name": "stderr",
     "output_type": "stream",
     "text": [
      "\r",
      " 11%|█████████▏                                                                       | 93/823 [00:38<04:54,  2.48it/s]"
     ]
    },
    {
     "name": "stdout",
     "output_type": "stream",
     "text": [
      "\n",
      "7800    MCI\n",
      "7801    MCI\n",
      "7802    MCI\n",
      "7803    MCI\n",
      "7804    MCI\n",
      "7805    MCI\n",
      "7806    MCI\n",
      "7807    MCI\n",
      "7808    MCI\n",
      "Name: Group, dtype: object\n",
      "MCI\n",
      "(166, 256, 256)\n"
     ]
    },
    {
     "name": "stderr",
     "output_type": "stream",
     "text": [
      "\r",
      " 11%|█████████▎                                                                       | 94/823 [00:38<04:50,  2.51it/s]"
     ]
    },
    {
     "name": "stdout",
     "output_type": "stream",
     "text": [
      "\n",
      "7791    AD\n",
      "7792    AD\n",
      "7793    AD\n",
      "7794    AD\n",
      "7795    AD\n",
      "7796    AD\n",
      "7797    AD\n",
      "7798    AD\n",
      "7799    AD\n",
      "Name: Group, dtype: object\n",
      "AD\n",
      "(166, 256, 256)\n"
     ]
    },
    {
     "name": "stderr",
     "output_type": "stream",
     "text": [
      "\r",
      " 12%|█████████▎                                                                       | 95/823 [00:39<04:55,  2.47it/s]"
     ]
    },
    {
     "name": "stdout",
     "output_type": "stream",
     "text": [
      "\n",
      "7780    MCI\n",
      "7781    MCI\n",
      "7782    MCI\n",
      "7783    MCI\n",
      "7784    MCI\n",
      "7785    MCI\n",
      "7786    MCI\n",
      "7787    MCI\n",
      "7788    MCI\n",
      "7789    MCI\n",
      "7790    MCI\n",
      "Name: Group, dtype: object\n",
      "MCI\n",
      "(166, 256, 256)\n"
     ]
    },
    {
     "name": "stderr",
     "output_type": "stream",
     "text": [
      "\r",
      " 12%|█████████▍                                                                       | 96/823 [00:39<04:56,  2.45it/s]"
     ]
    },
    {
     "name": "stdout",
     "output_type": "stream",
     "text": [
      "\n",
      "7771    MCI\n",
      "7772    MCI\n",
      "7773    MCI\n",
      "7774    MCI\n",
      "7775    MCI\n",
      "7776    MCI\n",
      "7777    MCI\n",
      "7778    MCI\n",
      "7779    MCI\n",
      "Name: Group, dtype: object\n",
      "MCI\n",
      "(166, 256, 256)\n"
     ]
    },
    {
     "name": "stderr",
     "output_type": "stream",
     "text": [
      "\r",
      " 12%|█████████▌                                                                       | 97/823 [00:39<04:56,  2.45it/s]"
     ]
    },
    {
     "name": "stdout",
     "output_type": "stream",
     "text": [
      "\n",
      "7762    MCI\n",
      "7763    MCI\n",
      "7764    MCI\n",
      "7765    MCI\n",
      "7766    MCI\n",
      "7767    MCI\n",
      "7768    MCI\n",
      "7769    MCI\n",
      "7770    MCI\n",
      "Name: Group, dtype: object\n",
      "MCI\n",
      "(166, 256, 256)\n"
     ]
    },
    {
     "name": "stderr",
     "output_type": "stream",
     "text": [
      "\r",
      " 12%|█████████▋                                                                       | 98/823 [00:40<04:58,  2.43it/s]"
     ]
    },
    {
     "name": "stdout",
     "output_type": "stream",
     "text": [
      "\n",
      "7751    MCI\n",
      "7752    MCI\n",
      "7753    MCI\n",
      "7754    MCI\n",
      "7755    MCI\n",
      "7756    MCI\n",
      "7757    MCI\n",
      "7758    MCI\n",
      "7759    MCI\n",
      "7760    MCI\n",
      "7761    MCI\n",
      "Name: Group, dtype: object\n",
      "MCI\n",
      "(166, 256, 256)\n"
     ]
    },
    {
     "name": "stderr",
     "output_type": "stream",
     "text": [
      "\r",
      " 12%|█████████▋                                                                       | 99/823 [00:40<05:00,  2.41it/s]"
     ]
    },
    {
     "name": "stdout",
     "output_type": "stream",
     "text": [
      "\n",
      "7742    MCI\n",
      "7743    MCI\n",
      "7744    MCI\n",
      "7745    MCI\n",
      "7746    MCI\n",
      "7747    MCI\n",
      "7748    MCI\n",
      "7749    MCI\n",
      "7750    MCI\n",
      "Name: Group, dtype: object\n",
      "MCI\n",
      "(166, 256, 256)\n"
     ]
    },
    {
     "name": "stderr",
     "output_type": "stream",
     "text": [
      "\r",
      " 12%|█████████▋                                                                      | 100/823 [00:41<05:03,  2.38it/s]"
     ]
    },
    {
     "name": "stdout",
     "output_type": "stream",
     "text": [
      "\n",
      "7733    MCI\n",
      "7734    MCI\n",
      "7735    MCI\n",
      "7736    MCI\n",
      "7737    MCI\n",
      "7738    MCI\n",
      "7739    MCI\n",
      "7740    MCI\n",
      "7741    MCI\n",
      "Name: Group, dtype: object\n",
      "MCI\n",
      "(166, 256, 256)\n"
     ]
    },
    {
     "name": "stderr",
     "output_type": "stream",
     "text": [
      "\r",
      " 12%|█████████▊                                                                      | 101/823 [00:41<05:02,  2.39it/s]"
     ]
    },
    {
     "name": "stdout",
     "output_type": "stream",
     "text": [
      "\n",
      "7723    MCI\n",
      "7724    MCI\n",
      "7725    MCI\n",
      "7726    MCI\n",
      "7727    MCI\n",
      "7728    MCI\n",
      "7729    MCI\n",
      "7730    MCI\n",
      "7731    MCI\n",
      "7732    MCI\n",
      "Name: Group, dtype: object\n",
      "MCI\n",
      "(166, 256, 256)\n"
     ]
    },
    {
     "name": "stderr",
     "output_type": "stream",
     "text": [
      "\r",
      " 12%|█████████▉                                                                      | 102/823 [00:41<05:00,  2.40it/s]"
     ]
    },
    {
     "name": "stdout",
     "output_type": "stream",
     "text": [
      "\n",
      "7716    MCI\n",
      "7717    MCI\n",
      "7718    MCI\n",
      "7719    MCI\n",
      "7720    MCI\n",
      "7721    MCI\n",
      "7722    MCI\n",
      "Name: Group, dtype: object\n",
      "MCI\n",
      "(166, 256, 256)\n"
     ]
    },
    {
     "name": "stderr",
     "output_type": "stream",
     "text": [
      "\r",
      " 13%|██████████                                                                      | 103/823 [00:42<04:55,  2.44it/s]"
     ]
    },
    {
     "name": "stdout",
     "output_type": "stream",
     "text": [
      "\n",
      "7708    CN\n",
      "7709    CN\n",
      "7710    CN\n",
      "7711    CN\n",
      "7712    CN\n",
      "7713    CN\n",
      "7714    CN\n",
      "7715    CN\n",
      "Name: Group, dtype: object\n",
      "CN\n",
      "(166, 256, 256)\n"
     ]
    },
    {
     "name": "stderr",
     "output_type": "stream",
     "text": [
      "\r",
      " 13%|██████████                                                                      | 104/823 [00:42<04:52,  2.46it/s]"
     ]
    },
    {
     "name": "stdout",
     "output_type": "stream",
     "text": [
      "\n",
      "7696    AD\n",
      "7697    AD\n",
      "7698    AD\n",
      "7699    AD\n",
      "7700    AD\n",
      "7701    AD\n",
      "7702    AD\n",
      "7703    AD\n",
      "7704    AD\n",
      "7705    AD\n",
      "7706    AD\n",
      "7707    AD\n",
      "Name: Group, dtype: object\n",
      "AD\n",
      "(166, 256, 256)\n"
     ]
    },
    {
     "name": "stderr",
     "output_type": "stream",
     "text": [
      "\r",
      " 13%|██████████▏                                                                     | 105/823 [00:43<04:52,  2.45it/s]"
     ]
    },
    {
     "name": "stdout",
     "output_type": "stream",
     "text": [
      "\n",
      "7690    AD\n",
      "7691    AD\n",
      "7692    AD\n",
      "7693    AD\n",
      "7694    AD\n",
      "7695    AD\n",
      "Name: Group, dtype: object\n",
      "AD\n",
      "(166, 256, 256)\n"
     ]
    },
    {
     "name": "stderr",
     "output_type": "stream",
     "text": [
      "\r",
      " 13%|██████████▎                                                                     | 106/823 [00:43<04:52,  2.45it/s]"
     ]
    },
    {
     "name": "stdout",
     "output_type": "stream",
     "text": [
      "\n",
      "7684    AD\n",
      "7685    AD\n",
      "7686    AD\n",
      "7687    AD\n",
      "7688    AD\n",
      "7689    AD\n",
      "Name: Group, dtype: object\n",
      "AD\n",
      "(166, 256, 256)\n"
     ]
    },
    {
     "name": "stderr",
     "output_type": "stream",
     "text": [
      "\r",
      " 13%|██████████▍                                                                     | 107/823 [00:44<04:56,  2.42it/s]"
     ]
    },
    {
     "name": "stdout",
     "output_type": "stream",
     "text": [
      "\n",
      "7678    AD\n",
      "7679    AD\n",
      "7680    AD\n",
      "7681    AD\n",
      "7682    AD\n",
      "7683    AD\n",
      "Name: Group, dtype: object\n",
      "AD\n",
      "(166, 256, 256)\n"
     ]
    },
    {
     "name": "stderr",
     "output_type": "stream",
     "text": [
      "\r",
      " 13%|██████████▍                                                                     | 108/823 [00:44<04:57,  2.41it/s]"
     ]
    },
    {
     "name": "stdout",
     "output_type": "stream",
     "text": [
      "\n",
      "7672    MCI\n",
      "7673    MCI\n",
      "7674    MCI\n",
      "7675    MCI\n",
      "7676    MCI\n",
      "7677    MCI\n",
      "Name: Group, dtype: object\n",
      "MCI\n",
      "(166, 256, 256)\n"
     ]
    },
    {
     "name": "stderr",
     "output_type": "stream",
     "text": [
      "\r",
      " 13%|██████████▌                                                                     | 109/823 [00:44<04:56,  2.41it/s]"
     ]
    },
    {
     "name": "stdout",
     "output_type": "stream",
     "text": [
      "\n",
      "7666    MCI\n",
      "7667    MCI\n",
      "7668    MCI\n",
      "7669    MCI\n",
      "7670    MCI\n",
      "7671    MCI\n",
      "Name: Group, dtype: object\n",
      "MCI\n",
      "(166, 256, 256)\n"
     ]
    },
    {
     "name": "stderr",
     "output_type": "stream",
     "text": [
      "\r",
      " 13%|██████████▋                                                                     | 110/823 [00:45<04:59,  2.38it/s]"
     ]
    },
    {
     "name": "stdout",
     "output_type": "stream",
     "text": [
      "\n",
      "7655    CN\n",
      "7656    CN\n",
      "7657    CN\n",
      "7658    CN\n",
      "7659    CN\n",
      "7660    CN\n",
      "7661    CN\n",
      "7662    CN\n",
      "7663    CN\n",
      "7664    CN\n",
      "7665    CN\n",
      "Name: Group, dtype: object\n",
      "CN\n",
      "(166, 256, 256)\n"
     ]
    },
    {
     "name": "stderr",
     "output_type": "stream",
     "text": [
      "\r",
      " 13%|██████████▊                                                                     | 111/823 [00:45<04:59,  2.37it/s]"
     ]
    },
    {
     "name": "stdout",
     "output_type": "stream",
     "text": [
      "\n",
      "7649    MCI\n",
      "7650    MCI\n",
      "7651    MCI\n",
      "7652    MCI\n",
      "7653    MCI\n",
      "7654    MCI\n",
      "Name: Group, dtype: object\n",
      "MCI\n",
      "(166, 256, 256)\n"
     ]
    },
    {
     "name": "stderr",
     "output_type": "stream",
     "text": [
      "\r",
      " 14%|██████████▉                                                                     | 112/823 [00:46<05:01,  2.36it/s]"
     ]
    },
    {
     "name": "stdout",
     "output_type": "stream",
     "text": [
      "\n",
      "7643    CN\n",
      "7644    CN\n",
      "7645    CN\n",
      "7646    CN\n",
      "7647    CN\n",
      "7648    CN\n",
      "Name: Group, dtype: object\n",
      "CN\n",
      "(166, 256, 256)\n"
     ]
    },
    {
     "name": "stderr",
     "output_type": "stream",
     "text": [
      "\r",
      " 14%|██████████▉                                                                     | 113/823 [00:46<05:02,  2.35it/s]"
     ]
    },
    {
     "name": "stdout",
     "output_type": "stream",
     "text": [
      "\n",
      "7637    MCI\n",
      "7638    MCI\n",
      "7639    MCI\n",
      "7640    MCI\n",
      "7641    MCI\n",
      "7642    MCI\n",
      "Name: Group, dtype: object\n",
      "MCI\n",
      "(166, 256, 256)\n"
     ]
    },
    {
     "name": "stderr",
     "output_type": "stream",
     "text": [
      "\r",
      " 14%|███████████                                                                     | 114/823 [00:46<04:59,  2.37it/s]"
     ]
    },
    {
     "name": "stdout",
     "output_type": "stream",
     "text": [
      "\n",
      "7631    MCI\n",
      "7632    MCI\n",
      "7633    MCI\n",
      "7634    MCI\n",
      "7635    MCI\n",
      "7636    MCI\n",
      "Name: Group, dtype: object\n",
      "MCI\n",
      "(166, 256, 256)\n"
     ]
    },
    {
     "name": "stderr",
     "output_type": "stream",
     "text": [
      "\r",
      " 14%|███████████▏                                                                    | 115/823 [00:47<05:00,  2.36it/s]"
     ]
    },
    {
     "name": "stdout",
     "output_type": "stream",
     "text": [
      "\n",
      "7620    CN\n",
      "7621    CN\n",
      "7622    CN\n",
      "7623    CN\n",
      "7624    CN\n",
      "7625    CN\n",
      "7626    CN\n",
      "7627    CN\n",
      "7628    CN\n",
      "7629    CN\n",
      "7630    CN\n",
      "Name: Group, dtype: object\n",
      "CN\n",
      "(166, 256, 256)\n"
     ]
    },
    {
     "name": "stderr",
     "output_type": "stream",
     "text": [
      "\r",
      " 14%|███████████▎                                                                    | 116/823 [00:47<04:54,  2.40it/s]"
     ]
    },
    {
     "name": "stdout",
     "output_type": "stream",
     "text": [
      "\n",
      "7609    MCI\n",
      "7610    MCI\n",
      "7611    MCI\n",
      "7612    MCI\n",
      "7613    MCI\n",
      "7614    MCI\n",
      "7615    MCI\n",
      "7616    MCI\n",
      "7617    MCI\n",
      "7618    MCI\n",
      "7619    MCI\n",
      "Name: Group, dtype: object\n",
      "MCI\n",
      "(166, 256, 256)\n"
     ]
    },
    {
     "name": "stderr",
     "output_type": "stream",
     "text": [
      "\r",
      " 14%|███████████▎                                                                    | 117/823 [00:48<04:52,  2.41it/s]"
     ]
    },
    {
     "name": "stdout",
     "output_type": "stream",
     "text": [
      "\n",
      "7597    MCI\n",
      "7598    MCI\n",
      "7599    MCI\n",
      "7600    MCI\n",
      "7601    MCI\n",
      "7602    MCI\n",
      "7603    MCI\n",
      "7604    MCI\n",
      "7605    MCI\n",
      "7606    MCI\n",
      "7607    MCI\n",
      "7608    MCI\n",
      "Name: Group, dtype: object\n",
      "MCI\n",
      "(166, 256, 256)\n"
     ]
    },
    {
     "name": "stderr",
     "output_type": "stream",
     "text": [
      "\r",
      " 14%|███████████▍                                                                    | 118/823 [00:48<04:53,  2.41it/s]"
     ]
    },
    {
     "name": "stdout",
     "output_type": "stream",
     "text": [
      "\n",
      "7588    MCI\n",
      "7589    MCI\n",
      "7590    MCI\n",
      "7591    MCI\n",
      "7592    MCI\n",
      "7593    MCI\n",
      "7594    MCI\n",
      "7595    MCI\n",
      "7596    MCI\n",
      "Name: Group, dtype: object\n",
      "MCI\n",
      "(166, 256, 256)\n"
     ]
    },
    {
     "name": "stderr",
     "output_type": "stream",
     "text": [
      "\r",
      " 14%|███████████▌                                                                    | 119/823 [00:49<04:49,  2.43it/s]"
     ]
    },
    {
     "name": "stdout",
     "output_type": "stream",
     "text": [
      "\n",
      "7579    MCI\n",
      "7580    MCI\n",
      "7581    MCI\n",
      "7582    MCI\n",
      "7583    MCI\n",
      "7584    MCI\n",
      "7585    MCI\n",
      "7586    MCI\n",
      "7587    MCI\n",
      "Name: Group, dtype: object\n",
      "MCI\n",
      "(166, 256, 256)\n"
     ]
    },
    {
     "name": "stderr",
     "output_type": "stream",
     "text": [
      "\r",
      " 15%|███████████▋                                                                    | 120/823 [00:49<04:57,  2.36it/s]"
     ]
    },
    {
     "name": "stdout",
     "output_type": "stream",
     "text": [
      "\n",
      "7570    CN\n",
      "7571    CN\n",
      "7572    CN\n",
      "7573    CN\n",
      "7574    CN\n",
      "7575    CN\n",
      "7576    CN\n",
      "7577    CN\n",
      "7578    CN\n",
      "Name: Group, dtype: object\n",
      "CN\n",
      "(166, 256, 256)\n"
     ]
    },
    {
     "name": "stderr",
     "output_type": "stream",
     "text": [
      "\r",
      " 15%|███████████▊                                                                    | 121/823 [00:49<04:50,  2.42it/s]"
     ]
    },
    {
     "name": "stdout",
     "output_type": "stream",
     "text": [
      "\n",
      "7561    CN\n",
      "7562    CN\n",
      "7563    CN\n",
      "7564    CN\n",
      "7565    CN\n",
      "7566    CN\n",
      "7567    CN\n",
      "7568    CN\n",
      "7569    CN\n",
      "Name: Group, dtype: object\n",
      "CN\n",
      "(166, 256, 256)\n"
     ]
    },
    {
     "name": "stderr",
     "output_type": "stream",
     "text": [
      "\r",
      " 15%|███████████▊                                                                    | 122/823 [00:50<04:53,  2.39it/s]"
     ]
    },
    {
     "name": "stdout",
     "output_type": "stream",
     "text": [
      "\n",
      "7550    AD\n",
      "7551    AD\n",
      "7552    AD\n",
      "7553    AD\n",
      "7554    AD\n",
      "7555    AD\n",
      "7556    AD\n",
      "7557    AD\n",
      "7558    AD\n",
      "7559    AD\n",
      "7560    AD\n",
      "Name: Group, dtype: object\n",
      "AD\n",
      "(166, 256, 256)\n"
     ]
    },
    {
     "name": "stderr",
     "output_type": "stream",
     "text": [
      "\r",
      " 15%|███████████▉                                                                    | 123/823 [00:50<04:48,  2.42it/s]"
     ]
    },
    {
     "name": "stdout",
     "output_type": "stream",
     "text": [
      "\n",
      "7540    AD\n",
      "7541    AD\n",
      "7542    AD\n",
      "7543    AD\n",
      "7544    AD\n",
      "7545    AD\n",
      "7546    AD\n",
      "7547    AD\n",
      "7548    AD\n",
      "7549    AD\n",
      "Name: Group, dtype: object\n",
      "AD\n",
      "(166, 256, 256)\n"
     ]
    },
    {
     "name": "stderr",
     "output_type": "stream",
     "text": [
      "\r",
      " 15%|████████████                                                                    | 124/823 [00:51<04:49,  2.42it/s]"
     ]
    },
    {
     "name": "stdout",
     "output_type": "stream",
     "text": [
      "\n",
      "7531    MCI\n",
      "7532    MCI\n",
      "7533    MCI\n",
      "7534    MCI\n",
      "7535    MCI\n",
      "7536    MCI\n",
      "7537    MCI\n",
      "7538    MCI\n",
      "7539    MCI\n",
      "Name: Group, dtype: object\n",
      "MCI\n",
      "(166, 256, 256)\n"
     ]
    },
    {
     "name": "stderr",
     "output_type": "stream",
     "text": [
      "\r",
      " 15%|████████████▏                                                                   | 125/823 [00:51<04:51,  2.40it/s]"
     ]
    },
    {
     "name": "stdout",
     "output_type": "stream",
     "text": [
      "\n",
      "7509    AD\n",
      "7510    AD\n",
      "7511    AD\n",
      "7512    AD\n",
      "7513    AD\n",
      "7514    AD\n",
      "7515    AD\n",
      "7516    AD\n",
      "7517    AD\n",
      "7518    AD\n",
      "7519    AD\n",
      "7520    AD\n",
      "7521    AD\n",
      "7522    AD\n",
      "7523    AD\n",
      "7524    AD\n",
      "7525    AD\n",
      "7526    AD\n",
      "7527    AD\n",
      "7528    AD\n",
      "7529    AD\n",
      "7530    AD\n",
      "Name: Group, dtype: object\n",
      "AD\n",
      "(166, 256, 256)\n"
     ]
    },
    {
     "name": "stderr",
     "output_type": "stream",
     "text": [
      "\r",
      " 15%|████████████▏                                                                   | 126/823 [00:51<04:44,  2.45it/s]"
     ]
    },
    {
     "name": "stdout",
     "output_type": "stream",
     "text": [
      "\n",
      "7493    CN\n",
      "7494    CN\n",
      "7495    CN\n",
      "7496    CN\n",
      "7497    CN\n",
      "7498    CN\n",
      "7499    CN\n",
      "7500    CN\n",
      "7501    CN\n",
      "7502    CN\n",
      "7503    CN\n",
      "7504    CN\n",
      "7505    CN\n",
      "7506    CN\n",
      "7507    CN\n",
      "7508    CN\n",
      "Name: Group, dtype: object\n",
      "CN\n",
      "(166, 256, 256)\n"
     ]
    },
    {
     "name": "stderr",
     "output_type": "stream",
     "text": [
      "\r",
      " 15%|████████████▎                                                                   | 127/823 [00:52<04:44,  2.45it/s]"
     ]
    },
    {
     "name": "stdout",
     "output_type": "stream",
     "text": [
      "\n",
      "7484    MCI\n",
      "7485    MCI\n",
      "7486    MCI\n",
      "7487    MCI\n",
      "7488    MCI\n",
      "7489    MCI\n",
      "7490    MCI\n",
      "7491    MCI\n",
      "7492    MCI\n",
      "Name: Group, dtype: object\n",
      "MCI\n",
      "(166, 256, 256)\n"
     ]
    },
    {
     "name": "stderr",
     "output_type": "stream",
     "text": [
      "\r",
      " 16%|████████████▍                                                                   | 128/823 [00:52<04:43,  2.45it/s]"
     ]
    },
    {
     "name": "stdout",
     "output_type": "stream",
     "text": [
      "\n",
      "7475    AD\n",
      "7476    AD\n",
      "7477    AD\n",
      "7478    AD\n",
      "7479    AD\n",
      "7480    AD\n",
      "7481    AD\n",
      "7482    AD\n",
      "7483    AD\n",
      "Name: Group, dtype: object\n",
      "AD\n",
      "(166, 256, 256)\n"
     ]
    },
    {
     "name": "stderr",
     "output_type": "stream",
     "text": [
      "\r",
      " 16%|████████████▌                                                                   | 129/823 [00:53<04:44,  2.44it/s]"
     ]
    },
    {
     "name": "stdout",
     "output_type": "stream",
     "text": [
      "\n",
      "7465    MCI\n",
      "7466    MCI\n",
      "7467    MCI\n",
      "7468    MCI\n",
      "7469    MCI\n",
      "7470    MCI\n",
      "7471    MCI\n",
      "7472    MCI\n",
      "7473    MCI\n",
      "7474    MCI\n",
      "Name: Group, dtype: object\n",
      "MCI\n",
      "(166, 256, 256)\n"
     ]
    },
    {
     "name": "stderr",
     "output_type": "stream",
     "text": [
      "\r",
      " 16%|████████████▋                                                                   | 130/823 [00:53<04:38,  2.49it/s]"
     ]
    },
    {
     "name": "stdout",
     "output_type": "stream",
     "text": [
      "\n",
      "7456    AD\n",
      "7457    AD\n",
      "7458    AD\n",
      "7459    AD\n",
      "7460    AD\n",
      "7461    AD\n",
      "7462    AD\n",
      "7463    AD\n",
      "7464    AD\n",
      "Name: Group, dtype: object\n",
      "AD\n",
      "(166, 256, 256)\n"
     ]
    },
    {
     "name": "stderr",
     "output_type": "stream",
     "text": [
      "\r",
      " 16%|████████████▋                                                                   | 131/823 [00:53<04:32,  2.54it/s]"
     ]
    },
    {
     "name": "stdout",
     "output_type": "stream",
     "text": [
      "\n",
      "7442    MCI\n",
      "7443    MCI\n",
      "7444    MCI\n",
      "7445    MCI\n",
      "7446    MCI\n",
      "7447    MCI\n",
      "7448    MCI\n",
      "7449    MCI\n",
      "7450    MCI\n",
      "7451    MCI\n",
      "7452    MCI\n",
      "7453    MCI\n",
      "7454    MCI\n",
      "7455    MCI\n",
      "Name: Group, dtype: object\n",
      "MCI\n",
      "(166, 256, 256)\n"
     ]
    },
    {
     "name": "stderr",
     "output_type": "stream",
     "text": [
      "\r",
      " 16%|████████████▊                                                                   | 132/823 [00:54<04:36,  2.50it/s]"
     ]
    },
    {
     "name": "stdout",
     "output_type": "stream",
     "text": [
      "\n",
      "7423    CN\n",
      "7424    CN\n",
      "7425    CN\n",
      "7426    CN\n",
      "7427    CN\n",
      "7428    CN\n",
      "7429    CN\n",
      "7430    CN\n",
      "7431    CN\n",
      "7432    CN\n",
      "7433    CN\n",
      "7434    CN\n",
      "7435    CN\n",
      "7436    CN\n",
      "7437    CN\n",
      "7438    CN\n",
      "7439    CN\n",
      "7440    CN\n",
      "7441    CN\n",
      "Name: Group, dtype: object\n",
      "CN\n",
      "(166, 256, 256)\n"
     ]
    },
    {
     "name": "stderr",
     "output_type": "stream",
     "text": [
      "\r",
      " 16%|████████████▉                                                                   | 133/823 [00:54<04:35,  2.51it/s]"
     ]
    },
    {
     "name": "stdout",
     "output_type": "stream",
     "text": [
      "\n",
      "7414    MCI\n",
      "7415    MCI\n",
      "7416    MCI\n",
      "7417    MCI\n",
      "7418    MCI\n",
      "7419    MCI\n",
      "7420    MCI\n",
      "7421    MCI\n",
      "7422    MCI\n",
      "Name: Group, dtype: object\n",
      "MCI\n",
      "(166, 256, 256)\n"
     ]
    },
    {
     "name": "stderr",
     "output_type": "stream",
     "text": [
      "\r",
      " 16%|█████████████                                                                   | 134/823 [00:55<04:33,  2.52it/s]"
     ]
    },
    {
     "name": "stdout",
     "output_type": "stream",
     "text": [
      "\n",
      "7405    AD\n",
      "7406    AD\n",
      "7407    AD\n",
      "7408    AD\n",
      "7409    AD\n",
      "7410    AD\n",
      "7411    AD\n",
      "7412    AD\n",
      "7413    AD\n",
      "Name: Group, dtype: object\n",
      "AD\n",
      "(166, 256, 256)\n"
     ]
    },
    {
     "name": "stderr",
     "output_type": "stream",
     "text": [
      "\r",
      " 16%|█████████████                                                                   | 135/823 [00:55<04:37,  2.48it/s]"
     ]
    },
    {
     "name": "stdout",
     "output_type": "stream",
     "text": [
      "\n",
      "7396    AD\n",
      "7397    AD\n",
      "7398    AD\n",
      "7399    AD\n",
      "7400    AD\n",
      "7401    AD\n",
      "7402    AD\n",
      "7403    AD\n",
      "7404    AD\n",
      "Name: Group, dtype: object\n",
      "AD\n",
      "(166, 256, 256)\n"
     ]
    },
    {
     "name": "stderr",
     "output_type": "stream",
     "text": [
      "\r",
      " 17%|█████████████▏                                                                  | 136/823 [00:55<04:33,  2.51it/s]"
     ]
    },
    {
     "name": "stdout",
     "output_type": "stream",
     "text": [
      "\n",
      "7387    AD\n",
      "7388    AD\n",
      "7389    AD\n",
      "7390    AD\n",
      "7391    AD\n",
      "7392    AD\n",
      "7393    AD\n",
      "7394    AD\n",
      "7395    AD\n",
      "Name: Group, dtype: object\n",
      "AD\n",
      "(166, 256, 256)\n"
     ]
    },
    {
     "name": "stderr",
     "output_type": "stream",
     "text": [
      "\r",
      " 17%|█████████████▎                                                                  | 137/823 [00:56<04:28,  2.55it/s]"
     ]
    },
    {
     "name": "stdout",
     "output_type": "stream",
     "text": [
      "\n",
      "7378    CN\n",
      "7379    CN\n",
      "7380    CN\n",
      "7381    CN\n",
      "7382    CN\n",
      "7383    CN\n",
      "7384    CN\n",
      "7385    CN\n",
      "7386    CN\n",
      "Name: Group, dtype: object\n",
      "CN\n",
      "(166, 256, 256)\n"
     ]
    },
    {
     "name": "stderr",
     "output_type": "stream",
     "text": [
      "\r",
      " 17%|█████████████▍                                                                  | 138/823 [00:56<04:24,  2.59it/s]"
     ]
    },
    {
     "name": "stdout",
     "output_type": "stream",
     "text": [
      "\n",
      "7369    CN\n",
      "7370    CN\n",
      "7371    CN\n",
      "7372    CN\n",
      "7373    CN\n",
      "7374    CN\n",
      "7375    CN\n",
      "7376    CN\n",
      "7377    CN\n",
      "Name: Group, dtype: object\n",
      "CN\n",
      "(166, 256, 256)\n"
     ]
    },
    {
     "name": "stderr",
     "output_type": "stream",
     "text": [
      "\r",
      " 17%|█████████████▌                                                                  | 139/823 [00:57<04:26,  2.57it/s]"
     ]
    },
    {
     "name": "stdout",
     "output_type": "stream",
     "text": [
      "\n",
      "7360    CN\n",
      "7361    CN\n",
      "7362    CN\n",
      "7363    CN\n",
      "7364    CN\n",
      "7365    CN\n",
      "7366    CN\n",
      "7367    CN\n",
      "7368    CN\n",
      "Name: Group, dtype: object\n",
      "CN\n",
      "(166, 256, 256)\n"
     ]
    },
    {
     "name": "stderr",
     "output_type": "stream",
     "text": [
      "\r",
      " 17%|█████████████▌                                                                  | 140/823 [00:57<04:21,  2.61it/s]"
     ]
    },
    {
     "name": "stdout",
     "output_type": "stream",
     "text": [
      "\n",
      "7351    MCI\n",
      "7352    MCI\n",
      "7353    MCI\n",
      "7354    MCI\n",
      "7355    MCI\n",
      "7356    MCI\n",
      "7357    MCI\n",
      "7358    MCI\n",
      "7359    MCI\n",
      "Name: Group, dtype: object\n",
      "MCI\n",
      "(166, 256, 256)\n"
     ]
    },
    {
     "name": "stderr",
     "output_type": "stream",
     "text": [
      "\r",
      " 17%|█████████████▋                                                                  | 141/823 [00:57<04:19,  2.63it/s]"
     ]
    },
    {
     "name": "stdout",
     "output_type": "stream",
     "text": [
      "\n",
      "7342    CN\n",
      "7343    CN\n",
      "7344    CN\n",
      "7345    CN\n",
      "7346    CN\n",
      "7347    CN\n",
      "7348    CN\n",
      "7349    CN\n",
      "7350    CN\n",
      "Name: Group, dtype: object\n",
      "CN\n",
      "(166, 256, 256)\n"
     ]
    },
    {
     "name": "stderr",
     "output_type": "stream",
     "text": [
      "\r",
      " 17%|█████████████▊                                                                  | 142/823 [00:58<04:26,  2.56it/s]"
     ]
    },
    {
     "name": "stdout",
     "output_type": "stream",
     "text": [
      "\n",
      "7333    MCI\n",
      "7334    MCI\n",
      "7335    MCI\n",
      "7336    MCI\n",
      "7337    MCI\n",
      "7338    MCI\n",
      "7339    MCI\n",
      "7340    MCI\n",
      "7341    MCI\n",
      "Name: Group, dtype: object\n",
      "MCI\n",
      "(166, 256, 256)\n"
     ]
    },
    {
     "name": "stderr",
     "output_type": "stream",
     "text": [
      "\r",
      " 17%|█████████████▉                                                                  | 143/823 [00:58<04:25,  2.57it/s]"
     ]
    },
    {
     "name": "stdout",
     "output_type": "stream",
     "text": [
      "\n",
      "7324    MCI\n",
      "7325    MCI\n",
      "7326    MCI\n",
      "7327    MCI\n",
      "7328    MCI\n",
      "7329    MCI\n",
      "7330    MCI\n",
      "7331    MCI\n",
      "7332    MCI\n",
      "Name: Group, dtype: object\n",
      "MCI\n",
      "(166, 256, 256)\n"
     ]
    },
    {
     "name": "stderr",
     "output_type": "stream",
     "text": [
      "\r",
      " 17%|█████████████▉                                                                  | 144/823 [00:59<04:29,  2.52it/s]"
     ]
    },
    {
     "name": "stdout",
     "output_type": "stream",
     "text": [
      "\n",
      "7315    AD\n",
      "7316    AD\n",
      "7317    AD\n",
      "7318    AD\n",
      "7319    AD\n",
      "7320    AD\n",
      "7321    AD\n",
      "7322    AD\n",
      "7323    AD\n",
      "Name: Group, dtype: object\n",
      "AD\n",
      "(166, 256, 256)\n"
     ]
    },
    {
     "name": "stderr",
     "output_type": "stream",
     "text": [
      "\r",
      " 18%|██████████████                                                                  | 145/823 [00:59<04:36,  2.46it/s]"
     ]
    },
    {
     "name": "stdout",
     "output_type": "stream",
     "text": [
      "\n",
      "7306    MCI\n",
      "7307    MCI\n",
      "7308    MCI\n",
      "7309    MCI\n",
      "7310    MCI\n",
      "7311    MCI\n",
      "7312    MCI\n",
      "7313    MCI\n",
      "7314    MCI\n",
      "Name: Group, dtype: object\n",
      "MCI\n",
      "(166, 256, 256)\n"
     ]
    },
    {
     "name": "stderr",
     "output_type": "stream",
     "text": [
      "\r",
      " 18%|██████████████▏                                                                 | 146/823 [00:59<04:36,  2.45it/s]"
     ]
    },
    {
     "name": "stdout",
     "output_type": "stream",
     "text": [
      "\n",
      "7297    CN\n",
      "7298    CN\n",
      "7299    CN\n",
      "7300    CN\n",
      "7301    CN\n",
      "7302    CN\n",
      "7303    CN\n",
      "7304    CN\n",
      "7305    CN\n",
      "Name: Group, dtype: object\n",
      "CN\n",
      "(166, 256, 256)\n"
     ]
    },
    {
     "name": "stderr",
     "output_type": "stream",
     "text": [
      "\r",
      " 18%|██████████████▎                                                                 | 147/823 [01:00<04:43,  2.39it/s]"
     ]
    },
    {
     "name": "stdout",
     "output_type": "stream",
     "text": [
      "\n",
      "7279    CN\n",
      "7280    CN\n",
      "7281    CN\n",
      "7282    CN\n",
      "7283    CN\n",
      "7284    CN\n",
      "7285    CN\n",
      "7286    CN\n",
      "7287    CN\n",
      "7288    CN\n",
      "7289    CN\n",
      "7290    CN\n",
      "7291    CN\n",
      "7292    CN\n",
      "7293    CN\n",
      "7294    CN\n",
      "7295    CN\n",
      "7296    CN\n",
      "Name: Group, dtype: object\n",
      "CN\n",
      "(166, 256, 256)\n"
     ]
    },
    {
     "name": "stderr",
     "output_type": "stream",
     "text": [
      "\r",
      " 18%|██████████████▍                                                                 | 148/823 [01:00<04:41,  2.40it/s]"
     ]
    },
    {
     "name": "stdout",
     "output_type": "stream",
     "text": [
      "\n",
      "7270    MCI\n",
      "7271    MCI\n",
      "7272    MCI\n",
      "7273    MCI\n",
      "7274    MCI\n",
      "7275    MCI\n",
      "7276    MCI\n",
      "7277    MCI\n",
      "7278    MCI\n",
      "Name: Group, dtype: object\n",
      "MCI\n",
      "(166, 256, 256)\n"
     ]
    },
    {
     "name": "stderr",
     "output_type": "stream",
     "text": [
      "\r",
      " 18%|██████████████▍                                                                 | 149/823 [01:01<04:38,  2.42it/s]"
     ]
    },
    {
     "name": "stdout",
     "output_type": "stream",
     "text": [
      "\n",
      "7261    MCI\n",
      "7262    MCI\n",
      "7263    MCI\n",
      "7264    MCI\n",
      "7265    MCI\n",
      "7266    MCI\n",
      "7267    MCI\n",
      "7268    MCI\n",
      "7269    MCI\n",
      "Name: Group, dtype: object\n",
      "MCI\n",
      "(166, 256, 256)\n"
     ]
    },
    {
     "name": "stderr",
     "output_type": "stream",
     "text": [
      "\r",
      " 18%|██████████████▌                                                                 | 150/823 [01:01<04:32,  2.47it/s]"
     ]
    },
    {
     "name": "stdout",
     "output_type": "stream",
     "text": [
      "\n",
      "7243    MCI\n",
      "7244    MCI\n",
      "7245    MCI\n",
      "7246    MCI\n",
      "7247    MCI\n",
      "7248    MCI\n",
      "7249    MCI\n",
      "7250    MCI\n",
      "7251    MCI\n",
      "7252    MCI\n",
      "7253    MCI\n",
      "7254    MCI\n",
      "7255    MCI\n",
      "7256    MCI\n",
      "7257    MCI\n",
      "7258    MCI\n",
      "7259    MCI\n",
      "7260    MCI\n",
      "Name: Group, dtype: object\n",
      "MCI\n",
      "(166, 256, 256)\n"
     ]
    },
    {
     "name": "stderr",
     "output_type": "stream",
     "text": [
      "\r",
      " 18%|██████████████▋                                                                 | 151/823 [01:01<04:37,  2.42it/s]"
     ]
    },
    {
     "name": "stdout",
     "output_type": "stream",
     "text": [
      "\n",
      "7232    AD\n",
      "7233    AD\n",
      "7234    AD\n",
      "7235    AD\n",
      "7236    AD\n",
      "7237    AD\n",
      "7238    AD\n",
      "7239    AD\n",
      "7240    AD\n",
      "7241    AD\n",
      "7242    AD\n",
      "Name: Group, dtype: object\n",
      "AD\n",
      "(166, 256, 256)\n"
     ]
    },
    {
     "name": "stderr",
     "output_type": "stream",
     "text": [
      "\r",
      " 18%|██████████████▊                                                                 | 152/823 [01:02<04:39,  2.40it/s]"
     ]
    },
    {
     "name": "stdout",
     "output_type": "stream",
     "text": [
      "\n",
      "7223    MCI\n",
      "7224    MCI\n",
      "7225    MCI\n",
      "7226    MCI\n",
      "7227    MCI\n",
      "7228    MCI\n",
      "7229    MCI\n",
      "7230    MCI\n",
      "7231    MCI\n",
      "Name: Group, dtype: object\n",
      "MCI\n",
      "(166, 256, 256)\n"
     ]
    },
    {
     "name": "stderr",
     "output_type": "stream",
     "text": [
      "\r",
      " 19%|██████████████▊                                                                 | 153/823 [01:02<04:39,  2.40it/s]"
     ]
    },
    {
     "name": "stdout",
     "output_type": "stream",
     "text": [
      "\n",
      "7212    MCI\n",
      "7213    MCI\n",
      "7214    MCI\n",
      "7215    MCI\n",
      "7216    MCI\n",
      "7217    MCI\n",
      "7218    MCI\n",
      "7219    MCI\n",
      "7220    MCI\n",
      "7221    MCI\n",
      "7222    MCI\n",
      "Name: Group, dtype: object\n",
      "MCI\n",
      "(166, 256, 256)\n"
     ]
    },
    {
     "name": "stderr",
     "output_type": "stream",
     "text": [
      "\r",
      " 19%|██████████████▉                                                                 | 154/823 [01:03<04:36,  2.42it/s]"
     ]
    },
    {
     "name": "stdout",
     "output_type": "stream",
     "text": [
      "\n",
      "7194    MCI\n",
      "7195    MCI\n",
      "7196    MCI\n",
      "7197    MCI\n",
      "7198    MCI\n",
      "7199    MCI\n",
      "7200    MCI\n",
      "7201    MCI\n",
      "7202    MCI\n",
      "7203    MCI\n",
      "7204    MCI\n",
      "7205    MCI\n",
      "7206    MCI\n",
      "7207    MCI\n",
      "7208    MCI\n",
      "7209    MCI\n",
      "7210    MCI\n",
      "7211    MCI\n",
      "Name: Group, dtype: object\n",
      "MCI\n",
      "(166, 256, 256)\n"
     ]
    },
    {
     "name": "stderr",
     "output_type": "stream",
     "text": [
      "\r",
      " 19%|███████████████                                                                 | 155/823 [01:03<04:40,  2.38it/s]"
     ]
    },
    {
     "name": "stdout",
     "output_type": "stream",
     "text": [
      "\n",
      "7176    MCI\n",
      "7177    MCI\n",
      "7178    MCI\n",
      "7179    MCI\n",
      "7180    MCI\n",
      "7181    MCI\n",
      "7182    MCI\n",
      "7183    MCI\n",
      "7184    MCI\n",
      "7185    MCI\n",
      "7186    MCI\n",
      "7187    MCI\n",
      "7188    MCI\n",
      "7189    MCI\n",
      "7190    MCI\n",
      "7191    MCI\n",
      "7192    MCI\n",
      "7193    MCI\n",
      "Name: Group, dtype: object\n",
      "MCI\n",
      "(166, 256, 256)\n"
     ]
    },
    {
     "name": "stderr",
     "output_type": "stream",
     "text": [
      "\r",
      " 19%|███████████████▏                                                                | 156/823 [01:04<04:35,  2.42it/s]"
     ]
    },
    {
     "name": "stdout",
     "output_type": "stream",
     "text": [
      "\n",
      "7166    MCI\n",
      "7167    MCI\n",
      "7168    MCI\n",
      "7169    MCI\n",
      "7170    MCI\n",
      "7171    MCI\n",
      "7172    MCI\n",
      "7173    MCI\n",
      "7174    MCI\n",
      "7175    MCI\n",
      "Name: Group, dtype: object\n",
      "MCI\n",
      "(166, 256, 256)\n"
     ]
    },
    {
     "name": "stderr",
     "output_type": "stream",
     "text": [
      "\r",
      " 19%|███████████████▎                                                                | 157/823 [01:04<04:32,  2.44it/s]"
     ]
    },
    {
     "name": "stdout",
     "output_type": "stream",
     "text": [
      "\n",
      "7148    MCI\n",
      "7149    MCI\n",
      "7150    MCI\n",
      "7151    MCI\n",
      "7152    MCI\n",
      "7153    MCI\n",
      "7154    MCI\n",
      "7155    MCI\n",
      "7156    MCI\n",
      "7157    MCI\n",
      "7158    MCI\n",
      "7159    MCI\n",
      "7160    MCI\n",
      "7161    MCI\n",
      "7162    MCI\n",
      "7163    MCI\n",
      "7164    MCI\n",
      "7165    MCI\n",
      "Name: Group, dtype: object\n",
      "MCI\n",
      "(166, 256, 256)\n"
     ]
    },
    {
     "name": "stderr",
     "output_type": "stream",
     "text": [
      "\r",
      " 19%|███████████████▎                                                                | 158/823 [01:04<04:36,  2.41it/s]"
     ]
    },
    {
     "name": "stdout",
     "output_type": "stream",
     "text": [
      "\n",
      "7137    AD\n",
      "7138    AD\n",
      "7139    AD\n",
      "7140    AD\n",
      "7141    AD\n",
      "7142    AD\n",
      "7143    AD\n",
      "7144    AD\n",
      "7145    AD\n",
      "7146    AD\n",
      "7147    AD\n",
      "Name: Group, dtype: object\n",
      "AD\n",
      "(166, 256, 256)\n"
     ]
    },
    {
     "name": "stderr",
     "output_type": "stream",
     "text": [
      "\r",
      " 19%|███████████████▍                                                                | 159/823 [01:05<04:35,  2.41it/s]"
     ]
    },
    {
     "name": "stdout",
     "output_type": "stream",
     "text": [
      "\n",
      "7119    MCI\n",
      "7120    MCI\n",
      "7121    MCI\n",
      "7122    MCI\n",
      "7123    MCI\n",
      "7124    MCI\n",
      "7125    MCI\n",
      "7126    MCI\n",
      "7127    MCI\n",
      "7128    MCI\n",
      "7129    MCI\n",
      "7130    MCI\n",
      "7131    MCI\n",
      "7132    MCI\n",
      "7133    MCI\n",
      "7134    MCI\n",
      "7135    MCI\n",
      "7136    MCI\n",
      "Name: Group, dtype: object\n",
      "MCI\n",
      "(166, 256, 256)\n"
     ]
    },
    {
     "name": "stderr",
     "output_type": "stream",
     "text": [
      "\r",
      " 19%|███████████████▌                                                                | 160/823 [01:05<04:33,  2.43it/s]"
     ]
    },
    {
     "name": "stdout",
     "output_type": "stream",
     "text": [
      "\n",
      "7113    CN\n",
      "7114    CN\n",
      "7115    CN\n",
      "7116    CN\n",
      "7117    CN\n",
      "7118    CN\n",
      "Name: Group, dtype: object\n",
      "CN\n",
      "(166, 256, 256)\n"
     ]
    },
    {
     "name": "stderr",
     "output_type": "stream",
     "text": [
      "\r",
      " 20%|███████████████▋                                                                | 161/823 [01:06<04:35,  2.41it/s]"
     ]
    },
    {
     "name": "stdout",
     "output_type": "stream",
     "text": [
      "\n",
      "7107    MCI\n",
      "7108    MCI\n",
      "7109    MCI\n",
      "7110    MCI\n",
      "7111    MCI\n",
      "7112    MCI\n",
      "Name: Group, dtype: object\n",
      "MCI\n",
      "(166, 256, 256)\n"
     ]
    },
    {
     "name": "stderr",
     "output_type": "stream",
     "text": [
      "\r",
      " 20%|███████████████▋                                                                | 162/823 [01:06<04:38,  2.37it/s]"
     ]
    },
    {
     "name": "stdout",
     "output_type": "stream",
     "text": [
      "\n",
      "7101    MCI\n",
      "7102    MCI\n",
      "7103    MCI\n",
      "7104    MCI\n",
      "7105    MCI\n",
      "7106    MCI\n",
      "Name: Group, dtype: object\n",
      "MCI\n",
      "(166, 256, 256)\n"
     ]
    },
    {
     "name": "stderr",
     "output_type": "stream",
     "text": [
      "\r",
      " 20%|███████████████▊                                                                | 163/823 [01:06<04:35,  2.39it/s]"
     ]
    },
    {
     "name": "stdout",
     "output_type": "stream",
     "text": [
      "\n",
      "7095    MCI\n",
      "7096    MCI\n",
      "7097    MCI\n",
      "7098    MCI\n",
      "7099    MCI\n",
      "7100    MCI\n",
      "Name: Group, dtype: object\n",
      "MCI\n",
      "(166, 256, 256)\n"
     ]
    },
    {
     "name": "stderr",
     "output_type": "stream",
     "text": [
      "\r",
      " 20%|███████████████▉                                                                | 164/823 [01:07<04:29,  2.45it/s]"
     ]
    },
    {
     "name": "stdout",
     "output_type": "stream",
     "text": [
      "\n",
      "7089    MCI\n",
      "7090    MCI\n",
      "7091    MCI\n",
      "7092    MCI\n",
      "7093    MCI\n",
      "7094    MCI\n",
      "Name: Group, dtype: object\n",
      "MCI\n",
      "(166, 256, 256)\n"
     ]
    },
    {
     "name": "stderr",
     "output_type": "stream",
     "text": [
      "\r",
      " 20%|████████████████                                                                | 165/823 [01:07<04:32,  2.41it/s]"
     ]
    },
    {
     "name": "stdout",
     "output_type": "stream",
     "text": [
      "\n",
      "7083    MCI\n",
      "7084    MCI\n",
      "7085    MCI\n",
      "7086    MCI\n",
      "7087    MCI\n",
      "7088    MCI\n",
      "Name: Group, dtype: object\n",
      "MCI\n",
      "(166, 256, 256)\n"
     ]
    },
    {
     "name": "stderr",
     "output_type": "stream",
     "text": [
      "\r",
      " 20%|████████████████▏                                                               | 166/823 [01:08<04:37,  2.37it/s]"
     ]
    },
    {
     "name": "stdout",
     "output_type": "stream",
     "text": [
      "\n",
      "7077    MCI\n",
      "7078    MCI\n",
      "7079    MCI\n",
      "7080    MCI\n",
      "7081    MCI\n",
      "7082    MCI\n",
      "Name: Group, dtype: object\n",
      "MCI\n",
      "(166, 256, 256)\n"
     ]
    },
    {
     "name": "stderr",
     "output_type": "stream",
     "text": [
      "\r",
      " 20%|████████████████▏                                                               | 167/823 [01:08<04:37,  2.36it/s]"
     ]
    },
    {
     "name": "stdout",
     "output_type": "stream",
     "text": [
      "\n",
      "7072    AD\n",
      "7073    AD\n",
      "7074    AD\n",
      "7075    AD\n",
      "7076    AD\n",
      "Name: Group, dtype: object\n",
      "AD\n",
      "(166, 256, 256)\n"
     ]
    },
    {
     "name": "stderr",
     "output_type": "stream",
     "text": [
      "\r",
      " 20%|████████████████▎                                                               | 168/823 [01:09<04:37,  2.36it/s]"
     ]
    },
    {
     "name": "stdout",
     "output_type": "stream",
     "text": [
      "\n",
      "7066    AD\n",
      "7067    AD\n",
      "7068    AD\n",
      "7069    AD\n",
      "7070    AD\n",
      "7071    AD\n",
      "Name: Group, dtype: object\n",
      "AD\n",
      "(166, 256, 256)\n"
     ]
    },
    {
     "name": "stderr",
     "output_type": "stream",
     "text": [
      "\r",
      " 21%|████████████████▍                                                               | 169/823 [01:09<04:35,  2.37it/s]"
     ]
    },
    {
     "name": "stdout",
     "output_type": "stream",
     "text": [
      "\n",
      "7055    AD\n",
      "7056    AD\n",
      "7057    AD\n",
      "7058    AD\n",
      "7059    AD\n",
      "7060    AD\n",
      "7061    AD\n",
      "7062    AD\n",
      "7063    AD\n",
      "7064    AD\n",
      "7065    AD\n",
      "Name: Group, dtype: object\n",
      "AD\n",
      "(166, 256, 256)\n"
     ]
    },
    {
     "name": "stderr",
     "output_type": "stream",
     "text": [
      "\r",
      " 21%|████████████████▌                                                               | 170/823 [01:09<04:31,  2.40it/s]"
     ]
    },
    {
     "name": "stdout",
     "output_type": "stream",
     "text": [
      "\n",
      "7043    CN\n",
      "7044    CN\n",
      "7045    CN\n",
      "7046    CN\n",
      "7047    CN\n",
      "7048    CN\n",
      "7049    CN\n",
      "7050    CN\n",
      "7051    CN\n",
      "7052    CN\n",
      "7053    CN\n",
      "7054    CN\n",
      "Name: Group, dtype: object\n",
      "CN\n",
      "(166, 256, 256)\n"
     ]
    },
    {
     "name": "stderr",
     "output_type": "stream",
     "text": [
      "\r",
      " 21%|████████████████▌                                                               | 171/823 [01:10<04:30,  2.41it/s]"
     ]
    },
    {
     "name": "stdout",
     "output_type": "stream",
     "text": [
      "\n",
      "7032    MCI\n",
      "7033    MCI\n",
      "7034    MCI\n",
      "7035    MCI\n",
      "7036    MCI\n",
      "7037    MCI\n",
      "7038    MCI\n",
      "7039    MCI\n",
      "7040    MCI\n",
      "7041    MCI\n",
      "7042    MCI\n",
      "Name: Group, dtype: object\n",
      "MCI\n",
      "(166, 256, 256)\n"
     ]
    },
    {
     "name": "stderr",
     "output_type": "stream",
     "text": [
      "\r",
      " 21%|████████████████▋                                                               | 172/823 [01:10<04:32,  2.39it/s]"
     ]
    },
    {
     "name": "stdout",
     "output_type": "stream",
     "text": [
      "\n",
      "7023    CN\n",
      "7024    CN\n",
      "7025    CN\n",
      "7026    CN\n",
      "7027    CN\n",
      "7028    CN\n",
      "7029    CN\n",
      "7030    CN\n",
      "7031    CN\n",
      "Name: Group, dtype: object\n",
      "CN\n",
      "(166, 256, 256)\n"
     ]
    },
    {
     "name": "stderr",
     "output_type": "stream",
     "text": [
      "\r",
      " 21%|████████████████▊                                                               | 173/823 [01:11<04:28,  2.42it/s]"
     ]
    },
    {
     "name": "stdout",
     "output_type": "stream",
     "text": [
      "\n",
      "7012    MCI\n",
      "7013    MCI\n",
      "7014    MCI\n",
      "7015    MCI\n",
      "7016    MCI\n",
      "7017    MCI\n",
      "7018    MCI\n",
      "7019    MCI\n",
      "7020    MCI\n",
      "7021    MCI\n",
      "7022    MCI\n",
      "Name: Group, dtype: object\n",
      "MCI\n",
      "(166, 256, 256)\n"
     ]
    },
    {
     "name": "stderr",
     "output_type": "stream",
     "text": [
      "\r",
      " 21%|████████████████▉                                                               | 174/823 [01:11<04:29,  2.41it/s]"
     ]
    },
    {
     "name": "stdout",
     "output_type": "stream",
     "text": [
      "\n",
      "7001    AD\n",
      "7002    AD\n",
      "7003    AD\n",
      "7004    AD\n",
      "7005    AD\n",
      "7006    AD\n",
      "7007    AD\n",
      "7008    AD\n",
      "7009    AD\n",
      "7010    AD\n",
      "7011    AD\n",
      "Name: Group, dtype: object\n",
      "AD\n",
      "(166, 256, 256)\n"
     ]
    },
    {
     "name": "stderr",
     "output_type": "stream",
     "text": [
      "\r",
      " 21%|█████████████████                                                               | 175/823 [01:11<04:25,  2.44it/s]"
     ]
    },
    {
     "name": "stdout",
     "output_type": "stream",
     "text": [
      "\n",
      "6995    AD\n",
      "6996    AD\n",
      "6997    AD\n",
      "6998    AD\n",
      "6999    AD\n",
      "7000    AD\n",
      "Name: Group, dtype: object\n",
      "AD\n",
      "(166, 256, 256)\n"
     ]
    },
    {
     "name": "stderr",
     "output_type": "stream",
     "text": [
      "\r",
      " 21%|█████████████████                                                               | 176/823 [01:12<04:22,  2.46it/s]"
     ]
    },
    {
     "name": "stdout",
     "output_type": "stream",
     "text": [
      "\n",
      "6986    CN\n",
      "6987    CN\n",
      "6988    CN\n",
      "6989    CN\n",
      "6990    CN\n",
      "6991    CN\n",
      "6992    CN\n",
      "6993    CN\n",
      "6994    CN\n",
      "Name: Group, dtype: object\n",
      "CN\n",
      "(166, 256, 256)\n"
     ]
    },
    {
     "name": "stderr",
     "output_type": "stream",
     "text": [
      "\r",
      " 22%|█████████████████▏                                                              | 177/823 [01:12<04:29,  2.40it/s]"
     ]
    },
    {
     "name": "stdout",
     "output_type": "stream",
     "text": [
      "\n",
      "6975    AD\n",
      "6976    AD\n",
      "6977    AD\n",
      "6978    AD\n",
      "6979    AD\n",
      "6980    AD\n",
      "6981    AD\n",
      "6982    AD\n",
      "6983    AD\n",
      "6984    AD\n",
      "6985    AD\n",
      "Name: Group, dtype: object\n",
      "AD\n",
      "(166, 256, 256)\n"
     ]
    },
    {
     "name": "stderr",
     "output_type": "stream",
     "text": [
      "\r",
      " 22%|█████████████████▎                                                              | 178/823 [01:13<04:40,  2.30it/s]"
     ]
    },
    {
     "name": "stdout",
     "output_type": "stream",
     "text": [
      "\n",
      "6966    CN\n",
      "6967    CN\n",
      "6968    CN\n",
      "6969    CN\n",
      "6970    CN\n",
      "6971    CN\n",
      "6972    CN\n",
      "6973    CN\n",
      "6974    CN\n",
      "Name: Group, dtype: object\n",
      "CN\n",
      "(166, 256, 256)\n"
     ]
    },
    {
     "name": "stderr",
     "output_type": "stream",
     "text": [
      "\r",
      " 22%|█████████████████▍                                                              | 179/823 [01:13<04:39,  2.31it/s]"
     ]
    },
    {
     "name": "stdout",
     "output_type": "stream",
     "text": [
      "\n",
      "6957    CN\n",
      "6958    CN\n",
      "6959    CN\n",
      "6960    CN\n",
      "6961    CN\n",
      "6962    CN\n",
      "6963    CN\n",
      "6964    CN\n",
      "6965    CN\n",
      "Name: Group, dtype: object\n",
      "CN\n",
      "(166, 256, 256)\n"
     ]
    },
    {
     "name": "stderr",
     "output_type": "stream",
     "text": [
      "\r",
      " 22%|█████████████████▍                                                              | 180/823 [01:14<04:36,  2.33it/s]"
     ]
    },
    {
     "name": "stdout",
     "output_type": "stream",
     "text": [
      "\n",
      "6939    CN\n",
      "6940    CN\n",
      "6941    CN\n",
      "6942    CN\n",
      "6943    CN\n",
      "6944    CN\n",
      "6945    CN\n",
      "6946    CN\n",
      "6947    CN\n",
      "6948    CN\n",
      "6949    CN\n",
      "6950    CN\n",
      "6951    CN\n",
      "6952    CN\n",
      "6953    CN\n",
      "6954    CN\n",
      "6955    CN\n",
      "6956    CN\n",
      "Name: Group, dtype: object\n",
      "CN\n",
      "(166, 256, 256)\n"
     ]
    },
    {
     "name": "stderr",
     "output_type": "stream",
     "text": [
      "\r",
      " 22%|█████████████████▌                                                              | 181/823 [01:14<04:40,  2.29it/s]"
     ]
    },
    {
     "name": "stdout",
     "output_type": "stream",
     "text": [
      "\n",
      "6932    MCI\n",
      "6933    MCI\n",
      "6934    MCI\n",
      "6935    MCI\n",
      "6936    MCI\n",
      "6937    MCI\n",
      "6938    MCI\n",
      "Name: Group, dtype: object\n",
      "MCI\n",
      "(166, 256, 256)\n"
     ]
    },
    {
     "name": "stderr",
     "output_type": "stream",
     "text": [
      "\r",
      " 22%|█████████████████▋                                                              | 182/823 [01:15<04:46,  2.24it/s]"
     ]
    },
    {
     "name": "stdout",
     "output_type": "stream",
     "text": [
      "\n",
      "6925    CN\n",
      "6926    CN\n",
      "6927    CN\n",
      "6928    CN\n",
      "6929    CN\n",
      "6930    CN\n",
      "6931    CN\n",
      "Name: Group, dtype: object\n",
      "CN\n",
      "(166, 256, 256)\n"
     ]
    },
    {
     "name": "stderr",
     "output_type": "stream",
     "text": [
      "\r",
      " 22%|█████████████████▊                                                              | 183/823 [01:15<04:47,  2.23it/s]"
     ]
    },
    {
     "name": "stdout",
     "output_type": "stream",
     "text": [
      "\n",
      "6918    MCI\n",
      "6919    MCI\n",
      "6920    MCI\n",
      "6921    MCI\n",
      "6922    MCI\n",
      "6923    MCI\n",
      "6924    MCI\n",
      "Name: Group, dtype: object\n",
      "MCI\n",
      "(166, 256, 256)\n"
     ]
    },
    {
     "name": "stderr",
     "output_type": "stream",
     "text": [
      "\r",
      " 22%|█████████████████▉                                                              | 184/823 [01:15<04:38,  2.29it/s]"
     ]
    },
    {
     "name": "stdout",
     "output_type": "stream",
     "text": [
      "\n",
      "6911    MCI\n",
      "6912    MCI\n",
      "6913    MCI\n",
      "6914    MCI\n",
      "6915    MCI\n",
      "6916    MCI\n",
      "6917    MCI\n",
      "Name: Group, dtype: object\n",
      "MCI\n",
      "(166, 256, 256)\n"
     ]
    },
    {
     "name": "stderr",
     "output_type": "stream",
     "text": [
      "\r",
      " 22%|█████████████████▉                                                              | 185/823 [01:16<04:35,  2.32it/s]"
     ]
    },
    {
     "name": "stdout",
     "output_type": "stream",
     "text": [
      "\n",
      "6904    MCI\n",
      "6905    MCI\n",
      "6906    MCI\n",
      "6907    MCI\n",
      "6908    MCI\n",
      "6909    MCI\n",
      "6910    MCI\n",
      "Name: Group, dtype: object\n",
      "MCI\n",
      "(166, 256, 256)\n"
     ]
    },
    {
     "name": "stderr",
     "output_type": "stream",
     "text": [
      "\r",
      " 23%|██████████████████                                                              | 186/823 [01:16<04:33,  2.33it/s]"
     ]
    },
    {
     "name": "stdout",
     "output_type": "stream",
     "text": [
      "\n",
      "6897    MCI\n",
      "6898    MCI\n",
      "6899    MCI\n",
      "6900    MCI\n",
      "6901    MCI\n",
      "6902    MCI\n",
      "6903    MCI\n",
      "Name: Group, dtype: object\n",
      "MCI\n",
      "(166, 256, 256)\n"
     ]
    },
    {
     "name": "stderr",
     "output_type": "stream",
     "text": [
      "\r",
      " 23%|██████████████████▏                                                             | 187/823 [01:17<04:25,  2.40it/s]"
     ]
    },
    {
     "name": "stdout",
     "output_type": "stream",
     "text": [
      "\n",
      "6881    MCI\n",
      "6882    MCI\n",
      "6883    MCI\n",
      "6884    MCI\n",
      "6885    MCI\n",
      "6886    MCI\n",
      "6887    MCI\n",
      "6888    MCI\n",
      "6889    MCI\n",
      "6890    MCI\n",
      "6891    MCI\n",
      "6892    MCI\n",
      "6893    MCI\n",
      "6894    MCI\n",
      "6895    MCI\n",
      "6896    MCI\n",
      "Name: Group, dtype: object\n",
      "MCI\n",
      "(166, 256, 256)\n"
     ]
    },
    {
     "name": "stderr",
     "output_type": "stream",
     "text": [
      "\r",
      " 23%|██████████████████▎                                                             | 188/823 [01:17<04:18,  2.46it/s]"
     ]
    },
    {
     "name": "stdout",
     "output_type": "stream",
     "text": [
      "\n",
      "6874    CN\n",
      "6875    CN\n",
      "6876    CN\n",
      "6877    CN\n",
      "6878    CN\n",
      "6879    CN\n",
      "6880    CN\n",
      "Name: Group, dtype: object\n",
      "CN\n",
      "(166, 256, 256)\n"
     ]
    },
    {
     "name": "stderr",
     "output_type": "stream",
     "text": [
      "\r",
      " 23%|██████████████████▎                                                             | 189/823 [01:17<04:19,  2.44it/s]"
     ]
    },
    {
     "name": "stdout",
     "output_type": "stream",
     "text": [
      "\n",
      "6867    AD\n",
      "6868    AD\n",
      "6869    AD\n",
      "6870    AD\n",
      "6871    AD\n",
      "6872    AD\n",
      "6873    AD\n",
      "Name: Group, dtype: object\n",
      "AD\n",
      "(166, 256, 256)\n"
     ]
    },
    {
     "name": "stderr",
     "output_type": "stream",
     "text": [
      "\r",
      " 23%|██████████████████▍                                                             | 190/823 [01:18<04:12,  2.51it/s]"
     ]
    },
    {
     "name": "stdout",
     "output_type": "stream",
     "text": [
      "\n",
      "6860    MCI\n",
      "6861    MCI\n",
      "6862    MCI\n",
      "6863    MCI\n",
      "6864    MCI\n",
      "6865    MCI\n",
      "6866    MCI\n",
      "Name: Group, dtype: object\n",
      "MCI\n",
      "(166, 256, 256)\n"
     ]
    },
    {
     "name": "stderr",
     "output_type": "stream",
     "text": [
      "\r",
      " 23%|██████████████████▌                                                             | 191/823 [01:18<04:16,  2.46it/s]"
     ]
    },
    {
     "name": "stdout",
     "output_type": "stream",
     "text": [
      "\n",
      "6853    MCI\n",
      "6854    MCI\n",
      "6855    MCI\n",
      "6856    MCI\n",
      "6857    MCI\n",
      "6858    MCI\n",
      "6859    MCI\n",
      "Name: Group, dtype: object\n",
      "MCI\n",
      "(166, 256, 256)\n"
     ]
    },
    {
     "name": "stderr",
     "output_type": "stream",
     "text": [
      "\r",
      " 23%|██████████████████▋                                                             | 192/823 [01:19<04:16,  2.46it/s]"
     ]
    },
    {
     "name": "stdout",
     "output_type": "stream",
     "text": [
      "\n",
      "6846    AD\n",
      "6847    AD\n",
      "6848    AD\n",
      "6849    AD\n",
      "6850    AD\n",
      "6851    AD\n",
      "6852    AD\n",
      "Name: Group, dtype: object\n",
      "AD\n",
      "(166, 256, 256)\n"
     ]
    },
    {
     "name": "stderr",
     "output_type": "stream",
     "text": [
      "\r",
      " 23%|██████████████████▊                                                             | 193/823 [01:19<04:12,  2.49it/s]"
     ]
    },
    {
     "name": "stdout",
     "output_type": "stream",
     "text": [
      "\n",
      "6839    CN\n",
      "6840    CN\n",
      "6841    CN\n",
      "6842    CN\n",
      "6843    CN\n",
      "6844    CN\n",
      "6845    CN\n",
      "Name: Group, dtype: object\n",
      "CN\n",
      "(166, 256, 256)\n"
     ]
    },
    {
     "name": "stderr",
     "output_type": "stream",
     "text": [
      "\r",
      " 24%|██████████████████▊                                                             | 194/823 [01:20<04:37,  2.27it/s]"
     ]
    },
    {
     "name": "stdout",
     "output_type": "stream",
     "text": [
      "\n",
      "6823    AD\n",
      "6824    AD\n",
      "6825    AD\n",
      "6826    AD\n",
      "6827    AD\n",
      "6828    AD\n",
      "6829    AD\n",
      "6830    AD\n",
      "6831    AD\n",
      "6832    AD\n",
      "6833    AD\n",
      "6834    AD\n",
      "6835    AD\n",
      "6836    AD\n",
      "6837    AD\n",
      "6838    AD\n",
      "Name: Group, dtype: object\n",
      "AD\n",
      "(166, 256, 256)\n"
     ]
    },
    {
     "name": "stderr",
     "output_type": "stream",
     "text": [
      "\r",
      " 24%|██████████████████▉                                                             | 195/823 [01:20<04:47,  2.18it/s]"
     ]
    },
    {
     "name": "stdout",
     "output_type": "stream",
     "text": [
      "\n",
      "6816    CN\n",
      "6817    CN\n",
      "6818    CN\n",
      "6819    CN\n",
      "6820    CN\n",
      "6821    CN\n",
      "6822    CN\n",
      "Name: Group, dtype: object\n",
      "CN\n",
      "(166, 256, 256)\n"
     ]
    },
    {
     "name": "stderr",
     "output_type": "stream",
     "text": [
      "\r",
      " 24%|███████████████████                                                             | 196/823 [01:21<04:52,  2.15it/s]"
     ]
    },
    {
     "name": "stdout",
     "output_type": "stream",
     "text": [
      "\n",
      "6808    AD\n",
      "6809    AD\n",
      "6810    AD\n",
      "6811    AD\n",
      "6812    AD\n",
      "6813    AD\n",
      "6814    AD\n",
      "6815    AD\n",
      "Name: Group, dtype: object\n",
      "AD\n",
      "(166, 256, 256)\n"
     ]
    },
    {
     "name": "stderr",
     "output_type": "stream",
     "text": [
      "\r",
      " 24%|███████████████████▏                                                            | 197/823 [01:21<04:49,  2.16it/s]"
     ]
    },
    {
     "name": "stdout",
     "output_type": "stream",
     "text": [
      "\n",
      "6799    MCI\n",
      "6800    MCI\n",
      "6801    MCI\n",
      "6802    MCI\n",
      "6803    MCI\n",
      "6804    MCI\n",
      "6805    MCI\n",
      "6806    MCI\n",
      "6807    MCI\n",
      "Name: Group, dtype: object\n",
      "MCI\n",
      "(166, 256, 256)\n"
     ]
    },
    {
     "name": "stderr",
     "output_type": "stream",
     "text": [
      "\r",
      " 24%|███████████████████▏                                                            | 198/823 [01:21<04:50,  2.15it/s]"
     ]
    },
    {
     "name": "stdout",
     "output_type": "stream",
     "text": [
      "\n",
      "6790    AD\n",
      "6791    AD\n",
      "6792    AD\n",
      "6793    AD\n",
      "6794    AD\n",
      "6795    AD\n",
      "6796    AD\n",
      "6797    AD\n",
      "6798    AD\n",
      "Name: Group, dtype: object\n",
      "AD\n",
      "(166, 256, 256)\n"
     ]
    },
    {
     "name": "stderr",
     "output_type": "stream",
     "text": [
      "\r",
      " 24%|███████████████████▎                                                            | 199/823 [01:22<04:56,  2.11it/s]"
     ]
    },
    {
     "name": "stdout",
     "output_type": "stream",
     "text": [
      "\n",
      "6781    CN\n",
      "6782    CN\n",
      "6783    CN\n",
      "6784    CN\n",
      "6785    CN\n",
      "6786    CN\n",
      "6787    CN\n",
      "6788    CN\n",
      "6789    CN\n",
      "Name: Group, dtype: object\n",
      "CN\n",
      "(166, 256, 256)\n"
     ]
    },
    {
     "name": "stderr",
     "output_type": "stream",
     "text": [
      "\r",
      " 24%|███████████████████▍                                                            | 200/823 [01:22<05:00,  2.07it/s]"
     ]
    },
    {
     "name": "stdout",
     "output_type": "stream",
     "text": [
      "\n",
      "6772    MCI\n",
      "6773    MCI\n",
      "6774    MCI\n",
      "6775    MCI\n",
      "6776    MCI\n",
      "6777    MCI\n",
      "6778    MCI\n",
      "6779    MCI\n",
      "6780    MCI\n",
      "Name: Group, dtype: object\n",
      "MCI\n",
      "(166, 256, 256)\n"
     ]
    },
    {
     "name": "stderr",
     "output_type": "stream",
     "text": [
      "\r",
      " 24%|███████████████████▌                                                            | 201/823 [01:23<04:48,  2.16it/s]"
     ]
    },
    {
     "name": "stdout",
     "output_type": "stream",
     "text": [
      "\n",
      "6763    CN\n",
      "6764    CN\n",
      "6765    CN\n",
      "6766    CN\n",
      "6767    CN\n",
      "6768    CN\n",
      "6769    CN\n",
      "6770    CN\n",
      "6771    CN\n",
      "Name: Group, dtype: object\n",
      "CN\n",
      "(166, 256, 256)\n"
     ]
    },
    {
     "name": "stderr",
     "output_type": "stream",
     "text": [
      "\r",
      " 25%|███████████████████▋                                                            | 202/823 [01:23<04:38,  2.23it/s]"
     ]
    },
    {
     "name": "stdout",
     "output_type": "stream",
     "text": [
      "\n",
      "6754    CN\n",
      "6755    CN\n",
      "6756    CN\n",
      "6757    CN\n",
      "6758    CN\n",
      "6759    CN\n",
      "6760    CN\n",
      "6761    CN\n",
      "6762    CN\n",
      "Name: Group, dtype: object\n",
      "CN\n",
      "(166, 256, 256)\n"
     ]
    },
    {
     "name": "stderr",
     "output_type": "stream",
     "text": [
      "\r",
      " 25%|███████████████████▋                                                            | 203/823 [01:24<04:30,  2.30it/s]"
     ]
    },
    {
     "name": "stdout",
     "output_type": "stream",
     "text": [
      "\n",
      "6745    AD\n",
      "6746    AD\n",
      "6747    AD\n",
      "6748    AD\n",
      "6749    AD\n",
      "6750    AD\n",
      "6751    AD\n",
      "6752    AD\n",
      "6753    AD\n",
      "Name: Group, dtype: object\n",
      "AD\n",
      "(166, 256, 256)\n"
     ]
    },
    {
     "name": "stderr",
     "output_type": "stream",
     "text": [
      "\r",
      " 25%|███████████████████▊                                                            | 204/823 [01:24<04:24,  2.34it/s]"
     ]
    },
    {
     "name": "stdout",
     "output_type": "stream",
     "text": [
      "\n",
      "6736    CN\n",
      "6737    CN\n",
      "6738    CN\n",
      "6739    CN\n",
      "6740    CN\n",
      "6741    CN\n",
      "6742    CN\n",
      "6743    CN\n",
      "6744    CN\n",
      "Name: Group, dtype: object\n",
      "CN\n",
      "(166, 256, 256)\n"
     ]
    },
    {
     "name": "stderr",
     "output_type": "stream",
     "text": [
      "\r",
      " 25%|███████████████████▉                                                            | 205/823 [01:24<04:19,  2.38it/s]"
     ]
    },
    {
     "name": "stdout",
     "output_type": "stream",
     "text": [
      "\n",
      "6727    AD\n",
      "6728    AD\n",
      "6729    AD\n",
      "6730    AD\n",
      "6731    AD\n",
      "6732    AD\n",
      "6733    AD\n",
      "6734    AD\n",
      "6735    AD\n",
      "Name: Group, dtype: object\n",
      "AD\n",
      "(166, 256, 256)\n"
     ]
    },
    {
     "name": "stderr",
     "output_type": "stream",
     "text": [
      "\r",
      " 25%|████████████████████                                                            | 206/823 [01:25<04:22,  2.35it/s]"
     ]
    },
    {
     "name": "stdout",
     "output_type": "stream",
     "text": [
      "\n",
      "6718    AD\n",
      "6719    AD\n",
      "6720    AD\n",
      "6721    AD\n",
      "6722    AD\n",
      "6723    AD\n",
      "6724    AD\n",
      "6725    AD\n",
      "6726    AD\n",
      "Name: Group, dtype: object\n",
      "AD\n",
      "(166, 256, 256)\n"
     ]
    },
    {
     "name": "stderr",
     "output_type": "stream",
     "text": [
      "\r",
      " 25%|████████████████████                                                            | 207/823 [01:25<04:32,  2.26it/s]"
     ]
    },
    {
     "name": "stdout",
     "output_type": "stream",
     "text": [
      "\n",
      "6709    MCI\n",
      "6710    MCI\n",
      "6711    MCI\n",
      "6712    MCI\n",
      "6713    MCI\n",
      "6714    MCI\n",
      "6715    MCI\n",
      "6716    MCI\n",
      "6717    MCI\n",
      "Name: Group, dtype: object\n",
      "MCI\n",
      "(166, 256, 256)\n"
     ]
    },
    {
     "name": "stderr",
     "output_type": "stream",
     "text": [
      "\r",
      " 25%|████████████████████▏                                                           | 208/823 [01:26<04:37,  2.22it/s]"
     ]
    },
    {
     "name": "stdout",
     "output_type": "stream",
     "text": [
      "\n",
      "6700    MCI\n",
      "6701    MCI\n",
      "6702    MCI\n",
      "6703    MCI\n",
      "6704    MCI\n",
      "6705    MCI\n",
      "6706    MCI\n",
      "6707    MCI\n",
      "6708    MCI\n",
      "Name: Group, dtype: object\n",
      "MCI\n",
      "(166, 256, 256)\n"
     ]
    },
    {
     "name": "stderr",
     "output_type": "stream",
     "text": [
      "\r",
      " 25%|████████████████████▎                                                           | 209/823 [01:26<04:37,  2.22it/s]"
     ]
    },
    {
     "name": "stdout",
     "output_type": "stream",
     "text": [
      "\n",
      "6691    MCI\n",
      "6692    MCI\n",
      "6693    MCI\n",
      "6694    MCI\n",
      "6695    MCI\n",
      "6696    MCI\n",
      "6697    MCI\n",
      "6698    MCI\n",
      "6699    MCI\n",
      "Name: Group, dtype: object\n",
      "MCI\n",
      "(166, 256, 256)\n"
     ]
    },
    {
     "name": "stderr",
     "output_type": "stream",
     "text": [
      "\r",
      " 26%|████████████████████▍                                                           | 210/823 [01:27<04:31,  2.26it/s]"
     ]
    },
    {
     "name": "stdout",
     "output_type": "stream",
     "text": [
      "\n",
      "6682    MCI\n",
      "6683    MCI\n",
      "6684    MCI\n",
      "6685    MCI\n",
      "6686    MCI\n",
      "6687    MCI\n",
      "6688    MCI\n",
      "6689    MCI\n",
      "6690    MCI\n",
      "Name: Group, dtype: object\n",
      "MCI\n",
      "(166, 256, 256)\n"
     ]
    },
    {
     "name": "stderr",
     "output_type": "stream",
     "text": [
      "\r",
      " 26%|████████████████████▌                                                           | 211/823 [01:27<04:38,  2.20it/s]"
     ]
    },
    {
     "name": "stdout",
     "output_type": "stream",
     "text": [
      "\n",
      "6673    MCI\n",
      "6674    MCI\n",
      "6675    MCI\n",
      "6676    MCI\n",
      "6677    MCI\n",
      "6678    MCI\n",
      "6679    MCI\n",
      "6680    MCI\n",
      "6681    MCI\n",
      "Name: Group, dtype: object\n",
      "MCI\n",
      "(166, 256, 256)\n"
     ]
    },
    {
     "name": "stderr",
     "output_type": "stream",
     "text": [
      "\r",
      " 26%|████████████████████▌                                                           | 212/823 [01:28<04:46,  2.13it/s]"
     ]
    },
    {
     "name": "stdout",
     "output_type": "stream",
     "text": [
      "\n",
      "6664    MCI\n",
      "6665    MCI\n",
      "6666    MCI\n",
      "6667    MCI\n",
      "6668    MCI\n",
      "6669    MCI\n",
      "6670    MCI\n",
      "6671    MCI\n",
      "6672    MCI\n",
      "Name: Group, dtype: object\n",
      "MCI\n",
      "(166, 256, 256)\n"
     ]
    },
    {
     "name": "stderr",
     "output_type": "stream",
     "text": [
      "\r",
      " 26%|████████████████████▋                                                           | 213/823 [01:28<04:48,  2.11it/s]"
     ]
    },
    {
     "name": "stdout",
     "output_type": "stream",
     "text": [
      "\n",
      "6651    MCI\n",
      "6652    MCI\n",
      "6653    MCI\n",
      "6654    MCI\n",
      "6655    MCI\n",
      "6656    MCI\n",
      "6657    MCI\n",
      "6658    MCI\n",
      "6659    MCI\n",
      "6660    MCI\n",
      "6661    MCI\n",
      "6662    MCI\n",
      "6663    MCI\n",
      "Name: Group, dtype: object\n",
      "MCI\n",
      "(166, 256, 256)\n"
     ]
    },
    {
     "name": "stderr",
     "output_type": "stream",
     "text": [
      "\r",
      " 26%|████████████████████▊                                                           | 214/823 [01:29<05:01,  2.02it/s]"
     ]
    },
    {
     "name": "stdout",
     "output_type": "stream",
     "text": [
      "\n",
      "6642    MCI\n",
      "6643    MCI\n",
      "6644    MCI\n",
      "6645    MCI\n",
      "6646    MCI\n",
      "6647    MCI\n",
      "6648    MCI\n",
      "6649    MCI\n",
      "6650    MCI\n",
      "Name: Group, dtype: object\n",
      "MCI\n",
      "(166, 256, 256)\n"
     ]
    },
    {
     "name": "stderr",
     "output_type": "stream",
     "text": [
      "\r",
      " 26%|████████████████████▉                                                           | 215/823 [01:29<04:47,  2.11it/s]"
     ]
    },
    {
     "name": "stdout",
     "output_type": "stream",
     "text": [
      "\n",
      "6624    MCI\n",
      "6625    MCI\n",
      "6626    MCI\n",
      "6627    MCI\n",
      "6628    MCI\n",
      "6629    MCI\n",
      "6630    MCI\n",
      "6631    MCI\n",
      "6632    MCI\n",
      "6633    MCI\n",
      "6634    MCI\n",
      "6635    MCI\n",
      "6636    MCI\n",
      "6637    MCI\n",
      "6638    MCI\n",
      "6639    MCI\n",
      "6640    MCI\n",
      "6641    MCI\n",
      "Name: Group, dtype: object\n",
      "MCI\n",
      "(166, 256, 256)\n"
     ]
    },
    {
     "name": "stderr",
     "output_type": "stream",
     "text": [
      "\r",
      " 26%|████████████████████▉                                                           | 216/823 [01:30<04:37,  2.19it/s]"
     ]
    },
    {
     "name": "stdout",
     "output_type": "stream",
     "text": [
      "\n",
      "6605    CN\n",
      "6606    CN\n",
      "6607    CN\n",
      "6608    CN\n",
      "6609    CN\n",
      "6610    CN\n",
      "6611    CN\n",
      "6612    CN\n",
      "6613    CN\n",
      "6614    CN\n",
      "6615    CN\n",
      "6616    CN\n",
      "6617    CN\n",
      "6618    CN\n",
      "6619    CN\n",
      "6620    CN\n",
      "6621    CN\n",
      "6622    CN\n",
      "6623    CN\n",
      "Name: Group, dtype: object\n",
      "CN\n",
      "(166, 256, 256)\n"
     ]
    },
    {
     "name": "stderr",
     "output_type": "stream",
     "text": [
      "\r",
      " 26%|█████████████████████                                                           | 217/823 [01:30<04:33,  2.22it/s]"
     ]
    },
    {
     "name": "stdout",
     "output_type": "stream",
     "text": [
      "\n",
      "6595    MCI\n",
      "6596    MCI\n",
      "6597    MCI\n",
      "6598    MCI\n",
      "6599    MCI\n",
      "6600    MCI\n",
      "6601    MCI\n",
      "6602    MCI\n",
      "6603    MCI\n",
      "6604    MCI\n",
      "Name: Group, dtype: object\n",
      "MCI\n",
      "(166, 256, 256)\n"
     ]
    },
    {
     "name": "stderr",
     "output_type": "stream",
     "text": [
      "\r",
      " 26%|█████████████████████▏                                                          | 218/823 [01:30<04:21,  2.31it/s]"
     ]
    },
    {
     "name": "stdout",
     "output_type": "stream",
     "text": [
      "\n",
      "6575    CN\n",
      "6576    CN\n",
      "6577    CN\n",
      "6578    CN\n",
      "6579    CN\n",
      "6580    CN\n",
      "6581    CN\n",
      "6582    CN\n",
      "6583    CN\n",
      "6584    CN\n",
      "6585    CN\n",
      "6586    CN\n",
      "6587    CN\n",
      "6588    CN\n",
      "6589    CN\n",
      "6590    CN\n",
      "6591    CN\n",
      "6592    CN\n",
      "6593    CN\n",
      "6594    CN\n",
      "Name: Group, dtype: object\n",
      "CN\n",
      "(166, 256, 256)\n"
     ]
    },
    {
     "name": "stderr",
     "output_type": "stream",
     "text": [
      "\r",
      " 27%|█████████████████████▎                                                          | 219/823 [01:31<04:14,  2.37it/s]"
     ]
    },
    {
     "name": "stdout",
     "output_type": "stream",
     "text": [
      "\n",
      "6555    CN\n",
      "6556    CN\n",
      "6557    CN\n",
      "6558    CN\n",
      "6559    CN\n",
      "6560    CN\n",
      "6561    CN\n",
      "6562    CN\n",
      "6563    CN\n",
      "6564    CN\n",
      "6565    CN\n",
      "6566    CN\n",
      "6567    CN\n",
      "6568    CN\n",
      "6569    CN\n",
      "6570    CN\n",
      "6571    CN\n",
      "6572    CN\n",
      "6573    CN\n",
      "6574    CN\n",
      "Name: Group, dtype: object\n",
      "CN\n",
      "(166, 256, 256)\n"
     ]
    },
    {
     "name": "stderr",
     "output_type": "stream",
     "text": [
      "\r",
      " 27%|█████████████████████▍                                                          | 220/823 [01:31<04:11,  2.40it/s]"
     ]
    },
    {
     "name": "stdout",
     "output_type": "stream",
     "text": [
      "\n",
      "6528    CN\n",
      "6529    CN\n",
      "6530    CN\n",
      "6531    CN\n",
      "6532    CN\n",
      "6533    CN\n",
      "6534    CN\n",
      "6535    CN\n",
      "6536    CN\n",
      "6537    CN\n",
      "Name: Group, dtype: object\n",
      "CN\n",
      "(166, 256, 256)\n"
     ]
    },
    {
     "name": "stderr",
     "output_type": "stream",
     "text": [
      "\r",
      " 27%|█████████████████████▍                                                          | 221/823 [01:32<04:08,  2.42it/s]"
     ]
    },
    {
     "name": "stdout",
     "output_type": "stream",
     "text": [
      "\n",
      "6518    AD\n",
      "6519    AD\n",
      "6520    AD\n",
      "6521    AD\n",
      "6522    AD\n",
      "6523    AD\n",
      "6524    AD\n",
      "6525    AD\n",
      "6526    AD\n",
      "6527    AD\n",
      "Name: Group, dtype: object\n",
      "AD\n",
      "(166, 256, 256)\n"
     ]
    },
    {
     "name": "stderr",
     "output_type": "stream",
     "text": [
      "\r",
      " 27%|█████████████████████▌                                                          | 222/823 [01:32<04:12,  2.38it/s]"
     ]
    },
    {
     "name": "stdout",
     "output_type": "stream",
     "text": [
      "\n",
      "6508    AD\n",
      "6509    AD\n",
      "6510    AD\n",
      "6511    AD\n",
      "6512    AD\n",
      "6513    AD\n",
      "6514    AD\n",
      "6515    AD\n",
      "6516    AD\n",
      "6517    AD\n",
      "Name: Group, dtype: object\n",
      "AD\n",
      "(166, 256, 256)\n"
     ]
    },
    {
     "name": "stderr",
     "output_type": "stream",
     "text": [
      "\r",
      " 27%|█████████████████████▋                                                          | 223/823 [01:33<04:17,  2.33it/s]"
     ]
    },
    {
     "name": "stdout",
     "output_type": "stream",
     "text": [
      "\n",
      "6498    AD\n",
      "6499    AD\n",
      "6500    AD\n",
      "6501    AD\n",
      "6502    AD\n",
      "6503    AD\n",
      "6504    AD\n",
      "6505    AD\n",
      "6506    AD\n",
      "6507    AD\n",
      "Name: Group, dtype: object\n",
      "AD\n",
      "(166, 256, 256)\n"
     ]
    },
    {
     "name": "stderr",
     "output_type": "stream",
     "text": [
      "\r",
      " 27%|█████████████████████▊                                                          | 224/823 [01:33<04:24,  2.26it/s]"
     ]
    },
    {
     "name": "stdout",
     "output_type": "stream",
     "text": [
      "\n",
      "6488    MCI\n",
      "6489    MCI\n",
      "6490    MCI\n",
      "6491    MCI\n",
      "6492    MCI\n",
      "6493    MCI\n",
      "6494    MCI\n",
      "6495    MCI\n",
      "6496    MCI\n",
      "6497    MCI\n",
      "Name: Group, dtype: object\n",
      "MCI\n",
      "(166, 256, 256)\n"
     ]
    },
    {
     "name": "stderr",
     "output_type": "stream",
     "text": [
      "\r",
      " 27%|█████████████████████▊                                                          | 225/823 [01:34<04:40,  2.13it/s]"
     ]
    },
    {
     "name": "stdout",
     "output_type": "stream",
     "text": [
      "\n",
      "6468    AD\n",
      "6469    AD\n",
      "6470    AD\n",
      "6471    AD\n",
      "6472    AD\n",
      "6473    AD\n",
      "6474    AD\n",
      "6475    AD\n",
      "6476    AD\n",
      "6477    AD\n",
      "6478    AD\n",
      "6479    AD\n",
      "6480    AD\n",
      "6481    AD\n",
      "6482    AD\n",
      "6483    AD\n",
      "6484    AD\n",
      "6485    AD\n",
      "6486    AD\n",
      "6487    AD\n",
      "Name: Group, dtype: object\n",
      "AD\n",
      "(166, 256, 256)\n"
     ]
    },
    {
     "name": "stderr",
     "output_type": "stream",
     "text": [
      "\r",
      " 27%|█████████████████████▉                                                          | 226/823 [01:34<04:40,  2.13it/s]"
     ]
    },
    {
     "name": "stdout",
     "output_type": "stream",
     "text": [
      "\n",
      "6458    MCI\n",
      "6459    MCI\n",
      "6460    MCI\n",
      "6461    MCI\n",
      "6462    MCI\n",
      "6463    MCI\n",
      "6464    MCI\n",
      "6465    MCI\n",
      "6466    MCI\n",
      "6467    MCI\n",
      "Name: Group, dtype: object\n",
      "MCI\n",
      "(166, 256, 256)\n"
     ]
    },
    {
     "name": "stderr",
     "output_type": "stream",
     "text": [
      "\r",
      " 28%|██████████████████████                                                          | 227/823 [01:34<04:33,  2.18it/s]"
     ]
    },
    {
     "name": "stdout",
     "output_type": "stream",
     "text": [
      "\n",
      "6438    MCI\n",
      "6439    MCI\n",
      "6440    MCI\n",
      "6441    MCI\n",
      "6442    MCI\n",
      "6443    MCI\n",
      "6444    MCI\n",
      "6445    MCI\n",
      "6446    MCI\n",
      "6447    MCI\n",
      "6448    MCI\n",
      "6449    MCI\n",
      "6450    MCI\n",
      "6451    MCI\n",
      "6452    MCI\n",
      "6453    MCI\n",
      "6454    MCI\n",
      "6455    MCI\n",
      "6456    MCI\n",
      "6457    MCI\n",
      "Name: Group, dtype: object\n",
      "MCI\n",
      "(166, 256, 256)\n"
     ]
    },
    {
     "name": "stderr",
     "output_type": "stream",
     "text": [
      "\r",
      " 28%|██████████████████████▏                                                         | 228/823 [01:35<04:37,  2.15it/s]"
     ]
    },
    {
     "name": "stdout",
     "output_type": "stream",
     "text": [
      "\n",
      "6421    MCI\n",
      "6422    MCI\n",
      "6423    MCI\n",
      "6424    MCI\n",
      "6425    MCI\n",
      "6426    MCI\n",
      "6427    MCI\n",
      "6428    MCI\n",
      "6429    MCI\n",
      "6430    MCI\n",
      "6431    MCI\n",
      "6432    MCI\n",
      "6433    MCI\n",
      "6434    MCI\n",
      "6435    MCI\n",
      "6436    MCI\n",
      "6437    MCI\n",
      "Name: Group, dtype: object\n",
      "MCI\n",
      "(166, 256, 256)\n"
     ]
    },
    {
     "name": "stderr",
     "output_type": "stream",
     "text": [
      "\r",
      " 28%|██████████████████████▎                                                         | 229/823 [01:35<04:40,  2.12it/s]"
     ]
    },
    {
     "name": "stdout",
     "output_type": "stream",
     "text": [
      "\n",
      "6381    MCI\n",
      "6382    MCI\n",
      "6383    MCI\n",
      "6384    MCI\n",
      "6385    MCI\n",
      "6386    MCI\n",
      "6387    MCI\n",
      "6388    MCI\n",
      "6389    MCI\n",
      "6390    MCI\n",
      "6391    MCI\n",
      "6392    MCI\n",
      "6393    MCI\n",
      "6394    MCI\n",
      "6395    MCI\n",
      "6396    MCI\n",
      "6397    MCI\n",
      "6398    MCI\n",
      "6399    MCI\n",
      "6400    MCI\n",
      "Name: Group, dtype: object\n",
      "MCI\n",
      "(166, 256, 256)\n"
     ]
    },
    {
     "name": "stderr",
     "output_type": "stream",
     "text": [
      "\r",
      " 28%|██████████████████████▎                                                         | 230/823 [01:36<04:51,  2.03it/s]"
     ]
    },
    {
     "name": "stdout",
     "output_type": "stream",
     "text": [
      "\n",
      "6361    MCI\n",
      "6362    MCI\n",
      "6363    MCI\n",
      "6364    MCI\n",
      "6365    MCI\n",
      "6366    MCI\n",
      "6367    MCI\n",
      "6368    MCI\n",
      "6369    MCI\n",
      "6370    MCI\n",
      "6371    MCI\n",
      "6372    MCI\n",
      "6373    MCI\n",
      "6374    MCI\n",
      "6375    MCI\n",
      "6376    MCI\n",
      "6377    MCI\n",
      "6378    MCI\n",
      "6379    MCI\n",
      "6380    MCI\n",
      "Name: Group, dtype: object\n",
      "MCI\n",
      "(166, 256, 256)\n"
     ]
    },
    {
     "name": "stderr",
     "output_type": "stream",
     "text": [
      "\r",
      " 28%|██████████████████████▍                                                         | 231/823 [01:36<04:35,  2.15it/s]"
     ]
    },
    {
     "name": "stdout",
     "output_type": "stream",
     "text": [
      "\n",
      "6341    MCI\n",
      "6342    MCI\n",
      "6343    MCI\n",
      "6344    MCI\n",
      "6345    MCI\n",
      "6346    MCI\n",
      "6347    MCI\n",
      "6348    MCI\n",
      "6349    MCI\n",
      "6350    MCI\n",
      "6351    MCI\n",
      "6352    MCI\n",
      "6353    MCI\n",
      "6354    MCI\n",
      "6355    MCI\n",
      "6356    MCI\n",
      "6357    MCI\n",
      "6358    MCI\n",
      "6359    MCI\n",
      "6360    MCI\n",
      "Name: Group, dtype: object\n",
      "MCI\n",
      "(166, 256, 256)\n"
     ]
    },
    {
     "name": "stderr",
     "output_type": "stream",
     "text": [
      "\r",
      " 28%|██████████████████████▌                                                         | 232/823 [01:37<04:26,  2.22it/s]"
     ]
    },
    {
     "name": "stdout",
     "output_type": "stream",
     "text": [
      "\n",
      "6322    MCI\n",
      "6323    MCI\n",
      "6324    MCI\n",
      "6325    MCI\n",
      "6326    MCI\n",
      "6327    MCI\n",
      "6328    MCI\n",
      "6329    MCI\n",
      "6330    MCI\n",
      "6331    MCI\n",
      "6332    MCI\n",
      "6333    MCI\n",
      "6334    MCI\n",
      "6335    MCI\n",
      "6336    MCI\n",
      "6337    MCI\n",
      "6338    MCI\n",
      "6339    MCI\n",
      "6340    MCI\n",
      "Name: Group, dtype: object\n",
      "MCI\n",
      "(166, 256, 256)\n"
     ]
    },
    {
     "name": "stderr",
     "output_type": "stream",
     "text": [
      "\r",
      " 28%|██████████████████████▋                                                         | 233/823 [01:37<04:17,  2.29it/s]"
     ]
    },
    {
     "name": "stdout",
     "output_type": "stream",
     "text": [
      "\n",
      "6314    MCI\n",
      "6315    MCI\n",
      "6316    MCI\n",
      "6317    MCI\n",
      "6318    MCI\n",
      "6319    MCI\n",
      "6320    MCI\n",
      "6321    MCI\n",
      "Name: Group, dtype: object\n",
      "MCI\n",
      "(166, 256, 256)\n"
     ]
    },
    {
     "name": "stderr",
     "output_type": "stream",
     "text": [
      "\r",
      " 28%|██████████████████████▋                                                         | 234/823 [01:38<04:11,  2.34it/s]"
     ]
    },
    {
     "name": "stdout",
     "output_type": "stream",
     "text": [
      "\n",
      "6298    AD\n",
      "6299    AD\n",
      "6300    AD\n",
      "6301    AD\n",
      "6302    AD\n",
      "6303    AD\n",
      "6304    AD\n",
      "6305    AD\n",
      "6306    AD\n",
      "6307    AD\n",
      "6308    AD\n",
      "6309    AD\n",
      "6310    AD\n",
      "6311    AD\n",
      "6312    AD\n",
      "6313    AD\n",
      "Name: Group, dtype: object\n",
      "AD\n",
      "(166, 256, 256)\n"
     ]
    },
    {
     "name": "stderr",
     "output_type": "stream",
     "text": [
      "\r",
      " 29%|██████████████████████▊                                                         | 235/823 [01:38<04:06,  2.39it/s]"
     ]
    },
    {
     "name": "stdout",
     "output_type": "stream",
     "text": [
      "\n",
      "6281    CN\n",
      "6282    CN\n",
      "6283    CN\n",
      "6284    CN\n",
      "6285    CN\n",
      "6286    CN\n",
      "6287    CN\n",
      "6288    CN\n",
      "6289    CN\n",
      "6290    CN\n",
      "6291    CN\n",
      "6292    CN\n",
      "6293    CN\n",
      "6294    CN\n",
      "6295    CN\n",
      "6296    CN\n",
      "6297    CN\n",
      "Name: Group, dtype: object\n",
      "CN\n",
      "(166, 256, 256)\n"
     ]
    },
    {
     "name": "stderr",
     "output_type": "stream",
     "text": [
      "\r",
      " 29%|██████████████████████▉                                                         | 236/823 [01:38<04:07,  2.37it/s]"
     ]
    },
    {
     "name": "stdout",
     "output_type": "stream",
     "text": [
      "\n",
      "6261    CN\n",
      "6262    CN\n",
      "6263    CN\n",
      "6264    CN\n",
      "6265    CN\n",
      "6266    CN\n",
      "6267    CN\n",
      "6268    CN\n",
      "6269    CN\n",
      "6270    CN\n",
      "6271    CN\n",
      "6272    CN\n",
      "6273    CN\n",
      "6274    CN\n",
      "6275    CN\n",
      "6276    CN\n",
      "6277    CN\n",
      "6278    CN\n",
      "6279    CN\n",
      "6280    CN\n",
      "Name: Group, dtype: object\n",
      "CN\n",
      "(166, 256, 256)\n"
     ]
    },
    {
     "name": "stderr",
     "output_type": "stream",
     "text": [
      "\r",
      " 29%|███████████████████████                                                         | 237/823 [01:39<04:09,  2.35it/s]"
     ]
    },
    {
     "name": "stdout",
     "output_type": "stream",
     "text": [
      "\n",
      "6237    MCI\n",
      "6238    MCI\n",
      "6239    MCI\n",
      "6240    MCI\n",
      "6241    MCI\n",
      "6242    MCI\n",
      "6243    MCI\n",
      "6244    MCI\n",
      "6245    MCI\n",
      "6246    MCI\n",
      "6247    MCI\n",
      "6248    MCI\n",
      "6249    MCI\n",
      "6250    MCI\n",
      "6251    MCI\n",
      "6252    MCI\n",
      "6253    MCI\n",
      "6254    MCI\n",
      "6255    MCI\n",
      "6256    MCI\n",
      "6257    MCI\n",
      "6258    MCI\n",
      "6259    MCI\n",
      "6260    MCI\n",
      "Name: Group, dtype: object\n",
      "MCI\n",
      "(166, 256, 256)\n"
     ]
    },
    {
     "name": "stderr",
     "output_type": "stream",
     "text": [
      "\r",
      " 29%|███████████████████████▏                                                        | 238/823 [01:39<04:19,  2.26it/s]"
     ]
    },
    {
     "name": "stdout",
     "output_type": "stream",
     "text": [
      "\n",
      "6217    MCI\n",
      "6218    MCI\n",
      "6219    MCI\n",
      "6220    MCI\n",
      "6221    MCI\n",
      "6222    MCI\n",
      "6223    MCI\n",
      "6224    MCI\n",
      "6225    MCI\n",
      "6226    MCI\n",
      "6227    MCI\n",
      "6228    MCI\n",
      "6229    MCI\n",
      "6230    MCI\n",
      "6231    MCI\n",
      "6232    MCI\n",
      "6233    MCI\n",
      "6234    MCI\n",
      "6235    MCI\n",
      "6236    MCI\n",
      "Name: Group, dtype: object\n",
      "MCI\n",
      "(166, 256, 256)\n"
     ]
    },
    {
     "name": "stderr",
     "output_type": "stream",
     "text": [
      "\r",
      " 29%|███████████████████████▏                                                        | 239/823 [01:40<04:16,  2.27it/s]"
     ]
    },
    {
     "name": "stdout",
     "output_type": "stream",
     "text": [
      "\n",
      "6198    MCI\n",
      "6199    MCI\n",
      "6200    MCI\n",
      "6201    MCI\n",
      "6202    MCI\n",
      "6203    MCI\n",
      "6204    MCI\n",
      "6205    MCI\n",
      "6206    MCI\n",
      "6207    MCI\n",
      "6208    MCI\n",
      "6209    MCI\n",
      "6210    MCI\n",
      "6211    MCI\n",
      "6212    MCI\n",
      "6213    MCI\n",
      "6214    MCI\n",
      "6215    MCI\n",
      "6216    MCI\n",
      "Name: Group, dtype: object\n",
      "MCI\n",
      "(166, 256, 256)\n"
     ]
    },
    {
     "name": "stderr",
     "output_type": "stream",
     "text": [
      "\r",
      " 29%|███████████████████████▎                                                        | 240/823 [01:40<04:30,  2.16it/s]"
     ]
    },
    {
     "name": "stdout",
     "output_type": "stream",
     "text": [
      "\n",
      "6178    CN\n",
      "6179    CN\n",
      "6180    CN\n",
      "6181    CN\n",
      "6182    CN\n",
      "6183    CN\n",
      "6184    CN\n",
      "6185    CN\n",
      "6186    CN\n",
      "6187    CN\n",
      "6188    CN\n",
      "6189    CN\n",
      "6190    CN\n",
      "6191    CN\n",
      "6192    CN\n",
      "6193    CN\n",
      "6194    CN\n",
      "6195    CN\n",
      "6196    CN\n",
      "6197    CN\n",
      "Name: Group, dtype: object\n",
      "CN\n",
      "(166, 256, 256)\n"
     ]
    },
    {
     "name": "stderr",
     "output_type": "stream",
     "text": [
      "\r",
      " 29%|███████████████████████▍                                                        | 241/823 [01:41<04:26,  2.19it/s]"
     ]
    },
    {
     "name": "stdout",
     "output_type": "stream",
     "text": [
      "\n",
      "6158    MCI\n",
      "6159    MCI\n",
      "6160    MCI\n",
      "6161    MCI\n",
      "6162    MCI\n",
      "6163    MCI\n",
      "6164    MCI\n",
      "6165    MCI\n",
      "6166    MCI\n",
      "6167    MCI\n",
      "6168    MCI\n",
      "6169    MCI\n",
      "6170    MCI\n",
      "6171    MCI\n",
      "6172    MCI\n",
      "6173    MCI\n",
      "6174    MCI\n",
      "6175    MCI\n",
      "6176    MCI\n",
      "6177    MCI\n",
      "Name: Group, dtype: object\n",
      "MCI\n",
      "(166, 256, 256)\n"
     ]
    },
    {
     "name": "stderr",
     "output_type": "stream",
     "text": [
      "\r",
      " 29%|███████████████████████▌                                                        | 242/823 [01:41<04:28,  2.16it/s]"
     ]
    },
    {
     "name": "stdout",
     "output_type": "stream",
     "text": [
      "\n",
      "6137    AD\n",
      "6138    AD\n",
      "6139    AD\n",
      "6140    AD\n",
      "6141    AD\n",
      "6142    AD\n",
      "6143    AD\n",
      "6144    AD\n",
      "6145    AD\n",
      "6146    AD\n",
      "6147    AD\n",
      "6148    AD\n",
      "6149    AD\n",
      "6150    AD\n",
      "6151    AD\n",
      "6152    AD\n",
      "6153    AD\n",
      "6154    AD\n",
      "6155    AD\n",
      "6156    AD\n",
      "6157    AD\n",
      "Name: Group, dtype: object\n",
      "AD\n",
      "(166, 256, 256)\n"
     ]
    },
    {
     "name": "stderr",
     "output_type": "stream",
     "text": [
      "\r",
      " 30%|███████████████████████▌                                                        | 243/823 [01:42<04:23,  2.20it/s]"
     ]
    },
    {
     "name": "stdout",
     "output_type": "stream",
     "text": [
      "\n",
      "6121    AD\n",
      "6122    AD\n",
      "6123    AD\n",
      "6124    AD\n",
      "6125    AD\n",
      "6126    AD\n",
      "6127    AD\n",
      "6128    AD\n",
      "6129    AD\n",
      "6130    AD\n",
      "6131    AD\n",
      "6132    AD\n",
      "6133    AD\n",
      "6134    AD\n",
      "6135    AD\n",
      "6136    AD\n",
      "Name: Group, dtype: object\n",
      "AD\n",
      "(166, 256, 256)\n"
     ]
    },
    {
     "name": "stderr",
     "output_type": "stream",
     "text": [
      "\r",
      " 30%|███████████████████████▋                                                        | 244/823 [01:42<04:38,  2.08it/s]"
     ]
    },
    {
     "name": "stdout",
     "output_type": "stream",
     "text": [
      "\n",
      "6111    CN\n",
      "6112    CN\n",
      "6113    CN\n",
      "6114    CN\n",
      "6115    CN\n",
      "6116    CN\n",
      "6117    CN\n",
      "6118    CN\n",
      "6119    CN\n",
      "6120    CN\n",
      "Name: Group, dtype: object\n",
      "CN\n",
      "(166, 256, 256)\n"
     ]
    },
    {
     "name": "stderr",
     "output_type": "stream",
     "text": [
      "\r",
      " 30%|███████████████████████▊                                                        | 245/823 [01:43<04:40,  2.06it/s]"
     ]
    },
    {
     "name": "stdout",
     "output_type": "stream",
     "text": [
      "\n",
      "6102    CN\n",
      "6103    CN\n",
      "6104    CN\n",
      "6105    CN\n",
      "6106    CN\n",
      "6107    CN\n",
      "6108    CN\n",
      "6109    CN\n",
      "6110    CN\n",
      "Name: Group, dtype: object\n",
      "CN\n",
      "(166, 256, 256)\n"
     ]
    },
    {
     "name": "stderr",
     "output_type": "stream",
     "text": [
      "\r",
      " 30%|███████████████████████▉                                                        | 246/823 [01:43<04:25,  2.17it/s]"
     ]
    },
    {
     "name": "stdout",
     "output_type": "stream",
     "text": [
      "\n",
      "6093    CN\n",
      "6094    CN\n",
      "6095    CN\n",
      "6096    CN\n",
      "6097    CN\n",
      "6098    CN\n",
      "6099    CN\n",
      "6100    CN\n",
      "6101    CN\n",
      "Name: Group, dtype: object\n",
      "CN\n",
      "(166, 256, 256)\n"
     ]
    },
    {
     "name": "stderr",
     "output_type": "stream",
     "text": [
      "\r",
      " 30%|████████████████████████                                                        | 247/823 [01:43<04:12,  2.28it/s]"
     ]
    },
    {
     "name": "stdout",
     "output_type": "stream",
     "text": [
      "\n",
      "6084    AD\n",
      "6085    AD\n",
      "6086    AD\n",
      "6087    AD\n",
      "6088    AD\n",
      "6089    AD\n",
      "6090    AD\n",
      "6091    AD\n",
      "6092    AD\n",
      "Name: Group, dtype: object\n",
      "AD\n",
      "(166, 256, 256)\n"
     ]
    },
    {
     "name": "stderr",
     "output_type": "stream",
     "text": [
      "\r",
      " 30%|████████████████████████                                                        | 248/823 [01:44<04:04,  2.35it/s]"
     ]
    },
    {
     "name": "stdout",
     "output_type": "stream",
     "text": [
      "\n",
      "6075    AD\n",
      "6076    AD\n",
      "6077    AD\n",
      "6078    AD\n",
      "6079    AD\n",
      "6080    AD\n",
      "6081    AD\n",
      "6082    AD\n",
      "6083    AD\n",
      "Name: Group, dtype: object\n",
      "AD\n",
      "(166, 256, 256)\n"
     ]
    },
    {
     "name": "stderr",
     "output_type": "stream",
     "text": [
      "\r",
      " 30%|████████████████████████▏                                                       | 249/823 [01:44<03:58,  2.40it/s]"
     ]
    },
    {
     "name": "stdout",
     "output_type": "stream",
     "text": [
      "\n",
      "6066    MCI\n",
      "6067    MCI\n",
      "6068    MCI\n",
      "6069    MCI\n",
      "6070    MCI\n",
      "6071    MCI\n",
      "6072    MCI\n",
      "6073    MCI\n",
      "6074    MCI\n",
      "Name: Group, dtype: object\n",
      "MCI\n",
      "(166, 256, 256)\n"
     ]
    },
    {
     "name": "stderr",
     "output_type": "stream",
     "text": [
      "\r",
      " 30%|████████████████████████▎                                                       | 250/823 [01:45<03:57,  2.41it/s]"
     ]
    },
    {
     "name": "stdout",
     "output_type": "stream",
     "text": [
      "\n",
      "6057    MCI\n",
      "6058    MCI\n",
      "6059    MCI\n",
      "6060    MCI\n",
      "6061    MCI\n",
      "6062    MCI\n",
      "6063    MCI\n",
      "6064    MCI\n",
      "6065    MCI\n",
      "Name: Group, dtype: object\n",
      "MCI\n",
      "(166, 256, 256)\n"
     ]
    },
    {
     "name": "stderr",
     "output_type": "stream",
     "text": [
      "\r",
      " 30%|████████████████████████▍                                                       | 251/823 [01:45<03:56,  2.42it/s]"
     ]
    },
    {
     "name": "stdout",
     "output_type": "stream",
     "text": [
      "\n",
      "6039    MCI\n",
      "6040    MCI\n",
      "6041    MCI\n",
      "6042    MCI\n",
      "6043    MCI\n",
      "6044    MCI\n",
      "6045    MCI\n",
      "6046    MCI\n",
      "6047    MCI\n",
      "Name: Group, dtype: object\n",
      "MCI\n",
      "(166, 256, 256)\n"
     ]
    },
    {
     "name": "stderr",
     "output_type": "stream",
     "text": [
      "\r",
      " 31%|████████████████████████▍                                                       | 252/823 [01:46<04:05,  2.32it/s]"
     ]
    },
    {
     "name": "stdout",
     "output_type": "stream",
     "text": [
      "\n",
      "6029    CN\n",
      "6030    CN\n",
      "6031    CN\n",
      "6032    CN\n",
      "6033    CN\n",
      "6034    CN\n",
      "6035    CN\n",
      "6036    CN\n",
      "6037    CN\n",
      "6038    CN\n",
      "Name: Group, dtype: object\n",
      "CN\n",
      "(166, 256, 256)\n"
     ]
    },
    {
     "name": "stderr",
     "output_type": "stream",
     "text": [
      "\r",
      " 31%|████████████████████████▌                                                       | 253/823 [01:46<04:13,  2.25it/s]"
     ]
    },
    {
     "name": "stdout",
     "output_type": "stream",
     "text": [
      "\n",
      "6010    MCI\n",
      "6011    MCI\n",
      "6012    MCI\n",
      "6013    MCI\n",
      "6014    MCI\n",
      "6015    MCI\n",
      "6016    MCI\n",
      "6017    MCI\n",
      "6018    MCI\n",
      "6019    MCI\n",
      "Name: Group, dtype: object\n",
      "MCI\n",
      "(166, 256, 256)\n"
     ]
    },
    {
     "name": "stderr",
     "output_type": "stream",
     "text": [
      "\r",
      " 31%|████████████████████████▋                                                       | 254/823 [01:46<04:06,  2.31it/s]"
     ]
    },
    {
     "name": "stdout",
     "output_type": "stream",
     "text": [
      "\n",
      "6001    MCI\n",
      "6002    MCI\n",
      "6003    MCI\n",
      "6004    MCI\n",
      "6005    MCI\n",
      "6006    MCI\n",
      "6007    MCI\n",
      "6008    MCI\n",
      "6009    MCI\n",
      "Name: Group, dtype: object\n",
      "MCI\n",
      "(166, 256, 256)\n"
     ]
    },
    {
     "name": "stderr",
     "output_type": "stream",
     "text": [
      "\r",
      " 31%|████████████████████████▊                                                       | 255/823 [01:47<04:08,  2.28it/s]"
     ]
    },
    {
     "name": "stdout",
     "output_type": "stream",
     "text": [
      "\n",
      "5983    MCI\n",
      "5984    MCI\n",
      "5985    MCI\n",
      "5986    MCI\n",
      "5987    MCI\n",
      "5988    MCI\n",
      "5989    MCI\n",
      "5990    MCI\n",
      "5991    MCI\n",
      "5992    MCI\n",
      "5993    MCI\n",
      "5994    MCI\n",
      "5995    MCI\n",
      "5996    MCI\n",
      "5997    MCI\n",
      "5998    MCI\n",
      "5999    MCI\n",
      "6000    MCI\n",
      "Name: Group, dtype: object\n",
      "MCI\n",
      "(166, 256, 256)\n"
     ]
    },
    {
     "name": "stderr",
     "output_type": "stream",
     "text": [
      "\r",
      " 31%|████████████████████████▉                                                       | 256/823 [01:47<04:20,  2.18it/s]"
     ]
    },
    {
     "name": "stdout",
     "output_type": "stream",
     "text": [
      "\n",
      "5965    CN\n",
      "5966    CN\n",
      "5967    CN\n",
      "5968    CN\n",
      "5969    CN\n",
      "5970    CN\n",
      "5971    CN\n",
      "5972    CN\n",
      "5973    CN\n",
      "5974    CN\n",
      "5975    CN\n",
      "5976    CN\n",
      "5977    CN\n",
      "5978    CN\n",
      "5979    CN\n",
      "5980    CN\n",
      "5981    CN\n",
      "5982    CN\n",
      "Name: Group, dtype: object\n",
      "CN\n",
      "(166, 256, 256)\n"
     ]
    },
    {
     "name": "stderr",
     "output_type": "stream",
     "text": [
      "\r",
      " 31%|████████████████████████▉                                                       | 257/823 [01:48<04:13,  2.23it/s]"
     ]
    },
    {
     "name": "stdout",
     "output_type": "stream",
     "text": [
      "\n",
      "5947    AD\n",
      "5948    AD\n",
      "5949    AD\n",
      "5950    AD\n",
      "5951    AD\n",
      "5952    AD\n",
      "5953    AD\n",
      "5954    AD\n",
      "5955    AD\n",
      "5956    AD\n",
      "5957    AD\n",
      "5958    AD\n",
      "5959    AD\n",
      "5960    AD\n",
      "5961    AD\n",
      "5962    AD\n",
      "5963    AD\n",
      "5964    AD\n",
      "Name: Group, dtype: object\n",
      "AD\n",
      "(166, 256, 256)\n"
     ]
    },
    {
     "name": "stderr",
     "output_type": "stream",
     "text": [
      "\r",
      " 31%|█████████████████████████                                                       | 258/823 [01:48<04:17,  2.19it/s]"
     ]
    },
    {
     "name": "stdout",
     "output_type": "stream",
     "text": [
      "\n",
      "5938    MCI\n",
      "5939    MCI\n",
      "5940    MCI\n",
      "5941    MCI\n",
      "5942    MCI\n",
      "5943    MCI\n",
      "5944    MCI\n",
      "5945    MCI\n",
      "5946    MCI\n",
      "Name: Group, dtype: object\n",
      "MCI\n",
      "(166, 256, 256)\n"
     ]
    },
    {
     "name": "stderr",
     "output_type": "stream",
     "text": [
      "\r",
      " 31%|█████████████████████████▏                                                      | 259/823 [01:49<04:19,  2.17it/s]"
     ]
    },
    {
     "name": "stdout",
     "output_type": "stream",
     "text": [
      "\n",
      "5920    MCI\n",
      "5921    MCI\n",
      "5922    MCI\n",
      "5923    MCI\n",
      "5924    MCI\n",
      "5925    MCI\n",
      "5926    MCI\n",
      "5927    MCI\n",
      "5928    MCI\n",
      "5929    MCI\n",
      "5930    MCI\n",
      "5931    MCI\n",
      "5932    MCI\n",
      "5933    MCI\n",
      "5934    MCI\n",
      "5935    MCI\n",
      "5936    MCI\n",
      "5937    MCI\n",
      "Name: Group, dtype: object\n",
      "MCI\n",
      "(166, 256, 256)\n"
     ]
    },
    {
     "name": "stderr",
     "output_type": "stream",
     "text": [
      "\r",
      " 32%|█████████████████████████▎                                                      | 260/823 [01:49<04:22,  2.15it/s]"
     ]
    },
    {
     "name": "stdout",
     "output_type": "stream",
     "text": [
      "\n",
      "5911    MCI\n",
      "5912    MCI\n",
      "5913    MCI\n",
      "5914    MCI\n",
      "5915    MCI\n",
      "5916    MCI\n",
      "5917    MCI\n",
      "5918    MCI\n",
      "5919    MCI\n",
      "Name: Group, dtype: object\n",
      "MCI\n",
      "(166, 256, 256)\n"
     ]
    },
    {
     "name": "stderr",
     "output_type": "stream",
     "text": [
      "\r",
      " 32%|█████████████████████████▎                                                      | 261/823 [01:50<04:20,  2.16it/s]"
     ]
    },
    {
     "name": "stdout",
     "output_type": "stream",
     "text": [
      "\n",
      "5902    MCI\n",
      "5903    MCI\n",
      "5904    MCI\n",
      "5905    MCI\n",
      "5906    MCI\n",
      "5907    MCI\n",
      "5908    MCI\n",
      "5909    MCI\n",
      "5910    MCI\n",
      "Name: Group, dtype: object\n",
      "MCI\n",
      "(166, 256, 256)\n"
     ]
    },
    {
     "name": "stderr",
     "output_type": "stream",
     "text": [
      "\r",
      " 32%|█████████████████████████▍                                                      | 262/823 [01:50<04:10,  2.24it/s]"
     ]
    },
    {
     "name": "stdout",
     "output_type": "stream",
     "text": [
      "\n",
      "5893    MCI\n",
      "5894    MCI\n",
      "5895    MCI\n",
      "5896    MCI\n",
      "5897    MCI\n",
      "5898    MCI\n",
      "5899    MCI\n",
      "5900    MCI\n",
      "5901    MCI\n",
      "Name: Group, dtype: object\n",
      "MCI\n",
      "(166, 256, 256)\n"
     ]
    },
    {
     "name": "stderr",
     "output_type": "stream",
     "text": [
      "\r",
      " 32%|█████████████████████████▌                                                      | 263/823 [01:50<03:59,  2.34it/s]"
     ]
    },
    {
     "name": "stdout",
     "output_type": "stream",
     "text": [
      "\n",
      "5875    MCI\n",
      "5876    MCI\n",
      "5877    MCI\n",
      "5878    MCI\n",
      "5879    MCI\n",
      "5880    MCI\n",
      "5881    MCI\n",
      "5882    MCI\n",
      "5883    MCI\n",
      "5884    MCI\n",
      "5885    MCI\n",
      "5886    MCI\n",
      "5887    MCI\n",
      "5888    MCI\n",
      "5889    MCI\n",
      "5890    MCI\n",
      "5891    MCI\n",
      "5892    MCI\n",
      "Name: Group, dtype: object\n",
      "MCI\n",
      "(166, 256, 256)\n"
     ]
    },
    {
     "name": "stderr",
     "output_type": "stream",
     "text": [
      "\r",
      " 32%|█████████████████████████▋                                                      | 264/823 [01:51<03:52,  2.40it/s]"
     ]
    },
    {
     "name": "stdout",
     "output_type": "stream",
     "text": [
      "\n",
      "5866    AD\n",
      "5867    AD\n",
      "5868    AD\n",
      "5869    AD\n",
      "5870    AD\n",
      "5871    AD\n",
      "5872    AD\n",
      "5873    AD\n",
      "5874    AD\n",
      "Name: Group, dtype: object\n",
      "AD\n",
      "(166, 256, 256)\n"
     ]
    },
    {
     "name": "stderr",
     "output_type": "stream",
     "text": [
      "\r",
      " 32%|█████████████████████████▊                                                      | 265/823 [01:51<03:46,  2.47it/s]"
     ]
    },
    {
     "name": "stdout",
     "output_type": "stream",
     "text": [
      "\n",
      "5857    MCI\n",
      "5858    MCI\n",
      "5859    MCI\n",
      "5860    MCI\n",
      "5861    MCI\n",
      "5862    MCI\n",
      "5863    MCI\n",
      "5864    MCI\n",
      "5865    MCI\n",
      "Name: Group, dtype: object\n",
      "MCI\n",
      "(166, 256, 256)\n"
     ]
    },
    {
     "name": "stderr",
     "output_type": "stream",
     "text": [
      "\r",
      " 32%|█████████████████████████▊                                                      | 266/823 [01:52<03:42,  2.51it/s]"
     ]
    },
    {
     "name": "stdout",
     "output_type": "stream",
     "text": [
      "\n",
      "5848    MCI\n",
      "5849    MCI\n",
      "5850    MCI\n",
      "5851    MCI\n",
      "5852    MCI\n",
      "5853    MCI\n",
      "5854    MCI\n",
      "5855    MCI\n",
      "5856    MCI\n",
      "Name: Group, dtype: object\n",
      "MCI\n",
      "(166, 256, 256)\n"
     ]
    },
    {
     "name": "stderr",
     "output_type": "stream",
     "text": [
      "\r",
      " 32%|█████████████████████████▉                                                      | 267/823 [01:52<03:36,  2.56it/s]"
     ]
    },
    {
     "name": "stdout",
     "output_type": "stream",
     "text": [
      "\n",
      "5830    AD\n",
      "5831    AD\n",
      "5832    AD\n",
      "5833    AD\n",
      "5834    AD\n",
      "5835    AD\n",
      "5836    AD\n",
      "5837    AD\n",
      "5838    AD\n",
      "5839    AD\n",
      "5840    AD\n",
      "5841    AD\n",
      "5842    AD\n",
      "5843    AD\n",
      "5844    AD\n",
      "5845    AD\n",
      "5846    AD\n",
      "5847    AD\n",
      "Name: Group, dtype: object\n",
      "AD\n",
      "(166, 256, 256)\n"
     ]
    },
    {
     "name": "stderr",
     "output_type": "stream",
     "text": [
      "\r",
      " 33%|██████████████████████████                                                      | 268/823 [01:52<03:50,  2.41it/s]"
     ]
    },
    {
     "name": "stdout",
     "output_type": "stream",
     "text": [
      "\n",
      "5813    AD\n",
      "5814    AD\n",
      "5815    AD\n",
      "5816    AD\n",
      "5817    AD\n",
      "5818    AD\n",
      "5819    AD\n",
      "5820    AD\n",
      "5821    AD\n",
      "5822    AD\n",
      "5823    AD\n",
      "5824    AD\n",
      "5825    AD\n",
      "5826    AD\n",
      "5827    AD\n",
      "5828    AD\n",
      "5829    AD\n",
      "Name: Group, dtype: object\n",
      "AD\n",
      "(166, 256, 256)\n"
     ]
    },
    {
     "name": "stderr",
     "output_type": "stream",
     "text": [
      "\r",
      " 33%|██████████████████████████▏                                                     | 269/823 [01:53<04:00,  2.31it/s]"
     ]
    },
    {
     "name": "stdout",
     "output_type": "stream",
     "text": [
      "\n",
      "5804    MCI\n",
      "5805    MCI\n",
      "5806    MCI\n",
      "5807    MCI\n",
      "5808    MCI\n",
      "5809    MCI\n",
      "5810    MCI\n",
      "5811    MCI\n",
      "5812    MCI\n",
      "Name: Group, dtype: object\n",
      "MCI\n",
      "(166, 256, 256)\n"
     ]
    },
    {
     "name": "stderr",
     "output_type": "stream",
     "text": [
      "\r",
      " 33%|██████████████████████████▏                                                     | 270/823 [01:53<04:14,  2.17it/s]"
     ]
    },
    {
     "name": "stdout",
     "output_type": "stream",
     "text": [
      "\n",
      "5795    AD\n",
      "5796    AD\n",
      "5797    AD\n",
      "5798    AD\n",
      "5799    AD\n",
      "5800    AD\n",
      "5801    AD\n",
      "5802    AD\n",
      "5803    AD\n",
      "Name: Group, dtype: object\n",
      "AD\n",
      "(166, 256, 256)\n"
     ]
    },
    {
     "name": "stderr",
     "output_type": "stream",
     "text": [
      "\r",
      " 33%|██████████████████████████▎                                                     | 271/823 [01:54<04:24,  2.09it/s]"
     ]
    },
    {
     "name": "stdout",
     "output_type": "stream",
     "text": [
      "\n",
      "5777    MCI\n",
      "5778    MCI\n",
      "5779    MCI\n",
      "5780    MCI\n",
      "5781    MCI\n",
      "5782    MCI\n",
      "5783    MCI\n",
      "5784    MCI\n",
      "5785    MCI\n",
      "5786    MCI\n",
      "5787    MCI\n",
      "5788    MCI\n",
      "5789    MCI\n",
      "5790    MCI\n",
      "5791    MCI\n",
      "5792    MCI\n",
      "5793    MCI\n",
      "5794    MCI\n",
      "Name: Group, dtype: object\n",
      "MCI\n",
      "(166, 256, 256)\n"
     ]
    },
    {
     "name": "stderr",
     "output_type": "stream",
     "text": [
      "\r",
      " 33%|██████████████████████████▍                                                     | 272/823 [01:54<04:19,  2.12it/s]"
     ]
    },
    {
     "name": "stdout",
     "output_type": "stream",
     "text": [
      "\n",
      "5768    MCI\n",
      "5769    MCI\n",
      "5770    MCI\n",
      "5771    MCI\n",
      "5772    MCI\n",
      "5773    MCI\n",
      "5774    MCI\n",
      "5775    MCI\n",
      "5776    MCI\n",
      "Name: Group, dtype: object\n",
      "MCI\n",
      "(166, 256, 256)\n"
     ]
    },
    {
     "name": "stderr",
     "output_type": "stream",
     "text": [
      "\r",
      " 33%|██████████████████████████▌                                                     | 273/823 [01:55<04:32,  2.02it/s]"
     ]
    },
    {
     "name": "stdout",
     "output_type": "stream",
     "text": [
      "\n",
      "5750    AD\n",
      "5751    AD\n",
      "5752    AD\n",
      "5753    AD\n",
      "5754    AD\n",
      "5755    AD\n",
      "5756    AD\n",
      "5757    AD\n",
      "5758    AD\n",
      "5759    AD\n",
      "5760    AD\n",
      "5761    AD\n",
      "5762    AD\n",
      "5763    AD\n",
      "5764    AD\n",
      "5765    AD\n",
      "5766    AD\n",
      "5767    AD\n",
      "Name: Group, dtype: object\n",
      "AD\n",
      "(166, 256, 256)\n"
     ]
    },
    {
     "name": "stderr",
     "output_type": "stream",
     "text": [
      "\r",
      " 33%|██████████████████████████▋                                                     | 274/823 [01:55<04:29,  2.04it/s]"
     ]
    },
    {
     "name": "stdout",
     "output_type": "stream",
     "text": [
      "\n",
      "5732    MCI\n",
      "5733    MCI\n",
      "5734    MCI\n",
      "5735    MCI\n",
      "5736    MCI\n",
      "5737    MCI\n",
      "5738    MCI\n",
      "5739    MCI\n",
      "5740    MCI\n",
      "5741    MCI\n",
      "5742    MCI\n",
      "5743    MCI\n",
      "5744    MCI\n",
      "5745    MCI\n",
      "5746    MCI\n",
      "5747    MCI\n",
      "5748    MCI\n",
      "5749    MCI\n",
      "Name: Group, dtype: object\n",
      "MCI\n",
      "(166, 256, 256)\n"
     ]
    },
    {
     "name": "stderr",
     "output_type": "stream",
     "text": [
      "\r",
      " 33%|██████████████████████████▋                                                     | 275/823 [01:56<04:31,  2.02it/s]"
     ]
    },
    {
     "name": "stdout",
     "output_type": "stream",
     "text": [
      "\n",
      "5723    CN\n",
      "5724    CN\n",
      "5725    CN\n",
      "5726    CN\n",
      "5727    CN\n",
      "5728    CN\n",
      "5729    CN\n",
      "5730    CN\n",
      "5731    CN\n",
      "Name: Group, dtype: object\n",
      "CN\n",
      "(166, 256, 256)\n"
     ]
    },
    {
     "name": "stderr",
     "output_type": "stream",
     "text": [
      "\r",
      " 34%|██████████████████████████▊                                                     | 276/823 [01:56<04:17,  2.13it/s]"
     ]
    },
    {
     "name": "stdout",
     "output_type": "stream",
     "text": [
      "\n",
      "5714    AD\n",
      "5715    AD\n",
      "5716    AD\n",
      "5717    AD\n",
      "5718    AD\n",
      "5719    AD\n",
      "5720    AD\n",
      "5721    AD\n",
      "5722    AD\n",
      "Name: Group, dtype: object\n",
      "AD\n",
      "(166, 256, 256)\n"
     ]
    },
    {
     "name": "stderr",
     "output_type": "stream",
     "text": [
      "\r",
      " 34%|██████████████████████████▉                                                     | 277/823 [01:57<04:05,  2.22it/s]"
     ]
    },
    {
     "name": "stdout",
     "output_type": "stream",
     "text": [
      "\n",
      "5705    CN\n",
      "5706    CN\n",
      "5707    CN\n",
      "5708    CN\n",
      "5709    CN\n",
      "5710    CN\n",
      "5711    CN\n",
      "5712    CN\n",
      "5713    CN\n",
      "Name: Group, dtype: object\n",
      "CN\n",
      "(166, 256, 256)\n"
     ]
    },
    {
     "name": "stderr",
     "output_type": "stream",
     "text": [
      "\r",
      " 34%|███████████████████████████                                                     | 278/823 [01:57<03:54,  2.32it/s]"
     ]
    },
    {
     "name": "stdout",
     "output_type": "stream",
     "text": [
      "\n",
      "5696    CN\n",
      "5697    CN\n",
      "5698    CN\n",
      "5699    CN\n",
      "5700    CN\n",
      "5701    CN\n",
      "5702    CN\n",
      "5703    CN\n",
      "5704    CN\n",
      "Name: Group, dtype: object\n",
      "CN\n",
      "(166, 256, 256)\n"
     ]
    },
    {
     "name": "stderr",
     "output_type": "stream",
     "text": [
      "\r",
      " 34%|███████████████████████████                                                     | 279/823 [01:58<03:45,  2.41it/s]"
     ]
    },
    {
     "name": "stdout",
     "output_type": "stream",
     "text": [
      "\n",
      "5687    CN\n",
      "5688    CN\n",
      "5689    CN\n",
      "5690    CN\n",
      "5691    CN\n",
      "5692    CN\n",
      "5693    CN\n",
      "5694    CN\n",
      "5695    CN\n",
      "Name: Group, dtype: object\n",
      "CN\n",
      "(166, 256, 256)\n"
     ]
    },
    {
     "name": "stderr",
     "output_type": "stream",
     "text": [
      "\r",
      " 34%|███████████████████████████▏                                                    | 280/823 [01:58<03:44,  2.42it/s]"
     ]
    },
    {
     "name": "stdout",
     "output_type": "stream",
     "text": [
      "\n",
      "5678    MCI\n",
      "5679    MCI\n",
      "5680    MCI\n",
      "5681    MCI\n",
      "5682    MCI\n",
      "5683    MCI\n",
      "5684    MCI\n",
      "5685    MCI\n",
      "5686    MCI\n",
      "Name: Group, dtype: object\n",
      "MCI\n",
      "(166, 256, 256)\n"
     ]
    },
    {
     "name": "stderr",
     "output_type": "stream",
     "text": [
      "\r",
      " 34%|███████████████████████████▎                                                    | 281/823 [01:58<03:43,  2.42it/s]"
     ]
    },
    {
     "name": "stdout",
     "output_type": "stream",
     "text": [
      "\n",
      "5669    MCI\n",
      "5670    MCI\n",
      "5671    MCI\n",
      "5672    MCI\n",
      "5673    MCI\n",
      "5674    MCI\n",
      "5675    MCI\n",
      "5676    MCI\n",
      "5677    MCI\n",
      "Name: Group, dtype: object\n",
      "MCI\n",
      "(166, 256, 256)\n"
     ]
    },
    {
     "name": "stderr",
     "output_type": "stream",
     "text": [
      "\r",
      " 34%|███████████████████████████▍                                                    | 282/823 [01:59<03:45,  2.40it/s]"
     ]
    },
    {
     "name": "stdout",
     "output_type": "stream",
     "text": [
      "\n",
      "5660    MCI\n",
      "5661    MCI\n",
      "5662    MCI\n",
      "5663    MCI\n",
      "5664    MCI\n",
      "5665    MCI\n",
      "5666    MCI\n",
      "5667    MCI\n",
      "5668    MCI\n",
      "Name: Group, dtype: object\n",
      "MCI\n",
      "(166, 256, 256)\n"
     ]
    },
    {
     "name": "stderr",
     "output_type": "stream",
     "text": [
      "\r",
      " 34%|███████████████████████████▌                                                    | 283/823 [01:59<03:51,  2.33it/s]"
     ]
    },
    {
     "name": "stdout",
     "output_type": "stream",
     "text": [
      "\n",
      "5651    AD\n",
      "5652    AD\n",
      "5653    AD\n",
      "5654    AD\n",
      "5655    AD\n",
      "5656    AD\n",
      "5657    AD\n",
      "5658    AD\n",
      "5659    AD\n",
      "Name: Group, dtype: object\n",
      "AD\n",
      "(166, 256, 256)\n"
     ]
    },
    {
     "name": "stderr",
     "output_type": "stream",
     "text": [
      "\r",
      " 35%|███████████████████████████▌                                                    | 284/823 [02:00<03:59,  2.25it/s]"
     ]
    },
    {
     "name": "stdout",
     "output_type": "stream",
     "text": [
      "\n",
      "5642    MCI\n",
      "5643    MCI\n",
      "5644    MCI\n",
      "5645    MCI\n",
      "5646    MCI\n",
      "5647    MCI\n",
      "5648    MCI\n",
      "5649    MCI\n",
      "5650    MCI\n",
      "Name: Group, dtype: object\n",
      "MCI\n",
      "(166, 256, 256)\n"
     ]
    },
    {
     "name": "stderr",
     "output_type": "stream",
     "text": [
      "\r",
      " 35%|███████████████████████████▋                                                    | 285/823 [02:00<04:01,  2.23it/s]"
     ]
    },
    {
     "name": "stdout",
     "output_type": "stream",
     "text": [
      "\n",
      "5633    AD\n",
      "5634    AD\n",
      "5635    AD\n",
      "5636    AD\n",
      "5637    AD\n",
      "5638    AD\n",
      "5639    AD\n",
      "5640    AD\n",
      "5641    AD\n",
      "Name: Group, dtype: object\n",
      "AD\n",
      "(166, 256, 256)\n"
     ]
    },
    {
     "name": "stderr",
     "output_type": "stream",
     "text": [
      "\r",
      " 35%|███████████████████████████▊                                                    | 286/823 [02:01<04:02,  2.22it/s]"
     ]
    },
    {
     "name": "stdout",
     "output_type": "stream",
     "text": [
      "\n",
      "5622    MCI\n",
      "5623    MCI\n",
      "5624    MCI\n",
      "5625    MCI\n",
      "5626    MCI\n",
      "5627    MCI\n",
      "5628    MCI\n",
      "5629    MCI\n",
      "5630    MCI\n",
      "5631    MCI\n",
      "5632    MCI\n",
      "Name: Group, dtype: object\n",
      "MCI\n",
      "(166, 256, 256)\n"
     ]
    },
    {
     "name": "stderr",
     "output_type": "stream",
     "text": [
      "\r",
      " 35%|███████████████████████████▉                                                    | 287/823 [02:01<04:07,  2.17it/s]"
     ]
    },
    {
     "name": "stdout",
     "output_type": "stream",
     "text": [
      "\n",
      "5609    AD\n",
      "5610    AD\n",
      "5611    AD\n",
      "5612    AD\n",
      "5613    AD\n",
      "5614    AD\n",
      "5615    AD\n",
      "5616    AD\n",
      "5617    AD\n",
      "5618    AD\n",
      "5619    AD\n",
      "5620    AD\n",
      "5621    AD\n",
      "Name: Group, dtype: object\n",
      "AD\n",
      "(166, 256, 256)\n"
     ]
    },
    {
     "name": "stderr",
     "output_type": "stream",
     "text": [
      "\r",
      " 35%|███████████████████████████▉                                                    | 288/823 [02:02<04:02,  2.21it/s]"
     ]
    },
    {
     "name": "stdout",
     "output_type": "stream",
     "text": [
      "\n",
      "5600    MCI\n",
      "5601    MCI\n",
      "5602    MCI\n",
      "5603    MCI\n",
      "5604    MCI\n",
      "5605    MCI\n",
      "5606    MCI\n",
      "5607    MCI\n",
      "5608    MCI\n",
      "Name: Group, dtype: object\n",
      "MCI\n",
      "(166, 256, 256)\n"
     ]
    },
    {
     "name": "stderr",
     "output_type": "stream",
     "text": [
      "\r",
      " 35%|████████████████████████████                                                    | 289/823 [02:02<04:02,  2.20it/s]"
     ]
    },
    {
     "name": "stdout",
     "output_type": "stream",
     "text": [
      "\n",
      "5591    MCI\n",
      "5592    MCI\n",
      "5593    MCI\n",
      "5594    MCI\n",
      "5595    MCI\n",
      "5596    MCI\n",
      "5597    MCI\n",
      "5598    MCI\n",
      "5599    MCI\n",
      "Name: Group, dtype: object\n",
      "MCI\n",
      "(166, 256, 256)\n"
     ]
    },
    {
     "name": "stderr",
     "output_type": "stream",
     "text": [
      "\r",
      " 35%|████████████████████████████▏                                                   | 290/823 [02:02<04:02,  2.20it/s]"
     ]
    },
    {
     "name": "stdout",
     "output_type": "stream",
     "text": [
      "\n",
      "5582    MCI\n",
      "5583    MCI\n",
      "5584    MCI\n",
      "5585    MCI\n",
      "5586    MCI\n",
      "5587    MCI\n",
      "5588    MCI\n",
      "5589    MCI\n",
      "5590    MCI\n",
      "Name: Group, dtype: object\n",
      "MCI\n",
      "(166, 256, 256)\n"
     ]
    },
    {
     "name": "stderr",
     "output_type": "stream",
     "text": [
      "\r",
      " 35%|████████████████████████████▎                                                   | 291/823 [02:03<04:10,  2.12it/s]"
     ]
    },
    {
     "name": "stdout",
     "output_type": "stream",
     "text": [
      "\n",
      "5573    MCI\n",
      "5574    MCI\n",
      "5575    MCI\n",
      "5576    MCI\n",
      "5577    MCI\n",
      "5578    MCI\n",
      "5579    MCI\n",
      "5580    MCI\n",
      "5581    MCI\n",
      "Name: Group, dtype: object\n",
      "MCI\n",
      "(166, 256, 256)\n"
     ]
    },
    {
     "name": "stderr",
     "output_type": "stream",
     "text": [
      "\r",
      " 35%|████████████████████████████▍                                                   | 292/823 [02:03<04:10,  2.12it/s]"
     ]
    },
    {
     "name": "stdout",
     "output_type": "stream",
     "text": [
      "\n",
      "5559    AD\n",
      "5560    AD\n",
      "5561    AD\n",
      "5562    AD\n",
      "5563    AD\n",
      "5564    AD\n",
      "5565    AD\n",
      "Name: Group, dtype: object\n",
      "AD\n",
      "(166, 256, 256)\n"
     ]
    },
    {
     "name": "stderr",
     "output_type": "stream",
     "text": [
      "\r",
      " 36%|████████████████████████████▍                                                   | 293/823 [02:04<03:56,  2.24it/s]"
     ]
    },
    {
     "name": "stdout",
     "output_type": "stream",
     "text": [
      "\n",
      "5552    MCI\n",
      "5553    MCI\n",
      "5554    MCI\n",
      "5555    MCI\n",
      "5556    MCI\n",
      "5557    MCI\n",
      "5558    MCI\n",
      "Name: Group, dtype: object\n",
      "MCI\n",
      "(166, 256, 256)\n"
     ]
    },
    {
     "name": "stderr",
     "output_type": "stream",
     "text": [
      "\r",
      " 36%|████████████████████████████▌                                                   | 294/823 [02:04<03:47,  2.33it/s]"
     ]
    },
    {
     "name": "stdout",
     "output_type": "stream",
     "text": [
      "\n",
      "5545    AD\n",
      "5546    AD\n",
      "5547    AD\n",
      "5548    AD\n",
      "5549    AD\n",
      "5550    AD\n",
      "5551    AD\n",
      "Name: Group, dtype: object\n",
      "AD\n",
      "(166, 256, 256)\n"
     ]
    },
    {
     "name": "stderr",
     "output_type": "stream",
     "text": [
      "\r",
      " 36%|████████████████████████████▋                                                   | 295/823 [02:05<03:42,  2.37it/s]"
     ]
    },
    {
     "name": "stdout",
     "output_type": "stream",
     "text": [
      "\n",
      "5531    MCI\n",
      "5532    MCI\n",
      "5533    MCI\n",
      "5534    MCI\n",
      "5535    MCI\n",
      "5536    MCI\n",
      "5537    MCI\n",
      "5538    MCI\n",
      "5539    MCI\n",
      "5540    MCI\n",
      "5541    MCI\n",
      "5542    MCI\n",
      "5543    MCI\n",
      "5544    MCI\n",
      "Name: Group, dtype: object\n",
      "MCI\n",
      "(166, 256, 256)\n"
     ]
    },
    {
     "name": "stderr",
     "output_type": "stream",
     "text": [
      "\r",
      " 36%|████████████████████████████▊                                                   | 296/823 [02:05<03:39,  2.40it/s]"
     ]
    },
    {
     "name": "stdout",
     "output_type": "stream",
     "text": [
      "\n",
      "5524    CN\n",
      "5525    CN\n",
      "5526    CN\n",
      "5527    CN\n",
      "5528    CN\n",
      "5529    CN\n",
      "5530    CN\n",
      "Name: Group, dtype: object\n",
      "CN\n",
      "(166, 256, 256)\n"
     ]
    },
    {
     "name": "stderr",
     "output_type": "stream",
     "text": [
      "\r",
      " 36%|████████████████████████████▊                                                   | 297/823 [02:05<03:37,  2.41it/s]"
     ]
    },
    {
     "name": "stdout",
     "output_type": "stream",
     "text": [
      "\n",
      "5517    AD\n",
      "5518    AD\n",
      "5519    AD\n",
      "5520    AD\n",
      "5521    AD\n",
      "5522    AD\n",
      "5523    AD\n",
      "Name: Group, dtype: object\n",
      "AD\n",
      "(166, 256, 256)\n"
     ]
    },
    {
     "name": "stderr",
     "output_type": "stream",
     "text": [
      "\r",
      " 36%|████████████████████████████▉                                                   | 298/823 [02:06<03:43,  2.35it/s]"
     ]
    },
    {
     "name": "stdout",
     "output_type": "stream",
     "text": [
      "\n",
      "5510    MCI\n",
      "5511    MCI\n",
      "5512    MCI\n",
      "5513    MCI\n",
      "5514    MCI\n",
      "5515    MCI\n",
      "5516    MCI\n",
      "Name: Group, dtype: object\n",
      "MCI\n",
      "(166, 256, 256)\n"
     ]
    },
    {
     "name": "stderr",
     "output_type": "stream",
     "text": [
      "\r",
      " 36%|█████████████████████████████                                                   | 299/823 [02:06<03:51,  2.26it/s]"
     ]
    },
    {
     "name": "stdout",
     "output_type": "stream",
     "text": [
      "\n",
      "5494    MCI\n",
      "5495    MCI\n",
      "5496    MCI\n",
      "5497    MCI\n",
      "5498    MCI\n",
      "5499    MCI\n",
      "5500    MCI\n",
      "5501    MCI\n",
      "5502    MCI\n",
      "5503    MCI\n",
      "5504    MCI\n",
      "5505    MCI\n",
      "5506    MCI\n",
      "5507    MCI\n",
      "5508    MCI\n",
      "5509    MCI\n",
      "Name: Group, dtype: object\n",
      "MCI\n",
      "(166, 256, 256)\n"
     ]
    },
    {
     "name": "stderr",
     "output_type": "stream",
     "text": [
      "\r",
      " 36%|█████████████████████████████▏                                                  | 300/823 [02:07<03:53,  2.24it/s]"
     ]
    },
    {
     "name": "stdout",
     "output_type": "stream",
     "text": [
      "\n",
      "5487    MCI\n",
      "5488    MCI\n",
      "5489    MCI\n",
      "5490    MCI\n",
      "5491    MCI\n",
      "5492    MCI\n",
      "5493    MCI\n",
      "Name: Group, dtype: object\n",
      "MCI\n",
      "(166, 256, 256)\n"
     ]
    },
    {
     "name": "stderr",
     "output_type": "stream",
     "text": [
      "\r",
      " 37%|█████████████████████████████▎                                                  | 301/823 [02:07<04:10,  2.08it/s]"
     ]
    },
    {
     "name": "stdout",
     "output_type": "stream",
     "text": [
      "\n",
      "5471    MCI\n",
      "5472    MCI\n",
      "5473    MCI\n",
      "5474    MCI\n",
      "5475    MCI\n",
      "5476    MCI\n",
      "5477    MCI\n",
      "5478    MCI\n",
      "5479    MCI\n",
      "5480    MCI\n",
      "5481    MCI\n",
      "5482    MCI\n",
      "5483    MCI\n",
      "5484    MCI\n",
      "5485    MCI\n",
      "5486    MCI\n",
      "Name: Group, dtype: object\n",
      "MCI\n",
      "(166, 256, 256)\n"
     ]
    },
    {
     "name": "stderr",
     "output_type": "stream",
     "text": [
      "\r",
      " 37%|█████████████████████████████▎                                                  | 302/823 [02:08<04:06,  2.12it/s]"
     ]
    },
    {
     "name": "stdout",
     "output_type": "stream",
     "text": [
      "\n",
      "5455    AD\n",
      "5456    AD\n",
      "5457    AD\n",
      "5458    AD\n",
      "5459    AD\n",
      "5460    AD\n",
      "5461    AD\n",
      "5462    AD\n",
      "5463    AD\n",
      "5464    AD\n",
      "5465    AD\n",
      "5466    AD\n",
      "5467    AD\n",
      "5468    AD\n",
      "5469    AD\n",
      "5470    AD\n",
      "Name: Group, dtype: object\n",
      "AD\n",
      "(166, 256, 256)\n"
     ]
    },
    {
     "name": "stderr",
     "output_type": "stream",
     "text": [
      "\r",
      " 37%|█████████████████████████████▍                                                  | 303/823 [02:08<04:09,  2.08it/s]"
     ]
    },
    {
     "name": "stdout",
     "output_type": "stream",
     "text": [
      "\n",
      "5449    CN\n",
      "5450    CN\n",
      "5451    CN\n",
      "5452    CN\n",
      "5453    CN\n",
      "5454    CN\n",
      "Name: Group, dtype: object\n",
      "CN\n",
      "(166, 256, 256)\n"
     ]
    },
    {
     "name": "stderr",
     "output_type": "stream",
     "text": [
      "\r",
      " 37%|█████████████████████████████▌                                                  | 304/823 [02:09<04:05,  2.12it/s]"
     ]
    },
    {
     "name": "stdout",
     "output_type": "stream",
     "text": [
      "\n",
      "5443    AD\n",
      "5444    AD\n",
      "5445    AD\n",
      "5446    AD\n",
      "5447    AD\n",
      "5448    AD\n",
      "Name: Group, dtype: object\n",
      "AD\n",
      "(166, 256, 256)\n"
     ]
    },
    {
     "name": "stderr",
     "output_type": "stream",
     "text": [
      "\r",
      " 37%|█████████████████████████████▋                                                  | 305/823 [02:09<04:04,  2.12it/s]"
     ]
    },
    {
     "name": "stdout",
     "output_type": "stream",
     "text": [
      "\n",
      "5432    MCI\n",
      "5433    MCI\n",
      "5434    MCI\n",
      "5435    MCI\n",
      "5436    MCI\n",
      "5437    MCI\n",
      "5438    MCI\n",
      "5439    MCI\n",
      "5440    MCI\n",
      "5441    MCI\n",
      "5442    MCI\n",
      "Name: Group, dtype: object\n",
      "MCI\n",
      "(166, 256, 256)\n"
     ]
    },
    {
     "name": "stderr",
     "output_type": "stream",
     "text": [
      "\r",
      " 37%|█████████████████████████████▋                                                  | 306/823 [02:10<04:05,  2.10it/s]"
     ]
    },
    {
     "name": "stdout",
     "output_type": "stream",
     "text": [
      "\n",
      "5426    MCI\n",
      "5427    MCI\n",
      "5428    MCI\n",
      "5429    MCI\n",
      "5430    MCI\n",
      "5431    MCI\n",
      "Name: Group, dtype: object\n",
      "MCI\n",
      "(166, 256, 256)\n"
     ]
    },
    {
     "name": "stderr",
     "output_type": "stream",
     "text": [
      "\r",
      " 37%|█████████████████████████████▊                                                  | 307/823 [02:10<04:01,  2.13it/s]"
     ]
    },
    {
     "name": "stdout",
     "output_type": "stream",
     "text": [
      "\n",
      "5420    AD\n",
      "5421    AD\n",
      "5422    AD\n",
      "5423    AD\n",
      "5424    AD\n",
      "5425    AD\n",
      "Name: Group, dtype: object\n",
      "AD\n",
      "(166, 256, 256)\n"
     ]
    },
    {
     "name": "stderr",
     "output_type": "stream",
     "text": [
      "\r",
      " 37%|█████████████████████████████▉                                                  | 308/823 [02:11<03:46,  2.28it/s]"
     ]
    },
    {
     "name": "stdout",
     "output_type": "stream",
     "text": [
      "\n",
      "5409    CN\n",
      "5410    CN\n",
      "5411    CN\n",
      "5412    CN\n",
      "5413    CN\n",
      "5414    CN\n",
      "5415    CN\n",
      "5416    CN\n",
      "5417    CN\n",
      "5418    CN\n",
      "5419    CN\n",
      "Name: Group, dtype: object\n",
      "CN\n",
      "(166, 256, 256)\n"
     ]
    },
    {
     "name": "stderr",
     "output_type": "stream",
     "text": [
      "\r",
      " 38%|██████████████████████████████                                                  | 309/823 [02:11<03:36,  2.37it/s]"
     ]
    },
    {
     "name": "stdout",
     "output_type": "stream",
     "text": [
      "\n",
      "5392    CN\n",
      "5393    CN\n",
      "5394    CN\n",
      "5395    CN\n",
      "5396    CN\n",
      "5397    CN\n",
      "5398    CN\n",
      "5399    CN\n",
      "5400    CN\n",
      "5401    CN\n",
      "5402    CN\n",
      "5403    CN\n",
      "5404    CN\n",
      "5405    CN\n",
      "5406    CN\n",
      "5407    CN\n",
      "5408    CN\n",
      "Name: Group, dtype: object\n",
      "CN\n",
      "(166, 256, 256)\n"
     ]
    },
    {
     "name": "stderr",
     "output_type": "stream",
     "text": [
      "\r",
      " 38%|██████████████████████████████▏                                                 | 310/823 [02:11<03:31,  2.43it/s]"
     ]
    },
    {
     "name": "stdout",
     "output_type": "stream",
     "text": [
      "\n",
      "5386    MCI\n",
      "5387    MCI\n",
      "5388    MCI\n",
      "5389    MCI\n",
      "5390    MCI\n",
      "5391    MCI\n",
      "Name: Group, dtype: object\n",
      "MCI\n",
      "(166, 256, 256)\n"
     ]
    },
    {
     "name": "stderr",
     "output_type": "stream",
     "text": [
      "\r",
      " 38%|██████████████████████████████▏                                                 | 311/823 [02:12<03:27,  2.46it/s]"
     ]
    },
    {
     "name": "stdout",
     "output_type": "stream",
     "text": [
      "\n",
      "5380    MCI\n",
      "5381    MCI\n",
      "5382    MCI\n",
      "5383    MCI\n",
      "5384    MCI\n",
      "5385    MCI\n",
      "Name: Group, dtype: object\n",
      "MCI\n",
      "(166, 256, 256)\n"
     ]
    },
    {
     "name": "stderr",
     "output_type": "stream",
     "text": [
      "\r",
      " 38%|██████████████████████████████▎                                                 | 312/823 [02:12<03:28,  2.46it/s]"
     ]
    },
    {
     "name": "stdout",
     "output_type": "stream",
     "text": [
      "\n",
      "5374    AD\n",
      "5375    AD\n",
      "5376    AD\n",
      "5377    AD\n",
      "5378    AD\n",
      "5379    AD\n",
      "Name: Group, dtype: object\n",
      "AD\n",
      "(166, 256, 256)\n"
     ]
    },
    {
     "name": "stderr",
     "output_type": "stream",
     "text": [
      "\r",
      " 38%|██████████████████████████████▍                                                 | 313/823 [02:13<03:28,  2.45it/s]"
     ]
    },
    {
     "name": "stdout",
     "output_type": "stream",
     "text": [
      "\n",
      "5359    AD\n",
      "5360    AD\n",
      "5361    AD\n",
      "5362    AD\n",
      "5363    AD\n",
      "5364    AD\n",
      "5365    AD\n",
      "5366    AD\n",
      "5367    AD\n",
      "5368    AD\n",
      "5369    AD\n",
      "5370    AD\n",
      "5371    AD\n",
      "5372    AD\n",
      "5373    AD\n",
      "Name: Group, dtype: object\n",
      "AD\n",
      "(166, 256, 256)\n"
     ]
    },
    {
     "name": "stderr",
     "output_type": "stream",
     "text": [
      "\r",
      " 38%|██████████████████████████████▌                                                 | 314/823 [02:13<03:39,  2.32it/s]"
     ]
    },
    {
     "name": "stdout",
     "output_type": "stream",
     "text": [
      "\n",
      "5344    CN\n",
      "5345    CN\n",
      "5346    CN\n",
      "5347    CN\n",
      "5348    CN\n",
      "5349    CN\n",
      "5350    CN\n",
      "5351    CN\n",
      "5352    CN\n",
      "5353    CN\n",
      "5354    CN\n",
      "5355    CN\n",
      "5356    CN\n",
      "5357    CN\n",
      "5358    CN\n",
      "Name: Group, dtype: object\n",
      "CN\n",
      "(166, 256, 256)\n"
     ]
    },
    {
     "name": "stderr",
     "output_type": "stream",
     "text": [
      "\r",
      " 38%|██████████████████████████████▌                                                 | 315/823 [02:13<03:37,  2.33it/s]"
     ]
    },
    {
     "name": "stdout",
     "output_type": "stream",
     "text": [
      "\n",
      "5334    MCI\n",
      "5335    MCI\n",
      "5336    MCI\n",
      "5337    MCI\n",
      "5338    MCI\n",
      "5339    MCI\n",
      "5340    MCI\n",
      "5341    MCI\n",
      "5342    MCI\n",
      "5343    MCI\n",
      "Name: Group, dtype: object\n",
      "MCI\n",
      "(166, 256, 256)\n"
     ]
    },
    {
     "name": "stderr",
     "output_type": "stream",
     "text": [
      "\r",
      " 38%|██████████████████████████████▋                                                 | 316/823 [02:14<03:50,  2.20it/s]"
     ]
    },
    {
     "name": "stdout",
     "output_type": "stream",
     "text": [
      "\n",
      "5324    MCI\n",
      "5325    MCI\n",
      "5326    MCI\n",
      "5327    MCI\n",
      "5328    MCI\n",
      "5329    MCI\n",
      "5330    MCI\n",
      "5331    MCI\n",
      "5332    MCI\n",
      "5333    MCI\n",
      "Name: Group, dtype: object\n",
      "MCI\n",
      "(166, 256, 256)\n"
     ]
    },
    {
     "name": "stderr",
     "output_type": "stream",
     "text": [
      "\r",
      " 39%|██████████████████████████████▊                                                 | 317/823 [02:14<03:47,  2.23it/s]"
     ]
    },
    {
     "name": "stdout",
     "output_type": "stream",
     "text": [
      "\n",
      "5306    MCI\n",
      "5307    MCI\n",
      "5308    MCI\n",
      "5309    MCI\n",
      "5310    MCI\n",
      "5311    MCI\n",
      "5312    MCI\n",
      "5313    MCI\n",
      "5314    MCI\n",
      "5315    MCI\n",
      "5316    MCI\n",
      "5317    MCI\n",
      "5318    MCI\n",
      "5319    MCI\n",
      "5320    MCI\n",
      "5321    MCI\n",
      "5322    MCI\n",
      "5323    MCI\n",
      "Name: Group, dtype: object\n",
      "MCI\n",
      "(166, 256, 256)\n"
     ]
    },
    {
     "name": "stderr",
     "output_type": "stream",
     "text": [
      "\r",
      " 39%|██████████████████████████████▉                                                 | 318/823 [02:15<03:52,  2.17it/s]"
     ]
    },
    {
     "name": "stdout",
     "output_type": "stream",
     "text": [
      "\n",
      "5297    CN\n",
      "5298    CN\n",
      "5299    CN\n",
      "5300    CN\n",
      "5301    CN\n",
      "5302    CN\n",
      "5303    CN\n",
      "5304    CN\n",
      "5305    CN\n",
      "Name: Group, dtype: object\n",
      "CN\n",
      "(166, 256, 256)\n"
     ]
    },
    {
     "name": "stderr",
     "output_type": "stream",
     "text": [
      "\r",
      " 39%|███████████████████████████████                                                 | 319/823 [02:15<03:55,  2.14it/s]"
     ]
    },
    {
     "name": "stdout",
     "output_type": "stream",
     "text": [
      "\n",
      "5287    MCI\n",
      "5288    MCI\n",
      "5289    MCI\n",
      "5290    MCI\n",
      "5291    MCI\n",
      "5292    MCI\n",
      "5293    MCI\n",
      "5294    MCI\n",
      "5295    MCI\n",
      "5296    MCI\n",
      "Name: Group, dtype: object\n",
      "MCI\n",
      "(166, 256, 256)\n"
     ]
    },
    {
     "name": "stderr",
     "output_type": "stream",
     "text": [
      "\r",
      " 39%|███████████████████████████████                                                 | 320/823 [02:16<04:01,  2.08it/s]"
     ]
    },
    {
     "name": "stdout",
     "output_type": "stream",
     "text": [
      "\n",
      "5277    MCI\n",
      "5278    MCI\n",
      "5279    MCI\n",
      "5280    MCI\n",
      "5281    MCI\n",
      "5282    MCI\n",
      "5283    MCI\n",
      "5284    MCI\n",
      "5285    MCI\n",
      "5286    MCI\n",
      "Name: Group, dtype: object\n",
      "MCI\n",
      "(166, 256, 256)\n"
     ]
    },
    {
     "name": "stderr",
     "output_type": "stream",
     "text": [
      "\r",
      " 39%|███████████████████████████████▏                                                | 321/823 [02:16<04:00,  2.08it/s]"
     ]
    },
    {
     "name": "stdout",
     "output_type": "stream",
     "text": [
      "\n",
      "5259    AD\n",
      "5260    AD\n",
      "5261    AD\n",
      "5262    AD\n",
      "5263    AD\n",
      "5264    AD\n",
      "5265    AD\n",
      "5266    AD\n",
      "5267    AD\n",
      "5268    AD\n",
      "5269    AD\n",
      "5270    AD\n",
      "5271    AD\n",
      "5272    AD\n",
      "5273    AD\n",
      "5274    AD\n",
      "5275    AD\n",
      "5276    AD\n",
      "Name: Group, dtype: object\n",
      "AD\n",
      "(166, 256, 256)\n"
     ]
    },
    {
     "name": "stderr",
     "output_type": "stream",
     "text": [
      "\r",
      " 39%|███████████████████████████████▎                                                | 322/823 [02:17<03:56,  2.12it/s]"
     ]
    },
    {
     "name": "stdout",
     "output_type": "stream",
     "text": [
      "\n",
      "5241    MCI\n",
      "5242    MCI\n",
      "5243    MCI\n",
      "5244    MCI\n",
      "5245    MCI\n",
      "5246    MCI\n",
      "5247    MCI\n",
      "5248    MCI\n",
      "5249    MCI\n",
      "5250    MCI\n",
      "5251    MCI\n",
      "5252    MCI\n",
      "5253    MCI\n",
      "5254    MCI\n",
      "5255    MCI\n",
      "5256    MCI\n",
      "5257    MCI\n",
      "5258    MCI\n",
      "Name: Group, dtype: object\n",
      "MCI\n",
      "(166, 256, 256)\n"
     ]
    },
    {
     "name": "stderr",
     "output_type": "stream",
     "text": [
      "\r",
      " 39%|███████████████████████████████▍                                                | 323/823 [02:17<03:43,  2.23it/s]"
     ]
    },
    {
     "name": "stdout",
     "output_type": "stream",
     "text": [
      "\n",
      "5223    AD\n",
      "5224    AD\n",
      "5225    AD\n",
      "5226    AD\n",
      "5227    AD\n",
      "5228    AD\n",
      "5229    AD\n",
      "5230    AD\n",
      "5231    AD\n",
      "5232    AD\n",
      "5233    AD\n",
      "5234    AD\n",
      "5235    AD\n",
      "5236    AD\n",
      "5237    AD\n",
      "5238    AD\n",
      "5239    AD\n",
      "5240    AD\n",
      "Name: Group, dtype: object\n",
      "AD\n",
      "(166, 256, 256)\n"
     ]
    },
    {
     "name": "stderr",
     "output_type": "stream",
     "text": [
      "\r",
      " 39%|███████████████████████████████▍                                                | 324/823 [02:18<03:36,  2.30it/s]"
     ]
    },
    {
     "name": "stdout",
     "output_type": "stream",
     "text": [
      "\n",
      "5215    CN\n",
      "5216    CN\n",
      "5217    CN\n",
      "5218    CN\n",
      "5219    CN\n",
      "5220    CN\n",
      "5221    CN\n",
      "5222    CN\n",
      "Name: Group, dtype: object\n",
      "CN\n",
      "(166, 256, 256)\n"
     ]
    },
    {
     "name": "stderr",
     "output_type": "stream",
     "text": [
      "\r",
      " 39%|███████████████████████████████▌                                                | 325/823 [02:18<03:34,  2.32it/s]"
     ]
    },
    {
     "name": "stdout",
     "output_type": "stream",
     "text": [
      "\n",
      "5205    AD\n",
      "5206    AD\n",
      "5207    AD\n",
      "5208    AD\n",
      "5209    AD\n",
      "5210    AD\n",
      "5211    AD\n",
      "5212    AD\n",
      "5213    AD\n",
      "5214    AD\n",
      "Name: Group, dtype: object\n",
      "AD\n",
      "(166, 256, 256)\n"
     ]
    },
    {
     "name": "stderr",
     "output_type": "stream",
     "text": [
      "\r",
      " 40%|███████████████████████████████▋                                                | 326/823 [02:18<03:29,  2.37it/s]"
     ]
    },
    {
     "name": "stdout",
     "output_type": "stream",
     "text": [
      "\n",
      "5195    CN\n",
      "5196    CN\n",
      "5197    CN\n",
      "5198    CN\n",
      "5199    CN\n",
      "5200    CN\n",
      "5201    CN\n",
      "5202    CN\n",
      "5203    CN\n",
      "5204    CN\n",
      "Name: Group, dtype: object\n",
      "CN\n",
      "(166, 256, 256)\n"
     ]
    },
    {
     "name": "stderr",
     "output_type": "stream",
     "text": [
      "\r",
      " 40%|███████████████████████████████▊                                                | 327/823 [02:19<03:30,  2.36it/s]"
     ]
    },
    {
     "name": "stdout",
     "output_type": "stream",
     "text": [
      "\n",
      "5186    AD\n",
      "5187    AD\n",
      "5188    AD\n",
      "5189    AD\n",
      "5190    AD\n",
      "5191    AD\n",
      "5192    AD\n",
      "5193    AD\n",
      "5194    AD\n",
      "Name: Group, dtype: object\n",
      "AD\n",
      "(166, 256, 256)\n"
     ]
    },
    {
     "name": "stderr",
     "output_type": "stream",
     "text": [
      "\r",
      " 40%|███████████████████████████████▉                                                | 328/823 [02:19<03:39,  2.25it/s]"
     ]
    },
    {
     "name": "stdout",
     "output_type": "stream",
     "text": [
      "\n",
      "5177    AD\n",
      "5178    AD\n",
      "5179    AD\n",
      "5180    AD\n",
      "5181    AD\n",
      "5182    AD\n",
      "5183    AD\n",
      "5184    AD\n",
      "5185    AD\n",
      "Name: Group, dtype: object\n",
      "AD\n",
      "(166, 256, 256)\n"
     ]
    },
    {
     "name": "stderr",
     "output_type": "stream",
     "text": [
      "\r",
      " 40%|███████████████████████████████▉                                                | 329/823 [02:20<03:39,  2.25it/s]"
     ]
    },
    {
     "name": "stdout",
     "output_type": "stream",
     "text": [
      "\n",
      "5168    MCI\n",
      "5169    MCI\n",
      "5170    MCI\n",
      "5171    MCI\n",
      "5172    MCI\n",
      "5173    MCI\n",
      "5174    MCI\n",
      "5175    MCI\n",
      "5176    MCI\n",
      "Name: Group, dtype: object\n",
      "MCI\n",
      "(166, 256, 256)\n"
     ]
    },
    {
     "name": "stderr",
     "output_type": "stream",
     "text": [
      "\r",
      " 40%|████████████████████████████████                                                | 330/823 [02:20<03:44,  2.20it/s]"
     ]
    },
    {
     "name": "stdout",
     "output_type": "stream",
     "text": [
      "\n",
      "5152    CN\n",
      "5153    CN\n",
      "5154    CN\n",
      "5155    CN\n",
      "5156    CN\n",
      "5157    CN\n",
      "5158    CN\n",
      "5159    CN\n",
      "5160    CN\n",
      "5161    CN\n",
      "5162    CN\n",
      "5163    CN\n",
      "5164    CN\n",
      "5165    CN\n",
      "5166    CN\n",
      "5167    CN\n",
      "Name: Group, dtype: object\n",
      "CN\n",
      "(166, 256, 256)\n"
     ]
    },
    {
     "name": "stderr",
     "output_type": "stream",
     "text": [
      "\r",
      " 40%|████████████████████████████████▏                                               | 331/823 [02:21<03:47,  2.17it/s]"
     ]
    },
    {
     "name": "stdout",
     "output_type": "stream",
     "text": [
      "\n",
      "5136    MCI\n",
      "5137    MCI\n",
      "5138    MCI\n",
      "5139    MCI\n",
      "5140    MCI\n",
      "5141    MCI\n",
      "5142    MCI\n",
      "5143    MCI\n",
      "5144    MCI\n",
      "5145    MCI\n",
      "5146    MCI\n",
      "5147    MCI\n",
      "5148    MCI\n",
      "5149    MCI\n",
      "5150    MCI\n",
      "5151    MCI\n",
      "Name: Group, dtype: object\n",
      "MCI\n",
      "(166, 256, 256)\n"
     ]
    },
    {
     "name": "stderr",
     "output_type": "stream",
     "text": [
      "\r",
      " 40%|████████████████████████████████▎                                               | 332/823 [02:21<03:53,  2.10it/s]"
     ]
    },
    {
     "name": "stdout",
     "output_type": "stream",
     "text": [
      "\n",
      "5127    CN\n",
      "5128    CN\n",
      "5129    CN\n",
      "5130    CN\n",
      "5131    CN\n",
      "5132    CN\n",
      "5133    CN\n",
      "5134    CN\n",
      "5135    CN\n",
      "Name: Group, dtype: object\n",
      "CN\n",
      "(166, 256, 256)\n"
     ]
    },
    {
     "name": "stderr",
     "output_type": "stream",
     "text": [
      "\r",
      " 40%|████████████████████████████████▎                                               | 333/823 [02:22<03:46,  2.16it/s]"
     ]
    },
    {
     "name": "stdout",
     "output_type": "stream",
     "text": [
      "\n",
      "5111    CN\n",
      "5112    CN\n",
      "5113    CN\n",
      "5114    CN\n",
      "5115    CN\n",
      "5116    CN\n",
      "5117    CN\n",
      "5118    CN\n",
      "5119    CN\n",
      "5120    CN\n",
      "5121    CN\n",
      "5122    CN\n",
      "5123    CN\n",
      "5124    CN\n",
      "5125    CN\n",
      "5126    CN\n",
      "Name: Group, dtype: object\n",
      "CN\n",
      "(166, 256, 256)\n"
     ]
    },
    {
     "name": "stderr",
     "output_type": "stream",
     "text": [
      "\r",
      " 41%|████████████████████████████████▍                                               | 334/823 [02:22<03:45,  2.17it/s]"
     ]
    },
    {
     "name": "stdout",
     "output_type": "stream",
     "text": [
      "\n",
      "5095    CN\n",
      "5096    CN\n",
      "5097    CN\n",
      "5098    CN\n",
      "5099    CN\n",
      "5100    CN\n",
      "5101    CN\n",
      "5102    CN\n",
      "5103    CN\n",
      "5104    CN\n",
      "5105    CN\n",
      "5106    CN\n",
      "5107    CN\n",
      "5108    CN\n",
      "5109    CN\n",
      "5110    CN\n",
      "Name: Group, dtype: object\n",
      "CN\n",
      "(166, 256, 256)\n"
     ]
    },
    {
     "name": "stderr",
     "output_type": "stream",
     "text": [
      "\r",
      " 41%|████████████████████████████████▌                                               | 335/823 [02:23<03:46,  2.15it/s]"
     ]
    },
    {
     "name": "stdout",
     "output_type": "stream",
     "text": [
      "\n",
      "5086    AD\n",
      "5087    AD\n",
      "5088    AD\n",
      "5089    AD\n",
      "5090    AD\n",
      "5091    AD\n",
      "5092    AD\n",
      "5093    AD\n",
      "5094    AD\n",
      "Name: Group, dtype: object\n",
      "AD\n",
      "(166, 256, 256)\n"
     ]
    },
    {
     "name": "stderr",
     "output_type": "stream",
     "text": [
      "\r",
      " 41%|████████████████████████████████▋                                               | 336/823 [02:23<03:44,  2.17it/s]"
     ]
    },
    {
     "name": "stdout",
     "output_type": "stream",
     "text": [
      "\n",
      "5064    CN\n",
      "5065    CN\n",
      "5066    CN\n",
      "5067    CN\n",
      "5068    CN\n",
      "5069    CN\n",
      "5070    CN\n",
      "5071    CN\n",
      "5072    CN\n",
      "5073    CN\n",
      "5074    CN\n",
      "5075    CN\n",
      "5076    CN\n",
      "5077    CN\n",
      "5078    CN\n",
      "5079    CN\n",
      "5080    CN\n",
      "5081    CN\n",
      "5082    CN\n",
      "5083    CN\n",
      "5084    CN\n",
      "5085    CN\n",
      "Name: Group, dtype: object\n",
      "CN\n",
      "(166, 256, 256)\n"
     ]
    },
    {
     "name": "stderr",
     "output_type": "stream",
     "text": [
      "\r",
      " 41%|████████████████████████████████▊                                               | 337/823 [02:24<03:40,  2.21it/s]"
     ]
    },
    {
     "name": "stdout",
     "output_type": "stream",
     "text": [
      "\n",
      "5048    MCI\n",
      "5049    MCI\n",
      "5050    MCI\n",
      "5051    MCI\n",
      "5052    MCI\n",
      "5053    MCI\n",
      "5054    MCI\n",
      "5055    MCI\n",
      "5056    MCI\n",
      "5057    MCI\n",
      "5058    MCI\n",
      "5059    MCI\n",
      "5060    MCI\n",
      "5061    MCI\n",
      "5062    MCI\n",
      "5063    MCI\n",
      "Name: Group, dtype: object\n",
      "MCI\n",
      "(166, 256, 256)\n"
     ]
    },
    {
     "name": "stderr",
     "output_type": "stream",
     "text": [
      "\r",
      " 41%|████████████████████████████████▊                                               | 338/823 [02:24<03:31,  2.30it/s]"
     ]
    },
    {
     "name": "stdout",
     "output_type": "stream",
     "text": [
      "\n",
      "5032    MCI\n",
      "5033    MCI\n",
      "5034    MCI\n",
      "5035    MCI\n",
      "5036    MCI\n",
      "5037    MCI\n",
      "5038    MCI\n",
      "5039    MCI\n",
      "5040    MCI\n",
      "5041    MCI\n",
      "5042    MCI\n",
      "5043    MCI\n",
      "5044    MCI\n",
      "5045    MCI\n",
      "5046    MCI\n",
      "5047    MCI\n",
      "Name: Group, dtype: object\n",
      "MCI\n",
      "(166, 256, 256)\n"
     ]
    },
    {
     "name": "stderr",
     "output_type": "stream",
     "text": [
      "\r",
      " 41%|████████████████████████████████▉                                               | 339/823 [02:24<03:23,  2.38it/s]"
     ]
    },
    {
     "name": "stdout",
     "output_type": "stream",
     "text": [
      "\n",
      "5023    AD\n",
      "5024    AD\n",
      "5025    AD\n",
      "5026    AD\n",
      "5027    AD\n",
      "5028    AD\n",
      "5029    AD\n",
      "5030    AD\n",
      "5031    AD\n",
      "Name: Group, dtype: object\n",
      "AD\n",
      "(166, 256, 256)\n"
     ]
    },
    {
     "name": "stderr",
     "output_type": "stream",
     "text": [
      "\r",
      " 41%|█████████████████████████████████                                               | 340/823 [02:25<03:19,  2.43it/s]"
     ]
    },
    {
     "name": "stdout",
     "output_type": "stream",
     "text": [
      "\n",
      "5014    AD\n",
      "5015    AD\n",
      "5016    AD\n",
      "5017    AD\n",
      "5018    AD\n",
      "5019    AD\n",
      "5020    AD\n",
      "5021    AD\n",
      "5022    AD\n",
      "Name: Group, dtype: object\n",
      "AD\n",
      "(166, 256, 256)\n"
     ]
    },
    {
     "name": "stderr",
     "output_type": "stream",
     "text": [
      "\r",
      " 41%|█████████████████████████████████▏                                              | 341/823 [02:25<03:18,  2.43it/s]"
     ]
    },
    {
     "name": "stdout",
     "output_type": "stream",
     "text": [
      "\n",
      "5005    MCI\n",
      "5006    MCI\n",
      "5007    MCI\n",
      "5008    MCI\n",
      "5009    MCI\n",
      "5010    MCI\n",
      "5011    MCI\n",
      "5012    MCI\n",
      "5013    MCI\n",
      "Name: Group, dtype: object\n",
      "MCI\n",
      "(166, 256, 256)\n"
     ]
    },
    {
     "name": "stderr",
     "output_type": "stream",
     "text": [
      "\r",
      " 42%|█████████████████████████████████▏                                              | 342/823 [02:26<03:12,  2.50it/s]"
     ]
    },
    {
     "name": "stdout",
     "output_type": "stream",
     "text": [
      "\n",
      "4996    AD\n",
      "4997    AD\n",
      "4998    AD\n",
      "4999    AD\n",
      "5000    AD\n",
      "5001    AD\n",
      "5002    AD\n",
      "5003    AD\n",
      "5004    AD\n",
      "Name: Group, dtype: object\n",
      "AD\n",
      "(166, 256, 256)\n"
     ]
    },
    {
     "name": "stderr",
     "output_type": "stream",
     "text": [
      "\r",
      " 42%|█████████████████████████████████▎                                              | 343/823 [02:26<03:25,  2.34it/s]"
     ]
    },
    {
     "name": "stdout",
     "output_type": "stream",
     "text": [
      "\n",
      "4987    AD\n",
      "4988    AD\n",
      "4989    AD\n",
      "4990    AD\n",
      "4991    AD\n",
      "4992    AD\n",
      "4993    AD\n",
      "4994    AD\n",
      "4995    AD\n",
      "Name: Group, dtype: object\n",
      "AD\n",
      "(166, 256, 256)\n"
     ]
    },
    {
     "name": "stderr",
     "output_type": "stream",
     "text": [
      "\r",
      " 42%|█████████████████████████████████▍                                              | 344/823 [02:26<03:29,  2.29it/s]"
     ]
    },
    {
     "name": "stdout",
     "output_type": "stream",
     "text": [
      "\n",
      "4971    MCI\n",
      "4972    MCI\n",
      "4973    MCI\n",
      "4974    MCI\n",
      "4975    MCI\n",
      "4976    MCI\n",
      "4977    MCI\n",
      "4978    MCI\n",
      "4979    MCI\n",
      "4980    MCI\n",
      "4981    MCI\n",
      "4982    MCI\n",
      "4983    MCI\n",
      "4984    MCI\n",
      "4985    MCI\n",
      "4986    MCI\n",
      "Name: Group, dtype: object\n",
      "MCI\n",
      "(166, 256, 256)\n"
     ]
    },
    {
     "name": "stderr",
     "output_type": "stream",
     "text": [
      "\r",
      " 42%|█████████████████████████████████▌                                              | 345/823 [02:27<03:29,  2.28it/s]"
     ]
    },
    {
     "name": "stdout",
     "output_type": "stream",
     "text": [
      "\n",
      "4962    MCI\n",
      "4963    MCI\n",
      "4964    MCI\n",
      "4965    MCI\n",
      "4966    MCI\n",
      "4967    MCI\n",
      "4968    MCI\n",
      "4969    MCI\n",
      "4970    MCI\n",
      "Name: Group, dtype: object\n",
      "MCI\n",
      "(166, 256, 256)\n"
     ]
    },
    {
     "name": "stderr",
     "output_type": "stream",
     "text": [
      "\r",
      " 42%|█████████████████████████████████▋                                              | 346/823 [02:27<03:34,  2.22it/s]"
     ]
    },
    {
     "name": "stdout",
     "output_type": "stream",
     "text": [
      "\n",
      "4953    CN\n",
      "4954    CN\n",
      "4955    CN\n",
      "4956    CN\n",
      "4957    CN\n",
      "4958    CN\n",
      "4959    CN\n",
      "4960    CN\n",
      "4961    CN\n",
      "Name: Group, dtype: object\n",
      "CN\n",
      "(166, 256, 256)\n"
     ]
    },
    {
     "name": "stderr",
     "output_type": "stream",
     "text": [
      "\r",
      " 42%|█████████████████████████████████▋                                              | 347/823 [02:28<03:31,  2.25it/s]"
     ]
    },
    {
     "name": "stdout",
     "output_type": "stream",
     "text": [
      "\n",
      "4944    CN\n",
      "4945    CN\n",
      "4946    CN\n",
      "4947    CN\n",
      "4948    CN\n",
      "4949    CN\n",
      "4950    CN\n",
      "4951    CN\n",
      "4952    CN\n",
      "Name: Group, dtype: object\n",
      "CN\n",
      "(166, 256, 256)\n"
     ]
    },
    {
     "name": "stderr",
     "output_type": "stream",
     "text": [
      "\r",
      " 42%|█████████████████████████████████▊                                              | 348/823 [02:28<03:34,  2.21it/s]"
     ]
    },
    {
     "name": "stdout",
     "output_type": "stream",
     "text": [
      "\n",
      "4935    MCI\n",
      "4936    MCI\n",
      "4937    MCI\n",
      "4938    MCI\n",
      "4939    MCI\n",
      "4940    MCI\n",
      "4941    MCI\n",
      "4942    MCI\n",
      "4943    MCI\n",
      "Name: Group, dtype: object\n",
      "MCI\n",
      "(166, 256, 256)\n"
     ]
    },
    {
     "name": "stderr",
     "output_type": "stream",
     "text": [
      "\r",
      " 42%|█████████████████████████████████▉                                              | 349/823 [02:29<03:43,  2.13it/s]"
     ]
    },
    {
     "name": "stdout",
     "output_type": "stream",
     "text": [
      "\n",
      "4926    MCI\n",
      "4927    MCI\n",
      "4928    MCI\n",
      "4929    MCI\n",
      "4930    MCI\n",
      "4931    MCI\n",
      "4932    MCI\n",
      "4933    MCI\n",
      "4934    MCI\n",
      "Name: Group, dtype: object\n",
      "MCI\n",
      "(166, 256, 256)\n"
     ]
    },
    {
     "name": "stderr",
     "output_type": "stream",
     "text": [
      "\r",
      " 43%|██████████████████████████████████                                              | 350/823 [02:29<03:42,  2.13it/s]"
     ]
    },
    {
     "name": "stdout",
     "output_type": "stream",
     "text": [
      "\n",
      "4917    AD\n",
      "4918    AD\n",
      "4919    AD\n",
      "4920    AD\n",
      "4921    AD\n",
      "4922    AD\n",
      "4923    AD\n",
      "4924    AD\n",
      "4925    AD\n",
      "Name: Group, dtype: object\n",
      "AD\n",
      "(166, 256, 256)\n"
     ]
    },
    {
     "name": "stderr",
     "output_type": "stream",
     "text": [
      "\r",
      " 43%|██████████████████████████████████                                              | 351/823 [02:30<03:44,  2.10it/s]"
     ]
    },
    {
     "name": "stdout",
     "output_type": "stream",
     "text": [
      "\n",
      "4899    CN\n",
      "4900    CN\n",
      "4901    CN\n",
      "4902    CN\n",
      "4903    CN\n",
      "4904    CN\n",
      "4905    CN\n",
      "4906    CN\n",
      "4907    CN\n",
      "4908    CN\n",
      "4909    CN\n",
      "4910    CN\n",
      "4911    CN\n",
      "4912    CN\n",
      "4913    CN\n",
      "4914    CN\n",
      "4915    CN\n",
      "4916    CN\n",
      "Name: Group, dtype: object\n",
      "CN\n",
      "(166, 256, 256)\n"
     ]
    },
    {
     "name": "stderr",
     "output_type": "stream",
     "text": [
      "\r",
      " 43%|██████████████████████████████████▏                                             | 352/823 [02:30<03:36,  2.18it/s]"
     ]
    },
    {
     "name": "stdout",
     "output_type": "stream",
     "text": [
      "\n",
      "4889    MCI\n",
      "4890    MCI\n",
      "4891    MCI\n",
      "4892    MCI\n",
      "4893    MCI\n",
      "4894    MCI\n",
      "4895    MCI\n",
      "4896    MCI\n",
      "4897    MCI\n",
      "4898    MCI\n",
      "Name: Group, dtype: object\n",
      "MCI\n",
      "(166, 256, 256)\n"
     ]
    },
    {
     "name": "stderr",
     "output_type": "stream",
     "text": [
      "\r",
      " 43%|██████████████████████████████████▎                                             | 353/823 [02:31<03:27,  2.27it/s]"
     ]
    },
    {
     "name": "stdout",
     "output_type": "stream",
     "text": [
      "\n",
      "4880    CN\n",
      "4881    CN\n",
      "4882    CN\n",
      "4883    CN\n",
      "4884    CN\n",
      "4885    CN\n",
      "4886    CN\n",
      "4887    CN\n",
      "4888    CN\n",
      "Name: Group, dtype: object\n",
      "CN\n",
      "(166, 256, 256)\n"
     ]
    },
    {
     "name": "stderr",
     "output_type": "stream",
     "text": [
      "\r",
      " 43%|██████████████████████████████████▍                                             | 354/823 [02:31<03:22,  2.32it/s]"
     ]
    },
    {
     "name": "stdout",
     "output_type": "stream",
     "text": [
      "\n",
      "4871    AD\n",
      "4872    AD\n",
      "4873    AD\n",
      "4874    AD\n",
      "4875    AD\n",
      "4876    AD\n",
      "4877    AD\n",
      "4878    AD\n",
      "4879    AD\n",
      "Name: Group, dtype: object\n",
      "AD\n",
      "(166, 256, 256)\n"
     ]
    },
    {
     "name": "stderr",
     "output_type": "stream",
     "text": [
      "\r",
      " 43%|██████████████████████████████████▌                                             | 355/823 [02:31<03:18,  2.36it/s]"
     ]
    },
    {
     "name": "stdout",
     "output_type": "stream",
     "text": [
      "\n",
      "4862    MCI\n",
      "4863    MCI\n",
      "4864    MCI\n",
      "4865    MCI\n",
      "4866    MCI\n",
      "4867    MCI\n",
      "4868    MCI\n",
      "4869    MCI\n",
      "4870    MCI\n",
      "Name: Group, dtype: object\n",
      "MCI\n",
      "(166, 256, 256)\n"
     ]
    },
    {
     "name": "stderr",
     "output_type": "stream",
     "text": [
      "\r",
      " 43%|██████████████████████████████████▌                                             | 356/823 [02:32<03:14,  2.40it/s]"
     ]
    },
    {
     "name": "stdout",
     "output_type": "stream",
     "text": [
      "\n",
      "4853    CN\n",
      "4854    CN\n",
      "4855    CN\n",
      "4856    CN\n",
      "4857    CN\n",
      "4858    CN\n",
      "4859    CN\n",
      "4860    CN\n",
      "4861    CN\n",
      "Name: Group, dtype: object\n",
      "CN\n",
      "(166, 256, 256)\n"
     ]
    },
    {
     "name": "stderr",
     "output_type": "stream",
     "text": [
      "\r",
      " 43%|██████████████████████████████████▋                                             | 357/823 [02:32<03:18,  2.34it/s]"
     ]
    },
    {
     "name": "stdout",
     "output_type": "stream",
     "text": [
      "\n",
      "4844    MCI\n",
      "4845    MCI\n",
      "4846    MCI\n",
      "4847    MCI\n",
      "4848    MCI\n",
      "4849    MCI\n",
      "4850    MCI\n",
      "4851    MCI\n",
      "4852    MCI\n",
      "Name: Group, dtype: object\n",
      "MCI\n",
      "(166, 256, 256)\n"
     ]
    },
    {
     "name": "stderr",
     "output_type": "stream",
     "text": [
      "\r",
      " 43%|██████████████████████████████████▊                                             | 358/823 [02:33<03:39,  2.12it/s]"
     ]
    },
    {
     "name": "stdout",
     "output_type": "stream",
     "text": [
      "\n",
      "4835    MCI\n",
      "4836    MCI\n",
      "4837    MCI\n",
      "4838    MCI\n",
      "4839    MCI\n",
      "4840    MCI\n",
      "4841    MCI\n",
      "4842    MCI\n",
      "4843    MCI\n",
      "Name: Group, dtype: object\n",
      "MCI\n",
      "(166, 256, 256)\n"
     ]
    },
    {
     "name": "stderr",
     "output_type": "stream",
     "text": [
      "\r",
      " 44%|██████████████████████████████████▉                                             | 359/823 [02:33<03:38,  2.12it/s]"
     ]
    },
    {
     "name": "stdout",
     "output_type": "stream",
     "text": [
      "\n",
      "4826    AD\n",
      "4827    AD\n",
      "4828    AD\n",
      "4829    AD\n",
      "4830    AD\n",
      "4831    AD\n",
      "4832    AD\n",
      "4833    AD\n",
      "4834    AD\n",
      "Name: Group, dtype: object\n",
      "AD\n",
      "(166, 256, 256)\n"
     ]
    },
    {
     "name": "stderr",
     "output_type": "stream",
     "text": [
      "\r",
      " 44%|██████████████████████████████████▉                                             | 360/823 [02:34<03:46,  2.05it/s]"
     ]
    },
    {
     "name": "stdout",
     "output_type": "stream",
     "text": [
      "\n",
      "4817    AD\n",
      "4818    AD\n",
      "4819    AD\n",
      "4820    AD\n",
      "4821    AD\n",
      "4822    AD\n",
      "4823    AD\n",
      "4824    AD\n",
      "4825    AD\n",
      "Name: Group, dtype: object\n",
      "AD\n",
      "(166, 256, 256)\n"
     ]
    },
    {
     "name": "stderr",
     "output_type": "stream",
     "text": [
      "\r",
      " 44%|███████████████████████████████████                                             | 361/823 [02:34<03:42,  2.08it/s]"
     ]
    },
    {
     "name": "stdout",
     "output_type": "stream",
     "text": [
      "\n",
      "4808    CN\n",
      "4809    CN\n",
      "4810    CN\n",
      "4811    CN\n",
      "4812    CN\n",
      "4813    CN\n",
      "4814    CN\n",
      "4815    CN\n",
      "4816    CN\n",
      "Name: Group, dtype: object\n",
      "CN\n",
      "(166, 256, 256)\n"
     ]
    },
    {
     "name": "stderr",
     "output_type": "stream",
     "text": [
      "\r",
      " 44%|███████████████████████████████████▏                                            | 362/823 [02:35<03:46,  2.04it/s]"
     ]
    },
    {
     "name": "stdout",
     "output_type": "stream",
     "text": [
      "\n",
      "4799    MCI\n",
      "4800    MCI\n",
      "4801    MCI\n",
      "4802    MCI\n",
      "4803    MCI\n",
      "4804    MCI\n",
      "4805    MCI\n",
      "4806    MCI\n",
      "4807    MCI\n",
      "Name: Group, dtype: object\n",
      "MCI\n",
      "(166, 256, 256)\n"
     ]
    },
    {
     "name": "stderr",
     "output_type": "stream",
     "text": [
      "\r",
      " 44%|███████████████████████████████████▎                                            | 363/823 [02:35<03:42,  2.07it/s]"
     ]
    },
    {
     "name": "stdout",
     "output_type": "stream",
     "text": [
      "\n",
      "4790    MCI\n",
      "4791    MCI\n",
      "4792    MCI\n",
      "4793    MCI\n",
      "4794    MCI\n",
      "4795    MCI\n",
      "4796    MCI\n",
      "4797    MCI\n",
      "4798    MCI\n",
      "Name: Group, dtype: object\n",
      "MCI\n",
      "(166, 256, 256)\n"
     ]
    },
    {
     "name": "stderr",
     "output_type": "stream",
     "text": [
      "\r",
      " 44%|███████████████████████████████████▍                                            | 364/823 [02:36<03:45,  2.03it/s]"
     ]
    },
    {
     "name": "stdout",
     "output_type": "stream",
     "text": [
      "\n",
      "4781    MCI\n",
      "4782    MCI\n",
      "4783    MCI\n",
      "4784    MCI\n",
      "4785    MCI\n",
      "4786    MCI\n",
      "4787    MCI\n",
      "4788    MCI\n",
      "4789    MCI\n",
      "Name: Group, dtype: object\n",
      "MCI\n",
      "(166, 256, 256)\n"
     ]
    },
    {
     "name": "stderr",
     "output_type": "stream",
     "text": [
      "\r",
      " 44%|███████████████████████████████████▍                                            | 365/823 [02:36<03:42,  2.06it/s]"
     ]
    },
    {
     "name": "stdout",
     "output_type": "stream",
     "text": [
      "\n",
      "4772    AD\n",
      "4773    AD\n",
      "4774    AD\n",
      "4775    AD\n",
      "4776    AD\n",
      "4777    AD\n",
      "4778    AD\n",
      "4779    AD\n",
      "4780    AD\n",
      "Name: Group, dtype: object\n",
      "AD\n",
      "(166, 256, 256)\n"
     ]
    },
    {
     "name": "stderr",
     "output_type": "stream",
     "text": [
      "\r",
      " 44%|███████████████████████████████████▌                                            | 366/823 [02:37<03:41,  2.06it/s]"
     ]
    },
    {
     "name": "stdout",
     "output_type": "stream",
     "text": [
      "\n",
      "4763    CN\n",
      "4764    CN\n",
      "4765    CN\n",
      "4766    CN\n",
      "4767    CN\n",
      "4768    CN\n",
      "4769    CN\n",
      "4770    CN\n",
      "4771    CN\n",
      "Name: Group, dtype: object\n",
      "CN\n",
      "(166, 256, 256)\n"
     ]
    },
    {
     "name": "stderr",
     "output_type": "stream",
     "text": [
      "\r",
      " 45%|███████████████████████████████████▋                                            | 367/823 [02:37<03:32,  2.14it/s]"
     ]
    },
    {
     "name": "stdout",
     "output_type": "stream",
     "text": [
      "\n",
      "4754    MCI\n",
      "4755    MCI\n",
      "4756    MCI\n",
      "4757    MCI\n",
      "4758    MCI\n",
      "4759    MCI\n",
      "4760    MCI\n",
      "4761    MCI\n",
      "4762    MCI\n",
      "Name: Group, dtype: object\n",
      "MCI\n",
      "(166, 256, 256)\n"
     ]
    },
    {
     "name": "stderr",
     "output_type": "stream",
     "text": [
      "\r",
      " 45%|███████████████████████████████████▊                                            | 368/823 [02:38<03:23,  2.23it/s]"
     ]
    },
    {
     "name": "stdout",
     "output_type": "stream",
     "text": [
      "\n",
      "4745    MCI\n",
      "4746    MCI\n",
      "4747    MCI\n",
      "4748    MCI\n",
      "4749    MCI\n",
      "4750    MCI\n",
      "4751    MCI\n",
      "4752    MCI\n",
      "4753    MCI\n",
      "Name: Group, dtype: object\n",
      "MCI\n",
      "(166, 256, 256)\n"
     ]
    },
    {
     "name": "stderr",
     "output_type": "stream",
     "text": [
      "\r",
      " 45%|███████████████████████████████████▊                                            | 369/823 [02:38<03:16,  2.31it/s]"
     ]
    },
    {
     "name": "stdout",
     "output_type": "stream",
     "text": [
      "\n",
      "4738    MCI\n",
      "4739    MCI\n",
      "4740    MCI\n",
      "4741    MCI\n",
      "4742    MCI\n",
      "4743    MCI\n",
      "4744    MCI\n",
      "Name: Group, dtype: object\n",
      "MCI\n",
      "(166, 256, 256)\n"
     ]
    },
    {
     "name": "stderr",
     "output_type": "stream",
     "text": [
      "\r",
      " 45%|███████████████████████████████████▉                                            | 370/823 [02:38<03:30,  2.15it/s]"
     ]
    },
    {
     "name": "stdout",
     "output_type": "stream",
     "text": [
      "\n",
      "4731    MCI\n",
      "4732    MCI\n",
      "4733    MCI\n",
      "4734    MCI\n",
      "4735    MCI\n",
      "4736    MCI\n",
      "4737    MCI\n",
      "Name: Group, dtype: object\n",
      "MCI\n",
      "(166, 256, 256)\n"
     ]
    },
    {
     "name": "stderr",
     "output_type": "stream",
     "text": [
      "\r",
      " 45%|████████████████████████████████████                                            | 371/823 [02:39<03:31,  2.13it/s]"
     ]
    },
    {
     "name": "stdout",
     "output_type": "stream",
     "text": [
      "\n",
      "4715    CN\n",
      "4716    CN\n",
      "4717    CN\n",
      "4718    CN\n",
      "4719    CN\n",
      "4720    CN\n",
      "4721    CN\n",
      "4722    CN\n",
      "4723    CN\n",
      "4724    CN\n",
      "4725    CN\n",
      "4726    CN\n",
      "4727    CN\n",
      "4728    CN\n",
      "4729    CN\n",
      "4730    CN\n",
      "Name: Group, dtype: object\n",
      "CN\n",
      "(166, 256, 256)\n"
     ]
    },
    {
     "name": "stderr",
     "output_type": "stream",
     "text": [
      "\r",
      " 45%|████████████████████████████████████▏                                           | 372/823 [02:39<03:33,  2.11it/s]"
     ]
    },
    {
     "name": "stdout",
     "output_type": "stream",
     "text": [
      "\n",
      "4708    CN\n",
      "4709    CN\n",
      "4710    CN\n",
      "4711    CN\n",
      "4712    CN\n",
      "4713    CN\n",
      "4714    CN\n",
      "Name: Group, dtype: object\n",
      "CN\n",
      "(166, 256, 256)\n"
     ]
    },
    {
     "name": "stderr",
     "output_type": "stream",
     "text": [
      "\r",
      " 45%|████████████████████████████████████▎                                           | 373/823 [02:40<03:30,  2.14it/s]"
     ]
    },
    {
     "name": "stdout",
     "output_type": "stream",
     "text": [
      "\n",
      "4701    MCI\n",
      "4702    MCI\n",
      "4703    MCI\n",
      "4704    MCI\n",
      "4705    MCI\n",
      "4706    MCI\n",
      "4707    MCI\n",
      "Name: Group, dtype: object\n",
      "MCI\n",
      "(166, 256, 256)\n"
     ]
    },
    {
     "name": "stderr",
     "output_type": "stream",
     "text": [
      "\r",
      " 45%|████████████████████████████████████▎                                           | 374/823 [02:40<03:30,  2.14it/s]"
     ]
    },
    {
     "name": "stdout",
     "output_type": "stream",
     "text": [
      "\n",
      "4694    CN\n",
      "4695    CN\n",
      "4696    CN\n",
      "4697    CN\n",
      "4698    CN\n",
      "4699    CN\n",
      "4700    CN\n",
      "Name: Group, dtype: object\n",
      "CN\n",
      "(166, 256, 256)\n"
     ]
    },
    {
     "name": "stderr",
     "output_type": "stream",
     "text": [
      "\r",
      " 46%|████████████████████████████████████▍                                           | 375/823 [02:41<03:34,  2.09it/s]"
     ]
    },
    {
     "name": "stdout",
     "output_type": "stream",
     "text": [
      "\n",
      "4687    CN\n",
      "4688    CN\n",
      "4689    CN\n",
      "4690    CN\n",
      "4691    CN\n",
      "4692    CN\n",
      "4693    CN\n",
      "Name: Group, dtype: object\n",
      "CN\n",
      "(166, 256, 256)\n"
     ]
    },
    {
     "name": "stderr",
     "output_type": "stream",
     "text": [
      "\r",
      " 46%|████████████████████████████████████▌                                           | 376/823 [02:41<03:28,  2.14it/s]"
     ]
    },
    {
     "name": "stdout",
     "output_type": "stream",
     "text": [
      "\n",
      "4671    MCI\n",
      "4672    MCI\n",
      "4673    MCI\n",
      "4674    MCI\n",
      "4675    MCI\n",
      "4676    MCI\n",
      "4677    MCI\n",
      "4678    MCI\n",
      "4679    MCI\n",
      "4680    MCI\n",
      "4681    MCI\n",
      "4682    MCI\n",
      "4683    MCI\n",
      "4684    MCI\n",
      "4685    MCI\n",
      "4686    MCI\n",
      "Name: Group, dtype: object\n",
      "MCI\n",
      "(166, 256, 256)\n"
     ]
    },
    {
     "name": "stderr",
     "output_type": "stream",
     "text": [
      "\r",
      " 46%|████████████████████████████████████▋                                           | 377/823 [02:42<03:31,  2.11it/s]"
     ]
    },
    {
     "name": "stdout",
     "output_type": "stream",
     "text": [
      "\n",
      "4664    MCI\n",
      "4665    MCI\n",
      "4666    MCI\n",
      "4667    MCI\n",
      "4668    MCI\n",
      "4669    MCI\n",
      "4670    MCI\n",
      "Name: Group, dtype: object\n",
      "MCI\n",
      "(166, 256, 256)\n"
     ]
    },
    {
     "name": "stderr",
     "output_type": "stream",
     "text": [
      "\r",
      " 46%|████████████████████████████████████▋                                           | 378/823 [02:42<03:28,  2.13it/s]"
     ]
    },
    {
     "name": "stdout",
     "output_type": "stream",
     "text": [
      "\n",
      "4657    MCI\n",
      "4658    MCI\n",
      "4659    MCI\n",
      "4660    MCI\n",
      "4661    MCI\n",
      "4662    MCI\n",
      "4663    MCI\n",
      "Name: Group, dtype: object\n",
      "MCI\n",
      "(166, 256, 256)\n"
     ]
    },
    {
     "name": "stderr",
     "output_type": "stream",
     "text": [
      "\r",
      " 46%|████████████████████████████████████▊                                           | 379/823 [02:43<03:31,  2.10it/s]"
     ]
    },
    {
     "name": "stdout",
     "output_type": "stream",
     "text": [
      "\n",
      "4650    MCI\n",
      "4651    MCI\n",
      "4652    MCI\n",
      "4653    MCI\n",
      "4654    MCI\n",
      "4655    MCI\n",
      "4656    MCI\n",
      "Name: Group, dtype: object\n",
      "MCI\n",
      "(166, 256, 256)\n"
     ]
    },
    {
     "name": "stderr",
     "output_type": "stream",
     "text": [
      "\r",
      " 46%|████████████████████████████████████▉                                           | 380/823 [02:43<03:39,  2.01it/s]"
     ]
    },
    {
     "name": "stdout",
     "output_type": "stream",
     "text": [
      "\n",
      "4636    MCI\n",
      "4637    MCI\n",
      "4638    MCI\n",
      "4639    MCI\n",
      "4640    MCI\n",
      "4641    MCI\n",
      "4642    MCI\n",
      "4643    MCI\n",
      "4644    MCI\n",
      "4645    MCI\n",
      "4646    MCI\n",
      "4647    MCI\n",
      "4648    MCI\n",
      "4649    MCI\n",
      "Name: Group, dtype: object\n",
      "MCI\n",
      "(166, 256, 256)\n"
     ]
    },
    {
     "name": "stderr",
     "output_type": "stream",
     "text": [
      "\r",
      " 46%|█████████████████████████████████████                                           | 381/823 [02:44<03:32,  2.08it/s]"
     ]
    },
    {
     "name": "stdout",
     "output_type": "stream",
     "text": [
      "\n",
      "4629    AD\n",
      "4630    AD\n",
      "4631    AD\n",
      "4632    AD\n",
      "4633    AD\n",
      "4634    AD\n",
      "4635    AD\n",
      "Name: Group, dtype: object\n",
      "AD\n",
      "(166, 256, 256)\n"
     ]
    },
    {
     "name": "stderr",
     "output_type": "stream",
     "text": [
      "\r",
      " 46%|█████████████████████████████████████▏                                          | 382/823 [02:44<03:23,  2.16it/s]"
     ]
    },
    {
     "name": "stdout",
     "output_type": "stream",
     "text": [
      "\n",
      "4622    MCI\n",
      "4623    MCI\n",
      "4624    MCI\n",
      "4625    MCI\n",
      "4626    MCI\n",
      "4627    MCI\n",
      "4628    MCI\n",
      "Name: Group, dtype: object\n",
      "MCI\n",
      "(166, 256, 256)\n"
     ]
    },
    {
     "name": "stderr",
     "output_type": "stream",
     "text": [
      "\r",
      " 47%|█████████████████████████████████████▏                                          | 383/823 [02:45<03:12,  2.29it/s]"
     ]
    },
    {
     "name": "stdout",
     "output_type": "stream",
     "text": [
      "\n",
      "4606    MCI\n",
      "4607    MCI\n",
      "4608    MCI\n",
      "4609    MCI\n",
      "4610    MCI\n",
      "4611    MCI\n",
      "4612    MCI\n",
      "4613    MCI\n",
      "4614    MCI\n",
      "4615    MCI\n",
      "4616    MCI\n",
      "4617    MCI\n",
      "4618    MCI\n",
      "4619    MCI\n",
      "4620    MCI\n",
      "4621    MCI\n",
      "Name: Group, dtype: object\n",
      "MCI\n",
      "(166, 256, 256)\n"
     ]
    },
    {
     "name": "stderr",
     "output_type": "stream",
     "text": [
      "\r",
      " 47%|█████████████████████████████████████▎                                          | 384/823 [02:45<03:04,  2.38it/s]"
     ]
    },
    {
     "name": "stdout",
     "output_type": "stream",
     "text": [
      "\n",
      "4599    MCI\n",
      "4600    MCI\n",
      "4601    MCI\n",
      "4602    MCI\n",
      "4603    MCI\n",
      "4604    MCI\n",
      "4605    MCI\n",
      "Name: Group, dtype: object\n",
      "MCI\n",
      "(166, 256, 256)\n"
     ]
    },
    {
     "name": "stderr",
     "output_type": "stream",
     "text": [
      "\r",
      " 47%|█████████████████████████████████████▍                                          | 385/823 [02:45<02:59,  2.44it/s]"
     ]
    },
    {
     "name": "stdout",
     "output_type": "stream",
     "text": [
      "\n",
      "4590    CN\n",
      "4591    CN\n",
      "4592    CN\n",
      "4593    CN\n",
      "4594    CN\n",
      "4595    CN\n",
      "4596    CN\n",
      "4597    CN\n",
      "4598    CN\n",
      "Name: Group, dtype: object\n",
      "CN\n",
      "(166, 256, 256)\n"
     ]
    },
    {
     "name": "stderr",
     "output_type": "stream",
     "text": [
      "\r",
      " 47%|█████████████████████████████████████▌                                          | 386/823 [02:46<02:59,  2.44it/s]"
     ]
    },
    {
     "name": "stdout",
     "output_type": "stream",
     "text": [
      "\n",
      "4581    CN\n",
      "4582    CN\n",
      "4583    CN\n",
      "4584    CN\n",
      "4585    CN\n",
      "4586    CN\n",
      "4587    CN\n",
      "4588    CN\n",
      "4589    CN\n",
      "Name: Group, dtype: object\n",
      "CN\n",
      "(166, 256, 256)\n"
     ]
    },
    {
     "name": "stderr",
     "output_type": "stream",
     "text": [
      "\r",
      " 47%|█████████████████████████████████████▌                                          | 387/823 [02:46<02:57,  2.46it/s]"
     ]
    },
    {
     "name": "stdout",
     "output_type": "stream",
     "text": [
      "\n",
      "4572    MCI\n",
      "4573    MCI\n",
      "4574    MCI\n",
      "4575    MCI\n",
      "4576    MCI\n",
      "4577    MCI\n",
      "4578    MCI\n",
      "4579    MCI\n",
      "4580    MCI\n",
      "Name: Group, dtype: object\n",
      "MCI\n",
      "(166, 256, 256)\n"
     ]
    },
    {
     "name": "stderr",
     "output_type": "stream",
     "text": [
      "\r",
      " 47%|█████████████████████████████████████▋                                          | 388/823 [02:47<03:03,  2.38it/s]"
     ]
    },
    {
     "name": "stdout",
     "output_type": "stream",
     "text": [
      "\n",
      "4563    MCI\n",
      "4564    MCI\n",
      "4565    MCI\n",
      "4566    MCI\n",
      "4567    MCI\n",
      "4568    MCI\n",
      "4569    MCI\n",
      "4570    MCI\n",
      "4571    MCI\n",
      "Name: Group, dtype: object\n",
      "MCI\n",
      "(166, 256, 256)\n"
     ]
    },
    {
     "name": "stderr",
     "output_type": "stream",
     "text": [
      "\r",
      " 47%|█████████████████████████████████████▊                                          | 389/823 [02:47<03:12,  2.25it/s]"
     ]
    },
    {
     "name": "stdout",
     "output_type": "stream",
     "text": [
      "\n",
      "4554    MCI\n",
      "4555    MCI\n",
      "4556    MCI\n",
      "4557    MCI\n",
      "4558    MCI\n",
      "4559    MCI\n",
      "4560    MCI\n",
      "4561    MCI\n",
      "4562    MCI\n",
      "Name: Group, dtype: object\n",
      "MCI\n",
      "(166, 256, 256)\n"
     ]
    },
    {
     "name": "stderr",
     "output_type": "stream",
     "text": [
      "\r",
      " 47%|█████████████████████████████████████▉                                          | 390/823 [02:47<03:08,  2.29it/s]"
     ]
    },
    {
     "name": "stdout",
     "output_type": "stream",
     "text": [
      "\n",
      "4541    MCI\n",
      "4542    MCI\n",
      "4543    MCI\n",
      "4544    MCI\n",
      "4545    MCI\n",
      "4546    MCI\n",
      "4547    MCI\n",
      "4548    MCI\n",
      "4549    MCI\n",
      "4550    MCI\n",
      "4551    MCI\n",
      "4552    MCI\n",
      "4553    MCI\n",
      "Name: Group, dtype: object\n",
      "MCI\n",
      "(166, 256, 256)\n"
     ]
    },
    {
     "name": "stderr",
     "output_type": "stream",
     "text": [
      "\r",
      " 48%|██████████████████████████████████████                                          | 391/823 [02:48<03:14,  2.22it/s]"
     ]
    },
    {
     "name": "stdout",
     "output_type": "stream",
     "text": [
      "\n",
      "4532    MCI\n",
      "4533    MCI\n",
      "4534    MCI\n",
      "4535    MCI\n",
      "4536    MCI\n",
      "4537    MCI\n",
      "4538    MCI\n",
      "4539    MCI\n",
      "4540    MCI\n",
      "Name: Group, dtype: object\n",
      "MCI\n",
      "(166, 256, 256)\n"
     ]
    },
    {
     "name": "stderr",
     "output_type": "stream",
     "text": [
      "\r",
      " 48%|██████████████████████████████████████                                          | 392/823 [02:48<03:19,  2.16it/s]"
     ]
    },
    {
     "name": "stdout",
     "output_type": "stream",
     "text": [
      "\n",
      "4523    MCI\n",
      "4524    MCI\n",
      "4525    MCI\n",
      "4526    MCI\n",
      "4527    MCI\n",
      "4528    MCI\n",
      "4529    MCI\n",
      "4530    MCI\n",
      "4531    MCI\n",
      "Name: Group, dtype: object\n",
      "MCI\n",
      "(166, 256, 256)\n"
     ]
    },
    {
     "name": "stderr",
     "output_type": "stream",
     "text": [
      "\r",
      " 48%|██████████████████████████████████████▏                                         | 393/823 [02:49<03:27,  2.07it/s]"
     ]
    },
    {
     "name": "stdout",
     "output_type": "stream",
     "text": [
      "\n",
      "4514    MCI\n",
      "4515    MCI\n",
      "4516    MCI\n",
      "4517    MCI\n",
      "4518    MCI\n",
      "4519    MCI\n",
      "4520    MCI\n",
      "4521    MCI\n",
      "4522    MCI\n",
      "Name: Group, dtype: object\n",
      "MCI\n",
      "(166, 256, 256)\n"
     ]
    },
    {
     "name": "stderr",
     "output_type": "stream",
     "text": [
      "\r",
      " 48%|██████████████████████████████████████▎                                         | 394/823 [02:49<03:25,  2.09it/s]"
     ]
    },
    {
     "name": "stdout",
     "output_type": "stream",
     "text": [
      "\n",
      "4505    MCI\n",
      "4506    MCI\n",
      "4507    MCI\n",
      "4508    MCI\n",
      "4509    MCI\n",
      "4510    MCI\n",
      "4511    MCI\n",
      "4512    MCI\n",
      "4513    MCI\n",
      "Name: Group, dtype: object\n",
      "MCI\n",
      "(166, 256, 256)\n"
     ]
    },
    {
     "name": "stderr",
     "output_type": "stream",
     "text": [
      "\r",
      " 48%|██████████████████████████████████████▍                                         | 395/823 [02:50<03:27,  2.06it/s]"
     ]
    },
    {
     "name": "stdout",
     "output_type": "stream",
     "text": [
      "\n",
      "4496    CN\n",
      "4497    CN\n",
      "4498    CN\n",
      "4499    CN\n",
      "4500    CN\n",
      "4501    CN\n",
      "4502    CN\n",
      "4503    CN\n",
      "4504    CN\n",
      "Name: Group, dtype: object\n",
      "CN\n",
      "(166, 256, 256)\n"
     ]
    },
    {
     "name": "stderr",
     "output_type": "stream",
     "text": [
      "\r",
      " 48%|██████████████████████████████████████▍                                         | 396/823 [02:50<03:31,  2.02it/s]"
     ]
    },
    {
     "name": "stdout",
     "output_type": "stream",
     "text": [
      "\n",
      "4487    CN\n",
      "4488    CN\n",
      "4489    CN\n",
      "4490    CN\n",
      "4491    CN\n",
      "4492    CN\n",
      "4493    CN\n",
      "4494    CN\n",
      "4495    CN\n",
      "Name: Group, dtype: object\n",
      "CN\n",
      "(166, 256, 256)\n"
     ]
    },
    {
     "name": "stderr",
     "output_type": "stream",
     "text": [
      "\r",
      " 48%|██████████████████████████████████████▌                                         | 397/823 [02:51<03:22,  2.11it/s]"
     ]
    },
    {
     "name": "stdout",
     "output_type": "stream",
     "text": [
      "\n",
      "4478    MCI\n",
      "4479    MCI\n",
      "4480    MCI\n",
      "4481    MCI\n",
      "4482    MCI\n",
      "4483    MCI\n",
      "4484    MCI\n",
      "4485    MCI\n",
      "4486    MCI\n",
      "Name: Group, dtype: object\n",
      "MCI\n",
      "(166, 256, 256)\n"
     ]
    },
    {
     "name": "stderr",
     "output_type": "stream",
     "text": [
      "\r",
      " 48%|██████████████████████████████████████▋                                         | 398/823 [02:51<03:14,  2.18it/s]"
     ]
    },
    {
     "name": "stdout",
     "output_type": "stream",
     "text": [
      "\n",
      "4469    MCI\n",
      "4470    MCI\n",
      "4471    MCI\n",
      "4472    MCI\n",
      "4473    MCI\n",
      "4474    MCI\n",
      "4475    MCI\n",
      "4476    MCI\n",
      "4477    MCI\n",
      "Name: Group, dtype: object\n",
      "MCI\n",
      "(166, 256, 256)\n"
     ]
    },
    {
     "name": "stderr",
     "output_type": "stream",
     "text": [
      "\r",
      " 48%|██████████████████████████████████████▊                                         | 399/823 [02:52<03:08,  2.25it/s]"
     ]
    },
    {
     "name": "stdout",
     "output_type": "stream",
     "text": [
      "\n",
      "4460    AD\n",
      "4461    AD\n",
      "4462    AD\n",
      "4463    AD\n",
      "4464    AD\n",
      "4465    AD\n",
      "4466    AD\n",
      "4467    AD\n",
      "4468    AD\n",
      "Name: Group, dtype: object\n",
      "AD\n",
      "(166, 256, 256)\n"
     ]
    },
    {
     "name": "stderr",
     "output_type": "stream",
     "text": [
      "\r",
      " 49%|██████████████████████████████████████▉                                         | 400/823 [02:52<03:04,  2.30it/s]"
     ]
    },
    {
     "name": "stdout",
     "output_type": "stream",
     "text": [
      "\n",
      "4451    AD\n",
      "4452    AD\n",
      "4453    AD\n",
      "4454    AD\n",
      "4455    AD\n",
      "4456    AD\n",
      "4457    AD\n",
      "4458    AD\n",
      "4459    AD\n",
      "Name: Group, dtype: object\n",
      "AD\n",
      "(166, 256, 256)\n"
     ]
    },
    {
     "name": "stderr",
     "output_type": "stream",
     "text": [
      "\r",
      " 49%|██████████████████████████████████████▉                                         | 401/823 [02:53<02:59,  2.35it/s]"
     ]
    },
    {
     "name": "stdout",
     "output_type": "stream",
     "text": [
      "\n",
      "4442    MCI\n",
      "4443    MCI\n",
      "4444    MCI\n",
      "4445    MCI\n",
      "4446    MCI\n",
      "4447    MCI\n",
      "4448    MCI\n",
      "4449    MCI\n",
      "4450    MCI\n",
      "Name: Group, dtype: object\n",
      "MCI\n",
      "(166, 256, 256)\n"
     ]
    },
    {
     "name": "stderr",
     "output_type": "stream",
     "text": [
      "\r",
      " 49%|███████████████████████████████████████                                         | 402/823 [02:53<03:13,  2.18it/s]"
     ]
    },
    {
     "name": "stdout",
     "output_type": "stream",
     "text": [
      "\n",
      "4433    MCI\n",
      "4434    MCI\n",
      "4435    MCI\n",
      "4436    MCI\n",
      "4437    MCI\n",
      "4438    MCI\n",
      "4439    MCI\n",
      "4440    MCI\n",
      "4441    MCI\n",
      "Name: Group, dtype: object\n",
      "MCI\n",
      "(166, 256, 256)\n"
     ]
    },
    {
     "name": "stderr",
     "output_type": "stream",
     "text": [
      "\r",
      " 49%|███████████████████████████████████████▏                                        | 403/823 [02:54<03:11,  2.20it/s]"
     ]
    },
    {
     "name": "stdout",
     "output_type": "stream",
     "text": [
      "\n",
      "4424    MCI\n",
      "4425    MCI\n",
      "4426    MCI\n",
      "4427    MCI\n",
      "4428    MCI\n",
      "4429    MCI\n",
      "4430    MCI\n",
      "4431    MCI\n",
      "4432    MCI\n",
      "Name: Group, dtype: object\n",
      "MCI\n",
      "(166, 256, 256)\n"
     ]
    },
    {
     "name": "stderr",
     "output_type": "stream",
     "text": [
      "\r",
      " 49%|███████████████████████████████████████▎                                        | 404/823 [02:54<03:11,  2.18it/s]"
     ]
    },
    {
     "name": "stdout",
     "output_type": "stream",
     "text": [
      "\n",
      "4415    MCI\n",
      "4416    MCI\n",
      "4417    MCI\n",
      "4418    MCI\n",
      "4419    MCI\n",
      "4420    MCI\n",
      "4421    MCI\n",
      "4422    MCI\n",
      "4423    MCI\n",
      "Name: Group, dtype: object\n",
      "MCI\n",
      "(166, 256, 256)\n"
     ]
    },
    {
     "name": "stderr",
     "output_type": "stream",
     "text": [
      "\r",
      " 49%|███████████████████████████████████████▎                                        | 405/823 [02:54<03:11,  2.19it/s]"
     ]
    },
    {
     "name": "stdout",
     "output_type": "stream",
     "text": [
      "\n",
      "4406    MCI\n",
      "4407    MCI\n",
      "4408    MCI\n",
      "4409    MCI\n",
      "4410    MCI\n",
      "4411    MCI\n",
      "4412    MCI\n",
      "4413    MCI\n",
      "4414    MCI\n",
      "Name: Group, dtype: object\n",
      "MCI\n",
      "(166, 256, 256)\n"
     ]
    },
    {
     "name": "stderr",
     "output_type": "stream",
     "text": [
      "\r",
      " 49%|███████████████████████████████████████▍                                        | 406/823 [02:55<03:15,  2.14it/s]"
     ]
    },
    {
     "name": "stdout",
     "output_type": "stream",
     "text": [
      "\n",
      "4397    MCI\n",
      "4398    MCI\n",
      "4399    MCI\n",
      "4400    MCI\n",
      "4401    MCI\n",
      "4402    MCI\n",
      "4403    MCI\n",
      "4404    MCI\n",
      "4405    MCI\n",
      "Name: Group, dtype: object\n",
      "MCI\n",
      "(166, 256, 256)\n"
     ]
    },
    {
     "name": "stderr",
     "output_type": "stream",
     "text": [
      "\r",
      " 49%|███████████████████████████████████████▌                                        | 407/823 [02:55<03:11,  2.17it/s]"
     ]
    },
    {
     "name": "stdout",
     "output_type": "stream",
     "text": [
      "\n",
      "4388    AD\n",
      "4389    AD\n",
      "4390    AD\n",
      "4391    AD\n",
      "4392    AD\n",
      "4393    AD\n",
      "4394    AD\n",
      "4395    AD\n",
      "4396    AD\n",
      "Name: Group, dtype: object\n",
      "AD\n",
      "(166, 256, 256)\n"
     ]
    },
    {
     "name": "stderr",
     "output_type": "stream",
     "text": [
      "\r",
      " 50%|███████████████████████████████████████▋                                        | 408/823 [02:56<03:11,  2.16it/s]"
     ]
    },
    {
     "name": "stdout",
     "output_type": "stream",
     "text": [
      "\n",
      "4379    MCI\n",
      "4380    MCI\n",
      "4381    MCI\n",
      "4382    MCI\n",
      "4383    MCI\n",
      "4384    MCI\n",
      "4385    MCI\n",
      "4386    MCI\n",
      "4387    MCI\n",
      "Name: Group, dtype: object\n",
      "MCI\n",
      "(166, 256, 256)\n"
     ]
    },
    {
     "name": "stderr",
     "output_type": "stream",
     "text": [
      "\r",
      " 50%|███████████████████████████████████████▊                                        | 409/823 [02:56<03:06,  2.22it/s]"
     ]
    },
    {
     "name": "stdout",
     "output_type": "stream",
     "text": [
      "\n",
      "4357    MCI\n",
      "4358    MCI\n",
      "4359    MCI\n",
      "4360    MCI\n",
      "4361    MCI\n",
      "4362    MCI\n",
      "4363    MCI\n",
      "4364    MCI\n",
      "4365    MCI\n",
      "4366    MCI\n",
      "4367    MCI\n",
      "4368    MCI\n",
      "4369    MCI\n",
      "4370    MCI\n",
      "4371    MCI\n",
      "4372    MCI\n",
      "4373    MCI\n",
      "4374    MCI\n",
      "4375    MCI\n",
      "4376    MCI\n",
      "4377    MCI\n",
      "4378    MCI\n",
      "Name: Group, dtype: object\n",
      "MCI\n",
      "(166, 256, 256)\n"
     ]
    },
    {
     "name": "stderr",
     "output_type": "stream",
     "text": [
      "\r",
      " 50%|███████████████████████████████████████▊                                        | 410/823 [02:57<03:06,  2.21it/s]"
     ]
    },
    {
     "name": "stdout",
     "output_type": "stream",
     "text": [
      "\n",
      "4339    CN\n",
      "4340    CN\n",
      "4341    CN\n",
      "4342    CN\n",
      "4343    CN\n",
      "4344    CN\n",
      "4345    CN\n",
      "4346    CN\n",
      "4347    CN\n",
      "4348    CN\n",
      "4349    CN\n",
      "4350    CN\n",
      "4351    CN\n",
      "4352    CN\n",
      "4353    CN\n",
      "4354    CN\n",
      "4355    CN\n",
      "4356    CN\n",
      "Name: Group, dtype: object\n",
      "CN\n",
      "(166, 256, 256)\n"
     ]
    },
    {
     "name": "stderr",
     "output_type": "stream",
     "text": [
      "\r",
      " 50%|███████████████████████████████████████▉                                        | 411/823 [02:57<03:08,  2.18it/s]"
     ]
    },
    {
     "name": "stdout",
     "output_type": "stream",
     "text": [
      "\n",
      "4320    MCI\n",
      "4321    MCI\n",
      "4322    MCI\n",
      "4323    MCI\n",
      "4324    MCI\n",
      "4325    MCI\n",
      "4326    MCI\n",
      "4327    MCI\n",
      "4328    MCI\n",
      "4329    MCI\n",
      "4330    MCI\n",
      "4331    MCI\n",
      "4332    MCI\n",
      "4333    MCI\n",
      "4334    MCI\n",
      "4335    MCI\n",
      "4336    MCI\n",
      "4337    MCI\n",
      "4338    MCI\n",
      "Name: Group, dtype: object\n",
      "MCI\n",
      "(166, 256, 256)\n"
     ]
    },
    {
     "name": "stderr",
     "output_type": "stream",
     "text": [
      "\r",
      " 50%|████████████████████████████████████████                                        | 412/823 [02:58<03:08,  2.18it/s]"
     ]
    },
    {
     "name": "stdout",
     "output_type": "stream",
     "text": [
      "\n",
      "4311    AD\n",
      "4312    AD\n",
      "4313    AD\n",
      "4314    AD\n",
      "4315    AD\n",
      "4316    AD\n",
      "4317    AD\n",
      "4318    AD\n",
      "4319    AD\n",
      "Name: Group, dtype: object\n",
      "AD\n",
      "(166, 256, 256)\n"
     ]
    },
    {
     "name": "stderr",
     "output_type": "stream",
     "text": [
      "\r",
      " 50%|████████████████████████████████████████▏                                       | 413/823 [02:58<03:03,  2.23it/s]"
     ]
    },
    {
     "name": "stdout",
     "output_type": "stream",
     "text": [
      "\n",
      "4293    MCI\n",
      "4294    MCI\n",
      "4295    MCI\n",
      "4296    MCI\n",
      "4297    MCI\n",
      "4298    MCI\n",
      "4299    MCI\n",
      "4300    MCI\n",
      "4301    MCI\n",
      "4302    MCI\n",
      "4303    MCI\n",
      "4304    MCI\n",
      "4305    MCI\n",
      "4306    MCI\n",
      "4307    MCI\n",
      "4308    MCI\n",
      "4309    MCI\n",
      "4310    MCI\n",
      "Name: Group, dtype: object\n",
      "MCI\n",
      "(166, 256, 256)\n"
     ]
    },
    {
     "name": "stderr",
     "output_type": "stream",
     "text": [
      "\r",
      " 50%|████████████████████████████████████████▏                                       | 414/823 [02:58<02:57,  2.31it/s]"
     ]
    },
    {
     "name": "stdout",
     "output_type": "stream",
     "text": [
      "\n",
      "4275    MCI\n",
      "4276    MCI\n",
      "4277    MCI\n",
      "4278    MCI\n",
      "4279    MCI\n",
      "4280    MCI\n",
      "4281    MCI\n",
      "4282    MCI\n",
      "4283    MCI\n",
      "4284    MCI\n",
      "4285    MCI\n",
      "4286    MCI\n",
      "4287    MCI\n",
      "4288    MCI\n",
      "4289    MCI\n",
      "4290    MCI\n",
      "4291    MCI\n",
      "4292    MCI\n",
      "Name: Group, dtype: object\n",
      "MCI\n",
      "(166, 256, 256)\n"
     ]
    },
    {
     "name": "stderr",
     "output_type": "stream",
     "text": [
      "\r",
      " 50%|████████████████████████████████████████▎                                       | 415/823 [02:59<02:51,  2.37it/s]"
     ]
    },
    {
     "name": "stdout",
     "output_type": "stream",
     "text": [
      "\n",
      "4265    MCI\n",
      "4266    MCI\n",
      "4267    MCI\n",
      "4268    MCI\n",
      "4269    MCI\n",
      "4270    MCI\n",
      "4271    MCI\n",
      "4272    MCI\n",
      "4273    MCI\n",
      "4274    MCI\n",
      "Name: Group, dtype: object\n",
      "MCI\n",
      "(166, 256, 256)\n"
     ]
    },
    {
     "name": "stderr",
     "output_type": "stream",
     "text": [
      "\r",
      " 51%|████████████████████████████████████████▍                                       | 416/823 [02:59<02:50,  2.39it/s]"
     ]
    },
    {
     "name": "stdout",
     "output_type": "stream",
     "text": [
      "\n",
      "4255    CN\n",
      "4256    CN\n",
      "4257    CN\n",
      "4258    CN\n",
      "4259    CN\n",
      "4260    CN\n",
      "4261    CN\n",
      "4262    CN\n",
      "4263    CN\n",
      "4264    CN\n",
      "Name: Group, dtype: object\n",
      "CN\n",
      "(166, 256, 256)\n"
     ]
    },
    {
     "name": "stderr",
     "output_type": "stream",
     "text": [
      "\r",
      " 51%|████████████████████████████████████████▌                                       | 417/823 [03:00<02:45,  2.46it/s]"
     ]
    },
    {
     "name": "stdout",
     "output_type": "stream",
     "text": [
      "\n",
      "4240    MCI\n",
      "4241    MCI\n",
      "4242    MCI\n",
      "4243    MCI\n",
      "4244    MCI\n",
      "4245    MCI\n",
      "4246    MCI\n",
      "4247    MCI\n",
      "4248    MCI\n",
      "Name: Group, dtype: object\n",
      "MCI\n",
      "(166, 256, 256)\n"
     ]
    },
    {
     "name": "stderr",
     "output_type": "stream",
     "text": [
      "\r",
      " 51%|████████████████████████████████████████▋                                       | 418/823 [03:00<02:41,  2.51it/s]"
     ]
    },
    {
     "name": "stdout",
     "output_type": "stream",
     "text": [
      "\n",
      "4231    MCI\n",
      "4232    MCI\n",
      "4233    MCI\n",
      "4234    MCI\n",
      "4235    MCI\n",
      "4236    MCI\n",
      "4237    MCI\n",
      "4238    MCI\n",
      "4239    MCI\n",
      "Name: Group, dtype: object\n",
      "MCI\n",
      "(166, 256, 256)\n"
     ]
    },
    {
     "name": "stderr",
     "output_type": "stream",
     "text": [
      "\r",
      " 51%|████████████████████████████████████████▋                                       | 419/823 [03:00<02:41,  2.50it/s]"
     ]
    },
    {
     "name": "stdout",
     "output_type": "stream",
     "text": [
      "\n",
      "4222    MCI\n",
      "4223    MCI\n",
      "4224    MCI\n",
      "4225    MCI\n",
      "4226    MCI\n",
      "4227    MCI\n",
      "4228    MCI\n",
      "4229    MCI\n",
      "4230    MCI\n",
      "Name: Group, dtype: object\n",
      "MCI\n",
      "(166, 256, 256)\n"
     ]
    },
    {
     "name": "stderr",
     "output_type": "stream",
     "text": [
      "\r",
      " 51%|████████████████████████████████████████▊                                       | 420/823 [03:01<02:55,  2.30it/s]"
     ]
    },
    {
     "name": "stdout",
     "output_type": "stream",
     "text": [
      "\n",
      "4204    CN\n",
      "4205    CN\n",
      "4206    CN\n",
      "4207    CN\n",
      "4208    CN\n",
      "4209    CN\n",
      "4210    CN\n",
      "4211    CN\n",
      "4212    CN\n",
      "4213    CN\n",
      "4214    CN\n",
      "4215    CN\n",
      "4216    CN\n",
      "4217    CN\n",
      "4218    CN\n",
      "4219    CN\n",
      "4220    CN\n",
      "4221    CN\n",
      "Name: Group, dtype: object\n",
      "CN\n",
      "(166, 256, 256)\n"
     ]
    },
    {
     "name": "stderr",
     "output_type": "stream",
     "text": [
      "\r",
      " 51%|████████████████████████████████████████▉                                       | 421/823 [03:01<03:04,  2.18it/s]"
     ]
    },
    {
     "name": "stdout",
     "output_type": "stream",
     "text": [
      "\n",
      "4186    CN\n",
      "4187    CN\n",
      "4188    CN\n",
      "4189    CN\n",
      "4190    CN\n",
      "4191    CN\n",
      "4192    CN\n",
      "4193    CN\n",
      "4194    CN\n",
      "4195    CN\n",
      "4196    CN\n",
      "4197    CN\n",
      "4198    CN\n",
      "4199    CN\n",
      "4200    CN\n",
      "4201    CN\n",
      "4202    CN\n",
      "4203    CN\n",
      "Name: Group, dtype: object\n",
      "CN\n",
      "(166, 256, 256)\n"
     ]
    },
    {
     "name": "stderr",
     "output_type": "stream",
     "text": [
      "\r",
      " 51%|█████████████████████████████████████████                                       | 422/823 [03:02<03:12,  2.09it/s]"
     ]
    },
    {
     "name": "stdout",
     "output_type": "stream",
     "text": [
      "\n",
      "4169    MCI\n",
      "4170    MCI\n",
      "4171    MCI\n",
      "4172    MCI\n",
      "4173    MCI\n",
      "4174    MCI\n",
      "4175    MCI\n",
      "4176    MCI\n",
      "4177    MCI\n",
      "4178    MCI\n",
      "4179    MCI\n",
      "4180    MCI\n",
      "4181    MCI\n",
      "4182    MCI\n",
      "4183    MCI\n",
      "4184    MCI\n",
      "4185    MCI\n",
      "Name: Group, dtype: object\n",
      "MCI\n",
      "(166, 256, 256)\n"
     ]
    },
    {
     "name": "stderr",
     "output_type": "stream",
     "text": [
      "\r",
      " 51%|█████████████████████████████████████████                                       | 423/823 [03:02<03:11,  2.08it/s]"
     ]
    },
    {
     "name": "stdout",
     "output_type": "stream",
     "text": [
      "\n",
      "4160    MCI\n",
      "4161    MCI\n",
      "4162    MCI\n",
      "4163    MCI\n",
      "4164    MCI\n",
      "4165    MCI\n",
      "4166    MCI\n",
      "4167    MCI\n",
      "4168    MCI\n",
      "Name: Group, dtype: object\n",
      "MCI\n",
      "(166, 256, 256)\n"
     ]
    },
    {
     "name": "stderr",
     "output_type": "stream",
     "text": [
      "\r",
      " 52%|█████████████████████████████████████████▏                                      | 424/823 [03:03<03:14,  2.05it/s]"
     ]
    },
    {
     "name": "stdout",
     "output_type": "stream",
     "text": [
      "\n",
      "4150    MCI\n",
      "4151    MCI\n",
      "4152    MCI\n",
      "4153    MCI\n",
      "4154    MCI\n",
      "4155    MCI\n",
      "4156    MCI\n",
      "4157    MCI\n",
      "4158    MCI\n",
      "4159    MCI\n",
      "Name: Group, dtype: object\n",
      "MCI\n",
      "(166, 256, 256)\n"
     ]
    },
    {
     "name": "stderr",
     "output_type": "stream",
     "text": [
      "\r",
      " 52%|█████████████████████████████████████████▎                                      | 425/823 [03:04<03:18,  2.00it/s]"
     ]
    },
    {
     "name": "stdout",
     "output_type": "stream",
     "text": [
      "\n",
      "4134    MCI\n",
      "4135    MCI\n",
      "4136    MCI\n",
      "4137    MCI\n",
      "4138    MCI\n",
      "4139    MCI\n",
      "4140    MCI\n",
      "4141    MCI\n",
      "4142    MCI\n",
      "4143    MCI\n",
      "4144    MCI\n",
      "4145    MCI\n",
      "4146    MCI\n",
      "4147    MCI\n",
      "4148    MCI\n",
      "4149    MCI\n",
      "Name: Group, dtype: object\n",
      "MCI\n",
      "(166, 256, 256)\n"
     ]
    },
    {
     "name": "stderr",
     "output_type": "stream",
     "text": [
      "\r",
      " 52%|█████████████████████████████████████████▍                                      | 426/823 [03:04<03:08,  2.10it/s]"
     ]
    },
    {
     "name": "stdout",
     "output_type": "stream",
     "text": [
      "\n",
      "4123    MCI\n",
      "4124    MCI\n",
      "4125    MCI\n",
      "4126    MCI\n",
      "4127    MCI\n",
      "4128    MCI\n",
      "4129    MCI\n",
      "4130    MCI\n",
      "4131    MCI\n",
      "4132    MCI\n",
      "4133    MCI\n",
      "Name: Group, dtype: object\n",
      "MCI\n",
      "(166, 256, 256)\n"
     ]
    },
    {
     "name": "stderr",
     "output_type": "stream",
     "text": [
      "\r",
      " 52%|█████████████████████████████████████████▌                                      | 427/823 [03:04<03:01,  2.18it/s]"
     ]
    },
    {
     "name": "stdout",
     "output_type": "stream",
     "text": [
      "\n",
      "4113    MCI\n",
      "4114    MCI\n",
      "4115    MCI\n",
      "4116    MCI\n",
      "4117    MCI\n",
      "4118    MCI\n",
      "4119    MCI\n",
      "4120    MCI\n",
      "4121    MCI\n",
      "4122    MCI\n",
      "Name: Group, dtype: object\n",
      "MCI\n",
      "(166, 256, 256)\n"
     ]
    },
    {
     "name": "stderr",
     "output_type": "stream",
     "text": [
      "\r",
      " 52%|█████████████████████████████████████████▌                                      | 428/823 [03:05<02:58,  2.22it/s]"
     ]
    },
    {
     "name": "stdout",
     "output_type": "stream",
     "text": [
      "\n",
      "4102    AD\n",
      "4103    AD\n",
      "4104    AD\n",
      "4105    AD\n",
      "4106    AD\n",
      "4107    AD\n",
      "4108    AD\n",
      "4109    AD\n",
      "4110    AD\n",
      "4111    AD\n",
      "4112    AD\n",
      "Name: Group, dtype: object\n",
      "AD\n",
      "(166, 256, 256)\n"
     ]
    },
    {
     "name": "stderr",
     "output_type": "stream",
     "text": [
      "\r",
      " 52%|█████████████████████████████████████████▋                                      | 429/823 [03:05<02:55,  2.24it/s]"
     ]
    },
    {
     "name": "stdout",
     "output_type": "stream",
     "text": [
      "\n",
      "4093    MCI\n",
      "4094    MCI\n",
      "4095    MCI\n",
      "4096    MCI\n",
      "4097    MCI\n",
      "4098    MCI\n",
      "4099    MCI\n",
      "4100    MCI\n",
      "4101    MCI\n",
      "Name: Group, dtype: object\n",
      "MCI\n",
      "(166, 256, 256)\n"
     ]
    },
    {
     "name": "stderr",
     "output_type": "stream",
     "text": [
      "\r",
      " 52%|█████████████████████████████████████████▊                                      | 430/823 [03:06<02:53,  2.26it/s]"
     ]
    },
    {
     "name": "stdout",
     "output_type": "stream",
     "text": [
      "\n",
      "4084    AD\n",
      "4085    AD\n",
      "4086    AD\n",
      "4087    AD\n",
      "4088    AD\n",
      "4089    AD\n",
      "4090    AD\n",
      "4091    AD\n",
      "4092    AD\n",
      "Name: Group, dtype: object\n",
      "AD\n",
      "(166, 256, 256)\n"
     ]
    },
    {
     "name": "stderr",
     "output_type": "stream",
     "text": [
      "\r",
      " 52%|█████████████████████████████████████████▉                                      | 431/823 [03:06<02:50,  2.30it/s]"
     ]
    },
    {
     "name": "stdout",
     "output_type": "stream",
     "text": [
      "\n",
      "4075    CN\n",
      "4076    CN\n",
      "4077    CN\n",
      "4078    CN\n",
      "4079    CN\n",
      "4080    CN\n",
      "4081    CN\n",
      "4082    CN\n",
      "4083    CN\n",
      "Name: Group, dtype: object\n",
      "CN\n",
      "(166, 256, 256)\n"
     ]
    },
    {
     "name": "stderr",
     "output_type": "stream",
     "text": [
      "\r",
      " 52%|█████████████████████████████████████████▉                                      | 432/823 [03:06<02:46,  2.34it/s]"
     ]
    },
    {
     "name": "stdout",
     "output_type": "stream",
     "text": [
      "\n",
      "4066    CN\n",
      "4067    CN\n",
      "4068    CN\n",
      "4069    CN\n",
      "4070    CN\n",
      "4071    CN\n",
      "4072    CN\n",
      "4073    CN\n",
      "4074    CN\n",
      "Name: Group, dtype: object\n",
      "CN\n",
      "(166, 256, 256)\n"
     ]
    },
    {
     "name": "stderr",
     "output_type": "stream",
     "text": [
      "\r",
      " 53%|██████████████████████████████████████████                                      | 433/823 [03:07<02:46,  2.34it/s]"
     ]
    },
    {
     "name": "stdout",
     "output_type": "stream",
     "text": [
      "\n",
      "4057    CN\n",
      "4058    CN\n",
      "4059    CN\n",
      "4060    CN\n",
      "4061    CN\n",
      "4062    CN\n",
      "4063    CN\n",
      "4064    CN\n",
      "4065    CN\n",
      "Name: Group, dtype: object\n",
      "CN\n",
      "(166, 256, 256)\n"
     ]
    },
    {
     "name": "stderr",
     "output_type": "stream",
     "text": [
      "\r",
      " 53%|██████████████████████████████████████████▏                                     | 434/823 [03:07<02:43,  2.38it/s]"
     ]
    },
    {
     "name": "stdout",
     "output_type": "stream",
     "text": [
      "\n",
      "4048    MCI\n",
      "4049    MCI\n",
      "4050    MCI\n",
      "4051    MCI\n",
      "4052    MCI\n",
      "4053    MCI\n",
      "4054    MCI\n",
      "4055    MCI\n",
      "4056    MCI\n",
      "Name: Group, dtype: object\n",
      "MCI\n",
      "(166, 256, 256)\n"
     ]
    },
    {
     "name": "stderr",
     "output_type": "stream",
     "text": [
      "\r",
      " 53%|██████████████████████████████████████████▎                                     | 435/823 [03:08<02:40,  2.42it/s]"
     ]
    },
    {
     "name": "stdout",
     "output_type": "stream",
     "text": [
      "\n",
      "4039    CN\n",
      "4040    CN\n",
      "4041    CN\n",
      "4042    CN\n",
      "4043    CN\n",
      "4044    CN\n",
      "4045    CN\n",
      "4046    CN\n",
      "4047    CN\n",
      "Name: Group, dtype: object\n",
      "CN\n",
      "(166, 256, 256)\n"
     ]
    },
    {
     "name": "stderr",
     "output_type": "stream",
     "text": [
      "\r",
      " 53%|██████████████████████████████████████████▍                                     | 436/823 [03:08<02:37,  2.45it/s]"
     ]
    },
    {
     "name": "stdout",
     "output_type": "stream",
     "text": [
      "\n",
      "4030    MCI\n",
      "4031    MCI\n",
      "4032    MCI\n",
      "4033    MCI\n",
      "4034    MCI\n",
      "4035    MCI\n",
      "4036    MCI\n",
      "4037    MCI\n",
      "4038    MCI\n",
      "Name: Group, dtype: object\n",
      "MCI\n",
      "(166, 256, 256)\n"
     ]
    },
    {
     "name": "stderr",
     "output_type": "stream",
     "text": [
      "\r",
      " 53%|██████████████████████████████████████████▍                                     | 437/823 [03:09<02:37,  2.46it/s]"
     ]
    },
    {
     "name": "stdout",
     "output_type": "stream",
     "text": [
      "\n",
      "4021    MCI\n",
      "4022    MCI\n",
      "4023    MCI\n",
      "4024    MCI\n",
      "4025    MCI\n",
      "4026    MCI\n",
      "4027    MCI\n",
      "4028    MCI\n",
      "4029    MCI\n",
      "Name: Group, dtype: object\n",
      "MCI\n",
      "(166, 256, 256)\n"
     ]
    },
    {
     "name": "stderr",
     "output_type": "stream",
     "text": [
      "\r",
      " 53%|██████████████████████████████████████████▌                                     | 438/823 [03:09<02:39,  2.42it/s]"
     ]
    },
    {
     "name": "stdout",
     "output_type": "stream",
     "text": [
      "\n",
      "4012    MCI\n",
      "4013    MCI\n",
      "4014    MCI\n",
      "4015    MCI\n",
      "4016    MCI\n",
      "4017    MCI\n",
      "4018    MCI\n",
      "4019    MCI\n",
      "4020    MCI\n",
      "Name: Group, dtype: object\n",
      "MCI\n",
      "(166, 256, 256)\n"
     ]
    },
    {
     "name": "stderr",
     "output_type": "stream",
     "text": [
      "\r",
      " 53%|██████████████████████████████████████████▋                                     | 439/823 [03:09<02:38,  2.42it/s]"
     ]
    },
    {
     "name": "stdout",
     "output_type": "stream",
     "text": [
      "\n",
      "4002    MCI\n",
      "4003    MCI\n",
      "4004    MCI\n",
      "4005    MCI\n",
      "4006    MCI\n",
      "4007    MCI\n",
      "4008    MCI\n",
      "4009    MCI\n",
      "4010    MCI\n",
      "4011    MCI\n",
      "Name: Group, dtype: object\n",
      "MCI\n",
      "(166, 256, 256)\n"
     ]
    },
    {
     "name": "stderr",
     "output_type": "stream",
     "text": [
      "\r",
      " 53%|██████████████████████████████████████████▊                                     | 440/823 [03:10<02:37,  2.43it/s]"
     ]
    },
    {
     "name": "stdout",
     "output_type": "stream",
     "text": [
      "\n",
      "3993    MCI\n",
      "3994    MCI\n",
      "3995    MCI\n",
      "3996    MCI\n",
      "3997    MCI\n",
      "3998    MCI\n",
      "3999    MCI\n",
      "4000    MCI\n",
      "4001    MCI\n",
      "Name: Group, dtype: object\n",
      "MCI\n",
      "(166, 256, 256)\n"
     ]
    },
    {
     "name": "stderr",
     "output_type": "stream",
     "text": [
      "\r",
      " 54%|██████████████████████████████████████████▊                                     | 441/823 [03:10<02:38,  2.41it/s]"
     ]
    },
    {
     "name": "stdout",
     "output_type": "stream",
     "text": [
      "\n",
      "3984    MCI\n",
      "3985    MCI\n",
      "3986    MCI\n",
      "3987    MCI\n",
      "3988    MCI\n",
      "3989    MCI\n",
      "3990    MCI\n",
      "3991    MCI\n",
      "3992    MCI\n",
      "Name: Group, dtype: object\n",
      "MCI\n",
      "(166, 256, 256)\n"
     ]
    },
    {
     "name": "stderr",
     "output_type": "stream",
     "text": [
      "\r",
      " 54%|██████████████████████████████████████████▉                                     | 442/823 [03:11<02:38,  2.40it/s]"
     ]
    },
    {
     "name": "stdout",
     "output_type": "stream",
     "text": [
      "\n",
      "3974    AD\n",
      "3975    AD\n",
      "3976    AD\n",
      "3977    AD\n",
      "3978    AD\n",
      "3979    AD\n",
      "3980    AD\n",
      "3981    AD\n",
      "3982    AD\n",
      "3983    AD\n",
      "Name: Group, dtype: object\n",
      "AD\n",
      "(166, 256, 256)\n"
     ]
    },
    {
     "name": "stderr",
     "output_type": "stream",
     "text": [
      "\r",
      " 54%|███████████████████████████████████████████                                     | 443/823 [03:11<02:37,  2.41it/s]"
     ]
    },
    {
     "name": "stdout",
     "output_type": "stream",
     "text": [
      "\n",
      "3964    AD\n",
      "3965    AD\n",
      "3966    AD\n",
      "3967    AD\n",
      "3968    AD\n",
      "3969    AD\n",
      "3970    AD\n",
      "3971    AD\n",
      "3972    AD\n",
      "3973    AD\n",
      "Name: Group, dtype: object\n",
      "AD\n",
      "(166, 256, 256)\n"
     ]
    },
    {
     "name": "stderr",
     "output_type": "stream",
     "text": [
      "\r",
      " 54%|███████████████████████████████████████████▏                                    | 444/823 [03:11<02:34,  2.46it/s]"
     ]
    },
    {
     "name": "stdout",
     "output_type": "stream",
     "text": [
      "\n",
      "3954    AD\n",
      "3955    AD\n",
      "3956    AD\n",
      "3957    AD\n",
      "3958    AD\n",
      "3959    AD\n",
      "3960    AD\n",
      "3961    AD\n",
      "3962    AD\n",
      "3963    AD\n",
      "Name: Group, dtype: object\n",
      "AD\n",
      "(166, 256, 256)\n"
     ]
    },
    {
     "name": "stderr",
     "output_type": "stream",
     "text": [
      "\r",
      " 54%|███████████████████████████████████████████▎                                    | 445/823 [03:12<02:29,  2.52it/s]"
     ]
    },
    {
     "name": "stdout",
     "output_type": "stream",
     "text": [
      "\n",
      "3945    AD\n",
      "3946    AD\n",
      "3947    AD\n",
      "3948    AD\n",
      "3949    AD\n",
      "3950    AD\n",
      "3951    AD\n",
      "3952    AD\n",
      "3953    AD\n",
      "Name: Group, dtype: object\n",
      "AD\n",
      "(166, 256, 256)\n"
     ]
    },
    {
     "name": "stderr",
     "output_type": "stream",
     "text": [
      "\r",
      " 54%|███████████████████████████████████████████▎                                    | 446/823 [03:12<02:29,  2.53it/s]"
     ]
    },
    {
     "name": "stdout",
     "output_type": "stream",
     "text": [
      "\n",
      "3936    CN\n",
      "3937    CN\n",
      "3938    CN\n",
      "3939    CN\n",
      "3940    CN\n",
      "3941    CN\n",
      "3942    CN\n",
      "3943    CN\n",
      "3944    CN\n",
      "Name: Group, dtype: object\n",
      "CN\n",
      "(166, 256, 256)\n"
     ]
    },
    {
     "name": "stderr",
     "output_type": "stream",
     "text": [
      "\r",
      " 54%|███████████████████████████████████████████▍                                    | 447/823 [03:13<02:30,  2.51it/s]"
     ]
    },
    {
     "name": "stdout",
     "output_type": "stream",
     "text": [
      "\n",
      "3927    AD\n",
      "3928    AD\n",
      "3929    AD\n",
      "3930    AD\n",
      "3931    AD\n",
      "3932    AD\n",
      "3933    AD\n",
      "3934    AD\n",
      "3935    AD\n",
      "Name: Group, dtype: object\n",
      "AD\n",
      "(166, 256, 256)\n"
     ]
    },
    {
     "name": "stderr",
     "output_type": "stream",
     "text": [
      "\r",
      " 54%|███████████████████████████████████████████▌                                    | 448/823 [03:13<02:29,  2.50it/s]"
     ]
    },
    {
     "name": "stdout",
     "output_type": "stream",
     "text": [
      "\n",
      "3918    AD\n",
      "3919    AD\n",
      "3920    AD\n",
      "3921    AD\n",
      "3922    AD\n",
      "3923    AD\n",
      "3924    AD\n",
      "3925    AD\n",
      "3926    AD\n",
      "Name: Group, dtype: object\n",
      "AD\n",
      "(166, 256, 256)\n"
     ]
    },
    {
     "name": "stderr",
     "output_type": "stream",
     "text": [
      "\r",
      " 55%|███████████████████████████████████████████▋                                    | 449/823 [03:13<02:30,  2.49it/s]"
     ]
    },
    {
     "name": "stdout",
     "output_type": "stream",
     "text": [
      "\n",
      "3909    CN\n",
      "3910    CN\n",
      "3911    CN\n",
      "3912    CN\n",
      "3913    CN\n",
      "3914    CN\n",
      "3915    CN\n",
      "3916    CN\n",
      "3917    CN\n",
      "Name: Group, dtype: object\n",
      "CN\n",
      "(166, 256, 256)\n"
     ]
    },
    {
     "name": "stderr",
     "output_type": "stream",
     "text": [
      "\r",
      " 55%|███████████████████████████████████████████▋                                    | 450/823 [03:14<02:32,  2.44it/s]"
     ]
    },
    {
     "name": "stdout",
     "output_type": "stream",
     "text": [
      "\n",
      "3900    AD\n",
      "3901    AD\n",
      "3902    AD\n",
      "3903    AD\n",
      "3904    AD\n",
      "3905    AD\n",
      "3906    AD\n",
      "3907    AD\n",
      "3908    AD\n",
      "Name: Group, dtype: object\n",
      "AD\n",
      "(166, 256, 256)\n"
     ]
    },
    {
     "name": "stderr",
     "output_type": "stream",
     "text": [
      "\r",
      " 55%|███████████████████████████████████████████▊                                    | 451/823 [03:14<02:31,  2.46it/s]"
     ]
    },
    {
     "name": "stdout",
     "output_type": "stream",
     "text": [
      "\n",
      "3891    MCI\n",
      "3892    MCI\n",
      "3893    MCI\n",
      "3894    MCI\n",
      "3895    MCI\n",
      "3896    MCI\n",
      "3897    MCI\n",
      "3898    MCI\n",
      "3899    MCI\n",
      "Name: Group, dtype: object\n",
      "MCI\n",
      "(166, 256, 256)\n"
     ]
    },
    {
     "name": "stderr",
     "output_type": "stream",
     "text": [
      "\r",
      " 55%|███████████████████████████████████████████▉                                    | 452/823 [03:15<02:32,  2.43it/s]"
     ]
    },
    {
     "name": "stdout",
     "output_type": "stream",
     "text": [
      "\n",
      "3882    CN\n",
      "3883    CN\n",
      "3884    CN\n",
      "3885    CN\n",
      "3886    CN\n",
      "3887    CN\n",
      "3888    CN\n",
      "3889    CN\n",
      "3890    CN\n",
      "Name: Group, dtype: object\n",
      "CN\n",
      "(166, 256, 256)\n"
     ]
    },
    {
     "name": "stderr",
     "output_type": "stream",
     "text": [
      "\r",
      " 55%|████████████████████████████████████████████                                    | 453/823 [03:15<02:31,  2.44it/s]"
     ]
    },
    {
     "name": "stdout",
     "output_type": "stream",
     "text": [
      "\n",
      "3873    MCI\n",
      "3874    MCI\n",
      "3875    MCI\n",
      "3876    MCI\n",
      "3877    MCI\n",
      "3878    MCI\n",
      "3879    MCI\n",
      "3880    MCI\n",
      "3881    MCI\n",
      "Name: Group, dtype: object\n",
      "MCI\n",
      "(166, 256, 256)\n"
     ]
    },
    {
     "name": "stderr",
     "output_type": "stream",
     "text": [
      "\r",
      " 55%|████████████████████████████████████████████▏                                   | 454/823 [03:15<02:29,  2.47it/s]"
     ]
    },
    {
     "name": "stdout",
     "output_type": "stream",
     "text": [
      "\n",
      "3864    MCI\n",
      "3865    MCI\n",
      "3866    MCI\n",
      "3867    MCI\n",
      "3868    MCI\n",
      "3869    MCI\n",
      "3870    MCI\n",
      "3871    MCI\n",
      "3872    MCI\n",
      "Name: Group, dtype: object\n",
      "MCI\n",
      "(166, 256, 256)\n"
     ]
    },
    {
     "name": "stderr",
     "output_type": "stream",
     "text": [
      "\r",
      " 55%|████████████████████████████████████████████▏                                   | 455/823 [03:16<02:29,  2.45it/s]"
     ]
    },
    {
     "name": "stdout",
     "output_type": "stream",
     "text": [
      "\n",
      "3855    MCI\n",
      "3856    MCI\n",
      "3857    MCI\n",
      "3858    MCI\n",
      "3859    MCI\n",
      "3860    MCI\n",
      "3861    MCI\n",
      "3862    MCI\n",
      "3863    MCI\n",
      "Name: Group, dtype: object\n",
      "MCI\n",
      "(166, 256, 256)\n"
     ]
    },
    {
     "name": "stderr",
     "output_type": "stream",
     "text": [
      "\r",
      " 55%|████████████████████████████████████████████▎                                   | 456/823 [03:16<02:32,  2.40it/s]"
     ]
    },
    {
     "name": "stdout",
     "output_type": "stream",
     "text": [
      "\n",
      "3845    CN\n",
      "3846    CN\n",
      "3847    CN\n",
      "3848    CN\n",
      "3849    CN\n",
      "3850    CN\n",
      "3851    CN\n",
      "3852    CN\n",
      "3853    CN\n",
      "3854    CN\n",
      "Name: Group, dtype: object\n",
      "CN\n",
      "(166, 256, 256)\n"
     ]
    },
    {
     "name": "stderr",
     "output_type": "stream",
     "text": [
      "\r",
      " 56%|████████████████████████████████████████████▍                                   | 457/823 [03:17<02:32,  2.39it/s]"
     ]
    },
    {
     "name": "stdout",
     "output_type": "stream",
     "text": [
      "\n",
      "3836    AD\n",
      "3837    AD\n",
      "3838    AD\n",
      "3839    AD\n",
      "3840    AD\n",
      "3841    AD\n",
      "3842    AD\n",
      "3843    AD\n",
      "3844    AD\n",
      "Name: Group, dtype: object\n",
      "AD\n",
      "(166, 256, 256)\n"
     ]
    },
    {
     "name": "stderr",
     "output_type": "stream",
     "text": [
      "\r",
      " 56%|████████████████████████████████████████████▌                                   | 458/823 [03:17<02:31,  2.40it/s]"
     ]
    },
    {
     "name": "stdout",
     "output_type": "stream",
     "text": [
      "\n",
      "3827    CN\n",
      "3828    CN\n",
      "3829    CN\n",
      "3830    CN\n",
      "3831    CN\n",
      "3832    CN\n",
      "3833    CN\n",
      "3834    CN\n",
      "3835    CN\n",
      "Name: Group, dtype: object\n",
      "CN\n",
      "(166, 256, 256)\n"
     ]
    },
    {
     "name": "stderr",
     "output_type": "stream",
     "text": [
      "\r",
      " 56%|████████████████████████████████████████████▌                                   | 459/823 [03:18<02:30,  2.42it/s]"
     ]
    },
    {
     "name": "stdout",
     "output_type": "stream",
     "text": [
      "\n",
      "3817    AD\n",
      "3818    AD\n",
      "3819    AD\n",
      "3820    AD\n",
      "3821    AD\n",
      "3822    AD\n",
      "3823    AD\n",
      "3824    AD\n",
      "3825    AD\n",
      "3826    AD\n",
      "Name: Group, dtype: object\n",
      "AD\n",
      "(166, 256, 256)\n"
     ]
    },
    {
     "name": "stderr",
     "output_type": "stream",
     "text": [
      "\r",
      " 56%|████████████████████████████████████████████▋                                   | 460/823 [03:18<02:28,  2.44it/s]"
     ]
    },
    {
     "name": "stdout",
     "output_type": "stream",
     "text": [
      "\n",
      "3807    MCI\n",
      "3808    MCI\n",
      "3809    MCI\n",
      "3810    MCI\n",
      "3811    MCI\n",
      "3812    MCI\n",
      "3813    MCI\n",
      "3814    MCI\n",
      "3815    MCI\n",
      "3816    MCI\n",
      "Name: Group, dtype: object\n",
      "MCI\n",
      "(166, 256, 256)\n"
     ]
    },
    {
     "name": "stderr",
     "output_type": "stream",
     "text": [
      "\r",
      " 56%|████████████████████████████████████████████▊                                   | 461/823 [03:18<02:27,  2.45it/s]"
     ]
    },
    {
     "name": "stdout",
     "output_type": "stream",
     "text": [
      "\n",
      "3797    MCI\n",
      "3798    MCI\n",
      "3799    MCI\n",
      "3800    MCI\n",
      "3801    MCI\n",
      "3802    MCI\n",
      "3803    MCI\n",
      "3804    MCI\n",
      "3805    MCI\n",
      "3806    MCI\n",
      "Name: Group, dtype: object\n",
      "MCI\n",
      "(166, 256, 256)\n"
     ]
    },
    {
     "name": "stderr",
     "output_type": "stream",
     "text": [
      "\r",
      " 56%|████████████████████████████████████████████▉                                   | 462/823 [03:19<02:26,  2.46it/s]"
     ]
    },
    {
     "name": "stdout",
     "output_type": "stream",
     "text": [
      "\n",
      "3787    CN\n",
      "3788    CN\n",
      "3789    CN\n",
      "3790    CN\n",
      "3791    CN\n",
      "3792    CN\n",
      "3793    CN\n",
      "3794    CN\n",
      "3795    CN\n",
      "3796    CN\n",
      "Name: Group, dtype: object\n",
      "CN\n",
      "(166, 256, 256)\n"
     ]
    },
    {
     "name": "stderr",
     "output_type": "stream",
     "text": [
      "\r",
      " 56%|█████████████████████████████████████████████                                   | 463/823 [03:19<02:24,  2.49it/s]"
     ]
    },
    {
     "name": "stdout",
     "output_type": "stream",
     "text": [
      "\n",
      "3777    CN\n",
      "3778    CN\n",
      "3779    CN\n",
      "3780    CN\n",
      "3781    CN\n",
      "3782    CN\n",
      "3783    CN\n",
      "3784    CN\n",
      "3785    CN\n",
      "3786    CN\n",
      "Name: Group, dtype: object\n",
      "CN\n",
      "(166, 256, 256)\n"
     ]
    },
    {
     "name": "stderr",
     "output_type": "stream",
     "text": [
      "\r",
      " 56%|█████████████████████████████████████████████                                   | 464/823 [03:20<02:22,  2.52it/s]"
     ]
    },
    {
     "name": "stdout",
     "output_type": "stream",
     "text": [
      "\n",
      "3767    AD\n",
      "3768    AD\n",
      "3769    AD\n",
      "3770    AD\n",
      "3771    AD\n",
      "3772    AD\n",
      "3773    AD\n",
      "3774    AD\n",
      "3775    AD\n",
      "3776    AD\n",
      "Name: Group, dtype: object\n",
      "AD\n",
      "(166, 256, 256)\n"
     ]
    },
    {
     "name": "stderr",
     "output_type": "stream",
     "text": [
      "\r",
      " 57%|█████████████████████████████████████████████▏                                  | 465/823 [03:20<02:23,  2.50it/s]"
     ]
    },
    {
     "name": "stdout",
     "output_type": "stream",
     "text": [
      "\n",
      "3757    MCI\n",
      "3758    MCI\n",
      "3759    MCI\n",
      "3760    MCI\n",
      "3761    MCI\n",
      "3762    MCI\n",
      "3763    MCI\n",
      "3764    MCI\n",
      "3765    MCI\n",
      "3766    MCI\n",
      "Name: Group, dtype: object\n",
      "MCI\n",
      "(166, 256, 256)\n"
     ]
    },
    {
     "name": "stderr",
     "output_type": "stream",
     "text": [
      "\r",
      " 57%|█████████████████████████████████████████████▎                                  | 466/823 [03:20<02:22,  2.51it/s]"
     ]
    },
    {
     "name": "stdout",
     "output_type": "stream",
     "text": [
      "\n",
      "3747    MCI\n",
      "3748    MCI\n",
      "3749    MCI\n",
      "3750    MCI\n",
      "3751    MCI\n",
      "3752    MCI\n",
      "3753    MCI\n",
      "3754    MCI\n",
      "3755    MCI\n",
      "3756    MCI\n",
      "Name: Group, dtype: object\n",
      "MCI\n",
      "(166, 256, 256)\n"
     ]
    },
    {
     "name": "stderr",
     "output_type": "stream",
     "text": [
      "\r",
      " 57%|█████████████████████████████████████████████▍                                  | 467/823 [03:21<02:21,  2.52it/s]"
     ]
    },
    {
     "name": "stdout",
     "output_type": "stream",
     "text": [
      "\n",
      "3737    AD\n",
      "3738    AD\n",
      "3739    AD\n",
      "3740    AD\n",
      "3741    AD\n",
      "3742    AD\n",
      "3743    AD\n",
      "3744    AD\n",
      "3745    AD\n",
      "3746    AD\n",
      "Name: Group, dtype: object\n",
      "AD\n",
      "(166, 256, 256)\n"
     ]
    },
    {
     "name": "stderr",
     "output_type": "stream",
     "text": [
      "\r",
      " 57%|█████████████████████████████████████████████▍                                  | 468/823 [03:21<02:21,  2.51it/s]"
     ]
    },
    {
     "name": "stdout",
     "output_type": "stream",
     "text": [
      "\n",
      "3727    MCI\n",
      "3728    MCI\n",
      "3729    MCI\n",
      "3730    MCI\n",
      "3731    MCI\n",
      "3732    MCI\n",
      "3733    MCI\n",
      "3734    MCI\n",
      "3735    MCI\n",
      "3736    MCI\n",
      "Name: Group, dtype: object\n",
      "MCI\n",
      "(166, 256, 256)\n"
     ]
    },
    {
     "name": "stderr",
     "output_type": "stream",
     "text": [
      "\r",
      " 57%|█████████████████████████████████████████████▌                                  | 469/823 [03:22<02:19,  2.53it/s]"
     ]
    },
    {
     "name": "stdout",
     "output_type": "stream",
     "text": [
      "\n",
      "3717    CN\n",
      "3718    CN\n",
      "3719    CN\n",
      "3720    CN\n",
      "3721    CN\n",
      "3722    CN\n",
      "3723    CN\n",
      "3724    CN\n",
      "3725    CN\n",
      "3726    CN\n",
      "Name: Group, dtype: object\n",
      "CN\n",
      "(166, 256, 256)\n"
     ]
    },
    {
     "name": "stderr",
     "output_type": "stream",
     "text": [
      "\r",
      " 57%|█████████████████████████████████████████████▋                                  | 470/823 [03:22<02:20,  2.50it/s]"
     ]
    },
    {
     "name": "stdout",
     "output_type": "stream",
     "text": [
      "\n",
      "3707    MCI\n",
      "3708    MCI\n",
      "3709    MCI\n",
      "3710    MCI\n",
      "3711    MCI\n",
      "3712    MCI\n",
      "3713    MCI\n",
      "3714    MCI\n",
      "3715    MCI\n",
      "3716    MCI\n",
      "Name: Group, dtype: object\n",
      "MCI\n",
      "(166, 256, 256)\n"
     ]
    },
    {
     "name": "stderr",
     "output_type": "stream",
     "text": [
      "\r",
      " 57%|█████████████████████████████████████████████▊                                  | 471/823 [03:22<02:19,  2.53it/s]"
     ]
    },
    {
     "name": "stdout",
     "output_type": "stream",
     "text": [
      "\n",
      "3697    CN\n",
      "3698    CN\n",
      "3699    CN\n",
      "3700    CN\n",
      "3701    CN\n",
      "3702    CN\n",
      "3703    CN\n",
      "3704    CN\n",
      "3705    CN\n",
      "3706    CN\n",
      "Name: Group, dtype: object\n",
      "CN\n",
      "(166, 256, 256)\n"
     ]
    },
    {
     "name": "stderr",
     "output_type": "stream",
     "text": [
      "\r",
      " 57%|█████████████████████████████████████████████▉                                  | 472/823 [03:23<02:20,  2.50it/s]"
     ]
    },
    {
     "name": "stdout",
     "output_type": "stream",
     "text": [
      "\n",
      "3687    MCI\n",
      "3688    MCI\n",
      "3689    MCI\n",
      "3690    MCI\n",
      "3691    MCI\n",
      "3692    MCI\n",
      "3693    MCI\n",
      "3694    MCI\n",
      "3695    MCI\n",
      "3696    MCI\n",
      "Name: Group, dtype: object\n",
      "MCI\n",
      "(166, 256, 256)\n"
     ]
    },
    {
     "name": "stderr",
     "output_type": "stream",
     "text": [
      "\r",
      " 57%|█████████████████████████████████████████████▉                                  | 473/823 [03:23<02:19,  2.51it/s]"
     ]
    },
    {
     "name": "stdout",
     "output_type": "stream",
     "text": [
      "\n",
      "3668    MCI\n",
      "3669    MCI\n",
      "3670    MCI\n",
      "3671    MCI\n",
      "3672    MCI\n",
      "3673    MCI\n",
      "3674    MCI\n",
      "3675    MCI\n",
      "3676    MCI\n",
      "3677    MCI\n",
      "3678    MCI\n",
      "3679    MCI\n",
      "3680    MCI\n",
      "3681    MCI\n",
      "3682    MCI\n",
      "3683    MCI\n",
      "3684    MCI\n",
      "3685    MCI\n",
      "3686    MCI\n",
      "Name: Group, dtype: object\n",
      "MCI\n",
      "(166, 256, 256)\n"
     ]
    },
    {
     "name": "stderr",
     "output_type": "stream",
     "text": [
      "\r",
      " 58%|██████████████████████████████████████████████                                  | 474/823 [03:24<02:21,  2.47it/s]"
     ]
    },
    {
     "name": "stdout",
     "output_type": "stream",
     "text": [
      "\n",
      "3658    MCI\n",
      "3659    MCI\n",
      "3660    MCI\n",
      "3661    MCI\n",
      "3662    MCI\n",
      "3663    MCI\n",
      "3664    MCI\n",
      "3665    MCI\n",
      "3666    MCI\n",
      "3667    MCI\n",
      "Name: Group, dtype: object\n",
      "MCI\n",
      "(166, 256, 256)\n"
     ]
    },
    {
     "name": "stderr",
     "output_type": "stream",
     "text": [
      "\r",
      " 58%|██████████████████████████████████████████████▏                                 | 475/823 [03:24<02:20,  2.47it/s]"
     ]
    },
    {
     "name": "stdout",
     "output_type": "stream",
     "text": [
      "\n",
      "3637    MCI\n",
      "3638    MCI\n",
      "3639    MCI\n",
      "3640    MCI\n",
      "3641    MCI\n",
      "3642    MCI\n",
      "3643    MCI\n",
      "3644    MCI\n",
      "3645    MCI\n",
      "3646    MCI\n",
      "3647    MCI\n",
      "3648    MCI\n",
      "3649    MCI\n",
      "3650    MCI\n",
      "3651    MCI\n",
      "3652    MCI\n",
      "3653    MCI\n",
      "3654    MCI\n",
      "3655    MCI\n",
      "3656    MCI\n",
      "3657    MCI\n",
      "Name: Group, dtype: object\n",
      "MCI\n",
      "(166, 256, 256)\n"
     ]
    },
    {
     "name": "stderr",
     "output_type": "stream",
     "text": [
      "\r",
      " 58%|██████████████████████████████████████████████▎                                 | 476/823 [03:24<02:22,  2.44it/s]"
     ]
    },
    {
     "name": "stdout",
     "output_type": "stream",
     "text": [
      "\n",
      "3627    AD\n",
      "3628    AD\n",
      "3629    AD\n",
      "3630    AD\n",
      "3631    AD\n",
      "3632    AD\n",
      "3633    AD\n",
      "3634    AD\n",
      "3635    AD\n",
      "3636    AD\n",
      "Name: Group, dtype: object\n",
      "AD\n",
      "(166, 256, 256)\n"
     ]
    },
    {
     "name": "stderr",
     "output_type": "stream",
     "text": [
      "\r",
      " 58%|██████████████████████████████████████████████▎                                 | 477/823 [03:25<02:21,  2.44it/s]"
     ]
    },
    {
     "name": "stdout",
     "output_type": "stream",
     "text": [
      "\n",
      "3608    AD\n",
      "3609    AD\n",
      "3610    AD\n",
      "3611    AD\n",
      "3612    AD\n",
      "3613    AD\n",
      "3614    AD\n",
      "3615    AD\n",
      "3616    AD\n",
      "3617    AD\n",
      "3618    AD\n",
      "3619    AD\n",
      "3620    AD\n",
      "3621    AD\n",
      "3622    AD\n",
      "3623    AD\n",
      "3624    AD\n",
      "3625    AD\n",
      "3626    AD\n",
      "Name: Group, dtype: object\n",
      "AD\n",
      "(166, 256, 256)\n"
     ]
    },
    {
     "name": "stderr",
     "output_type": "stream",
     "text": [
      "\r",
      " 58%|██████████████████████████████████████████████▍                                 | 478/823 [03:25<02:18,  2.49it/s]"
     ]
    },
    {
     "name": "stdout",
     "output_type": "stream",
     "text": [
      "\n",
      "3590    AD\n",
      "3591    AD\n",
      "3592    AD\n",
      "3593    AD\n",
      "3594    AD\n",
      "3595    AD\n",
      "3596    AD\n",
      "3597    AD\n",
      "3598    AD\n",
      "3599    AD\n",
      "3600    AD\n",
      "3601    AD\n",
      "3602    AD\n",
      "3603    AD\n",
      "3604    AD\n",
      "3605    AD\n",
      "3606    AD\n",
      "3607    AD\n",
      "Name: Group, dtype: object\n",
      "AD\n",
      "(166, 256, 256)\n"
     ]
    },
    {
     "name": "stderr",
     "output_type": "stream",
     "text": [
      "\r",
      " 58%|██████████████████████████████████████████████▌                                 | 479/823 [03:26<02:19,  2.47it/s]"
     ]
    },
    {
     "name": "stdout",
     "output_type": "stream",
     "text": [
      "\n",
      "3572    AD\n",
      "3573    AD\n",
      "3574    AD\n",
      "3575    AD\n",
      "3576    AD\n",
      "3577    AD\n",
      "3578    AD\n",
      "3579    AD\n",
      "3580    AD\n",
      "3581    AD\n",
      "3582    AD\n",
      "3583    AD\n",
      "3584    AD\n",
      "3585    AD\n",
      "3586    AD\n",
      "3587    AD\n",
      "3588    AD\n",
      "3589    AD\n",
      "Name: Group, dtype: object\n",
      "AD\n",
      "(166, 256, 256)\n"
     ]
    },
    {
     "name": "stderr",
     "output_type": "stream",
     "text": [
      "\r",
      " 58%|██████████████████████████████████████████████▋                                 | 480/823 [03:26<02:20,  2.44it/s]"
     ]
    },
    {
     "name": "stdout",
     "output_type": "stream",
     "text": [
      "\n",
      "3566    AD\n",
      "3567    AD\n",
      "3568    AD\n",
      "3569    AD\n",
      "3570    AD\n",
      "3571    AD\n",
      "Name: Group, dtype: object\n",
      "AD\n",
      "(166, 256, 256)\n"
     ]
    },
    {
     "name": "stderr",
     "output_type": "stream",
     "text": [
      "\r",
      " 58%|██████████████████████████████████████████████▊                                 | 481/823 [03:26<02:22,  2.40it/s]"
     ]
    },
    {
     "name": "stdout",
     "output_type": "stream",
     "text": [
      "\n",
      "3560    CN\n",
      "3561    CN\n",
      "3562    CN\n",
      "3563    CN\n",
      "3564    CN\n",
      "3565    CN\n",
      "Name: Group, dtype: object\n",
      "CN\n",
      "(166, 256, 256)\n"
     ]
    },
    {
     "name": "stderr",
     "output_type": "stream",
     "text": [
      "\r",
      " 59%|██████████████████████████████████████████████▊                                 | 482/823 [03:27<02:19,  2.45it/s]"
     ]
    },
    {
     "name": "stdout",
     "output_type": "stream",
     "text": [
      "\n",
      "3554    CN\n",
      "3555    CN\n",
      "3556    CN\n",
      "3557    CN\n",
      "3558    CN\n",
      "3559    CN\n",
      "Name: Group, dtype: object\n",
      "CN\n",
      "(166, 256, 256)\n"
     ]
    },
    {
     "name": "stderr",
     "output_type": "stream",
     "text": [
      "\r",
      " 59%|██████████████████████████████████████████████▉                                 | 483/823 [03:27<02:18,  2.45it/s]"
     ]
    },
    {
     "name": "stdout",
     "output_type": "stream",
     "text": [
      "\n",
      "3549    MCI\n",
      "3550    MCI\n",
      "3551    MCI\n",
      "3552    MCI\n",
      "3553    MCI\n",
      "Name: Group, dtype: object\n",
      "MCI\n",
      "(166, 256, 256)\n"
     ]
    },
    {
     "name": "stderr",
     "output_type": "stream",
     "text": [
      "\r",
      " 59%|███████████████████████████████████████████████                                 | 484/823 [03:28<02:17,  2.47it/s]"
     ]
    },
    {
     "name": "stdout",
     "output_type": "stream",
     "text": [
      "\n",
      "3537    MCI\n",
      "3538    MCI\n",
      "3539    MCI\n",
      "3540    MCI\n",
      "3541    MCI\n",
      "3542    MCI\n",
      "3543    MCI\n",
      "3544    MCI\n",
      "3545    MCI\n",
      "3546    MCI\n",
      "3547    MCI\n",
      "3548    MCI\n",
      "Name: Group, dtype: object\n",
      "MCI\n",
      "(166, 256, 256)\n"
     ]
    },
    {
     "name": "stderr",
     "output_type": "stream",
     "text": [
      "\r",
      " 59%|███████████████████████████████████████████████▏                                | 485/823 [03:28<02:19,  2.42it/s]"
     ]
    },
    {
     "name": "stdout",
     "output_type": "stream",
     "text": [
      "\n",
      "3532    CN\n",
      "3533    CN\n",
      "3534    CN\n",
      "3535    CN\n",
      "3536    CN\n",
      "Name: Group, dtype: object\n",
      "CN\n",
      "(166, 256, 256)\n"
     ]
    },
    {
     "name": "stderr",
     "output_type": "stream",
     "text": [
      "\r",
      " 59%|███████████████████████████████████████████████▏                                | 486/823 [03:28<02:20,  2.40it/s]"
     ]
    },
    {
     "name": "stdout",
     "output_type": "stream",
     "text": [
      "\n",
      "3520    MCI\n",
      "3521    MCI\n",
      "3522    MCI\n",
      "3523    MCI\n",
      "3524    MCI\n",
      "3525    MCI\n",
      "3526    MCI\n",
      "3527    MCI\n",
      "3528    MCI\n",
      "3529    MCI\n",
      "3530    MCI\n",
      "3531    MCI\n",
      "Name: Group, dtype: object\n",
      "MCI\n",
      "(166, 256, 256)\n"
     ]
    },
    {
     "name": "stderr",
     "output_type": "stream",
     "text": [
      "\r",
      " 59%|███████████████████████████████████████████████▎                                | 487/823 [03:29<02:18,  2.43it/s]"
     ]
    },
    {
     "name": "stdout",
     "output_type": "stream",
     "text": [
      "\n",
      "3509    MCI\n",
      "3510    MCI\n",
      "3511    MCI\n",
      "3512    MCI\n",
      "3513    MCI\n",
      "3514    MCI\n",
      "3515    MCI\n",
      "3516    MCI\n",
      "3517    MCI\n",
      "3518    MCI\n",
      "3519    MCI\n",
      "Name: Group, dtype: object\n",
      "MCI\n",
      "(166, 256, 256)\n"
     ]
    },
    {
     "name": "stderr",
     "output_type": "stream",
     "text": [
      "\r",
      " 59%|███████████████████████████████████████████████▍                                | 488/823 [03:29<02:16,  2.45it/s]"
     ]
    },
    {
     "name": "stdout",
     "output_type": "stream",
     "text": [
      "\n",
      "3504    MCI\n",
      "3505    MCI\n",
      "3506    MCI\n",
      "3507    MCI\n",
      "3508    MCI\n",
      "Name: Group, dtype: object\n",
      "MCI\n",
      "(166, 256, 256)\n"
     ]
    },
    {
     "name": "stderr",
     "output_type": "stream",
     "text": [
      "\r",
      " 59%|███████████████████████████████████████████████▌                                | 489/823 [03:30<02:15,  2.47it/s]"
     ]
    },
    {
     "name": "stdout",
     "output_type": "stream",
     "text": [
      "\n",
      "3499    MCI\n",
      "3500    MCI\n",
      "3501    MCI\n",
      "3502    MCI\n",
      "3503    MCI\n",
      "Name: Group, dtype: object\n",
      "MCI\n",
      "(166, 256, 256)\n"
     ]
    },
    {
     "name": "stderr",
     "output_type": "stream",
     "text": [
      "\r",
      " 60%|███████████████████████████████████████████████▋                                | 490/823 [03:30<02:12,  2.52it/s]"
     ]
    },
    {
     "name": "stdout",
     "output_type": "stream",
     "text": [
      "\n",
      "3488    MCI\n",
      "3489    MCI\n",
      "3490    MCI\n",
      "3491    MCI\n",
      "3492    MCI\n",
      "3493    MCI\n",
      "3494    MCI\n",
      "3495    MCI\n",
      "3496    MCI\n",
      "3497    MCI\n",
      "3498    MCI\n",
      "Name: Group, dtype: object\n",
      "MCI\n",
      "(166, 256, 256)\n"
     ]
    },
    {
     "name": "stderr",
     "output_type": "stream",
     "text": [
      "\r",
      " 60%|███████████████████████████████████████████████▋                                | 491/823 [03:30<02:11,  2.52it/s]"
     ]
    },
    {
     "name": "stdout",
     "output_type": "stream",
     "text": [
      "\n",
      "3477    CN\n",
      "3478    CN\n",
      "3479    CN\n",
      "3480    CN\n",
      "3481    CN\n",
      "3482    CN\n",
      "3483    CN\n",
      "3484    CN\n",
      "3485    CN\n",
      "3486    CN\n",
      "3487    CN\n",
      "Name: Group, dtype: object\n",
      "CN\n",
      "(166, 256, 256)\n"
     ]
    },
    {
     "name": "stderr",
     "output_type": "stream",
     "text": [
      "\r",
      " 60%|███████████████████████████████████████████████▊                                | 492/823 [03:31<02:13,  2.48it/s]"
     ]
    },
    {
     "name": "stdout",
     "output_type": "stream",
     "text": [
      "\n",
      "3471    CN\n",
      "3472    CN\n",
      "3473    CN\n",
      "3474    CN\n",
      "3475    CN\n",
      "3476    CN\n",
      "Name: Group, dtype: object\n",
      "CN\n",
      "(166, 256, 256)\n"
     ]
    },
    {
     "name": "stderr",
     "output_type": "stream",
     "text": [
      "\r",
      " 60%|███████████████████████████████████████████████▉                                | 493/823 [03:31<02:14,  2.46it/s]"
     ]
    },
    {
     "name": "stdout",
     "output_type": "stream",
     "text": [
      "\n",
      "3464    MCI\n",
      "3465    MCI\n",
      "3466    MCI\n",
      "3467    MCI\n",
      "3468    MCI\n",
      "3469    MCI\n",
      "3470    MCI\n",
      "Name: Group, dtype: object\n",
      "MCI\n",
      "(166, 256, 256)\n"
     ]
    },
    {
     "name": "stderr",
     "output_type": "stream",
     "text": [
      "\r",
      " 60%|████████████████████████████████████████████████                                | 494/823 [03:32<02:11,  2.49it/s]"
     ]
    },
    {
     "name": "stdout",
     "output_type": "stream",
     "text": [
      "\n",
      "3458    MCI\n",
      "3459    MCI\n",
      "3460    MCI\n",
      "3461    MCI\n",
      "3462    MCI\n",
      "3463    MCI\n",
      "Name: Group, dtype: object\n",
      "MCI\n",
      "(166, 256, 256)\n"
     ]
    },
    {
     "name": "stderr",
     "output_type": "stream",
     "text": [
      "\r",
      " 60%|████████████████████████████████████████████████                                | 495/823 [03:32<02:14,  2.43it/s]"
     ]
    },
    {
     "name": "stdout",
     "output_type": "stream",
     "text": [
      "\n",
      "3446    CN\n",
      "3447    CN\n",
      "3448    CN\n",
      "3449    CN\n",
      "3450    CN\n",
      "3451    CN\n",
      "3452    CN\n",
      "3453    CN\n",
      "3454    CN\n",
      "3455    CN\n",
      "3456    CN\n",
      "3457    CN\n",
      "Name: Group, dtype: object\n",
      "CN\n",
      "(166, 256, 256)\n"
     ]
    },
    {
     "name": "stderr",
     "output_type": "stream",
     "text": [
      "\r",
      " 60%|████████████████████████████████████████████████▏                               | 496/823 [03:33<02:14,  2.43it/s]"
     ]
    },
    {
     "name": "stdout",
     "output_type": "stream",
     "text": [
      "\n",
      "3436    CN\n",
      "3437    CN\n",
      "3438    CN\n",
      "3439    CN\n",
      "3440    CN\n",
      "3441    CN\n",
      "3442    CN\n",
      "3443    CN\n",
      "3444    CN\n",
      "3445    CN\n",
      "Name: Group, dtype: object\n",
      "CN\n",
      "(166, 256, 256)\n"
     ]
    },
    {
     "name": "stderr",
     "output_type": "stream",
     "text": [
      "\r",
      " 60%|████████████████████████████████████████████████▎                               | 497/823 [03:33<02:12,  2.46it/s]"
     ]
    },
    {
     "name": "stdout",
     "output_type": "stream",
     "text": [
      "\n",
      "3426    CN\n",
      "3427    CN\n",
      "3428    CN\n",
      "3429    CN\n",
      "3430    CN\n",
      "3431    CN\n",
      "3432    CN\n",
      "3433    CN\n",
      "3434    CN\n",
      "3435    CN\n",
      "Name: Group, dtype: object\n",
      "CN\n",
      "(166, 256, 256)\n"
     ]
    },
    {
     "name": "stderr",
     "output_type": "stream",
     "text": [
      "\r",
      " 61%|████████████████████████████████████████████████▍                               | 498/823 [03:33<02:11,  2.47it/s]"
     ]
    },
    {
     "name": "stdout",
     "output_type": "stream",
     "text": [
      "\n",
      "3416    CN\n",
      "3417    CN\n",
      "3418    CN\n",
      "3419    CN\n",
      "3420    CN\n",
      "3421    CN\n",
      "3422    CN\n",
      "3423    CN\n",
      "3424    CN\n",
      "3425    CN\n",
      "Name: Group, dtype: object\n",
      "CN\n",
      "(166, 256, 256)\n"
     ]
    },
    {
     "name": "stderr",
     "output_type": "stream",
     "text": [
      "\r",
      " 61%|████████████████████████████████████████████████▌                               | 499/823 [03:34<02:11,  2.46it/s]"
     ]
    },
    {
     "name": "stdout",
     "output_type": "stream",
     "text": [
      "\n",
      "3406    MCI\n",
      "3407    MCI\n",
      "3408    MCI\n",
      "3409    MCI\n",
      "3410    MCI\n",
      "3411    MCI\n",
      "3412    MCI\n",
      "3413    MCI\n",
      "3414    MCI\n",
      "3415    MCI\n",
      "Name: Group, dtype: object\n",
      "MCI\n",
      "(166, 256, 256)\n"
     ]
    },
    {
     "name": "stderr",
     "output_type": "stream",
     "text": [
      "\r",
      " 61%|████████████████████████████████████████████████▌                               | 500/823 [03:34<02:11,  2.45it/s]"
     ]
    },
    {
     "name": "stdout",
     "output_type": "stream",
     "text": [
      "\n",
      "3396    MCI\n",
      "3397    MCI\n",
      "3398    MCI\n",
      "3399    MCI\n",
      "3400    MCI\n",
      "3401    MCI\n",
      "3402    MCI\n",
      "3403    MCI\n",
      "3404    MCI\n",
      "3405    MCI\n",
      "Name: Group, dtype: object\n",
      "MCI\n",
      "(166, 256, 256)\n"
     ]
    },
    {
     "name": "stderr",
     "output_type": "stream",
     "text": [
      "\r",
      " 61%|████████████████████████████████████████████████▋                               | 501/823 [03:35<02:15,  2.38it/s]"
     ]
    },
    {
     "name": "stdout",
     "output_type": "stream",
     "text": [
      "\n",
      "3386    AD\n",
      "3387    AD\n",
      "3388    AD\n",
      "3389    AD\n",
      "3390    AD\n",
      "3391    AD\n",
      "3392    AD\n",
      "3393    AD\n",
      "3394    AD\n",
      "3395    AD\n",
      "Name: Group, dtype: object\n",
      "AD\n",
      "(166, 256, 256)\n"
     ]
    },
    {
     "name": "stderr",
     "output_type": "stream",
     "text": [
      "\r",
      " 61%|████████████████████████████████████████████████▊                               | 502/823 [03:35<02:14,  2.39it/s]"
     ]
    },
    {
     "name": "stdout",
     "output_type": "stream",
     "text": [
      "\n",
      "3376    MCI\n",
      "3377    MCI\n",
      "3378    MCI\n",
      "3379    MCI\n",
      "3380    MCI\n",
      "3381    MCI\n",
      "3382    MCI\n",
      "3383    MCI\n",
      "3384    MCI\n",
      "3385    MCI\n",
      "Name: Group, dtype: object\n",
      "MCI\n",
      "(166, 256, 256)\n"
     ]
    },
    {
     "name": "stderr",
     "output_type": "stream",
     "text": [
      "\r",
      " 61%|████████████████████████████████████████████████▉                               | 503/823 [03:35<02:12,  2.41it/s]"
     ]
    },
    {
     "name": "stdout",
     "output_type": "stream",
     "text": [
      "\n",
      "3366    MCI\n",
      "3367    MCI\n",
      "3368    MCI\n",
      "3369    MCI\n",
      "3370    MCI\n",
      "3371    MCI\n",
      "3372    MCI\n",
      "3373    MCI\n",
      "3374    MCI\n",
      "3375    MCI\n",
      "Name: Group, dtype: object\n",
      "MCI\n",
      "(166, 256, 256)\n"
     ]
    },
    {
     "name": "stderr",
     "output_type": "stream",
     "text": [
      "\r",
      " 61%|████████████████████████████████████████████████▉                               | 504/823 [03:36<02:08,  2.48it/s]"
     ]
    },
    {
     "name": "stdout",
     "output_type": "stream",
     "text": [
      "\n",
      "3356    AD\n",
      "3357    AD\n",
      "3358    AD\n",
      "3359    AD\n",
      "3360    AD\n",
      "3361    AD\n",
      "3362    AD\n",
      "3363    AD\n",
      "3364    AD\n",
      "3365    AD\n",
      "Name: Group, dtype: object\n",
      "AD\n",
      "(166, 256, 256)\n"
     ]
    },
    {
     "name": "stderr",
     "output_type": "stream",
     "text": [
      "\r",
      " 61%|█████████████████████████████████████████████████                               | 505/823 [03:36<02:06,  2.52it/s]"
     ]
    },
    {
     "name": "stdout",
     "output_type": "stream",
     "text": [
      "\n",
      "3346    MCI\n",
      "3347    MCI\n",
      "3348    MCI\n",
      "3349    MCI\n",
      "3350    MCI\n",
      "3351    MCI\n",
      "3352    MCI\n",
      "3353    MCI\n",
      "3354    MCI\n",
      "3355    MCI\n",
      "Name: Group, dtype: object\n",
      "MCI\n",
      "(166, 256, 256)\n"
     ]
    },
    {
     "name": "stderr",
     "output_type": "stream",
     "text": [
      "\r",
      " 61%|█████████████████████████████████████████████████▏                              | 506/823 [03:37<02:03,  2.56it/s]"
     ]
    },
    {
     "name": "stdout",
     "output_type": "stream",
     "text": [
      "\n",
      "3326    CN\n",
      "3327    CN\n",
      "3328    CN\n",
      "3329    CN\n",
      "3330    CN\n",
      "3331    CN\n",
      "3332    CN\n",
      "3333    CN\n",
      "3334    CN\n",
      "3335    CN\n",
      "3336    CN\n",
      "3337    CN\n",
      "3338    CN\n",
      "3339    CN\n",
      "3340    CN\n",
      "3341    CN\n",
      "3342    CN\n",
      "3343    CN\n",
      "3344    CN\n",
      "3345    CN\n",
      "Name: Group, dtype: object\n",
      "CN\n",
      "(166, 256, 256)\n"
     ]
    },
    {
     "name": "stderr",
     "output_type": "stream",
     "text": [
      "\r",
      " 62%|█████████████████████████████████████████████████▎                              | 507/823 [03:37<02:01,  2.59it/s]"
     ]
    },
    {
     "name": "stdout",
     "output_type": "stream",
     "text": [
      "\n",
      "3316    CN\n",
      "3317    CN\n",
      "3318    CN\n",
      "3319    CN\n",
      "3320    CN\n",
      "3321    CN\n",
      "3322    CN\n",
      "3323    CN\n",
      "3324    CN\n",
      "3325    CN\n",
      "Name: Group, dtype: object\n",
      "CN\n",
      "(166, 256, 256)\n"
     ]
    },
    {
     "name": "stderr",
     "output_type": "stream",
     "text": [
      "\r",
      " 62%|█████████████████████████████████████████████████▍                              | 508/823 [03:37<02:01,  2.59it/s]"
     ]
    },
    {
     "name": "stdout",
     "output_type": "stream",
     "text": [
      "\n",
      "3296    MCI\n",
      "3297    MCI\n",
      "3298    MCI\n",
      "3299    MCI\n",
      "3300    MCI\n",
      "3301    MCI\n",
      "3302    MCI\n",
      "3303    MCI\n",
      "3304    MCI\n",
      "3305    MCI\n",
      "3306    MCI\n",
      "3307    MCI\n",
      "3308    MCI\n",
      "3309    MCI\n",
      "3310    MCI\n",
      "3311    MCI\n",
      "3312    MCI\n",
      "3313    MCI\n",
      "3314    MCI\n",
      "3315    MCI\n",
      "Name: Group, dtype: object\n",
      "MCI\n",
      "(166, 256, 256)\n"
     ]
    },
    {
     "name": "stderr",
     "output_type": "stream",
     "text": [
      "\r",
      " 62%|█████████████████████████████████████████████████▍                              | 509/823 [03:38<02:02,  2.57it/s]"
     ]
    },
    {
     "name": "stdout",
     "output_type": "stream",
     "text": [
      "\n",
      "3276    CN\n",
      "3277    CN\n",
      "3278    CN\n",
      "3279    CN\n",
      "3280    CN\n",
      "3281    CN\n",
      "3282    CN\n",
      "3283    CN\n",
      "3284    CN\n",
      "3285    CN\n",
      "3286    CN\n",
      "3287    CN\n",
      "3288    CN\n",
      "3289    CN\n",
      "3290    CN\n",
      "3291    CN\n",
      "3292    CN\n",
      "3293    CN\n",
      "3294    CN\n",
      "3295    CN\n",
      "Name: Group, dtype: object\n",
      "CN\n",
      "(166, 256, 256)\n"
     ]
    },
    {
     "name": "stderr",
     "output_type": "stream",
     "text": [
      "\r",
      " 62%|█████████████████████████████████████████████████▌                              | 510/823 [03:38<02:00,  2.60it/s]"
     ]
    },
    {
     "name": "stdout",
     "output_type": "stream",
     "text": [
      "\n",
      "3266    MCI\n",
      "3267    MCI\n",
      "3268    MCI\n",
      "3269    MCI\n",
      "3270    MCI\n",
      "3271    MCI\n",
      "3272    MCI\n",
      "3273    MCI\n",
      "3274    MCI\n",
      "3275    MCI\n",
      "Name: Group, dtype: object\n",
      "MCI\n",
      "(166, 256, 256)\n"
     ]
    },
    {
     "name": "stderr",
     "output_type": "stream",
     "text": [
      "\r",
      " 62%|█████████████████████████████████████████████████▋                              | 511/823 [03:38<02:00,  2.59it/s]"
     ]
    },
    {
     "name": "stdout",
     "output_type": "stream",
     "text": [
      "\n",
      "3256    CN\n",
      "3257    CN\n",
      "3258    CN\n",
      "3259    CN\n",
      "3260    CN\n",
      "3261    CN\n",
      "3262    CN\n",
      "3263    CN\n",
      "3264    CN\n",
      "3265    CN\n",
      "Name: Group, dtype: object\n",
      "CN\n",
      "(166, 256, 256)\n"
     ]
    },
    {
     "name": "stderr",
     "output_type": "stream",
     "text": [
      "\r",
      " 62%|█████████████████████████████████████████████████▊                              | 512/823 [03:39<02:03,  2.52it/s]"
     ]
    },
    {
     "name": "stdout",
     "output_type": "stream",
     "text": [
      "\n",
      "3246    MCI\n",
      "3247    MCI\n",
      "3248    MCI\n",
      "3249    MCI\n",
      "3250    MCI\n",
      "3251    MCI\n",
      "3252    MCI\n",
      "3253    MCI\n",
      "3254    MCI\n",
      "3255    MCI\n",
      "Name: Group, dtype: object\n",
      "MCI\n",
      "(166, 256, 256)\n"
     ]
    },
    {
     "name": "stderr",
     "output_type": "stream",
     "text": [
      "\r",
      " 62%|█████████████████████████████████████████████████▊                              | 513/823 [03:39<02:03,  2.50it/s]"
     ]
    },
    {
     "name": "stdout",
     "output_type": "stream",
     "text": [
      "\n",
      "3227    MCI\n",
      "3228    MCI\n",
      "3229    MCI\n",
      "3230    MCI\n",
      "3231    MCI\n",
      "3232    MCI\n",
      "3233    MCI\n",
      "3234    MCI\n",
      "3235    MCI\n",
      "3236    MCI\n",
      "3237    MCI\n",
      "3238    MCI\n",
      "3239    MCI\n",
      "3240    MCI\n",
      "3241    MCI\n",
      "3242    MCI\n",
      "3243    MCI\n",
      "3244    MCI\n",
      "3245    MCI\n",
      "Name: Group, dtype: object\n",
      "MCI\n",
      "(166, 256, 256)\n"
     ]
    },
    {
     "name": "stderr",
     "output_type": "stream",
     "text": [
      "\r",
      " 62%|█████████████████████████████████████████████████▉                              | 514/823 [03:40<02:07,  2.43it/s]"
     ]
    },
    {
     "name": "stdout",
     "output_type": "stream",
     "text": [
      "\n",
      "3218    AD\n",
      "3219    AD\n",
      "3220    AD\n",
      "3221    AD\n",
      "3222    AD\n",
      "3223    AD\n",
      "3224    AD\n",
      "3225    AD\n",
      "3226    AD\n",
      "Name: Group, dtype: object\n",
      "AD\n",
      "(166, 256, 256)\n"
     ]
    },
    {
     "name": "stderr",
     "output_type": "stream",
     "text": [
      "\r",
      " 63%|██████████████████████████████████████████████████                              | 515/823 [03:40<02:07,  2.41it/s]"
     ]
    },
    {
     "name": "stdout",
     "output_type": "stream",
     "text": [
      "\n",
      "3208    MCI\n",
      "3209    MCI\n",
      "3210    MCI\n",
      "3211    MCI\n",
      "3212    MCI\n",
      "3213    MCI\n",
      "3214    MCI\n",
      "3215    MCI\n",
      "3216    MCI\n",
      "3217    MCI\n",
      "Name: Group, dtype: object\n",
      "MCI\n",
      "(166, 256, 256)\n"
     ]
    },
    {
     "name": "stderr",
     "output_type": "stream",
     "text": [
      "\r",
      " 63%|██████████████████████████████████████████████████▏                             | 516/823 [03:41<02:05,  2.44it/s]"
     ]
    },
    {
     "name": "stdout",
     "output_type": "stream",
     "text": [
      "\n",
      "3189    CN\n",
      "3190    CN\n",
      "3191    CN\n",
      "3192    CN\n",
      "3193    CN\n",
      "3194    CN\n",
      "3195    CN\n",
      "3196    CN\n",
      "3197    CN\n",
      "3198    CN\n",
      "3199    CN\n",
      "3200    CN\n",
      "3201    CN\n",
      "3202    CN\n",
      "3203    CN\n",
      "3204    CN\n",
      "3205    CN\n",
      "3206    CN\n",
      "3207    CN\n",
      "Name: Group, dtype: object\n",
      "CN\n",
      "(166, 256, 256)\n"
     ]
    },
    {
     "name": "stderr",
     "output_type": "stream",
     "text": [
      "\r",
      " 63%|██████████████████████████████████████████████████▎                             | 517/823 [03:41<02:07,  2.39it/s]"
     ]
    },
    {
     "name": "stdout",
     "output_type": "stream",
     "text": [
      "\n",
      "3179    AD\n",
      "3180    AD\n",
      "3181    AD\n",
      "3182    AD\n",
      "3183    AD\n",
      "3184    AD\n",
      "3185    AD\n",
      "3186    AD\n",
      "3187    AD\n",
      "3188    AD\n",
      "Name: Group, dtype: object\n",
      "AD\n",
      "(166, 256, 256)\n"
     ]
    },
    {
     "name": "stderr",
     "output_type": "stream",
     "text": [
      "\r",
      " 63%|██████████████████████████████████████████████████▎                             | 518/823 [03:41<02:09,  2.36it/s]"
     ]
    },
    {
     "name": "stdout",
     "output_type": "stream",
     "text": [
      "\n",
      "3170    MCI\n",
      "3171    MCI\n",
      "3172    MCI\n",
      "3173    MCI\n",
      "3174    MCI\n",
      "3175    MCI\n",
      "3176    MCI\n",
      "3177    MCI\n",
      "3178    MCI\n",
      "Name: Group, dtype: object\n",
      "MCI\n",
      "(166, 256, 256)\n"
     ]
    },
    {
     "name": "stderr",
     "output_type": "stream",
     "text": [
      "\r",
      " 63%|██████████████████████████████████████████████████▍                             | 519/823 [03:42<02:08,  2.36it/s]"
     ]
    },
    {
     "name": "stdout",
     "output_type": "stream",
     "text": [
      "\n",
      "3161    CN\n",
      "3162    CN\n",
      "3163    CN\n",
      "3164    CN\n",
      "3165    CN\n",
      "3166    CN\n",
      "3167    CN\n",
      "3168    CN\n",
      "3169    CN\n",
      "Name: Group, dtype: object\n",
      "CN\n",
      "(166, 256, 256)\n"
     ]
    },
    {
     "name": "stderr",
     "output_type": "stream",
     "text": [
      "\r",
      " 63%|██████████████████████████████████████████████████▌                             | 520/823 [03:42<02:06,  2.39it/s]"
     ]
    },
    {
     "name": "stdout",
     "output_type": "stream",
     "text": [
      "\n",
      "3152    CN\n",
      "3153    CN\n",
      "3154    CN\n",
      "3155    CN\n",
      "3156    CN\n",
      "3157    CN\n",
      "3158    CN\n",
      "3159    CN\n",
      "3160    CN\n",
      "Name: Group, dtype: object\n",
      "CN\n",
      "(166, 256, 256)\n"
     ]
    },
    {
     "name": "stderr",
     "output_type": "stream",
     "text": [
      "\r",
      " 63%|██████████████████████████████████████████████████▋                             | 521/823 [03:43<02:03,  2.44it/s]"
     ]
    },
    {
     "name": "stdout",
     "output_type": "stream",
     "text": [
      "\n",
      "3143    MCI\n",
      "3144    MCI\n",
      "3145    MCI\n",
      "3146    MCI\n",
      "3147    MCI\n",
      "3148    MCI\n",
      "3149    MCI\n",
      "3150    MCI\n",
      "3151    MCI\n",
      "Name: Group, dtype: object\n",
      "MCI\n",
      "(166, 256, 256)\n"
     ]
    },
    {
     "name": "stderr",
     "output_type": "stream",
     "text": [
      "\r",
      " 63%|██████████████████████████████████████████████████▋                             | 522/823 [03:43<02:01,  2.48it/s]"
     ]
    },
    {
     "name": "stdout",
     "output_type": "stream",
     "text": [
      "\n",
      "3134    CN\n",
      "3135    CN\n",
      "3136    CN\n",
      "3137    CN\n",
      "3138    CN\n",
      "3139    CN\n",
      "3140    CN\n",
      "3141    CN\n",
      "3142    CN\n",
      "Name: Group, dtype: object\n",
      "CN\n",
      "(166, 256, 256)\n"
     ]
    },
    {
     "name": "stderr",
     "output_type": "stream",
     "text": [
      "\r",
      " 64%|██████████████████████████████████████████████████▊                             | 523/823 [03:43<01:58,  2.53it/s]"
     ]
    },
    {
     "name": "stdout",
     "output_type": "stream",
     "text": [
      "\n",
      "3125    CN\n",
      "3126    CN\n",
      "3127    CN\n",
      "3128    CN\n",
      "3129    CN\n",
      "3130    CN\n",
      "3131    CN\n",
      "3132    CN\n",
      "3133    CN\n",
      "Name: Group, dtype: object\n",
      "CN\n",
      "(166, 256, 256)\n"
     ]
    },
    {
     "name": "stderr",
     "output_type": "stream",
     "text": [
      "\r",
      " 64%|██████████████████████████████████████████████████▉                             | 524/823 [03:44<01:57,  2.54it/s]"
     ]
    },
    {
     "name": "stdout",
     "output_type": "stream",
     "text": [
      "\n",
      "3116    MCI\n",
      "3117    MCI\n",
      "3118    MCI\n",
      "3119    MCI\n",
      "3120    MCI\n",
      "3121    MCI\n",
      "3122    MCI\n",
      "3123    MCI\n",
      "3124    MCI\n",
      "Name: Group, dtype: object\n",
      "MCI\n",
      "(166, 256, 256)\n"
     ]
    },
    {
     "name": "stderr",
     "output_type": "stream",
     "text": [
      "\r",
      " 64%|███████████████████████████████████████████████████                             | 525/823 [03:44<01:57,  2.55it/s]"
     ]
    },
    {
     "name": "stdout",
     "output_type": "stream",
     "text": [
      "\n",
      "3107    MCI\n",
      "3108    MCI\n",
      "3109    MCI\n",
      "3110    MCI\n",
      "3111    MCI\n",
      "3112    MCI\n",
      "3113    MCI\n",
      "3114    MCI\n",
      "3115    MCI\n",
      "Name: Group, dtype: object\n",
      "MCI\n",
      "(166, 256, 256)\n"
     ]
    },
    {
     "name": "stderr",
     "output_type": "stream",
     "text": [
      "\r",
      " 64%|███████████████████████████████████████████████████▏                            | 526/823 [03:45<02:01,  2.44it/s]"
     ]
    },
    {
     "name": "stdout",
     "output_type": "stream",
     "text": [
      "\n",
      "3098    MCI\n",
      "3099    MCI\n",
      "3100    MCI\n",
      "3101    MCI\n",
      "3102    MCI\n",
      "3103    MCI\n",
      "3104    MCI\n",
      "3105    MCI\n",
      "3106    MCI\n",
      "Name: Group, dtype: object\n",
      "MCI\n",
      "(166, 256, 256)\n"
     ]
    },
    {
     "name": "stderr",
     "output_type": "stream",
     "text": [
      "\r",
      " 64%|███████████████████████████████████████████████████▏                            | 527/823 [03:45<02:00,  2.45it/s]"
     ]
    },
    {
     "name": "stdout",
     "output_type": "stream",
     "text": [
      "\n",
      "3089    AD\n",
      "3090    AD\n",
      "3091    AD\n",
      "3092    AD\n",
      "3093    AD\n",
      "3094    AD\n",
      "3095    AD\n",
      "3096    AD\n",
      "3097    AD\n",
      "Name: Group, dtype: object\n",
      "AD\n",
      "(166, 256, 256)\n"
     ]
    },
    {
     "name": "stderr",
     "output_type": "stream",
     "text": [
      "\r",
      " 64%|███████████████████████████████████████████████████▎                            | 528/823 [03:45<01:59,  2.46it/s]"
     ]
    },
    {
     "name": "stdout",
     "output_type": "stream",
     "text": [
      "\n",
      "3079    AD\n",
      "3080    AD\n",
      "3081    AD\n",
      "3082    AD\n",
      "3083    AD\n",
      "3084    AD\n",
      "3085    AD\n",
      "3086    AD\n",
      "3087    AD\n",
      "3088    AD\n",
      "Name: Group, dtype: object\n",
      "AD\n",
      "(166, 256, 256)\n"
     ]
    },
    {
     "name": "stderr",
     "output_type": "stream",
     "text": [
      "\r",
      " 64%|███████████████████████████████████████████████████▍                            | 529/823 [03:46<02:00,  2.44it/s]"
     ]
    },
    {
     "name": "stdout",
     "output_type": "stream",
     "text": [
      "\n",
      "3069    AD\n",
      "3070    AD\n",
      "3071    AD\n",
      "3072    AD\n",
      "3073    AD\n",
      "3074    AD\n",
      "3075    AD\n",
      "3076    AD\n",
      "3077    AD\n",
      "3078    AD\n",
      "Name: Group, dtype: object\n",
      "AD\n",
      "(166, 256, 256)\n"
     ]
    },
    {
     "name": "stderr",
     "output_type": "stream",
     "text": [
      "\r",
      " 64%|███████████████████████████████████████████████████▌                            | 530/823 [03:46<01:58,  2.48it/s]"
     ]
    },
    {
     "name": "stdout",
     "output_type": "stream",
     "text": [
      "\n",
      "3060    AD\n",
      "3061    AD\n",
      "3062    AD\n",
      "3063    AD\n",
      "3064    AD\n",
      "3065    AD\n",
      "3066    AD\n",
      "3067    AD\n",
      "3068    AD\n",
      "Name: Group, dtype: object\n",
      "AD\n",
      "(166, 256, 256)\n"
     ]
    },
    {
     "name": "stderr",
     "output_type": "stream",
     "text": [
      "\r",
      " 65%|███████████████████████████████████████████████████▌                            | 531/823 [03:47<01:59,  2.45it/s]"
     ]
    },
    {
     "name": "stdout",
     "output_type": "stream",
     "text": [
      "\n",
      "3051    MCI\n",
      "3052    MCI\n",
      "3053    MCI\n",
      "3054    MCI\n",
      "3055    MCI\n",
      "3056    MCI\n",
      "3057    MCI\n",
      "3058    MCI\n",
      "3059    MCI\n",
      "Name: Group, dtype: object\n",
      "MCI\n",
      "(166, 256, 256)\n"
     ]
    },
    {
     "name": "stderr",
     "output_type": "stream",
     "text": [
      "\r",
      " 65%|███████████████████████████████████████████████████▋                            | 532/823 [03:47<01:57,  2.48it/s]"
     ]
    },
    {
     "name": "stdout",
     "output_type": "stream",
     "text": [
      "\n",
      "3033    CN\n",
      "3034    CN\n",
      "3035    CN\n",
      "3036    CN\n",
      "3037    CN\n",
      "3038    CN\n",
      "3039    CN\n",
      "3040    CN\n",
      "3041    CN\n",
      "3042    CN\n",
      "3043    CN\n",
      "3044    CN\n",
      "3045    CN\n",
      "3046    CN\n",
      "3047    CN\n",
      "3048    CN\n",
      "3049    CN\n",
      "3050    CN\n",
      "Name: Group, dtype: object\n",
      "CN\n",
      "(166, 256, 256)\n"
     ]
    },
    {
     "name": "stderr",
     "output_type": "stream",
     "text": [
      "\r",
      " 65%|███████████████████████████████████████████████████▊                            | 533/823 [03:47<01:57,  2.47it/s]"
     ]
    },
    {
     "name": "stdout",
     "output_type": "stream",
     "text": [
      "\n",
      "3015    CN\n",
      "3016    CN\n",
      "3017    CN\n",
      "3018    CN\n",
      "3019    CN\n",
      "3020    CN\n",
      "3021    CN\n",
      "3022    CN\n",
      "3023    CN\n",
      "3024    CN\n",
      "3025    CN\n",
      "3026    CN\n",
      "3027    CN\n",
      "3028    CN\n",
      "3029    CN\n",
      "3030    CN\n",
      "3031    CN\n",
      "3032    CN\n",
      "Name: Group, dtype: object\n",
      "CN\n",
      "(166, 256, 256)\n"
     ]
    },
    {
     "name": "stderr",
     "output_type": "stream",
     "text": [
      "\r",
      " 65%|███████████████████████████████████████████████████▉                            | 534/823 [03:48<01:56,  2.47it/s]"
     ]
    },
    {
     "name": "stdout",
     "output_type": "stream",
     "text": [
      "\n",
      "2997    MCI\n",
      "2998    MCI\n",
      "2999    MCI\n",
      "3000    MCI\n",
      "3001    MCI\n",
      "3002    MCI\n",
      "3003    MCI\n",
      "3004    MCI\n",
      "3005    MCI\n",
      "3006    MCI\n",
      "3007    MCI\n",
      "3008    MCI\n",
      "3009    MCI\n",
      "3010    MCI\n",
      "3011    MCI\n",
      "3012    MCI\n",
      "3013    MCI\n",
      "3014    MCI\n",
      "Name: Group, dtype: object\n",
      "MCI\n",
      "(166, 256, 256)\n"
     ]
    },
    {
     "name": "stderr",
     "output_type": "stream",
     "text": [
      "\r",
      " 65%|████████████████████████████████████████████████████                            | 535/823 [03:48<01:55,  2.50it/s]"
     ]
    },
    {
     "name": "stdout",
     "output_type": "stream",
     "text": [
      "\n",
      "2987    MCI\n",
      "2988    MCI\n",
      "2989    MCI\n",
      "2990    MCI\n",
      "2991    MCI\n",
      "2992    MCI\n",
      "2993    MCI\n",
      "2994    MCI\n",
      "2995    MCI\n",
      "2996    MCI\n",
      "Name: Group, dtype: object\n",
      "MCI\n",
      "(166, 256, 256)\n"
     ]
    },
    {
     "name": "stderr",
     "output_type": "stream",
     "text": [
      "\r",
      " 65%|████████████████████████████████████████████████████                            | 536/823 [03:49<01:56,  2.46it/s]"
     ]
    },
    {
     "name": "stdout",
     "output_type": "stream",
     "text": [
      "\n",
      "2977    MCI\n",
      "2978    MCI\n",
      "2979    MCI\n",
      "2980    MCI\n",
      "2981    MCI\n",
      "2982    MCI\n",
      "2983    MCI\n",
      "2984    MCI\n",
      "2985    MCI\n",
      "2986    MCI\n",
      "Name: Group, dtype: object\n",
      "MCI\n",
      "(166, 256, 256)\n"
     ]
    },
    {
     "name": "stderr",
     "output_type": "stream",
     "text": [
      "\r",
      " 65%|████████████████████████████████████████████████████▏                           | 537/823 [03:49<01:56,  2.46it/s]"
     ]
    },
    {
     "name": "stdout",
     "output_type": "stream",
     "text": [
      "\n",
      "2968    AD\n",
      "2969    AD\n",
      "2970    AD\n",
      "2971    AD\n",
      "2972    AD\n",
      "2973    AD\n",
      "2974    AD\n",
      "2975    AD\n",
      "2976    AD\n",
      "Name: Group, dtype: object\n",
      "AD\n",
      "(166, 256, 256)\n"
     ]
    },
    {
     "name": "stderr",
     "output_type": "stream",
     "text": [
      "\r",
      " 65%|████████████████████████████████████████████████████▎                           | 538/823 [03:49<01:55,  2.46it/s]"
     ]
    },
    {
     "name": "stdout",
     "output_type": "stream",
     "text": [
      "\n",
      "2956    MCI\n",
      "2957    MCI\n",
      "2958    MCI\n",
      "2959    MCI\n",
      "2960    MCI\n",
      "2961    MCI\n",
      "2962    MCI\n",
      "2963    MCI\n",
      "2964    MCI\n",
      "2965    MCI\n",
      "2966    MCI\n",
      "2967    MCI\n",
      "Name: Group, dtype: object\n",
      "MCI\n",
      "(166, 256, 256)\n"
     ]
    },
    {
     "name": "stderr",
     "output_type": "stream",
     "text": [
      "\r",
      " 65%|████████████████████████████████████████████████████▍                           | 539/823 [03:50<01:54,  2.49it/s]"
     ]
    },
    {
     "name": "stdout",
     "output_type": "stream",
     "text": [
      "\n",
      "2947    AD\n",
      "2948    AD\n",
      "2949    AD\n",
      "2950    AD\n",
      "2951    AD\n",
      "2952    AD\n",
      "2953    AD\n",
      "2954    AD\n",
      "2955    AD\n",
      "Name: Group, dtype: object\n",
      "AD\n",
      "(166, 256, 256)\n"
     ]
    },
    {
     "name": "stderr",
     "output_type": "stream",
     "text": [
      "\r",
      " 66%|████████████████████████████████████████████████████▍                           | 540/823 [03:50<01:55,  2.45it/s]"
     ]
    },
    {
     "name": "stdout",
     "output_type": "stream",
     "text": [
      "\n",
      "2938    MCI\n",
      "2939    MCI\n",
      "2940    MCI\n",
      "2941    MCI\n",
      "2942    MCI\n",
      "2943    MCI\n",
      "2944    MCI\n",
      "2945    MCI\n",
      "2946    MCI\n",
      "Name: Group, dtype: object\n",
      "MCI\n",
      "(166, 256, 256)\n"
     ]
    },
    {
     "name": "stderr",
     "output_type": "stream",
     "text": [
      "\r",
      " 66%|████████████████████████████████████████████████████▌                           | 541/823 [03:51<01:54,  2.46it/s]"
     ]
    },
    {
     "name": "stdout",
     "output_type": "stream",
     "text": [
      "\n",
      "2927    AD\n",
      "2928    AD\n",
      "2929    AD\n",
      "2930    AD\n",
      "2931    AD\n",
      "2932    AD\n",
      "2933    AD\n",
      "2934    AD\n",
      "2935    AD\n",
      "2936    AD\n",
      "2937    AD\n",
      "Name: Group, dtype: object\n",
      "AD\n",
      "(166, 256, 256)\n"
     ]
    },
    {
     "name": "stderr",
     "output_type": "stream",
     "text": [
      "\r",
      " 66%|████████████████████████████████████████████████████▋                           | 542/823 [03:51<01:54,  2.46it/s]"
     ]
    },
    {
     "name": "stdout",
     "output_type": "stream",
     "text": [
      "\n",
      "2918    MCI\n",
      "2919    MCI\n",
      "2920    MCI\n",
      "2921    MCI\n",
      "2922    MCI\n",
      "2923    MCI\n",
      "2924    MCI\n",
      "2925    MCI\n",
      "2926    MCI\n",
      "Name: Group, dtype: object\n",
      "MCI\n",
      "(166, 256, 256)\n"
     ]
    },
    {
     "name": "stderr",
     "output_type": "stream",
     "text": [
      "\r",
      " 66%|████████████████████████████████████████████████████▊                           | 543/823 [03:51<01:52,  2.49it/s]"
     ]
    },
    {
     "name": "stdout",
     "output_type": "stream",
     "text": [
      "\n",
      "2909    CN\n",
      "2910    CN\n",
      "2911    CN\n",
      "2912    CN\n",
      "2913    CN\n",
      "2914    CN\n",
      "2915    CN\n",
      "2916    CN\n",
      "2917    CN\n",
      "Name: Group, dtype: object\n",
      "CN\n",
      "(166, 256, 256)\n"
     ]
    },
    {
     "name": "stderr",
     "output_type": "stream",
     "text": [
      "\r",
      " 66%|████████████████████████████████████████████████████▉                           | 544/823 [03:52<01:50,  2.52it/s]"
     ]
    },
    {
     "name": "stdout",
     "output_type": "stream",
     "text": [
      "\n",
      "2898    CN\n",
      "2899    CN\n",
      "2900    CN\n",
      "2901    CN\n",
      "2902    CN\n",
      "2903    CN\n",
      "2904    CN\n",
      "2905    CN\n",
      "2906    CN\n",
      "2907    CN\n",
      "2908    CN\n",
      "Name: Group, dtype: object\n",
      "CN\n",
      "(166, 256, 256)\n"
     ]
    },
    {
     "name": "stderr",
     "output_type": "stream",
     "text": [
      "\r",
      " 66%|████████████████████████████████████████████████████▉                           | 545/823 [03:52<01:49,  2.53it/s]"
     ]
    },
    {
     "name": "stdout",
     "output_type": "stream",
     "text": [
      "\n",
      "2889    MCI\n",
      "2890    MCI\n",
      "2891    MCI\n",
      "2892    MCI\n",
      "2893    MCI\n",
      "2894    MCI\n",
      "2895    MCI\n",
      "2896    MCI\n",
      "2897    MCI\n",
      "Name: Group, dtype: object\n",
      "MCI\n",
      "(166, 256, 256)\n"
     ]
    },
    {
     "name": "stderr",
     "output_type": "stream",
     "text": [
      "\r",
      " 66%|█████████████████████████████████████████████████████                           | 546/823 [03:53<01:50,  2.51it/s]"
     ]
    },
    {
     "name": "stdout",
     "output_type": "stream",
     "text": [
      "\n",
      "2880    MCI\n",
      "2881    MCI\n",
      "2882    MCI\n",
      "2883    MCI\n",
      "2884    MCI\n",
      "2885    MCI\n",
      "2886    MCI\n",
      "2887    MCI\n",
      "2888    MCI\n",
      "Name: Group, dtype: object\n",
      "MCI\n",
      "(166, 256, 256)\n"
     ]
    },
    {
     "name": "stderr",
     "output_type": "stream",
     "text": [
      "\r",
      " 66%|█████████████████████████████████████████████████████▏                          | 547/823 [03:53<01:53,  2.44it/s]"
     ]
    },
    {
     "name": "stdout",
     "output_type": "stream",
     "text": [
      "\n",
      "2871    MCI\n",
      "2872    MCI\n",
      "2873    MCI\n",
      "2874    MCI\n",
      "2875    MCI\n",
      "2876    MCI\n",
      "2877    MCI\n",
      "2878    MCI\n",
      "2879    MCI\n",
      "Name: Group, dtype: object\n",
      "MCI\n",
      "(166, 256, 256)\n"
     ]
    },
    {
     "name": "stderr",
     "output_type": "stream",
     "text": [
      "\r",
      " 67%|█████████████████████████████████████████████████████▎                          | 548/823 [03:54<01:53,  2.42it/s]"
     ]
    },
    {
     "name": "stdout",
     "output_type": "stream",
     "text": [
      "\n",
      "2862    AD\n",
      "2863    AD\n",
      "2864    AD\n",
      "2865    AD\n",
      "2866    AD\n",
      "2867    AD\n",
      "2868    AD\n",
      "2869    AD\n",
      "2870    AD\n",
      "Name: Group, dtype: object\n",
      "AD\n",
      "(166, 256, 256)\n"
     ]
    },
    {
     "name": "stderr",
     "output_type": "stream",
     "text": [
      "\r",
      " 67%|█████████████████████████████████████████████████████▎                          | 549/823 [03:54<01:52,  2.43it/s]"
     ]
    },
    {
     "name": "stdout",
     "output_type": "stream",
     "text": [
      "\n",
      "2853    CN\n",
      "2854    CN\n",
      "2855    CN\n",
      "2856    CN\n",
      "2857    CN\n",
      "2858    CN\n",
      "2859    CN\n",
      "2860    CN\n",
      "2861    CN\n",
      "Name: Group, dtype: object\n",
      "CN\n",
      "(166, 256, 256)\n"
     ]
    },
    {
     "name": "stderr",
     "output_type": "stream",
     "text": [
      "\r",
      " 67%|█████████████████████████████████████████████████████▍                          | 550/823 [03:54<01:51,  2.44it/s]"
     ]
    },
    {
     "name": "stdout",
     "output_type": "stream",
     "text": [
      "\n",
      "2837    CN\n",
      "2838    CN\n",
      "2839    CN\n",
      "2840    CN\n",
      "2841    CN\n",
      "2842    CN\n",
      "2843    CN\n",
      "2844    CN\n",
      "2845    CN\n",
      "2846    CN\n",
      "2847    CN\n",
      "2848    CN\n",
      "2849    CN\n",
      "2850    CN\n",
      "2851    CN\n",
      "2852    CN\n",
      "Name: Group, dtype: object\n",
      "CN\n",
      "(166, 256, 256)\n"
     ]
    },
    {
     "name": "stderr",
     "output_type": "stream",
     "text": [
      "\r",
      " 67%|█████████████████████████████████████████████████████▌                          | 551/823 [03:55<01:52,  2.42it/s]"
     ]
    },
    {
     "name": "stdout",
     "output_type": "stream",
     "text": [
      "\n",
      "2829    MCI\n",
      "2830    MCI\n",
      "2831    MCI\n",
      "2832    MCI\n",
      "2833    MCI\n",
      "2834    MCI\n",
      "2835    MCI\n",
      "2836    MCI\n",
      "Name: Group, dtype: object\n",
      "MCI\n",
      "(166, 256, 256)\n"
     ]
    },
    {
     "name": "stderr",
     "output_type": "stream",
     "text": [
      "\r",
      " 67%|█████████████████████████████████████████████████████▋                          | 552/823 [03:55<01:51,  2.43it/s]"
     ]
    },
    {
     "name": "stdout",
     "output_type": "stream",
     "text": [
      "\n",
      "2821    MCI\n",
      "2822    MCI\n",
      "2823    MCI\n",
      "2824    MCI\n",
      "2825    MCI\n",
      "2826    MCI\n",
      "2827    MCI\n",
      "2828    MCI\n",
      "Name: Group, dtype: object\n",
      "MCI\n",
      "(166, 256, 256)\n"
     ]
    },
    {
     "name": "stderr",
     "output_type": "stream",
     "text": [
      "\r",
      " 67%|█████████████████████████████████████████████████████▊                          | 553/823 [03:56<01:51,  2.41it/s]"
     ]
    },
    {
     "name": "stdout",
     "output_type": "stream",
     "text": [
      "\n",
      "2813    MCI\n",
      "2814    MCI\n",
      "2815    MCI\n",
      "2816    MCI\n",
      "2817    MCI\n",
      "2818    MCI\n",
      "2819    MCI\n",
      "2820    MCI\n",
      "Name: Group, dtype: object\n",
      "MCI\n",
      "(166, 256, 256)\n"
     ]
    },
    {
     "name": "stderr",
     "output_type": "stream",
     "text": [
      "\r",
      " 67%|█████████████████████████████████████████████████████▊                          | 554/823 [03:56<01:50,  2.43it/s]"
     ]
    },
    {
     "name": "stdout",
     "output_type": "stream",
     "text": [
      "\n",
      "2805    CN\n",
      "2806    CN\n",
      "2807    CN\n",
      "2808    CN\n",
      "2809    CN\n",
      "2810    CN\n",
      "2811    CN\n",
      "2812    CN\n",
      "Name: Group, dtype: object\n",
      "CN\n",
      "(166, 256, 256)\n"
     ]
    },
    {
     "name": "stderr",
     "output_type": "stream",
     "text": [
      "\r",
      " 67%|█████████████████████████████████████████████████████▉                          | 555/823 [03:56<01:49,  2.44it/s]"
     ]
    },
    {
     "name": "stdout",
     "output_type": "stream",
     "text": [
      "\n",
      "2797    MCI\n",
      "2798    MCI\n",
      "2799    MCI\n",
      "2800    MCI\n",
      "2801    MCI\n",
      "2802    MCI\n",
      "2803    MCI\n",
      "2804    MCI\n",
      "Name: Group, dtype: object\n",
      "MCI\n",
      "(166, 256, 256)\n"
     ]
    },
    {
     "name": "stderr",
     "output_type": "stream",
     "text": [
      "\r",
      " 68%|██████████████████████████████████████████████████████                          | 556/823 [03:57<01:49,  2.44it/s]"
     ]
    },
    {
     "name": "stdout",
     "output_type": "stream",
     "text": [
      "\n",
      "2789    MCI\n",
      "2790    MCI\n",
      "2791    MCI\n",
      "2792    MCI\n",
      "2793    MCI\n",
      "2794    MCI\n",
      "2795    MCI\n",
      "2796    MCI\n",
      "Name: Group, dtype: object\n",
      "MCI\n",
      "(166, 256, 256)\n"
     ]
    },
    {
     "name": "stderr",
     "output_type": "stream",
     "text": [
      "\r",
      " 68%|██████████████████████████████████████████████████████▏                         | 557/823 [03:57<01:47,  2.48it/s]"
     ]
    },
    {
     "name": "stdout",
     "output_type": "stream",
     "text": [
      "\n",
      "2781    CN\n",
      "2782    CN\n",
      "2783    CN\n",
      "2784    CN\n",
      "2785    CN\n",
      "2786    CN\n",
      "2787    CN\n",
      "2788    CN\n",
      "Name: Group, dtype: object\n",
      "CN\n",
      "(166, 256, 256)\n"
     ]
    },
    {
     "name": "stderr",
     "output_type": "stream",
     "text": [
      "\r",
      " 68%|██████████████████████████████████████████████████████▏                         | 558/823 [03:58<01:46,  2.50it/s]"
     ]
    },
    {
     "name": "stdout",
     "output_type": "stream",
     "text": [
      "\n",
      "2757    AD\n",
      "2758    AD\n",
      "2759    AD\n",
      "2760    AD\n",
      "2761    AD\n",
      "2762    AD\n",
      "2763    AD\n",
      "2764    AD\n",
      "Name: Group, dtype: object\n",
      "AD\n",
      "(166, 256, 256)\n"
     ]
    },
    {
     "name": "stderr",
     "output_type": "stream",
     "text": [
      "\r",
      " 68%|██████████████████████████████████████████████████████▎                         | 559/823 [03:58<01:47,  2.46it/s]"
     ]
    },
    {
     "name": "stdout",
     "output_type": "stream",
     "text": [
      "\n",
      "2724    MCI\n",
      "2725    MCI\n",
      "2726    MCI\n",
      "2727    MCI\n",
      "2728    MCI\n",
      "2729    MCI\n",
      "2730    MCI\n",
      "2731    MCI\n",
      "2732    MCI\n",
      "Name: Group, dtype: object\n",
      "MCI\n",
      "(166, 256, 256)\n"
     ]
    },
    {
     "name": "stderr",
     "output_type": "stream",
     "text": [
      "\r",
      " 68%|██████████████████████████████████████████████████████▍                         | 560/823 [03:58<01:48,  2.43it/s]"
     ]
    },
    {
     "name": "stdout",
     "output_type": "stream",
     "text": [
      "\n",
      "2707    MCI\n",
      "2708    MCI\n",
      "2709    MCI\n",
      "2710    MCI\n",
      "2711    MCI\n",
      "2712    MCI\n",
      "2713    MCI\n",
      "2714    MCI\n",
      "2715    MCI\n",
      "Name: Group, dtype: object\n",
      "MCI\n",
      "(166, 256, 256)\n"
     ]
    },
    {
     "name": "stderr",
     "output_type": "stream",
     "text": [
      "\r",
      " 68%|██████████████████████████████████████████████████████▌                         | 561/823 [03:59<01:47,  2.44it/s]"
     ]
    },
    {
     "name": "stdout",
     "output_type": "stream",
     "text": [
      "\n",
      "2693    MCI\n",
      "2694    MCI\n",
      "2695    MCI\n",
      "2696    MCI\n",
      "2697    MCI\n",
      "Name: Group, dtype: object\n",
      "MCI\n",
      "(166, 256, 256)\n"
     ]
    },
    {
     "name": "stderr",
     "output_type": "stream",
     "text": [
      "\r",
      " 68%|██████████████████████████████████████████████████████▋                         | 562/823 [03:59<01:45,  2.48it/s]"
     ]
    },
    {
     "name": "stdout",
     "output_type": "stream",
     "text": [
      "\n",
      "2683    CN\n",
      "2684    CN\n",
      "2685    CN\n",
      "2686    CN\n",
      "2687    CN\n",
      "2688    CN\n",
      "2689    CN\n",
      "2690    CN\n",
      "2691    CN\n",
      "2692    CN\n",
      "Name: Group, dtype: object\n",
      "CN\n",
      "(166, 256, 256)\n"
     ]
    },
    {
     "name": "stderr",
     "output_type": "stream",
     "text": [
      "\r",
      " 68%|██████████████████████████████████████████████████████▋                         | 563/823 [04:00<01:45,  2.47it/s]"
     ]
    },
    {
     "name": "stdout",
     "output_type": "stream",
     "text": [
      "\n",
      "2678    CN\n",
      "2679    CN\n",
      "2680    CN\n",
      "2681    CN\n",
      "2682    CN\n",
      "Name: Group, dtype: object\n",
      "CN\n",
      "(166, 256, 256)\n"
     ]
    },
    {
     "name": "stderr",
     "output_type": "stream",
     "text": [
      "\r",
      " 69%|██████████████████████████████████████████████████████▊                         | 564/823 [04:00<01:43,  2.50it/s]"
     ]
    },
    {
     "name": "stdout",
     "output_type": "stream",
     "text": [
      "\n",
      "2673    CN\n",
      "2674    CN\n",
      "2675    CN\n",
      "2676    CN\n",
      "2677    CN\n",
      "Name: Group, dtype: object\n",
      "CN\n",
      "(166, 256, 256)\n"
     ]
    },
    {
     "name": "stderr",
     "output_type": "stream",
     "text": [
      "\r",
      " 69%|██████████████████████████████████████████████████████▉                         | 565/823 [04:00<01:42,  2.52it/s]"
     ]
    },
    {
     "name": "stdout",
     "output_type": "stream",
     "text": [
      "\n",
      "2668    CN\n",
      "2669    CN\n",
      "2670    CN\n",
      "2671    CN\n",
      "2672    CN\n",
      "Name: Group, dtype: object\n",
      "CN\n",
      "(166, 256, 256)\n"
     ]
    },
    {
     "name": "stderr",
     "output_type": "stream",
     "text": [
      "\r",
      " 69%|███████████████████████████████████████████████████████                         | 566/823 [04:01<01:39,  2.57it/s]"
     ]
    },
    {
     "name": "stdout",
     "output_type": "stream",
     "text": [
      "\n",
      "2658    MCI\n",
      "2659    MCI\n",
      "2660    MCI\n",
      "2661    MCI\n",
      "2662    MCI\n",
      "2663    MCI\n",
      "2664    MCI\n",
      "2665    MCI\n",
      "2666    MCI\n",
      "2667    MCI\n",
      "Name: Group, dtype: object\n",
      "MCI\n",
      "(166, 256, 256)\n"
     ]
    },
    {
     "name": "stderr",
     "output_type": "stream",
     "text": [
      "\r",
      " 69%|███████████████████████████████████████████████████████                         | 567/823 [04:01<01:39,  2.57it/s]"
     ]
    },
    {
     "name": "stdout",
     "output_type": "stream",
     "text": [
      "\n",
      "2653    MCI\n",
      "2654    MCI\n",
      "2655    MCI\n",
      "2656    MCI\n",
      "2657    MCI\n",
      "Name: Group, dtype: object\n",
      "MCI\n",
      "(166, 256, 256)\n"
     ]
    },
    {
     "name": "stderr",
     "output_type": "stream",
     "text": [
      "\r",
      " 69%|███████████████████████████████████████████████████████▏                        | 568/823 [04:02<01:36,  2.63it/s]"
     ]
    },
    {
     "name": "stdout",
     "output_type": "stream",
     "text": [
      "\n",
      "2648    AD\n",
      "2649    AD\n",
      "2650    AD\n",
      "2651    AD\n",
      "2652    AD\n",
      "Name: Group, dtype: object\n",
      "AD\n",
      "(166, 256, 256)\n"
     ]
    },
    {
     "name": "stderr",
     "output_type": "stream",
     "text": [
      "\r",
      " 69%|███████████████████████████████████████████████████████▎                        | 569/823 [04:02<01:36,  2.64it/s]"
     ]
    },
    {
     "name": "stdout",
     "output_type": "stream",
     "text": [
      "\n",
      "2640    MCI\n",
      "2641    MCI\n",
      "2642    MCI\n",
      "2643    MCI\n",
      "2644    MCI\n",
      "Name: Group, dtype: object\n",
      "MCI\n",
      "(166, 256, 256)\n"
     ]
    },
    {
     "name": "stderr",
     "output_type": "stream",
     "text": [
      "\r",
      " 69%|███████████████████████████████████████████████████████▍                        | 570/823 [04:02<01:34,  2.68it/s]"
     ]
    },
    {
     "name": "stdout",
     "output_type": "stream",
     "text": [
      "\n",
      "2635    AD\n",
      "2636    AD\n",
      "2637    AD\n",
      "2638    AD\n",
      "2639    AD\n",
      "Name: Group, dtype: object\n",
      "AD\n",
      "(166, 256, 256)\n"
     ]
    },
    {
     "name": "stderr",
     "output_type": "stream",
     "text": [
      "\r",
      " 69%|███████████████████████████████████████████████████████▌                        | 571/823 [04:03<01:34,  2.68it/s]"
     ]
    },
    {
     "name": "stdout",
     "output_type": "stream",
     "text": [
      "\n",
      "2630    MCI\n",
      "2631    MCI\n",
      "2632    MCI\n",
      "2633    MCI\n",
      "2634    MCI\n",
      "Name: Group, dtype: object\n",
      "MCI\n",
      "(166, 256, 256)\n"
     ]
    },
    {
     "name": "stderr",
     "output_type": "stream",
     "text": [
      "\r",
      " 70%|███████████████████████████████████████████████████████▌                        | 572/823 [04:03<01:35,  2.64it/s]"
     ]
    },
    {
     "name": "stdout",
     "output_type": "stream",
     "text": [
      "\n",
      "2625    MCI\n",
      "2626    MCI\n",
      "2627    MCI\n",
      "2628    MCI\n",
      "2629    MCI\n",
      "Name: Group, dtype: object\n",
      "MCI\n",
      "(166, 256, 256)\n"
     ]
    },
    {
     "name": "stderr",
     "output_type": "stream",
     "text": [
      "\r",
      " 70%|███████████████████████████████████████████████████████▋                        | 573/823 [04:03<01:35,  2.62it/s]"
     ]
    },
    {
     "name": "stdout",
     "output_type": "stream",
     "text": [
      "\n",
      "2620    AD\n",
      "2621    AD\n",
      "2622    AD\n",
      "2623    AD\n",
      "2624    AD\n",
      "Name: Group, dtype: object\n",
      "AD\n",
      "(166, 256, 256)\n"
     ]
    },
    {
     "name": "stderr",
     "output_type": "stream",
     "text": [
      "\r",
      " 70%|███████████████████████████████████████████████████████▊                        | 574/823 [04:04<01:35,  2.61it/s]"
     ]
    },
    {
     "name": "stdout",
     "output_type": "stream",
     "text": [
      "\n",
      "2615    AD\n",
      "2616    AD\n",
      "2617    AD\n",
      "2618    AD\n",
      "2619    AD\n",
      "Name: Group, dtype: object\n",
      "AD\n",
      "(166, 256, 256)\n"
     ]
    },
    {
     "name": "stderr",
     "output_type": "stream",
     "text": [
      "\r",
      " 70%|███████████████████████████████████████████████████████▉                        | 575/823 [04:04<01:33,  2.66it/s]"
     ]
    },
    {
     "name": "stdout",
     "output_type": "stream",
     "text": [
      "\n",
      "2610    MCI\n",
      "2611    MCI\n",
      "2612    MCI\n",
      "2613    MCI\n",
      "2614    MCI\n",
      "Name: Group, dtype: object\n",
      "MCI\n",
      "(166, 256, 256)\n"
     ]
    },
    {
     "name": "stderr",
     "output_type": "stream",
     "text": [
      "\r",
      " 70%|███████████████████████████████████████████████████████▉                        | 576/823 [04:05<01:32,  2.66it/s]"
     ]
    },
    {
     "name": "stdout",
     "output_type": "stream",
     "text": [
      "\n",
      "2600    CN\n",
      "2601    CN\n",
      "2602    CN\n",
      "2603    CN\n",
      "2604    CN\n",
      "2605    CN\n",
      "2606    CN\n",
      "2607    CN\n",
      "2608    CN\n",
      "2609    CN\n",
      "Name: Group, dtype: object\n",
      "CN\n",
      "(166, 256, 256)\n"
     ]
    },
    {
     "name": "stderr",
     "output_type": "stream",
     "text": [
      "\r",
      " 70%|████████████████████████████████████████████████████████                        | 577/823 [04:05<01:37,  2.54it/s]"
     ]
    },
    {
     "name": "stdout",
     "output_type": "stream",
     "text": [
      "\n",
      "2590    AD\n",
      "2591    AD\n",
      "2592    AD\n",
      "2593    AD\n",
      "2594    AD\n",
      "2595    AD\n",
      "2596    AD\n",
      "2597    AD\n",
      "2598    AD\n",
      "2599    AD\n",
      "Name: Group, dtype: object\n",
      "AD\n",
      "(166, 256, 256)\n"
     ]
    },
    {
     "name": "stderr",
     "output_type": "stream",
     "text": [
      "\r",
      " 70%|████████████████████████████████████████████████████████▏                       | 578/823 [04:05<01:35,  2.57it/s]"
     ]
    },
    {
     "name": "stdout",
     "output_type": "stream",
     "text": [
      "\n",
      "2581    CN\n",
      "2582    CN\n",
      "2583    CN\n",
      "2584    CN\n",
      "2585    CN\n",
      "2586    CN\n",
      "2587    CN\n",
      "2588    CN\n",
      "2589    CN\n",
      "Name: Group, dtype: object\n",
      "CN\n",
      "(166, 256, 256)\n"
     ]
    },
    {
     "name": "stderr",
     "output_type": "stream",
     "text": [
      "\r",
      " 70%|████████████████████████████████████████████████████████▎                       | 579/823 [04:06<01:36,  2.54it/s]"
     ]
    },
    {
     "name": "stdout",
     "output_type": "stream",
     "text": [
      "\n",
      "2571    CN\n",
      "2572    CN\n",
      "2573    CN\n",
      "2574    CN\n",
      "2575    CN\n",
      "2576    CN\n",
      "2577    CN\n",
      "2578    CN\n",
      "2579    CN\n",
      "2580    CN\n",
      "Name: Group, dtype: object\n",
      "CN\n",
      "(166, 256, 256)\n"
     ]
    },
    {
     "name": "stderr",
     "output_type": "stream",
     "text": [
      "\r",
      " 70%|████████████████████████████████████████████████████████▍                       | 580/823 [04:06<01:35,  2.55it/s]"
     ]
    },
    {
     "name": "stdout",
     "output_type": "stream",
     "text": [
      "\n",
      "2561    MCI\n",
      "2562    MCI\n",
      "2563    MCI\n",
      "2564    MCI\n",
      "2565    MCI\n",
      "2566    MCI\n",
      "2567    MCI\n",
      "2568    MCI\n",
      "2569    MCI\n",
      "2570    MCI\n",
      "Name: Group, dtype: object\n",
      "MCI\n",
      "(166, 256, 256)\n"
     ]
    },
    {
     "name": "stderr",
     "output_type": "stream",
     "text": [
      "\r",
      " 71%|████████████████████████████████████████████████████████▍                       | 581/823 [04:07<01:36,  2.52it/s]"
     ]
    },
    {
     "name": "stdout",
     "output_type": "stream",
     "text": [
      "\n",
      "2551    CN\n",
      "2552    CN\n",
      "2553    CN\n",
      "2554    CN\n",
      "2555    CN\n",
      "2556    CN\n",
      "2557    CN\n",
      "2558    CN\n",
      "2559    CN\n",
      "2560    CN\n",
      "Name: Group, dtype: object\n",
      "CN\n",
      "(166, 256, 256)\n"
     ]
    },
    {
     "name": "stderr",
     "output_type": "stream",
     "text": [
      "\r",
      " 71%|████████████████████████████████████████████████████████▌                       | 582/823 [04:07<01:36,  2.50it/s]"
     ]
    },
    {
     "name": "stdout",
     "output_type": "stream",
     "text": [
      "\n",
      "2541    CN\n",
      "2542    CN\n",
      "2543    CN\n",
      "2544    CN\n",
      "2545    CN\n",
      "2546    CN\n",
      "2547    CN\n",
      "2548    CN\n",
      "2549    CN\n",
      "2550    CN\n",
      "Name: Group, dtype: object\n",
      "CN\n",
      "(166, 256, 256)\n"
     ]
    },
    {
     "name": "stderr",
     "output_type": "stream",
     "text": [
      "\r",
      " 71%|████████████████████████████████████████████████████████▋                       | 583/823 [04:07<01:35,  2.52it/s]"
     ]
    },
    {
     "name": "stdout",
     "output_type": "stream",
     "text": [
      "\n",
      "2530    CN\n",
      "2531    CN\n",
      "2532    CN\n",
      "2533    CN\n",
      "2534    CN\n",
      "2535    CN\n",
      "2536    CN\n",
      "2537    CN\n",
      "2538    CN\n",
      "2539    CN\n",
      "2540    CN\n",
      "Name: Group, dtype: object\n",
      "CN\n",
      "(166, 256, 256)\n"
     ]
    },
    {
     "name": "stderr",
     "output_type": "stream",
     "text": [
      "\r",
      " 71%|████████████████████████████████████████████████████████▊                       | 584/823 [04:08<01:35,  2.50it/s]"
     ]
    },
    {
     "name": "stdout",
     "output_type": "stream",
     "text": [
      "\n",
      "2519    MCI\n",
      "2520    MCI\n",
      "2521    MCI\n",
      "2522    MCI\n",
      "2523    MCI\n",
      "2524    MCI\n",
      "2525    MCI\n",
      "2526    MCI\n",
      "2527    MCI\n",
      "2528    MCI\n",
      "2529    MCI\n",
      "Name: Group, dtype: object\n",
      "MCI\n",
      "(166, 256, 256)\n"
     ]
    },
    {
     "name": "stderr",
     "output_type": "stream",
     "text": [
      "\r",
      " 71%|████████████████████████████████████████████████████████▊                       | 585/823 [04:08<01:36,  2.46it/s]"
     ]
    },
    {
     "name": "stdout",
     "output_type": "stream",
     "text": [
      "\n",
      "2509    AD\n",
      "2510    AD\n",
      "2511    AD\n",
      "2512    AD\n",
      "2513    AD\n",
      "2514    AD\n",
      "2515    AD\n",
      "2516    AD\n",
      "2517    AD\n",
      "2518    AD\n",
      "Name: Group, dtype: object\n",
      "AD\n",
      "(166, 256, 256)\n"
     ]
    },
    {
     "name": "stderr",
     "output_type": "stream",
     "text": [
      "\r",
      " 71%|████████████████████████████████████████████████████████▉                       | 586/823 [04:09<01:37,  2.43it/s]"
     ]
    },
    {
     "name": "stdout",
     "output_type": "stream",
     "text": [
      "\n",
      "2499    MCI\n",
      "2500    MCI\n",
      "2501    MCI\n",
      "2502    MCI\n",
      "2503    MCI\n",
      "2504    MCI\n",
      "2505    MCI\n",
      "2506    MCI\n",
      "2507    MCI\n",
      "2508    MCI\n",
      "Name: Group, dtype: object\n",
      "MCI\n",
      "(166, 256, 256)\n"
     ]
    },
    {
     "name": "stderr",
     "output_type": "stream",
     "text": [
      "\r",
      " 71%|█████████████████████████████████████████████████████████                       | 587/823 [04:09<01:35,  2.47it/s]"
     ]
    },
    {
     "name": "stdout",
     "output_type": "stream",
     "text": [
      "\n",
      "2488    AD\n",
      "2489    AD\n",
      "2490    AD\n",
      "2491    AD\n",
      "2492    AD\n",
      "2493    AD\n",
      "2494    AD\n",
      "2495    AD\n",
      "2496    AD\n",
      "2497    AD\n",
      "2498    AD\n",
      "Name: Group, dtype: object\n",
      "AD\n",
      "(166, 256, 256)\n"
     ]
    },
    {
     "name": "stderr",
     "output_type": "stream",
     "text": [
      "\r",
      " 71%|█████████████████████████████████████████████████████████▏                      | 588/823 [04:09<01:35,  2.47it/s]"
     ]
    },
    {
     "name": "stdout",
     "output_type": "stream",
     "text": [
      "\n",
      "2479    MCI\n",
      "2480    MCI\n",
      "2481    MCI\n",
      "2482    MCI\n",
      "2483    MCI\n",
      "2484    MCI\n",
      "2485    MCI\n",
      "2486    MCI\n",
      "2487    MCI\n",
      "Name: Group, dtype: object\n",
      "MCI\n",
      "(166, 256, 256)\n"
     ]
    },
    {
     "name": "stderr",
     "output_type": "stream",
     "text": [
      "\r",
      " 72%|█████████████████████████████████████████████████████████▎                      | 589/823 [04:10<01:35,  2.45it/s]"
     ]
    },
    {
     "name": "stdout",
     "output_type": "stream",
     "text": [
      "\n",
      "2470    CN\n",
      "2471    CN\n",
      "2472    CN\n",
      "2473    CN\n",
      "2474    CN\n",
      "2475    CN\n",
      "2476    CN\n",
      "2477    CN\n",
      "2478    CN\n",
      "Name: Group, dtype: object\n",
      "CN\n",
      "(166, 256, 256)\n"
     ]
    },
    {
     "name": "stderr",
     "output_type": "stream",
     "text": [
      "\r",
      " 72%|█████████████████████████████████████████████████████████▎                      | 590/823 [04:10<01:35,  2.45it/s]"
     ]
    },
    {
     "name": "stdout",
     "output_type": "stream",
     "text": [
      "\n",
      "2461    CN\n",
      "2462    CN\n",
      "2463    CN\n",
      "2464    CN\n",
      "2465    CN\n",
      "2466    CN\n",
      "2467    CN\n",
      "2468    CN\n",
      "2469    CN\n",
      "Name: Group, dtype: object\n",
      "CN\n",
      "(166, 256, 256)\n"
     ]
    },
    {
     "name": "stderr",
     "output_type": "stream",
     "text": [
      "\r",
      " 72%|█████████████████████████████████████████████████████████▍                      | 591/823 [04:11<01:33,  2.49it/s]"
     ]
    },
    {
     "name": "stdout",
     "output_type": "stream",
     "text": [
      "\n",
      "2452    AD\n",
      "2453    AD\n",
      "2454    AD\n",
      "2455    AD\n",
      "2456    AD\n",
      "2457    AD\n",
      "2458    AD\n",
      "2459    AD\n",
      "2460    AD\n",
      "Name: Group, dtype: object\n",
      "AD\n",
      "(166, 256, 256)\n"
     ]
    },
    {
     "name": "stderr",
     "output_type": "stream",
     "text": [
      "\r",
      " 72%|█████████████████████████████████████████████████████████▌                      | 592/823 [04:11<01:32,  2.50it/s]"
     ]
    },
    {
     "name": "stdout",
     "output_type": "stream",
     "text": [
      "\n",
      "2443    AD\n",
      "2444    AD\n",
      "2445    AD\n",
      "2446    AD\n",
      "2447    AD\n",
      "2448    AD\n",
      "2449    AD\n",
      "2450    AD\n",
      "2451    AD\n",
      "Name: Group, dtype: object\n",
      "AD\n",
      "(166, 256, 256)\n"
     ]
    },
    {
     "name": "stderr",
     "output_type": "stream",
     "text": [
      "\r",
      " 72%|█████████████████████████████████████████████████████████▋                      | 593/823 [04:11<01:33,  2.45it/s]"
     ]
    },
    {
     "name": "stdout",
     "output_type": "stream",
     "text": [
      "\n",
      "2434    MCI\n",
      "2435    MCI\n",
      "2436    MCI\n",
      "2437    MCI\n",
      "2438    MCI\n",
      "2439    MCI\n",
      "2440    MCI\n",
      "2441    MCI\n",
      "2442    MCI\n",
      "Name: Group, dtype: object\n",
      "MCI\n",
      "(166, 256, 256)\n"
     ]
    },
    {
     "name": "stderr",
     "output_type": "stream",
     "text": [
      "\r",
      " 72%|█████████████████████████████████████████████████████████▋                      | 594/823 [04:12<01:33,  2.45it/s]"
     ]
    },
    {
     "name": "stdout",
     "output_type": "stream",
     "text": [
      "\n",
      "2425    MCI\n",
      "2426    MCI\n",
      "2427    MCI\n",
      "2428    MCI\n",
      "2429    MCI\n",
      "2430    MCI\n",
      "2431    MCI\n",
      "2432    MCI\n",
      "2433    MCI\n",
      "Name: Group, dtype: object\n",
      "MCI\n",
      "(166, 256, 256)\n"
     ]
    },
    {
     "name": "stderr",
     "output_type": "stream",
     "text": [
      "\r",
      " 72%|█████████████████████████████████████████████████████████▊                      | 595/823 [04:12<01:32,  2.48it/s]"
     ]
    },
    {
     "name": "stdout",
     "output_type": "stream",
     "text": [
      "\n",
      "2416    CN\n",
      "2417    CN\n",
      "2418    CN\n",
      "2419    CN\n",
      "2420    CN\n",
      "2421    CN\n",
      "2422    CN\n",
      "2423    CN\n",
      "2424    CN\n",
      "Name: Group, dtype: object\n",
      "CN\n",
      "(166, 256, 256)\n"
     ]
    },
    {
     "name": "stderr",
     "output_type": "stream",
     "text": [
      "\r",
      " 72%|█████████████████████████████████████████████████████████▉                      | 596/823 [04:13<01:32,  2.46it/s]"
     ]
    },
    {
     "name": "stdout",
     "output_type": "stream",
     "text": [
      "\n",
      "2407    MCI\n",
      "2408    MCI\n",
      "2409    MCI\n",
      "2410    MCI\n",
      "2411    MCI\n",
      "2412    MCI\n",
      "2413    MCI\n",
      "2414    MCI\n",
      "2415    MCI\n",
      "Name: Group, dtype: object\n",
      "MCI\n",
      "(166, 256, 256)\n"
     ]
    },
    {
     "name": "stderr",
     "output_type": "stream",
     "text": [
      "\r",
      " 73%|██████████████████████████████████████████████████████████                      | 597/823 [04:13<01:31,  2.48it/s]"
     ]
    },
    {
     "name": "stdout",
     "output_type": "stream",
     "text": [
      "\n",
      "2398    CN\n",
      "2399    CN\n",
      "2400    CN\n",
      "2401    CN\n",
      "2402    CN\n",
      "2403    CN\n",
      "2404    CN\n",
      "2405    CN\n",
      "2406    CN\n",
      "Name: Group, dtype: object\n",
      "CN\n",
      "(166, 256, 256)\n"
     ]
    },
    {
     "name": "stderr",
     "output_type": "stream",
     "text": [
      "\r",
      " 73%|██████████████████████████████████████████████████████████▏                     | 598/823 [04:13<01:30,  2.49it/s]"
     ]
    },
    {
     "name": "stdout",
     "output_type": "stream",
     "text": [
      "\n",
      "2389    AD\n",
      "2390    AD\n",
      "2391    AD\n",
      "2392    AD\n",
      "2393    AD\n",
      "2394    AD\n",
      "2395    AD\n",
      "2396    AD\n",
      "2397    AD\n",
      "Name: Group, dtype: object\n",
      "AD\n",
      "(166, 256, 256)\n"
     ]
    },
    {
     "name": "stderr",
     "output_type": "stream",
     "text": [
      "\r",
      " 73%|██████████████████████████████████████████████████████████▏                     | 599/823 [04:14<01:29,  2.51it/s]"
     ]
    },
    {
     "name": "stdout",
     "output_type": "stream",
     "text": [
      "\n",
      "2380    MCI\n",
      "2381    MCI\n",
      "2382    MCI\n",
      "2383    MCI\n",
      "2384    MCI\n",
      "2385    MCI\n",
      "2386    MCI\n",
      "2387    MCI\n",
      "2388    MCI\n",
      "Name: Group, dtype: object\n",
      "MCI\n",
      "(166, 256, 256)\n"
     ]
    },
    {
     "name": "stderr",
     "output_type": "stream",
     "text": [
      "\r",
      " 73%|██████████████████████████████████████████████████████████▎                     | 600/823 [04:14<01:28,  2.52it/s]"
     ]
    },
    {
     "name": "stdout",
     "output_type": "stream",
     "text": [
      "\n",
      "2371    MCI\n",
      "2372    MCI\n",
      "2373    MCI\n",
      "2374    MCI\n",
      "2375    MCI\n",
      "2376    MCI\n",
      "2377    MCI\n",
      "2378    MCI\n",
      "2379    MCI\n",
      "Name: Group, dtype: object\n",
      "MCI\n",
      "(166, 256, 256)\n"
     ]
    },
    {
     "name": "stderr",
     "output_type": "stream",
     "text": [
      "\r",
      " 73%|██████████████████████████████████████████████████████████▍                     | 601/823 [04:15<01:28,  2.51it/s]"
     ]
    },
    {
     "name": "stdout",
     "output_type": "stream",
     "text": [
      "\n",
      "2362    MCI\n",
      "2363    MCI\n",
      "2364    MCI\n",
      "2365    MCI\n",
      "2366    MCI\n",
      "2367    MCI\n",
      "2368    MCI\n",
      "2369    MCI\n",
      "2370    MCI\n",
      "Name: Group, dtype: object\n",
      "MCI\n",
      "(166, 256, 256)\n"
     ]
    },
    {
     "name": "stderr",
     "output_type": "stream",
     "text": [
      "\r",
      " 73%|██████████████████████████████████████████████████████████▌                     | 602/823 [04:15<01:28,  2.49it/s]"
     ]
    },
    {
     "name": "stdout",
     "output_type": "stream",
     "text": [
      "\n",
      "2355    CN\n",
      "2356    CN\n",
      "2357    CN\n",
      "2358    CN\n",
      "2359    CN\n",
      "2360    CN\n",
      "2361    CN\n",
      "Name: Group, dtype: object\n",
      "CN\n",
      "(166, 256, 256)\n"
     ]
    },
    {
     "name": "stderr",
     "output_type": "stream",
     "text": [
      "\r",
      " 73%|██████████████████████████████████████████████████████████▌                     | 603/823 [04:15<01:29,  2.46it/s]"
     ]
    },
    {
     "name": "stdout",
     "output_type": "stream",
     "text": [
      "\n",
      "2348    MCI\n",
      "2349    MCI\n",
      "2350    MCI\n",
      "2351    MCI\n",
      "2352    MCI\n",
      "2353    MCI\n",
      "2354    MCI\n",
      "Name: Group, dtype: object\n",
      "MCI\n",
      "(166, 256, 256)\n"
     ]
    },
    {
     "name": "stderr",
     "output_type": "stream",
     "text": [
      "\r",
      " 73%|██████████████████████████████████████████████████████████▋                     | 604/823 [04:16<01:30,  2.42it/s]"
     ]
    },
    {
     "name": "stdout",
     "output_type": "stream",
     "text": [
      "\n",
      "2341    AD\n",
      "2342    AD\n",
      "2343    AD\n",
      "2344    AD\n",
      "2345    AD\n",
      "2346    AD\n",
      "2347    AD\n",
      "Name: Group, dtype: object\n",
      "AD\n",
      "(166, 256, 256)\n"
     ]
    },
    {
     "name": "stderr",
     "output_type": "stream",
     "text": [
      "\r",
      " 74%|██████████████████████████████████████████████████████████▊                     | 605/823 [04:16<01:29,  2.43it/s]"
     ]
    },
    {
     "name": "stdout",
     "output_type": "stream",
     "text": [
      "\n",
      "2325    CN\n",
      "2326    CN\n",
      "2327    CN\n",
      "2328    CN\n",
      "2329    CN\n",
      "2330    CN\n",
      "2331    CN\n",
      "2332    CN\n",
      "2333    CN\n",
      "2334    CN\n",
      "2335    CN\n",
      "2336    CN\n",
      "2337    CN\n",
      "2338    CN\n",
      "2339    CN\n",
      "2340    CN\n",
      "Name: Group, dtype: object\n",
      "CN\n",
      "(166, 256, 256)\n"
     ]
    },
    {
     "name": "stderr",
     "output_type": "stream",
     "text": [
      "\r",
      " 74%|██████████████████████████████████████████████████████████▉                     | 606/823 [04:17<01:28,  2.45it/s]"
     ]
    },
    {
     "name": "stdout",
     "output_type": "stream",
     "text": [
      "\n",
      "2309    AD\n",
      "2310    AD\n",
      "2311    AD\n",
      "2312    AD\n",
      "2313    AD\n",
      "2314    AD\n",
      "2315    AD\n",
      "2316    AD\n",
      "2317    AD\n",
      "2318    AD\n",
      "2319    AD\n",
      "2320    AD\n",
      "2321    AD\n",
      "2322    AD\n",
      "2323    AD\n",
      "2324    AD\n",
      "Name: Group, dtype: object\n",
      "AD\n",
      "(166, 256, 256)\n"
     ]
    },
    {
     "name": "stderr",
     "output_type": "stream",
     "text": [
      "\r",
      " 74%|███████████████████████████████████████████████████████████                     | 607/823 [04:17<01:27,  2.47it/s]"
     ]
    },
    {
     "name": "stdout",
     "output_type": "stream",
     "text": [
      "\n",
      "2293    AD\n",
      "2294    AD\n",
      "2295    AD\n",
      "2296    AD\n",
      "2297    AD\n",
      "2298    AD\n",
      "2299    AD\n",
      "2300    AD\n",
      "2301    AD\n",
      "2302    AD\n",
      "2303    AD\n",
      "2304    AD\n",
      "2305    AD\n",
      "2306    AD\n",
      "2307    AD\n",
      "2308    AD\n",
      "Name: Group, dtype: object\n",
      "AD\n",
      "(166, 256, 256)\n"
     ]
    },
    {
     "name": "stderr",
     "output_type": "stream",
     "text": [
      "\r",
      " 74%|███████████████████████████████████████████████████████████                     | 608/823 [04:17<01:26,  2.49it/s]"
     ]
    },
    {
     "name": "stdout",
     "output_type": "stream",
     "text": [
      "\n",
      "2286    CN\n",
      "2287    CN\n",
      "2288    CN\n",
      "2289    CN\n",
      "2290    CN\n",
      "2291    CN\n",
      "2292    CN\n",
      "Name: Group, dtype: object\n",
      "CN\n",
      "(166, 256, 256)\n"
     ]
    },
    {
     "name": "stderr",
     "output_type": "stream",
     "text": [
      "\r",
      " 74%|███████████████████████████████████████████████████████████▏                    | 609/823 [04:18<01:25,  2.50it/s]"
     ]
    },
    {
     "name": "stdout",
     "output_type": "stream",
     "text": [
      "\n",
      "2270    MCI\n",
      "2271    MCI\n",
      "2272    MCI\n",
      "2273    MCI\n",
      "2274    MCI\n",
      "2275    MCI\n",
      "2276    MCI\n",
      "2277    MCI\n",
      "2278    MCI\n",
      "2279    MCI\n",
      "2280    MCI\n",
      "2281    MCI\n",
      "2282    MCI\n",
      "2283    MCI\n",
      "2284    MCI\n",
      "2285    MCI\n",
      "Name: Group, dtype: object\n",
      "MCI\n",
      "(166, 256, 256)\n"
     ]
    },
    {
     "name": "stderr",
     "output_type": "stream",
     "text": [
      "\r",
      " 74%|███████████████████████████████████████████████████████████▎                    | 610/823 [04:18<01:26,  2.46it/s]"
     ]
    },
    {
     "name": "stdout",
     "output_type": "stream",
     "text": [
      "\n",
      "2263    CN\n",
      "2264    CN\n",
      "2265    CN\n",
      "2266    CN\n",
      "2267    CN\n",
      "2268    CN\n",
      "2269    CN\n",
      "Name: Group, dtype: object\n",
      "CN\n",
      "(166, 256, 256)\n"
     ]
    },
    {
     "name": "stderr",
     "output_type": "stream",
     "text": [
      "\r",
      " 74%|███████████████████████████████████████████████████████████▍                    | 611/823 [04:19<01:26,  2.44it/s]"
     ]
    },
    {
     "name": "stdout",
     "output_type": "stream",
     "text": [
      "\n",
      "2247    MCI\n",
      "2248    MCI\n",
      "2249    MCI\n",
      "2250    MCI\n",
      "2251    MCI\n",
      "2252    MCI\n",
      "2253    MCI\n",
      "2254    MCI\n",
      "2255    MCI\n",
      "2256    MCI\n",
      "2257    MCI\n",
      "2258    MCI\n",
      "2259    MCI\n",
      "2260    MCI\n",
      "2261    MCI\n",
      "2262    MCI\n",
      "Name: Group, dtype: object\n",
      "MCI\n",
      "(166, 256, 256)\n"
     ]
    },
    {
     "name": "stderr",
     "output_type": "stream",
     "text": [
      "\r",
      " 74%|███████████████████████████████████████████████████████████▍                    | 612/823 [04:19<01:26,  2.45it/s]"
     ]
    },
    {
     "name": "stdout",
     "output_type": "stream",
     "text": [
      "\n",
      "2240    MCI\n",
      "2241    MCI\n",
      "2242    MCI\n",
      "2243    MCI\n",
      "2244    MCI\n",
      "2245    MCI\n",
      "2246    MCI\n",
      "Name: Group, dtype: object\n",
      "MCI\n",
      "(166, 256, 256)\n"
     ]
    },
    {
     "name": "stderr",
     "output_type": "stream",
     "text": [
      "\r",
      " 74%|███████████████████████████████████████████████████████████▌                    | 613/823 [04:20<01:25,  2.46it/s]"
     ]
    },
    {
     "name": "stdout",
     "output_type": "stream",
     "text": [
      "\n",
      "2233    MCI\n",
      "2234    MCI\n",
      "2235    MCI\n",
      "2236    MCI\n",
      "2237    MCI\n",
      "2238    MCI\n",
      "2239    MCI\n",
      "Name: Group, dtype: object\n",
      "MCI\n",
      "(166, 256, 256)\n"
     ]
    },
    {
     "name": "stderr",
     "output_type": "stream",
     "text": [
      "\r",
      " 75%|███████████████████████████████████████████████████████████▋                    | 614/823 [04:20<01:24,  2.48it/s]"
     ]
    },
    {
     "name": "stdout",
     "output_type": "stream",
     "text": [
      "\n",
      "2217    AD\n",
      "2218    AD\n",
      "2219    AD\n",
      "2220    AD\n",
      "2221    AD\n",
      "2222    AD\n",
      "2223    AD\n",
      "2224    AD\n",
      "2225    AD\n",
      "2226    AD\n",
      "2227    AD\n",
      "2228    AD\n",
      "2229    AD\n",
      "2230    AD\n",
      "2231    AD\n",
      "2232    AD\n",
      "Name: Group, dtype: object\n",
      "AD\n",
      "(166, 256, 256)\n"
     ]
    },
    {
     "name": "stderr",
     "output_type": "stream",
     "text": [
      "\r",
      " 75%|███████████████████████████████████████████████████████████▊                    | 615/823 [04:20<01:24,  2.48it/s]"
     ]
    },
    {
     "name": "stdout",
     "output_type": "stream",
     "text": [
      "\n",
      "2201    CN\n",
      "2202    CN\n",
      "2203    CN\n",
      "2204    CN\n",
      "2205    CN\n",
      "2206    CN\n",
      "2207    CN\n",
      "2208    CN\n",
      "2209    CN\n",
      "2210    CN\n",
      "2211    CN\n",
      "2212    CN\n",
      "2213    CN\n",
      "2214    CN\n",
      "2215    CN\n",
      "2216    CN\n",
      "Name: Group, dtype: object\n",
      "CN\n",
      "(166, 256, 256)\n"
     ]
    },
    {
     "name": "stderr",
     "output_type": "stream",
     "text": [
      "\r",
      " 75%|███████████████████████████████████████████████████████████▉                    | 616/823 [04:21<01:23,  2.49it/s]"
     ]
    },
    {
     "name": "stdout",
     "output_type": "stream",
     "text": [
      "\n",
      "2194    MCI\n",
      "2195    MCI\n",
      "2196    MCI\n",
      "2197    MCI\n",
      "2198    MCI\n",
      "2199    MCI\n",
      "2200    MCI\n",
      "Name: Group, dtype: object\n",
      "MCI\n",
      "(166, 256, 256)\n"
     ]
    },
    {
     "name": "stderr",
     "output_type": "stream",
     "text": [
      "\r",
      " 75%|███████████████████████████████████████████████████████████▉                    | 617/823 [04:21<01:24,  2.45it/s]"
     ]
    },
    {
     "name": "stdout",
     "output_type": "stream",
     "text": [
      "\n",
      "2178    CN\n",
      "2179    CN\n",
      "2180    CN\n",
      "2181    CN\n",
      "2182    CN\n",
      "2183    CN\n",
      "2184    CN\n",
      "2185    CN\n",
      "2186    CN\n",
      "2187    CN\n",
      "2188    CN\n",
      "2189    CN\n",
      "2190    CN\n",
      "2191    CN\n",
      "2192    CN\n",
      "2193    CN\n",
      "Name: Group, dtype: object\n",
      "CN\n",
      "(166, 256, 256)\n"
     ]
    },
    {
     "name": "stderr",
     "output_type": "stream",
     "text": [
      "\r",
      " 75%|████████████████████████████████████████████████████████████                    | 618/823 [04:22<01:23,  2.44it/s]"
     ]
    },
    {
     "name": "stdout",
     "output_type": "stream",
     "text": [
      "\n",
      "2171    MCI\n",
      "2172    MCI\n",
      "2173    MCI\n",
      "2174    MCI\n",
      "2175    MCI\n",
      "2176    MCI\n",
      "2177    MCI\n",
      "Name: Group, dtype: object\n",
      "MCI\n",
      "(166, 256, 256)\n"
     ]
    },
    {
     "name": "stderr",
     "output_type": "stream",
     "text": [
      "\r",
      " 75%|████████████████████████████████████████████████████████████▏                   | 619/823 [04:22<01:24,  2.42it/s]"
     ]
    },
    {
     "name": "stdout",
     "output_type": "stream",
     "text": [
      "\n",
      "2164    MCI\n",
      "2165    MCI\n",
      "2166    MCI\n",
      "2167    MCI\n",
      "2168    MCI\n",
      "2169    MCI\n",
      "2170    MCI\n",
      "Name: Group, dtype: object\n",
      "MCI\n",
      "(166, 256, 256)\n"
     ]
    },
    {
     "name": "stderr",
     "output_type": "stream",
     "text": [
      "\r",
      " 75%|████████████████████████████████████████████████████████████▎                   | 620/823 [04:22<01:23,  2.44it/s]"
     ]
    },
    {
     "name": "stdout",
     "output_type": "stream",
     "text": [
      "\n",
      "2159    AD\n",
      "2160    AD\n",
      "2161    AD\n",
      "2162    AD\n",
      "2163    AD\n",
      "Name: Group, dtype: object\n",
      "AD\n",
      "(166, 256, 256)\n"
     ]
    },
    {
     "name": "stderr",
     "output_type": "stream",
     "text": [
      "\r",
      " 75%|████████████████████████████████████████████████████████████▎                   | 621/823 [04:23<01:21,  2.47it/s]"
     ]
    },
    {
     "name": "stdout",
     "output_type": "stream",
     "text": [
      "\n",
      "2153    MCI\n",
      "2154    MCI\n",
      "2155    MCI\n",
      "2156    MCI\n",
      "2157    MCI\n",
      "2158    MCI\n",
      "Name: Group, dtype: object\n",
      "MCI\n",
      "(166, 256, 256)\n"
     ]
    },
    {
     "name": "stderr",
     "output_type": "stream",
     "text": [
      "\r",
      " 76%|████████████████████████████████████████████████████████████▍                   | 622/823 [04:23<01:20,  2.49it/s]"
     ]
    },
    {
     "name": "stdout",
     "output_type": "stream",
     "text": [
      "\n",
      "2147    MCI\n",
      "2148    MCI\n",
      "2149    MCI\n",
      "2150    MCI\n",
      "2151    MCI\n",
      "2152    MCI\n",
      "Name: Group, dtype: object\n",
      "MCI\n",
      "(166, 256, 256)\n"
     ]
    },
    {
     "name": "stderr",
     "output_type": "stream",
     "text": [
      "\r",
      " 76%|████████████████████████████████████████████████████████████▌                   | 623/823 [04:24<01:20,  2.49it/s]"
     ]
    },
    {
     "name": "stdout",
     "output_type": "stream",
     "text": [
      "\n",
      "2139    MCI\n",
      "2140    MCI\n",
      "2141    MCI\n",
      "2142    MCI\n",
      "2143    MCI\n",
      "2144    MCI\n",
      "2145    MCI\n",
      "2146    MCI\n",
      "Name: Group, dtype: object\n",
      "MCI\n",
      "(166, 256, 256)\n"
     ]
    },
    {
     "name": "stderr",
     "output_type": "stream",
     "text": [
      "\r",
      " 76%|████████████████████████████████████████████████████████████▋                   | 624/823 [04:24<01:20,  2.46it/s]"
     ]
    },
    {
     "name": "stdout",
     "output_type": "stream",
     "text": [
      "\n",
      "2131    CN\n",
      "2132    CN\n",
      "2133    CN\n",
      "2134    CN\n",
      "2135    CN\n",
      "2136    CN\n",
      "2137    CN\n",
      "2138    CN\n",
      "Name: Group, dtype: object\n",
      "CN\n",
      "(166, 256, 256)\n"
     ]
    },
    {
     "name": "stderr",
     "output_type": "stream",
     "text": [
      "\r",
      " 76%|████████████████████████████████████████████████████████████▊                   | 625/823 [04:24<01:20,  2.45it/s]"
     ]
    },
    {
     "name": "stdout",
     "output_type": "stream",
     "text": [
      "\n",
      "2123    AD\n",
      "2124    AD\n",
      "2125    AD\n",
      "2126    AD\n",
      "2127    AD\n",
      "2128    AD\n",
      "2129    AD\n",
      "2130    AD\n",
      "Name: Group, dtype: object\n",
      "AD\n",
      "(166, 256, 256)\n"
     ]
    },
    {
     "name": "stderr",
     "output_type": "stream",
     "text": [
      "\r",
      " 76%|████████████████████████████████████████████████████████████▊                   | 626/823 [04:25<01:19,  2.49it/s]"
     ]
    },
    {
     "name": "stdout",
     "output_type": "stream",
     "text": [
      "\n",
      "2117    AD\n",
      "2118    AD\n",
      "2119    AD\n",
      "2120    AD\n",
      "2121    AD\n",
      "2122    AD\n",
      "Name: Group, dtype: object\n",
      "AD\n",
      "(166, 256, 256)\n"
     ]
    },
    {
     "name": "stderr",
     "output_type": "stream",
     "text": [
      "\r",
      " 76%|████████████████████████████████████████████████████████████▉                   | 627/823 [04:25<01:18,  2.50it/s]"
     ]
    },
    {
     "name": "stdout",
     "output_type": "stream",
     "text": [
      "\n",
      "2111    AD\n",
      "2112    AD\n",
      "2113    AD\n",
      "2114    AD\n",
      "2115    AD\n",
      "2116    AD\n",
      "Name: Group, dtype: object\n",
      "AD\n",
      "(166, 256, 256)\n"
     ]
    },
    {
     "name": "stderr",
     "output_type": "stream",
     "text": [
      "\r",
      " 76%|█████████████████████████████████████████████████████████████                   | 628/823 [04:26<01:18,  2.47it/s]"
     ]
    },
    {
     "name": "stdout",
     "output_type": "stream",
     "text": [
      "\n",
      "2103    CN\n",
      "2104    CN\n",
      "2105    CN\n",
      "2106    CN\n",
      "2107    CN\n",
      "2108    CN\n",
      "2109    CN\n",
      "2110    CN\n",
      "Name: Group, dtype: object\n",
      "CN\n",
      "(166, 256, 256)\n"
     ]
    },
    {
     "name": "stderr",
     "output_type": "stream",
     "text": [
      "\r",
      " 76%|█████████████████████████████████████████████████████████████▏                  | 629/823 [04:26<01:18,  2.47it/s]"
     ]
    },
    {
     "name": "stdout",
     "output_type": "stream",
     "text": [
      "\n",
      "2095    MCI\n",
      "2096    MCI\n",
      "2097    MCI\n",
      "2098    MCI\n",
      "2099    MCI\n",
      "2100    MCI\n",
      "2101    MCI\n",
      "2102    MCI\n",
      "Name: Group, dtype: object\n",
      "MCI\n",
      "(166, 256, 256)\n"
     ]
    },
    {
     "name": "stderr",
     "output_type": "stream",
     "text": [
      "\r",
      " 77%|█████████████████████████████████████████████████████████████▏                  | 630/823 [04:26<01:17,  2.49it/s]"
     ]
    },
    {
     "name": "stdout",
     "output_type": "stream",
     "text": [
      "\n",
      "2089    CN\n",
      "2090    CN\n",
      "2091    CN\n",
      "2092    CN\n",
      "2093    CN\n",
      "2094    CN\n",
      "Name: Group, dtype: object\n",
      "CN\n",
      "(166, 256, 256)\n"
     ]
    },
    {
     "name": "stderr",
     "output_type": "stream",
     "text": [
      "\r",
      " 77%|█████████████████████████████████████████████████████████████▎                  | 631/823 [04:27<01:17,  2.46it/s]"
     ]
    },
    {
     "name": "stdout",
     "output_type": "stream",
     "text": [
      "\n",
      "2083    AD\n",
      "2084    AD\n",
      "2085    AD\n",
      "2086    AD\n",
      "2087    AD\n",
      "2088    AD\n",
      "Name: Group, dtype: object\n",
      "AD\n",
      "(166, 256, 256)\n"
     ]
    },
    {
     "name": "stderr",
     "output_type": "stream",
     "text": [
      "\r",
      " 77%|█████████████████████████████████████████████████████████████▍                  | 632/823 [04:27<01:16,  2.48it/s]"
     ]
    },
    {
     "name": "stdout",
     "output_type": "stream",
     "text": [
      "\n",
      "2077    CN\n",
      "2078    CN\n",
      "2079    CN\n",
      "2080    CN\n",
      "2081    CN\n",
      "2082    CN\n",
      "Name: Group, dtype: object\n",
      "CN\n",
      "(166, 256, 256)\n"
     ]
    },
    {
     "name": "stderr",
     "output_type": "stream",
     "text": [
      "\r",
      " 77%|█████████████████████████████████████████████████████████████▌                  | 633/823 [04:28<01:16,  2.48it/s]"
     ]
    },
    {
     "name": "stdout",
     "output_type": "stream",
     "text": [
      "\n",
      "2071    MCI\n",
      "2072    MCI\n",
      "2073    MCI\n",
      "2074    MCI\n",
      "2075    MCI\n",
      "2076    MCI\n",
      "Name: Group, dtype: object\n",
      "MCI\n",
      "(166, 256, 256)\n"
     ]
    },
    {
     "name": "stderr",
     "output_type": "stream",
     "text": [
      "\r",
      " 77%|█████████████████████████████████████████████████████████████▋                  | 634/823 [04:28<01:15,  2.50it/s]"
     ]
    },
    {
     "name": "stdout",
     "output_type": "stream",
     "text": [
      "\n",
      "2063    MCI\n",
      "2064    MCI\n",
      "2065    MCI\n",
      "2066    MCI\n",
      "2067    MCI\n",
      "2068    MCI\n",
      "2069    MCI\n",
      "2070    MCI\n",
      "Name: Group, dtype: object\n",
      "MCI\n",
      "(166, 256, 256)\n"
     ]
    },
    {
     "name": "stderr",
     "output_type": "stream",
     "text": [
      "\r",
      " 77%|█████████████████████████████████████████████████████████████▋                  | 635/823 [04:28<01:15,  2.48it/s]"
     ]
    },
    {
     "name": "stdout",
     "output_type": "stream",
     "text": [
      "\n",
      "2045    CN\n",
      "2046    CN\n",
      "2047    CN\n",
      "2048    CN\n",
      "2049    CN\n",
      "2050    CN\n",
      "2051    CN\n",
      "2052    CN\n",
      "2053    CN\n",
      "2054    CN\n",
      "2055    CN\n",
      "2056    CN\n",
      "2057    CN\n",
      "2058    CN\n",
      "2059    CN\n",
      "2060    CN\n",
      "2061    CN\n",
      "2062    CN\n",
      "Name: Group, dtype: object\n",
      "CN\n",
      "(166, 256, 256)\n"
     ]
    },
    {
     "name": "stderr",
     "output_type": "stream",
     "text": [
      "\r",
      " 77%|█████████████████████████████████████████████████████████████▊                  | 636/823 [04:29<01:15,  2.48it/s]"
     ]
    },
    {
     "name": "stdout",
     "output_type": "stream",
     "text": [
      "\n",
      "2036    CN\n",
      "2037    CN\n",
      "2038    CN\n",
      "2039    CN\n",
      "2040    CN\n",
      "2041    CN\n",
      "2042    CN\n",
      "2043    CN\n",
      "2044    CN\n",
      "Name: Group, dtype: object\n",
      "CN\n",
      "(166, 256, 256)\n"
     ]
    },
    {
     "name": "stderr",
     "output_type": "stream",
     "text": [
      "\r",
      " 77%|█████████████████████████████████████████████████████████████▉                  | 637/823 [04:29<01:16,  2.44it/s]"
     ]
    },
    {
     "name": "stdout",
     "output_type": "stream",
     "text": [
      "\n",
      "2018    CN\n",
      "2019    CN\n",
      "2020    CN\n",
      "2021    CN\n",
      "2022    CN\n",
      "2023    CN\n",
      "2024    CN\n",
      "2025    CN\n",
      "2026    CN\n",
      "2027    CN\n",
      "2028    CN\n",
      "2029    CN\n",
      "2030    CN\n",
      "2031    CN\n",
      "2032    CN\n",
      "2033    CN\n",
      "2034    CN\n",
      "2035    CN\n",
      "Name: Group, dtype: object\n",
      "CN\n",
      "(166, 256, 256)\n"
     ]
    },
    {
     "name": "stderr",
     "output_type": "stream",
     "text": [
      "\r",
      " 78%|██████████████████████████████████████████████████████████████                  | 638/823 [04:30<01:15,  2.47it/s]"
     ]
    },
    {
     "name": "stdout",
     "output_type": "stream",
     "text": [
      "\n",
      "2000    AD\n",
      "2001    AD\n",
      "2002    AD\n",
      "2003    AD\n",
      "2004    AD\n",
      "2005    AD\n",
      "2006    AD\n",
      "2007    AD\n",
      "2008    AD\n",
      "2009    AD\n",
      "2010    AD\n",
      "2011    AD\n",
      "2012    AD\n",
      "2013    AD\n",
      "2014    AD\n",
      "2015    AD\n",
      "2016    AD\n",
      "2017    AD\n",
      "Name: Group, dtype: object\n",
      "AD\n",
      "(166, 256, 256)\n"
     ]
    },
    {
     "name": "stderr",
     "output_type": "stream",
     "text": [
      "\r",
      " 78%|██████████████████████████████████████████████████████████████                  | 639/823 [04:30<01:14,  2.48it/s]"
     ]
    },
    {
     "name": "stdout",
     "output_type": "stream",
     "text": [
      "\n",
      "1991    CN\n",
      "1992    CN\n",
      "1993    CN\n",
      "1994    CN\n",
      "1995    CN\n",
      "1996    CN\n",
      "1997    CN\n",
      "1998    CN\n",
      "1999    CN\n",
      "Name: Group, dtype: object\n",
      "CN\n",
      "(166, 256, 256)\n"
     ]
    },
    {
     "name": "stderr",
     "output_type": "stream",
     "text": [
      "\r",
      " 78%|██████████████████████████████████████████████████████████████▏                 | 640/823 [04:30<01:13,  2.48it/s]"
     ]
    },
    {
     "name": "stdout",
     "output_type": "stream",
     "text": [
      "\n",
      "1982    MCI\n",
      "1983    MCI\n",
      "1984    MCI\n",
      "1985    MCI\n",
      "1986    MCI\n",
      "1987    MCI\n",
      "1988    MCI\n",
      "1989    MCI\n",
      "1990    MCI\n",
      "Name: Group, dtype: object\n",
      "MCI\n",
      "(166, 256, 256)\n"
     ]
    },
    {
     "name": "stderr",
     "output_type": "stream",
     "text": [
      "\r",
      " 78%|██████████████████████████████████████████████████████████████▎                 | 641/823 [04:31<01:12,  2.50it/s]"
     ]
    },
    {
     "name": "stdout",
     "output_type": "stream",
     "text": [
      "\n",
      "1973    MCI\n",
      "1974    MCI\n",
      "1975    MCI\n",
      "1976    MCI\n",
      "1977    MCI\n",
      "1978    MCI\n",
      "1979    MCI\n",
      "1980    MCI\n",
      "1981    MCI\n",
      "Name: Group, dtype: object\n",
      "MCI\n",
      "(166, 256, 256)\n"
     ]
    },
    {
     "name": "stderr",
     "output_type": "stream",
     "text": [
      "\r",
      " 78%|██████████████████████████████████████████████████████████████▍                 | 642/823 [04:31<01:12,  2.48it/s]"
     ]
    },
    {
     "name": "stdout",
     "output_type": "stream",
     "text": [
      "\n",
      "1962    AD\n",
      "1963    AD\n",
      "1964    AD\n",
      "1965    AD\n",
      "1966    AD\n",
      "1967    AD\n",
      "1968    AD\n",
      "1969    AD\n",
      "1970    AD\n",
      "1971    AD\n",
      "1972    AD\n",
      "Name: Group, dtype: object\n",
      "AD\n",
      "(166, 256, 256)\n"
     ]
    },
    {
     "name": "stderr",
     "output_type": "stream",
     "text": [
      "\r",
      " 78%|██████████████████████████████████████████████████████████████▌                 | 643/823 [04:32<01:12,  2.48it/s]"
     ]
    },
    {
     "name": "stdout",
     "output_type": "stream",
     "text": [
      "\n",
      "1953    MCI\n",
      "1954    MCI\n",
      "1955    MCI\n",
      "1956    MCI\n",
      "1957    MCI\n",
      "1958    MCI\n",
      "1959    MCI\n",
      "1960    MCI\n",
      "1961    MCI\n",
      "Name: Group, dtype: object\n",
      "MCI\n",
      "(166, 256, 256)\n"
     ]
    },
    {
     "name": "stderr",
     "output_type": "stream",
     "text": [
      "\r",
      " 78%|██████████████████████████████████████████████████████████████▌                 | 644/823 [04:32<01:11,  2.51it/s]"
     ]
    },
    {
     "name": "stdout",
     "output_type": "stream",
     "text": [
      "\n",
      "1944    AD\n",
      "1945    AD\n",
      "1946    AD\n",
      "1947    AD\n",
      "1948    AD\n",
      "1949    AD\n",
      "1950    AD\n",
      "1951    AD\n",
      "1952    AD\n",
      "Name: Group, dtype: object\n",
      "AD\n",
      "(166, 256, 256)\n"
     ]
    },
    {
     "name": "stderr",
     "output_type": "stream",
     "text": [
      "\r",
      " 78%|██████████████████████████████████████████████████████████████▋                 | 645/823 [04:32<01:11,  2.49it/s]"
     ]
    },
    {
     "name": "stdout",
     "output_type": "stream",
     "text": [
      "\n",
      "1935    MCI\n",
      "1936    MCI\n",
      "1937    MCI\n",
      "1938    MCI\n",
      "1939    MCI\n",
      "1940    MCI\n",
      "1941    MCI\n",
      "1942    MCI\n",
      "1943    MCI\n",
      "Name: Group, dtype: object\n",
      "MCI\n",
      "(166, 256, 256)\n"
     ]
    },
    {
     "name": "stderr",
     "output_type": "stream",
     "text": [
      "\r",
      " 78%|██████████████████████████████████████████████████████████████▊                 | 646/823 [04:33<01:11,  2.47it/s]"
     ]
    },
    {
     "name": "stdout",
     "output_type": "stream",
     "text": [
      "\n",
      "1926    MCI\n",
      "1927    MCI\n",
      "1928    MCI\n",
      "1929    MCI\n",
      "1930    MCI\n",
      "1931    MCI\n",
      "1932    MCI\n",
      "1933    MCI\n",
      "1934    MCI\n",
      "Name: Group, dtype: object\n",
      "MCI\n",
      "(166, 256, 256)\n"
     ]
    },
    {
     "name": "stderr",
     "output_type": "stream",
     "text": [
      "\r",
      " 79%|██████████████████████████████████████████████████████████████▉                 | 647/823 [04:33<01:10,  2.49it/s]"
     ]
    },
    {
     "name": "stdout",
     "output_type": "stream",
     "text": [
      "\n",
      "1913    AD\n",
      "1914    AD\n",
      "1915    AD\n",
      "1916    AD\n",
      "1917    AD\n",
      "1918    AD\n",
      "1919    AD\n",
      "1920    AD\n",
      "1921    AD\n",
      "1922    AD\n",
      "1923    AD\n",
      "1924    AD\n",
      "1925    AD\n",
      "Name: Group, dtype: object\n",
      "AD\n",
      "(166, 256, 256)\n"
     ]
    },
    {
     "name": "stderr",
     "output_type": "stream",
     "text": [
      "\r",
      " 79%|██████████████████████████████████████████████████████████████▉                 | 648/823 [04:34<01:10,  2.48it/s]"
     ]
    },
    {
     "name": "stdout",
     "output_type": "stream",
     "text": [
      "\n",
      "1893    MCI\n",
      "1894    MCI\n",
      "1895    MCI\n",
      "1896    MCI\n",
      "1897    MCI\n",
      "1898    MCI\n",
      "1899    MCI\n",
      "1900    MCI\n",
      "1901    MCI\n",
      "1902    MCI\n",
      "1903    MCI\n",
      "1904    MCI\n",
      "1905    MCI\n",
      "1906    MCI\n",
      "1907    MCI\n",
      "1908    MCI\n",
      "1909    MCI\n",
      "1910    MCI\n",
      "1911    MCI\n",
      "1912    MCI\n",
      "Name: Group, dtype: object\n",
      "MCI\n",
      "(166, 256, 256)\n"
     ]
    },
    {
     "name": "stderr",
     "output_type": "stream",
     "text": [
      "\r",
      " 79%|███████████████████████████████████████████████████████████████                 | 649/823 [04:34<01:09,  2.49it/s]"
     ]
    },
    {
     "name": "stdout",
     "output_type": "stream",
     "text": [
      "\n",
      "1876    MCI\n",
      "1877    MCI\n",
      "1878    MCI\n",
      "1879    MCI\n",
      "1880    MCI\n",
      "1881    MCI\n",
      "1882    MCI\n",
      "1883    MCI\n",
      "1884    MCI\n",
      "1885    MCI\n",
      "1886    MCI\n",
      "1887    MCI\n",
      "1888    MCI\n",
      "1889    MCI\n",
      "1890    MCI\n",
      "1891    MCI\n",
      "1892    MCI\n",
      "Name: Group, dtype: object\n",
      "MCI\n",
      "(166, 256, 256)\n"
     ]
    },
    {
     "name": "stderr",
     "output_type": "stream",
     "text": [
      "\r",
      " 79%|███████████████████████████████████████████████████████████████▏                | 650/823 [04:34<01:09,  2.47it/s]"
     ]
    },
    {
     "name": "stdout",
     "output_type": "stream",
     "text": [
      "\n",
      "1865    CN\n",
      "1866    CN\n",
      "1867    CN\n",
      "1868    CN\n",
      "1869    CN\n",
      "1870    CN\n",
      "1871    CN\n",
      "1872    CN\n",
      "1873    CN\n",
      "1874    CN\n",
      "1875    CN\n",
      "Name: Group, dtype: object\n",
      "CN\n",
      "(166, 256, 256)\n"
     ]
    },
    {
     "name": "stderr",
     "output_type": "stream",
     "text": [
      "\r",
      " 79%|███████████████████████████████████████████████████████████████▎                | 651/823 [04:35<01:10,  2.44it/s]"
     ]
    },
    {
     "name": "stdout",
     "output_type": "stream",
     "text": [
      "\n",
      "1847    CN\n",
      "1848    CN\n",
      "1849    CN\n",
      "1850    CN\n",
      "1851    CN\n",
      "1852    CN\n",
      "1853    CN\n",
      "1854    CN\n",
      "1855    CN\n",
      "1856    CN\n",
      "1857    CN\n",
      "1858    CN\n",
      "1859    CN\n",
      "1860    CN\n",
      "1861    CN\n",
      "1862    CN\n",
      "1863    CN\n",
      "1864    CN\n",
      "Name: Group, dtype: object\n",
      "CN\n",
      "(166, 256, 256)\n"
     ]
    },
    {
     "name": "stderr",
     "output_type": "stream",
     "text": [
      "\r",
      " 79%|███████████████████████████████████████████████████████████████▍                | 652/823 [04:35<01:09,  2.46it/s]"
     ]
    },
    {
     "name": "stdout",
     "output_type": "stream",
     "text": [
      "\n",
      "1829    MCI\n",
      "1830    MCI\n",
      "1831    MCI\n",
      "1832    MCI\n",
      "1833    MCI\n",
      "1834    MCI\n",
      "1835    MCI\n",
      "1836    MCI\n",
      "1837    MCI\n",
      "1838    MCI\n",
      "1839    MCI\n",
      "1840    MCI\n",
      "1841    MCI\n",
      "1842    MCI\n",
      "1843    MCI\n",
      "1844    MCI\n",
      "1845    MCI\n",
      "1846    MCI\n",
      "Name: Group, dtype: object\n",
      "MCI\n",
      "(166, 256, 256)\n"
     ]
    },
    {
     "name": "stderr",
     "output_type": "stream",
     "text": [
      "\r",
      " 79%|███████████████████████████████████████████████████████████████▍                | 653/823 [04:36<01:08,  2.48it/s]"
     ]
    },
    {
     "name": "stdout",
     "output_type": "stream",
     "text": [
      "\n",
      "1820    MCI\n",
      "1821    MCI\n",
      "1822    MCI\n",
      "1823    MCI\n",
      "1824    MCI\n",
      "1825    MCI\n",
      "1826    MCI\n",
      "1827    MCI\n",
      "1828    MCI\n",
      "Name: Group, dtype: object\n",
      "MCI\n",
      "(166, 256, 256)\n"
     ]
    },
    {
     "name": "stderr",
     "output_type": "stream",
     "text": [
      "\r",
      " 79%|███████████████████████████████████████████████████████████████▌                | 654/823 [04:36<01:08,  2.47it/s]"
     ]
    },
    {
     "name": "stdout",
     "output_type": "stream",
     "text": [
      "\n",
      "1802    MCI\n",
      "1803    MCI\n",
      "1804    MCI\n",
      "1805    MCI\n",
      "1806    MCI\n",
      "1807    MCI\n",
      "1808    MCI\n",
      "1809    MCI\n",
      "1810    MCI\n",
      "1811    MCI\n",
      "1812    MCI\n",
      "1813    MCI\n",
      "1814    MCI\n",
      "1815    MCI\n",
      "1816    MCI\n",
      "1817    MCI\n",
      "1818    MCI\n",
      "1819    MCI\n",
      "Name: Group, dtype: object\n",
      "MCI\n",
      "(166, 256, 256)\n"
     ]
    },
    {
     "name": "stderr",
     "output_type": "stream",
     "text": [
      "\r",
      " 80%|███████████████████████████████████████████████████████████████▋                | 655/823 [04:37<01:08,  2.45it/s]"
     ]
    },
    {
     "name": "stdout",
     "output_type": "stream",
     "text": [
      "\n",
      "1793    AD\n",
      "1794    AD\n",
      "1795    AD\n",
      "1796    AD\n",
      "1797    AD\n",
      "1798    AD\n",
      "1799    AD\n",
      "1800    AD\n",
      "1801    AD\n",
      "Name: Group, dtype: object\n",
      "AD\n",
      "(166, 256, 256)\n"
     ]
    },
    {
     "name": "stderr",
     "output_type": "stream",
     "text": [
      "\r",
      " 80%|███████████████████████████████████████████████████████████████▊                | 656/823 [04:37<01:08,  2.44it/s]"
     ]
    },
    {
     "name": "stdout",
     "output_type": "stream",
     "text": [
      "\n",
      "1778    CN\n",
      "1779    CN\n",
      "1780    CN\n",
      "1781    CN\n",
      "1782    CN\n",
      "1783    CN\n",
      "1784    CN\n",
      "1785    CN\n",
      "1786    CN\n",
      "1787    CN\n",
      "1788    CN\n",
      "1789    CN\n",
      "1790    CN\n",
      "1791    CN\n",
      "1792    CN\n",
      "Name: Group, dtype: object\n",
      "CN\n",
      "(166, 256, 256)\n"
     ]
    },
    {
     "name": "stderr",
     "output_type": "stream",
     "text": [
      "\r",
      " 80%|███████████████████████████████████████████████████████████████▊                | 657/823 [04:37<01:07,  2.47it/s]"
     ]
    },
    {
     "name": "stdout",
     "output_type": "stream",
     "text": [
      "\n",
      "1769    CN\n",
      "1770    CN\n",
      "1771    CN\n",
      "1772    CN\n",
      "1773    CN\n",
      "1774    CN\n",
      "1775    CN\n",
      "1776    CN\n",
      "1777    CN\n",
      "Name: Group, dtype: object\n",
      "CN\n",
      "(166, 256, 256)\n"
     ]
    },
    {
     "name": "stderr",
     "output_type": "stream",
     "text": [
      "\r",
      " 80%|███████████████████████████████████████████████████████████████▉                | 658/823 [04:38<01:06,  2.47it/s]"
     ]
    },
    {
     "name": "stdout",
     "output_type": "stream",
     "text": [
      "\n",
      "1758    AD\n",
      "1759    AD\n",
      "1760    AD\n",
      "1761    AD\n",
      "1762    AD\n",
      "1763    AD\n",
      "1764    AD\n",
      "1765    AD\n",
      "1766    AD\n",
      "1767    AD\n",
      "1768    AD\n",
      "Name: Group, dtype: object\n",
      "AD\n",
      "(166, 256, 256)\n"
     ]
    },
    {
     "name": "stderr",
     "output_type": "stream",
     "text": [
      "\r",
      " 80%|████████████████████████████████████████████████████████████████                | 659/823 [04:38<01:06,  2.46it/s]"
     ]
    },
    {
     "name": "stdout",
     "output_type": "stream",
     "text": [
      "\n",
      "1738    AD\n",
      "1739    AD\n",
      "1740    AD\n",
      "1741    AD\n",
      "1742    AD\n",
      "1743    AD\n",
      "1744    AD\n",
      "1745    AD\n",
      "1746    AD\n",
      "1747    AD\n",
      "1748    AD\n",
      "1749    AD\n",
      "1750    AD\n",
      "1751    AD\n",
      "1752    AD\n",
      "1753    AD\n",
      "1754    AD\n",
      "1755    AD\n",
      "1756    AD\n",
      "1757    AD\n",
      "Name: Group, dtype: object\n",
      "AD\n",
      "(166, 256, 256)\n"
     ]
    },
    {
     "name": "stderr",
     "output_type": "stream",
     "text": [
      "\r",
      " 80%|████████████████████████████████████████████████████████████████▏               | 660/823 [04:39<01:07,  2.43it/s]"
     ]
    },
    {
     "name": "stdout",
     "output_type": "stream",
     "text": [
      "\n",
      "1729    MCI\n",
      "1730    MCI\n",
      "1731    MCI\n",
      "1732    MCI\n",
      "1733    MCI\n",
      "1734    MCI\n",
      "1735    MCI\n",
      "1736    MCI\n",
      "1737    MCI\n",
      "Name: Group, dtype: object\n",
      "MCI\n",
      "(166, 256, 256)\n"
     ]
    },
    {
     "name": "stderr",
     "output_type": "stream",
     "text": [
      "\r",
      " 80%|████████████████████████████████████████████████████████████████▎               | 661/823 [04:39<01:06,  2.43it/s]"
     ]
    },
    {
     "name": "stdout",
     "output_type": "stream",
     "text": [
      "\n",
      "1720    MCI\n",
      "1721    MCI\n",
      "1722    MCI\n",
      "1723    MCI\n",
      "1724    MCI\n",
      "1725    MCI\n",
      "1726    MCI\n",
      "1727    MCI\n",
      "1728    MCI\n",
      "Name: Group, dtype: object\n",
      "MCI\n",
      "(166, 256, 256)\n"
     ]
    },
    {
     "name": "stderr",
     "output_type": "stream",
     "text": [
      "\r",
      " 80%|████████████████████████████████████████████████████████████████▎               | 662/823 [04:39<01:08,  2.36it/s]"
     ]
    },
    {
     "name": "stdout",
     "output_type": "stream",
     "text": [
      "\n",
      "1711    MCI\n",
      "1712    MCI\n",
      "1713    MCI\n",
      "1714    MCI\n",
      "1715    MCI\n",
      "1716    MCI\n",
      "1717    MCI\n",
      "1718    MCI\n",
      "1719    MCI\n",
      "Name: Group, dtype: object\n",
      "MCI\n",
      "(166, 256, 256)\n"
     ]
    },
    {
     "name": "stderr",
     "output_type": "stream",
     "text": [
      "\r",
      " 81%|████████████████████████████████████████████████████████████████▍               | 663/823 [04:40<01:09,  2.32it/s]"
     ]
    },
    {
     "name": "stdout",
     "output_type": "stream",
     "text": [
      "\n",
      "1702    MCI\n",
      "1703    MCI\n",
      "1704    MCI\n",
      "1705    MCI\n",
      "1706    MCI\n",
      "1707    MCI\n",
      "1708    MCI\n",
      "1709    MCI\n",
      "1710    MCI\n",
      "Name: Group, dtype: object\n",
      "MCI\n",
      "(166, 256, 256)\n"
     ]
    },
    {
     "name": "stderr",
     "output_type": "stream",
     "text": [
      "\r",
      " 81%|████████████████████████████████████████████████████████████████▌               | 664/823 [04:40<01:08,  2.32it/s]"
     ]
    },
    {
     "name": "stdout",
     "output_type": "stream",
     "text": [
      "\n",
      "1693    AD\n",
      "1694    AD\n",
      "1695    AD\n",
      "1696    AD\n",
      "1697    AD\n",
      "1698    AD\n",
      "1699    AD\n",
      "1700    AD\n",
      "1701    AD\n",
      "Name: Group, dtype: object\n",
      "AD\n",
      "(166, 256, 256)\n"
     ]
    },
    {
     "name": "stderr",
     "output_type": "stream",
     "text": [
      "\r",
      " 81%|████████████████████████████████████████████████████████████████▋               | 665/823 [04:41<01:07,  2.35it/s]"
     ]
    },
    {
     "name": "stdout",
     "output_type": "stream",
     "text": [
      "\n",
      "1684    MCI\n",
      "1685    MCI\n",
      "1686    MCI\n",
      "1687    MCI\n",
      "1688    MCI\n",
      "1689    MCI\n",
      "1690    MCI\n",
      "1691    MCI\n",
      "1692    MCI\n",
      "Name: Group, dtype: object\n",
      "MCI\n",
      "(166, 256, 256)\n"
     ]
    },
    {
     "name": "stderr",
     "output_type": "stream",
     "text": [
      "\r",
      " 81%|████████████████████████████████████████████████████████████████▋               | 666/823 [04:41<01:07,  2.33it/s]"
     ]
    },
    {
     "name": "stdout",
     "output_type": "stream",
     "text": [
      "\n",
      "1675    MCI\n",
      "1676    MCI\n",
      "1677    MCI\n",
      "1678    MCI\n",
      "1679    MCI\n",
      "1680    MCI\n",
      "1681    MCI\n",
      "1682    MCI\n",
      "1683    MCI\n",
      "Name: Group, dtype: object\n",
      "MCI\n",
      "(166, 256, 256)\n"
     ]
    },
    {
     "name": "stderr",
     "output_type": "stream",
     "text": [
      "\r",
      " 81%|████████████████████████████████████████████████████████████████▊               | 667/823 [04:42<01:05,  2.37it/s]"
     ]
    },
    {
     "name": "stdout",
     "output_type": "stream",
     "text": [
      "\n",
      "1667    MCI\n",
      "1668    MCI\n",
      "1669    MCI\n",
      "1670    MCI\n",
      "1671    MCI\n",
      "1672    MCI\n",
      "1673    MCI\n",
      "1674    MCI\n",
      "Name: Group, dtype: object\n",
      "MCI\n",
      "(166, 256, 256)\n"
     ]
    },
    {
     "name": "stderr",
     "output_type": "stream",
     "text": [
      "\r",
      " 81%|████████████████████████████████████████████████████████████████▉               | 668/823 [04:42<01:04,  2.40it/s]"
     ]
    },
    {
     "name": "stdout",
     "output_type": "stream",
     "text": [
      "\n",
      "1659    MCI\n",
      "1660    MCI\n",
      "1661    MCI\n",
      "1662    MCI\n",
      "1663    MCI\n",
      "1664    MCI\n",
      "1665    MCI\n",
      "1666    MCI\n",
      "Name: Group, dtype: object\n",
      "MCI\n",
      "(166, 256, 256)\n"
     ]
    },
    {
     "name": "stderr",
     "output_type": "stream",
     "text": [
      "\r",
      " 81%|█████████████████████████████████████████████████████████████████               | 669/823 [04:42<01:03,  2.42it/s]"
     ]
    },
    {
     "name": "stdout",
     "output_type": "stream",
     "text": [
      "\n",
      "1652    AD\n",
      "1653    AD\n",
      "1654    AD\n",
      "1655    AD\n",
      "1656    AD\n",
      "1657    AD\n",
      "1658    AD\n",
      "Name: Group, dtype: object\n",
      "AD\n",
      "(166, 256, 256)\n"
     ]
    },
    {
     "name": "stderr",
     "output_type": "stream",
     "text": [
      "\r",
      " 81%|█████████████████████████████████████████████████████████████████▏              | 670/823 [04:43<01:02,  2.44it/s]"
     ]
    },
    {
     "name": "stdout",
     "output_type": "stream",
     "text": [
      "\n",
      "1644    MCI\n",
      "1645    MCI\n",
      "1646    MCI\n",
      "1647    MCI\n",
      "1648    MCI\n",
      "1649    MCI\n",
      "1650    MCI\n",
      "1651    MCI\n",
      "Name: Group, dtype: object\n",
      "MCI\n",
      "(166, 256, 256)\n"
     ]
    },
    {
     "name": "stderr",
     "output_type": "stream",
     "text": [
      "\r",
      " 82%|█████████████████████████████████████████████████████████████████▏              | 671/823 [04:43<01:03,  2.39it/s]"
     ]
    },
    {
     "name": "stdout",
     "output_type": "stream",
     "text": [
      "\n",
      "1636    MCI\n",
      "1637    MCI\n",
      "1638    MCI\n",
      "1639    MCI\n",
      "1640    MCI\n",
      "1641    MCI\n",
      "1642    MCI\n",
      "1643    MCI\n",
      "Name: Group, dtype: object\n",
      "MCI\n",
      "(166, 256, 256)\n"
     ]
    },
    {
     "name": "stderr",
     "output_type": "stream",
     "text": [
      "\r",
      " 82%|█████████████████████████████████████████████████████████████████▎              | 672/823 [04:44<01:02,  2.42it/s]"
     ]
    },
    {
     "name": "stdout",
     "output_type": "stream",
     "text": [
      "\n",
      "1628    MCI\n",
      "1629    MCI\n",
      "1630    MCI\n",
      "1631    MCI\n",
      "1632    MCI\n",
      "1633    MCI\n",
      "1634    MCI\n",
      "1635    MCI\n",
      "Name: Group, dtype: object\n",
      "MCI\n",
      "(166, 256, 256)\n"
     ]
    },
    {
     "name": "stderr",
     "output_type": "stream",
     "text": [
      "\r",
      " 82%|█████████████████████████████████████████████████████████████████▍              | 673/823 [04:44<01:00,  2.47it/s]"
     ]
    },
    {
     "name": "stdout",
     "output_type": "stream",
     "text": [
      "\n",
      "1620    AD\n",
      "1621    AD\n",
      "1622    AD\n",
      "1623    AD\n",
      "1624    AD\n",
      "1625    AD\n",
      "1626    AD\n",
      "1627    AD\n",
      "Name: Group, dtype: object\n",
      "AD\n",
      "(166, 256, 256)\n"
     ]
    },
    {
     "name": "stderr",
     "output_type": "stream",
     "text": [
      "\r",
      " 82%|█████████████████████████████████████████████████████████████████▌              | 674/823 [04:44<01:00,  2.48it/s]"
     ]
    },
    {
     "name": "stdout",
     "output_type": "stream",
     "text": [
      "\n",
      "1612    MCI\n",
      "1613    MCI\n",
      "1614    MCI\n",
      "1615    MCI\n",
      "1616    MCI\n",
      "1617    MCI\n",
      "1618    MCI\n",
      "1619    MCI\n",
      "Name: Group, dtype: object\n",
      "MCI\n",
      "(166, 256, 256)\n"
     ]
    },
    {
     "name": "stderr",
     "output_type": "stream",
     "text": [
      "\r",
      " 82%|█████████████████████████████████████████████████████████████████▌              | 675/823 [04:45<00:57,  2.56it/s]"
     ]
    },
    {
     "name": "stdout",
     "output_type": "stream",
     "text": [
      "\n",
      "1604    MCI\n",
      "1605    MCI\n",
      "1606    MCI\n",
      "1607    MCI\n",
      "1608    MCI\n",
      "1609    MCI\n",
      "1610    MCI\n",
      "1611    MCI\n",
      "Name: Group, dtype: object\n",
      "MCI\n",
      "(166, 256, 256)\n"
     ]
    },
    {
     "name": "stderr",
     "output_type": "stream",
     "text": [
      "\r",
      " 82%|█████████████████████████████████████████████████████████████████▋              | 676/823 [04:45<00:57,  2.57it/s]"
     ]
    },
    {
     "name": "stdout",
     "output_type": "stream",
     "text": [
      "\n",
      "1596    CN\n",
      "1597    CN\n",
      "1598    CN\n",
      "1599    CN\n",
      "1600    CN\n",
      "1601    CN\n",
      "1602    CN\n",
      "1603    CN\n",
      "Name: Group, dtype: object\n",
      "CN\n",
      "(166, 256, 256)\n"
     ]
    },
    {
     "name": "stderr",
     "output_type": "stream",
     "text": [
      "\r",
      " 82%|█████████████████████████████████████████████████████████████████▊              | 677/823 [04:46<00:56,  2.58it/s]"
     ]
    },
    {
     "name": "stdout",
     "output_type": "stream",
     "text": [
      "\n",
      "1588    CN\n",
      "1589    CN\n",
      "1590    CN\n",
      "1591    CN\n",
      "1592    CN\n",
      "1593    CN\n",
      "1594    CN\n",
      "1595    CN\n",
      "Name: Group, dtype: object\n",
      "CN\n",
      "(166, 256, 256)\n"
     ]
    },
    {
     "name": "stderr",
     "output_type": "stream",
     "text": [
      "\r",
      " 82%|█████████████████████████████████████████████████████████████████▉              | 678/823 [04:46<00:55,  2.61it/s]"
     ]
    },
    {
     "name": "stdout",
     "output_type": "stream",
     "text": [
      "\n",
      "1580    CN\n",
      "1581    CN\n",
      "1582    CN\n",
      "1583    CN\n",
      "1584    CN\n",
      "1585    CN\n",
      "1586    CN\n",
      "1587    CN\n",
      "Name: Group, dtype: object\n",
      "CN\n",
      "(166, 256, 256)\n"
     ]
    },
    {
     "name": "stderr",
     "output_type": "stream",
     "text": [
      "\r",
      " 83%|██████████████████████████████████████████████████████████████████              | 679/823 [04:46<00:56,  2.57it/s]"
     ]
    },
    {
     "name": "stdout",
     "output_type": "stream",
     "text": [
      "\n",
      "1572    MCI\n",
      "1573    MCI\n",
      "1574    MCI\n",
      "1575    MCI\n",
      "1576    MCI\n",
      "1577    MCI\n",
      "1578    MCI\n",
      "1579    MCI\n",
      "Name: Group, dtype: object\n",
      "MCI\n",
      "(166, 256, 256)\n"
     ]
    },
    {
     "name": "stderr",
     "output_type": "stream",
     "text": [
      "\r",
      " 83%|██████████████████████████████████████████████████████████████████              | 680/823 [04:47<00:55,  2.56it/s]"
     ]
    },
    {
     "name": "stdout",
     "output_type": "stream",
     "text": [
      "\n",
      "1564    AD\n",
      "1565    AD\n",
      "1566    AD\n",
      "1567    AD\n",
      "1568    AD\n",
      "1569    AD\n",
      "1570    AD\n",
      "1571    AD\n",
      "Name: Group, dtype: object\n",
      "AD\n",
      "(166, 256, 256)\n"
     ]
    },
    {
     "name": "stderr",
     "output_type": "stream",
     "text": [
      "\r",
      " 83%|██████████████████████████████████████████████████████████████████▏             | 681/823 [04:47<00:55,  2.55it/s]"
     ]
    },
    {
     "name": "stdout",
     "output_type": "stream",
     "text": [
      "\n",
      "1556    CN\n",
      "1557    CN\n",
      "1558    CN\n",
      "1559    CN\n",
      "1560    CN\n",
      "1561    CN\n",
      "1562    CN\n",
      "1563    CN\n",
      "Name: Group, dtype: object\n",
      "CN\n",
      "(166, 256, 256)\n"
     ]
    },
    {
     "name": "stderr",
     "output_type": "stream",
     "text": [
      "\r",
      " 83%|██████████████████████████████████████████████████████████████████▎             | 682/823 [04:48<00:55,  2.53it/s]"
     ]
    },
    {
     "name": "stdout",
     "output_type": "stream",
     "text": [
      "\n",
      "1548    AD\n",
      "1549    AD\n",
      "1550    AD\n",
      "1551    AD\n",
      "1552    AD\n",
      "1553    AD\n",
      "1554    AD\n",
      "1555    AD\n",
      "Name: Group, dtype: object\n",
      "AD\n",
      "(166, 256, 256)\n"
     ]
    },
    {
     "name": "stderr",
     "output_type": "stream",
     "text": [
      "\r",
      " 83%|██████████████████████████████████████████████████████████████████▍             | 683/823 [04:48<00:55,  2.54it/s]"
     ]
    },
    {
     "name": "stdout",
     "output_type": "stream",
     "text": [
      "\n",
      "1540    CN\n",
      "1541    CN\n",
      "1542    CN\n",
      "1543    CN\n",
      "1544    CN\n",
      "1545    CN\n",
      "1546    CN\n",
      "1547    CN\n",
      "Name: Group, dtype: object\n",
      "CN\n",
      "(166, 256, 256)\n"
     ]
    },
    {
     "name": "stderr",
     "output_type": "stream",
     "text": [
      "\r",
      " 83%|██████████████████████████████████████████████████████████████████▍             | 684/823 [04:48<00:54,  2.54it/s]"
     ]
    },
    {
     "name": "stdout",
     "output_type": "stream",
     "text": [
      "\n",
      "1532    AD\n",
      "1533    AD\n",
      "1534    AD\n",
      "1535    AD\n",
      "1536    AD\n",
      "1537    AD\n",
      "1538    AD\n",
      "1539    AD\n",
      "Name: Group, dtype: object\n",
      "AD\n",
      "(166, 256, 256)\n"
     ]
    },
    {
     "name": "stderr",
     "output_type": "stream",
     "text": [
      "\r",
      " 83%|██████████████████████████████████████████████████████████████████▌             | 685/823 [04:49<00:54,  2.55it/s]"
     ]
    },
    {
     "name": "stdout",
     "output_type": "stream",
     "text": [
      "\n",
      "1524    CN\n",
      "1525    CN\n",
      "1526    CN\n",
      "1527    CN\n",
      "1528    CN\n",
      "1529    CN\n",
      "1530    CN\n",
      "1531    CN\n",
      "Name: Group, dtype: object\n",
      "CN\n",
      "(166, 256, 256)\n"
     ]
    },
    {
     "name": "stderr",
     "output_type": "stream",
     "text": [
      "\r",
      " 83%|██████████████████████████████████████████████████████████████████▋             | 686/823 [04:49<00:53,  2.54it/s]"
     ]
    },
    {
     "name": "stdout",
     "output_type": "stream",
     "text": [
      "\n",
      "1516    AD\n",
      "1517    AD\n",
      "1518    AD\n",
      "1519    AD\n",
      "1520    AD\n",
      "1521    AD\n",
      "1522    AD\n",
      "1523    AD\n",
      "Name: Group, dtype: object\n",
      "AD\n",
      "(166, 256, 256)\n"
     ]
    },
    {
     "name": "stderr",
     "output_type": "stream",
     "text": [
      "\r",
      " 83%|██████████████████████████████████████████████████████████████████▊             | 687/823 [04:50<00:55,  2.46it/s]"
     ]
    },
    {
     "name": "stdout",
     "output_type": "stream",
     "text": [
      "\n",
      "1508    CN\n",
      "1509    CN\n",
      "1510    CN\n",
      "1511    CN\n",
      "1512    CN\n",
      "1513    CN\n",
      "1514    CN\n",
      "1515    CN\n",
      "Name: Group, dtype: object\n",
      "CN\n",
      "(166, 256, 256)\n"
     ]
    },
    {
     "name": "stderr",
     "output_type": "stream",
     "text": [
      "\r",
      " 84%|██████████████████████████████████████████████████████████████████▉             | 688/823 [04:50<00:55,  2.44it/s]"
     ]
    },
    {
     "name": "stdout",
     "output_type": "stream",
     "text": [
      "\n",
      "1500    MCI\n",
      "1501    MCI\n",
      "1502    MCI\n",
      "1503    MCI\n",
      "1504    MCI\n",
      "1505    MCI\n",
      "1506    MCI\n",
      "1507    MCI\n",
      "Name: Group, dtype: object\n",
      "MCI\n",
      "(166, 256, 256)\n"
     ]
    },
    {
     "name": "stderr",
     "output_type": "stream",
     "text": [
      "\r",
      " 84%|██████████████████████████████████████████████████████████████████▉             | 689/823 [04:50<00:54,  2.46it/s]"
     ]
    },
    {
     "name": "stdout",
     "output_type": "stream",
     "text": [
      "\n",
      "1492    MCI\n",
      "1493    MCI\n",
      "1494    MCI\n",
      "1495    MCI\n",
      "1496    MCI\n",
      "1497    MCI\n",
      "1498    MCI\n",
      "1499    MCI\n",
      "Name: Group, dtype: object\n",
      "MCI\n",
      "(166, 256, 256)\n"
     ]
    },
    {
     "name": "stderr",
     "output_type": "stream",
     "text": [
      "\r",
      " 84%|███████████████████████████████████████████████████████████████████             | 690/823 [04:51<00:53,  2.47it/s]"
     ]
    },
    {
     "name": "stdout",
     "output_type": "stream",
     "text": [
      "\n",
      "1485    AD\n",
      "1486    AD\n",
      "1487    AD\n",
      "1488    AD\n",
      "1489    AD\n",
      "1490    AD\n",
      "1491    AD\n",
      "Name: Group, dtype: object\n",
      "AD\n",
      "(166, 256, 256)\n"
     ]
    },
    {
     "name": "stderr",
     "output_type": "stream",
     "text": [
      "\r",
      " 84%|███████████████████████████████████████████████████████████████████▏            | 691/823 [04:51<00:53,  2.47it/s]"
     ]
    },
    {
     "name": "stdout",
     "output_type": "stream",
     "text": [
      "\n",
      "1472    AD\n",
      "1473    AD\n",
      "1474    AD\n",
      "1475    AD\n",
      "1476    AD\n",
      "1477    AD\n",
      "1478    AD\n",
      "1479    AD\n",
      "Name: Group, dtype: object\n",
      "AD\n",
      "(166, 256, 256)\n"
     ]
    },
    {
     "name": "stderr",
     "output_type": "stream",
     "text": [
      "\r",
      " 84%|███████████████████████████████████████████████████████████████████▎            | 692/823 [04:52<00:53,  2.46it/s]"
     ]
    },
    {
     "name": "stdout",
     "output_type": "stream",
     "text": [
      "\n",
      "1464    MCI\n",
      "1465    MCI\n",
      "1466    MCI\n",
      "1467    MCI\n",
      "1468    MCI\n",
      "1469    MCI\n",
      "1470    MCI\n",
      "1471    MCI\n",
      "Name: Group, dtype: object\n",
      "MCI\n",
      "(166, 256, 256)\n"
     ]
    },
    {
     "name": "stderr",
     "output_type": "stream",
     "text": [
      "\r",
      " 84%|███████████████████████████████████████████████████████████████████▎            | 693/823 [04:52<00:52,  2.47it/s]"
     ]
    },
    {
     "name": "stdout",
     "output_type": "stream",
     "text": [
      "\n",
      "1455    AD\n",
      "1456    AD\n",
      "1457    AD\n",
      "1458    AD\n",
      "1459    AD\n",
      "1460    AD\n",
      "1461    AD\n",
      "1462    AD\n",
      "1463    AD\n",
      "Name: Group, dtype: object\n",
      "AD\n",
      "(166, 256, 256)\n"
     ]
    },
    {
     "name": "stderr",
     "output_type": "stream",
     "text": [
      "\r",
      " 84%|███████████████████████████████████████████████████████████████████▍            | 694/823 [04:52<00:51,  2.49it/s]"
     ]
    },
    {
     "name": "stdout",
     "output_type": "stream",
     "text": [
      "\n",
      "1445    CN\n",
      "1446    CN\n",
      "1447    CN\n",
      "1448    CN\n",
      "1449    CN\n",
      "1450    CN\n",
      "1451    CN\n",
      "1452    CN\n",
      "1453    CN\n",
      "1454    CN\n",
      "Name: Group, dtype: object\n",
      "CN\n",
      "(166, 256, 256)\n"
     ]
    },
    {
     "name": "stderr",
     "output_type": "stream",
     "text": [
      "\r",
      " 84%|███████████████████████████████████████████████████████████████████▌            | 695/823 [04:53<00:51,  2.49it/s]"
     ]
    },
    {
     "name": "stdout",
     "output_type": "stream",
     "text": [
      "\n",
      "1435    MCI\n",
      "1436    MCI\n",
      "1437    MCI\n",
      "1438    MCI\n",
      "1439    MCI\n",
      "1440    MCI\n",
      "1441    MCI\n",
      "1442    MCI\n",
      "1443    MCI\n",
      "1444    MCI\n",
      "Name: Group, dtype: object\n",
      "MCI\n",
      "(166, 256, 256)\n"
     ]
    },
    {
     "name": "stderr",
     "output_type": "stream",
     "text": [
      "\r",
      " 85%|███████████████████████████████████████████████████████████████████▋            | 696/823 [04:53<00:50,  2.53it/s]"
     ]
    },
    {
     "name": "stdout",
     "output_type": "stream",
     "text": [
      "\n",
      "1425    MCI\n",
      "1426    MCI\n",
      "1427    MCI\n",
      "1428    MCI\n",
      "1429    MCI\n",
      "1430    MCI\n",
      "1431    MCI\n",
      "1432    MCI\n",
      "1433    MCI\n",
      "1434    MCI\n",
      "Name: Group, dtype: object\n",
      "MCI\n",
      "(166, 256, 256)\n"
     ]
    },
    {
     "name": "stderr",
     "output_type": "stream",
     "text": [
      "\r",
      " 85%|███████████████████████████████████████████████████████████████████▊            | 697/823 [04:54<00:51,  2.45it/s]"
     ]
    },
    {
     "name": "stdout",
     "output_type": "stream",
     "text": [
      "\n",
      "1407    MCI\n",
      "1408    MCI\n",
      "1409    MCI\n",
      "1410    MCI\n",
      "1411    MCI\n",
      "1412    MCI\n",
      "1413    MCI\n",
      "1414    MCI\n",
      "1415    MCI\n",
      "1416    MCI\n",
      "1417    MCI\n",
      "1418    MCI\n",
      "1419    MCI\n",
      "1420    MCI\n",
      "1421    MCI\n",
      "1422    MCI\n",
      "1423    MCI\n",
      "1424    MCI\n",
      "Name: Group, dtype: object\n",
      "MCI\n",
      "(166, 256, 256)\n"
     ]
    },
    {
     "name": "stderr",
     "output_type": "stream",
     "text": [
      "\r",
      " 85%|███████████████████████████████████████████████████████████████████▊            | 698/823 [04:54<00:50,  2.46it/s]"
     ]
    },
    {
     "name": "stdout",
     "output_type": "stream",
     "text": [
      "\n",
      "1389    MCI\n",
      "1390    MCI\n",
      "1391    MCI\n",
      "1392    MCI\n",
      "1393    MCI\n",
      "1394    MCI\n",
      "1395    MCI\n",
      "1396    MCI\n",
      "1397    MCI\n",
      "1398    MCI\n",
      "1399    MCI\n",
      "1400    MCI\n",
      "1401    MCI\n",
      "1402    MCI\n",
      "1403    MCI\n",
      "1404    MCI\n",
      "1405    MCI\n",
      "1406    MCI\n",
      "Name: Group, dtype: object\n",
      "MCI\n",
      "(166, 256, 256)\n"
     ]
    },
    {
     "name": "stderr",
     "output_type": "stream",
     "text": [
      "\r",
      " 85%|███████████████████████████████████████████████████████████████████▉            | 699/823 [04:54<00:49,  2.50it/s]"
     ]
    },
    {
     "name": "stdout",
     "output_type": "stream",
     "text": [
      "\n",
      "1380    MCI\n",
      "1381    MCI\n",
      "1382    MCI\n",
      "1383    MCI\n",
      "1384    MCI\n",
      "1385    MCI\n",
      "1386    MCI\n",
      "1387    MCI\n",
      "1388    MCI\n",
      "Name: Group, dtype: object\n",
      "MCI\n",
      "(166, 256, 256)\n"
     ]
    },
    {
     "name": "stderr",
     "output_type": "stream",
     "text": [
      "\r",
      " 85%|████████████████████████████████████████████████████████████████████            | 700/823 [04:55<00:49,  2.48it/s]"
     ]
    },
    {
     "name": "stdout",
     "output_type": "stream",
     "text": [
      "\n",
      "1364    CN\n",
      "1365    CN\n",
      "1366    CN\n",
      "1367    CN\n",
      "1368    CN\n",
      "1369    CN\n",
      "1370    CN\n",
      "1371    CN\n",
      "1372    CN\n",
      "1373    CN\n",
      "1374    CN\n",
      "1375    CN\n",
      "1376    CN\n",
      "1377    CN\n",
      "1378    CN\n",
      "1379    CN\n",
      "Name: Group, dtype: object\n",
      "CN\n",
      "(166, 256, 256)\n"
     ]
    },
    {
     "name": "stderr",
     "output_type": "stream",
     "text": [
      "\r",
      " 85%|████████████████████████████████████████████████████████████████████▏           | 701/823 [04:55<00:49,  2.45it/s]"
     ]
    },
    {
     "name": "stdout",
     "output_type": "stream",
     "text": [
      "\n",
      "1355    MCI\n",
      "1356    MCI\n",
      "1357    MCI\n",
      "1358    MCI\n",
      "1359    MCI\n",
      "1360    MCI\n",
      "1361    MCI\n",
      "1362    MCI\n",
      "1363    MCI\n",
      "Name: Group, dtype: object\n",
      "MCI\n",
      "(166, 256, 256)\n"
     ]
    },
    {
     "name": "stderr",
     "output_type": "stream",
     "text": [
      "\r",
      " 85%|████████████████████████████████████████████████████████████████████▏           | 702/823 [04:56<00:48,  2.51it/s]"
     ]
    },
    {
     "name": "stdout",
     "output_type": "stream",
     "text": [
      "\n",
      "1346    MCI\n",
      "1347    MCI\n",
      "1348    MCI\n",
      "1349    MCI\n",
      "1350    MCI\n",
      "1351    MCI\n",
      "1352    MCI\n",
      "1353    MCI\n",
      "1354    MCI\n",
      "Name: Group, dtype: object\n",
      "MCI\n",
      "(166, 256, 256)\n"
     ]
    },
    {
     "name": "stderr",
     "output_type": "stream",
     "text": [
      "\r",
      " 85%|████████████████████████████████████████████████████████████████████▎           | 703/823 [04:56<00:47,  2.50it/s]"
     ]
    },
    {
     "name": "stdout",
     "output_type": "stream",
     "text": [
      "\n",
      "1337    MCI\n",
      "1338    MCI\n",
      "1339    MCI\n",
      "1340    MCI\n",
      "1341    MCI\n",
      "1342    MCI\n",
      "1343    MCI\n",
      "1344    MCI\n",
      "1345    MCI\n",
      "Name: Group, dtype: object\n",
      "MCI\n",
      "(166, 256, 256)\n"
     ]
    },
    {
     "name": "stderr",
     "output_type": "stream",
     "text": [
      "\r",
      " 86%|████████████████████████████████████████████████████████████████████▍           | 704/823 [04:56<00:46,  2.56it/s]"
     ]
    },
    {
     "name": "stdout",
     "output_type": "stream",
     "text": [
      "\n",
      "1328    AD\n",
      "1329    AD\n",
      "1330    AD\n",
      "1331    AD\n",
      "1332    AD\n",
      "1333    AD\n",
      "1334    AD\n",
      "1335    AD\n",
      "1336    AD\n",
      "Name: Group, dtype: object\n",
      "AD\n",
      "(166, 256, 256)\n"
     ]
    },
    {
     "name": "stderr",
     "output_type": "stream",
     "text": [
      "\r",
      " 86%|████████████████████████████████████████████████████████████████████▌           | 705/823 [04:57<00:46,  2.52it/s]"
     ]
    },
    {
     "name": "stdout",
     "output_type": "stream",
     "text": [
      "\n",
      "1319    AD\n",
      "1320    AD\n",
      "1321    AD\n",
      "1322    AD\n",
      "1323    AD\n",
      "1324    AD\n",
      "1325    AD\n",
      "1326    AD\n",
      "1327    AD\n",
      "Name: Group, dtype: object\n",
      "AD\n",
      "(166, 256, 256)\n"
     ]
    },
    {
     "name": "stderr",
     "output_type": "stream",
     "text": [
      "\r",
      " 86%|████████████████████████████████████████████████████████████████████▋           | 706/823 [04:57<00:45,  2.56it/s]"
     ]
    },
    {
     "name": "stdout",
     "output_type": "stream",
     "text": [
      "\n",
      "1312    CN\n",
      "1313    CN\n",
      "1314    CN\n",
      "1315    CN\n",
      "1316    CN\n",
      "1317    CN\n",
      "1318    CN\n",
      "Name: Group, dtype: object\n",
      "CN\n",
      "(166, 256, 256)\n"
     ]
    },
    {
     "name": "stderr",
     "output_type": "stream",
     "text": [
      "\r",
      " 86%|████████████████████████████████████████████████████████████████████▋           | 707/823 [04:58<00:45,  2.56it/s]"
     ]
    },
    {
     "name": "stdout",
     "output_type": "stream",
     "text": [
      "\n",
      "1305    MCI\n",
      "1306    MCI\n",
      "1307    MCI\n",
      "1308    MCI\n",
      "1309    MCI\n",
      "1310    MCI\n",
      "1311    MCI\n",
      "Name: Group, dtype: object\n",
      "MCI\n",
      "(166, 256, 256)\n"
     ]
    },
    {
     "name": "stderr",
     "output_type": "stream",
     "text": [
      "\r",
      " 86%|████████████████████████████████████████████████████████████████████▊           | 708/823 [04:58<00:44,  2.56it/s]"
     ]
    },
    {
     "name": "stdout",
     "output_type": "stream",
     "text": [
      "\n",
      "1298    MCI\n",
      "1299    MCI\n",
      "1300    MCI\n",
      "1301    MCI\n",
      "1302    MCI\n",
      "1303    MCI\n",
      "1304    MCI\n",
      "Name: Group, dtype: object\n",
      "MCI\n",
      "(166, 256, 256)\n"
     ]
    },
    {
     "name": "stderr",
     "output_type": "stream",
     "text": [
      "\r",
      " 86%|████████████████████████████████████████████████████████████████████▉           | 709/823 [04:58<00:45,  2.53it/s]"
     ]
    },
    {
     "name": "stdout",
     "output_type": "stream",
     "text": [
      "\n",
      "1289    MCI\n",
      "1290    MCI\n",
      "1291    MCI\n",
      "1292    MCI\n",
      "1293    MCI\n",
      "1294    MCI\n",
      "1295    MCI\n",
      "1296    MCI\n",
      "1297    MCI\n",
      "Name: Group, dtype: object\n",
      "MCI\n",
      "(166, 256, 256)\n"
     ]
    },
    {
     "name": "stderr",
     "output_type": "stream",
     "text": [
      "\r",
      " 86%|█████████████████████████████████████████████████████████████████████           | 710/823 [04:59<00:45,  2.47it/s]"
     ]
    },
    {
     "name": "stdout",
     "output_type": "stream",
     "text": [
      "\n",
      "1280    CN\n",
      "1281    CN\n",
      "1282    CN\n",
      "1283    CN\n",
      "1284    CN\n",
      "1285    CN\n",
      "1286    CN\n",
      "1287    CN\n",
      "1288    CN\n",
      "Name: Group, dtype: object\n",
      "CN\n",
      "(166, 256, 256)\n"
     ]
    },
    {
     "name": "stderr",
     "output_type": "stream",
     "text": [
      "\r",
      " 86%|█████████████████████████████████████████████████████████████████████           | 711/823 [04:59<00:45,  2.48it/s]"
     ]
    },
    {
     "name": "stdout",
     "output_type": "stream",
     "text": [
      "\n",
      "1271    MCI\n",
      "1272    MCI\n",
      "1273    MCI\n",
      "1274    MCI\n",
      "1275    MCI\n",
      "1276    MCI\n",
      "1277    MCI\n",
      "1278    MCI\n",
      "1279    MCI\n",
      "Name: Group, dtype: object\n",
      "MCI\n",
      "(166, 256, 256)\n"
     ]
    },
    {
     "name": "stderr",
     "output_type": "stream",
     "text": [
      "\r",
      " 87%|█████████████████████████████████████████████████████████████████████▏          | 712/823 [05:00<00:44,  2.48it/s]"
     ]
    },
    {
     "name": "stdout",
     "output_type": "stream",
     "text": [
      "\n",
      "1262    MCI\n",
      "1263    MCI\n",
      "1264    MCI\n",
      "1265    MCI\n",
      "1266    MCI\n",
      "1267    MCI\n",
      "1268    MCI\n",
      "1269    MCI\n",
      "1270    MCI\n",
      "Name: Group, dtype: object\n",
      "MCI\n",
      "(166, 256, 256)\n"
     ]
    },
    {
     "name": "stderr",
     "output_type": "stream",
     "text": [
      "\r",
      " 87%|█████████████████████████████████████████████████████████████████████▎          | 713/823 [05:00<00:44,  2.47it/s]"
     ]
    },
    {
     "name": "stdout",
     "output_type": "stream",
     "text": [
      "\n",
      "1248    MCI\n",
      "1249    MCI\n",
      "1250    MCI\n",
      "1251    MCI\n",
      "1252    MCI\n",
      "1253    MCI\n",
      "1254    MCI\n",
      "1255    MCI\n",
      "1256    MCI\n",
      "1257    MCI\n",
      "1258    MCI\n",
      "1259    MCI\n",
      "1260    MCI\n",
      "1261    MCI\n",
      "Name: Group, dtype: object\n",
      "MCI\n",
      "(166, 256, 256)\n"
     ]
    },
    {
     "name": "stderr",
     "output_type": "stream",
     "text": [
      "\r",
      " 87%|█████████████████████████████████████████████████████████████████████▍          | 714/823 [05:00<00:44,  2.46it/s]"
     ]
    },
    {
     "name": "stdout",
     "output_type": "stream",
     "text": [
      "\n",
      "1225    MCI\n",
      "1226    MCI\n",
      "1227    MCI\n",
      "1228    MCI\n",
      "1229    MCI\n",
      "1230    MCI\n",
      "1231    MCI\n",
      "1232    MCI\n",
      "1233    MCI\n",
      "1234    MCI\n",
      "1235    MCI\n",
      "1236    MCI\n",
      "1237    MCI\n",
      "1238    MCI\n",
      "1239    MCI\n",
      "1240    MCI\n",
      "1241    MCI\n",
      "1242    MCI\n",
      "1243    MCI\n",
      "1244    MCI\n",
      "1245    MCI\n",
      "1246    MCI\n",
      "1247    MCI\n",
      "Name: Group, dtype: object\n",
      "MCI\n",
      "(166, 256, 256)\n"
     ]
    },
    {
     "name": "stderr",
     "output_type": "stream",
     "text": [
      "\r",
      " 87%|█████████████████████████████████████████████████████████████████████▌          | 715/823 [05:01<00:43,  2.47it/s]"
     ]
    },
    {
     "name": "stdout",
     "output_type": "stream",
     "text": [
      "\n",
      "1216    MCI\n",
      "1217    MCI\n",
      "1218    MCI\n",
      "1219    MCI\n",
      "1220    MCI\n",
      "1221    MCI\n",
      "1222    MCI\n",
      "1223    MCI\n",
      "1224    MCI\n",
      "Name: Group, dtype: object\n",
      "MCI\n",
      "(166, 256, 256)\n"
     ]
    },
    {
     "name": "stderr",
     "output_type": "stream",
     "text": [
      "\r",
      " 87%|█████████████████████████████████████████████████████████████████████▌          | 716/823 [05:01<00:43,  2.45it/s]"
     ]
    },
    {
     "name": "stdout",
     "output_type": "stream",
     "text": [
      "\n",
      "1202    MCI\n",
      "1203    MCI\n",
      "1204    MCI\n",
      "1205    MCI\n",
      "1206    MCI\n",
      "1207    MCI\n",
      "1208    MCI\n",
      "1209    MCI\n",
      "1210    MCI\n",
      "1211    MCI\n",
      "1212    MCI\n",
      "1213    MCI\n",
      "1214    MCI\n",
      "1215    MCI\n",
      "Name: Group, dtype: object\n",
      "MCI\n",
      "(166, 256, 256)\n"
     ]
    },
    {
     "name": "stderr",
     "output_type": "stream",
     "text": [
      "\r",
      " 87%|█████████████████████████████████████████████████████████████████████▋          | 717/823 [05:02<00:43,  2.44it/s]"
     ]
    },
    {
     "name": "stdout",
     "output_type": "stream",
     "text": [
      "\n",
      "1193    MCI\n",
      "1194    MCI\n",
      "1195    MCI\n",
      "1196    MCI\n",
      "1197    MCI\n",
      "1198    MCI\n",
      "1199    MCI\n",
      "1200    MCI\n",
      "1201    MCI\n",
      "Name: Group, dtype: object\n",
      "MCI\n",
      "(166, 256, 256)\n"
     ]
    },
    {
     "name": "stderr",
     "output_type": "stream",
     "text": [
      "\r",
      " 87%|█████████████████████████████████████████████████████████████████████▊          | 718/823 [05:02<00:43,  2.43it/s]"
     ]
    },
    {
     "name": "stdout",
     "output_type": "stream",
     "text": [
      "\n",
      "1179    CN\n",
      "1180    CN\n",
      "1181    CN\n",
      "1182    CN\n",
      "1183    CN\n",
      "1184    CN\n",
      "1185    CN\n",
      "1186    CN\n",
      "1187    CN\n",
      "1188    CN\n",
      "1189    CN\n",
      "1190    CN\n",
      "1191    CN\n",
      "1192    CN\n",
      "Name: Group, dtype: object\n",
      "CN\n",
      "(166, 256, 256)\n"
     ]
    },
    {
     "name": "stderr",
     "output_type": "stream",
     "text": [
      "\r",
      " 87%|█████████████████████████████████████████████████████████████████████▉          | 719/823 [05:02<00:43,  2.41it/s]"
     ]
    },
    {
     "name": "stdout",
     "output_type": "stream",
     "text": [
      "\n",
      "1165    AD\n",
      "1166    AD\n",
      "1167    AD\n",
      "1168    AD\n",
      "1169    AD\n",
      "1170    AD\n",
      "1171    AD\n",
      "1172    AD\n",
      "1173    AD\n",
      "1174    AD\n",
      "1175    AD\n",
      "1176    AD\n",
      "1177    AD\n",
      "1178    AD\n",
      "Name: Group, dtype: object\n",
      "AD\n",
      "(166, 256, 256)\n"
     ]
    },
    {
     "name": "stderr",
     "output_type": "stream",
     "text": [
      "\r",
      " 87%|█████████████████████████████████████████████████████████████████████▉          | 720/823 [05:03<00:42,  2.40it/s]"
     ]
    },
    {
     "name": "stdout",
     "output_type": "stream",
     "text": [
      "\n",
      "1151    CN\n",
      "1152    CN\n",
      "1153    CN\n",
      "1154    CN\n",
      "1155    CN\n",
      "1156    CN\n",
      "1157    CN\n",
      "1158    CN\n",
      "1159    CN\n",
      "1160    CN\n",
      "1161    CN\n",
      "1162    CN\n",
      "1163    CN\n",
      "1164    CN\n",
      "Name: Group, dtype: object\n",
      "CN\n",
      "(166, 256, 256)\n"
     ]
    },
    {
     "name": "stderr",
     "output_type": "stream",
     "text": [
      "\r",
      " 88%|██████████████████████████████████████████████████████████████████████          | 721/823 [05:03<00:42,  2.40it/s]"
     ]
    },
    {
     "name": "stdout",
     "output_type": "stream",
     "text": [
      "\n",
      "1142    CN\n",
      "1143    CN\n",
      "1144    CN\n",
      "1145    CN\n",
      "1146    CN\n",
      "1147    CN\n",
      "1148    CN\n",
      "1149    CN\n",
      "1150    CN\n",
      "Name: Group, dtype: object\n",
      "CN\n",
      "(166, 256, 256)\n"
     ]
    },
    {
     "name": "stderr",
     "output_type": "stream",
     "text": [
      "\r",
      " 88%|██████████████████████████████████████████████████████████████████████▏         | 722/823 [05:04<00:41,  2.41it/s]"
     ]
    },
    {
     "name": "stdout",
     "output_type": "stream",
     "text": [
      "\n",
      "1133    AD\n",
      "1134    AD\n",
      "1135    AD\n",
      "1136    AD\n",
      "1137    AD\n",
      "1138    AD\n",
      "1139    AD\n",
      "1140    AD\n",
      "1141    AD\n",
      "Name: Group, dtype: object\n",
      "AD\n",
      "(166, 256, 256)\n"
     ]
    },
    {
     "name": "stderr",
     "output_type": "stream",
     "text": [
      "\r",
      " 88%|██████████████████████████████████████████████████████████████████████▎         | 723/823 [05:04<00:41,  2.41it/s]"
     ]
    },
    {
     "name": "stdout",
     "output_type": "stream",
     "text": [
      "\n",
      "1124    AD\n",
      "1125    AD\n",
      "1126    AD\n",
      "1127    AD\n",
      "1128    AD\n",
      "1129    AD\n",
      "1130    AD\n",
      "1131    AD\n",
      "1132    AD\n",
      "Name: Group, dtype: object\n",
      "AD\n",
      "(166, 256, 256)\n"
     ]
    },
    {
     "name": "stderr",
     "output_type": "stream",
     "text": [
      "\r",
      " 88%|██████████████████████████████████████████████████████████████████████▍         | 724/823 [05:04<00:40,  2.43it/s]"
     ]
    },
    {
     "name": "stdout",
     "output_type": "stream",
     "text": [
      "\n",
      "1110    AD\n",
      "1111    AD\n",
      "1112    AD\n",
      "1113    AD\n",
      "1114    AD\n",
      "1115    AD\n",
      "1116    AD\n",
      "1117    AD\n",
      "1118    AD\n",
      "1119    AD\n",
      "1120    AD\n",
      "1121    AD\n",
      "1122    AD\n",
      "1123    AD\n",
      "Name: Group, dtype: object\n",
      "AD\n",
      "(166, 256, 256)\n"
     ]
    },
    {
     "name": "stderr",
     "output_type": "stream",
     "text": [
      "\r",
      " 88%|██████████████████████████████████████████████████████████████████████▍         | 725/823 [05:05<00:40,  2.40it/s]"
     ]
    },
    {
     "name": "stdout",
     "output_type": "stream",
     "text": [
      "\n",
      "1101    CN\n",
      "1102    CN\n",
      "1103    CN\n",
      "1104    CN\n",
      "1105    CN\n",
      "1106    CN\n",
      "1107    CN\n",
      "1108    CN\n",
      "1109    CN\n",
      "Name: Group, dtype: object\n",
      "CN\n",
      "(166, 256, 256)\n"
     ]
    },
    {
     "name": "stderr",
     "output_type": "stream",
     "text": [
      "\r",
      " 88%|██████████████████████████████████████████████████████████████████████▌         | 726/823 [05:05<00:40,  2.40it/s]"
     ]
    },
    {
     "name": "stdout",
     "output_type": "stream",
     "text": [
      "\n",
      "1092    CN\n",
      "1093    CN\n",
      "1094    CN\n",
      "1095    CN\n",
      "1096    CN\n",
      "1097    CN\n",
      "1098    CN\n",
      "1099    CN\n",
      "1100    CN\n",
      "Name: Group, dtype: object\n",
      "CN\n",
      "(166, 256, 256)\n"
     ]
    },
    {
     "name": "stderr",
     "output_type": "stream",
     "text": [
      "\r",
      " 88%|██████████████████████████████████████████████████████████████████████▋         | 727/823 [05:06<00:39,  2.41it/s]"
     ]
    },
    {
     "name": "stdout",
     "output_type": "stream",
     "text": [
      "\n",
      "1074    MCI\n",
      "1075    MCI\n",
      "1076    MCI\n",
      "1077    MCI\n",
      "1078    MCI\n",
      "1079    MCI\n",
      "1080    MCI\n",
      "1081    MCI\n",
      "1082    MCI\n",
      "1083    MCI\n",
      "1084    MCI\n",
      "1085    MCI\n",
      "1086    MCI\n",
      "1087    MCI\n",
      "1088    MCI\n",
      "1089    MCI\n",
      "1090    MCI\n",
      "1091    MCI\n",
      "Name: Group, dtype: object\n",
      "MCI\n",
      "(166, 256, 256)\n"
     ]
    },
    {
     "name": "stderr",
     "output_type": "stream",
     "text": [
      "\r",
      " 88%|██████████████████████████████████████████████████████████████████████▊         | 728/823 [05:06<00:39,  2.41it/s]"
     ]
    },
    {
     "name": "stdout",
     "output_type": "stream",
     "text": [
      "\n",
      "1065    MCI\n",
      "1066    MCI\n",
      "1067    MCI\n",
      "1068    MCI\n",
      "1069    MCI\n",
      "1070    MCI\n",
      "1071    MCI\n",
      "1072    MCI\n",
      "1073    MCI\n",
      "Name: Group, dtype: object\n",
      "MCI\n",
      "(166, 256, 256)\n"
     ]
    },
    {
     "name": "stderr",
     "output_type": "stream",
     "text": [
      "\r",
      " 89%|██████████████████████████████████████████████████████████████████████▊         | 729/823 [05:07<00:38,  2.42it/s]"
     ]
    },
    {
     "name": "stdout",
     "output_type": "stream",
     "text": [
      "\n",
      "1056    CN\n",
      "1057    CN\n",
      "1058    CN\n",
      "1059    CN\n",
      "1060    CN\n",
      "1061    CN\n",
      "1062    CN\n",
      "1063    CN\n",
      "1064    CN\n",
      "Name: Group, dtype: object\n",
      "CN\n",
      "(166, 256, 256)\n"
     ]
    },
    {
     "name": "stderr",
     "output_type": "stream",
     "text": [
      "\r",
      " 89%|██████████████████████████████████████████████████████████████████████▉         | 730/823 [05:07<00:37,  2.47it/s]"
     ]
    },
    {
     "name": "stdout",
     "output_type": "stream",
     "text": [
      "\n",
      "1040    CN\n",
      "1041    CN\n",
      "1042    CN\n",
      "1043    CN\n",
      "1044    CN\n",
      "1045    CN\n",
      "1046    CN\n",
      "1047    CN\n",
      "1048    CN\n",
      "1049    CN\n",
      "1050    CN\n",
      "1051    CN\n",
      "1052    CN\n",
      "1053    CN\n",
      "1054    CN\n",
      "1055    CN\n",
      "Name: Group, dtype: object\n",
      "CN\n",
      "(166, 256, 256)\n"
     ]
    },
    {
     "name": "stderr",
     "output_type": "stream",
     "text": [
      "\r",
      " 89%|███████████████████████████████████████████████████████████████████████         | 731/823 [05:07<00:37,  2.47it/s]"
     ]
    },
    {
     "name": "stdout",
     "output_type": "stream",
     "text": [
      "\n",
      "1024    AD\n",
      "1025    AD\n",
      "1026    AD\n",
      "1027    AD\n",
      "1028    AD\n",
      "1029    AD\n",
      "1030    AD\n",
      "1031    AD\n",
      "1032    AD\n",
      "1033    AD\n",
      "1034    AD\n",
      "1035    AD\n",
      "1036    AD\n",
      "1037    AD\n",
      "1038    AD\n",
      "1039    AD\n",
      "Name: Group, dtype: object\n",
      "AD\n",
      "(166, 256, 256)\n"
     ]
    },
    {
     "name": "stderr",
     "output_type": "stream",
     "text": [
      "\r",
      " 89%|███████████████████████████████████████████████████████████████████████▏        | 732/823 [05:08<00:36,  2.48it/s]"
     ]
    },
    {
     "name": "stdout",
     "output_type": "stream",
     "text": [
      "\n",
      "1015    AD\n",
      "1016    AD\n",
      "1017    AD\n",
      "1018    AD\n",
      "1019    AD\n",
      "1020    AD\n",
      "1021    AD\n",
      "1022    AD\n",
      "1023    AD\n",
      "Name: Group, dtype: object\n",
      "AD\n",
      "(166, 256, 256)\n"
     ]
    },
    {
     "name": "stderr",
     "output_type": "stream",
     "text": [
      "\r",
      " 89%|███████████████████████████████████████████████████████████████████████▎        | 733/823 [05:08<00:35,  2.51it/s]"
     ]
    },
    {
     "name": "stdout",
     "output_type": "stream",
     "text": [
      "\n",
      "999     AD\n",
      "1000    AD\n",
      "1001    AD\n",
      "1002    AD\n",
      "1003    AD\n",
      "1004    AD\n",
      "1005    AD\n",
      "1006    AD\n",
      "1007    AD\n",
      "1008    AD\n",
      "1009    AD\n",
      "1010    AD\n",
      "1011    AD\n",
      "1012    AD\n",
      "1013    AD\n",
      "1014    AD\n",
      "Name: Group, dtype: object\n",
      "AD\n",
      "(166, 256, 256)\n"
     ]
    },
    {
     "name": "stderr",
     "output_type": "stream",
     "text": [
      "\r",
      " 89%|███████████████████████████████████████████████████████████████████████▎        | 734/823 [05:09<00:35,  2.50it/s]"
     ]
    },
    {
     "name": "stdout",
     "output_type": "stream",
     "text": [
      "\n",
      "982    CN\n",
      "983    CN\n",
      "984    CN\n",
      "985    CN\n",
      "986    CN\n",
      "987    CN\n",
      "988    CN\n",
      "989    CN\n",
      "990    CN\n",
      "991    CN\n",
      "992    CN\n",
      "993    CN\n",
      "994    CN\n",
      "995    CN\n",
      "996    CN\n",
      "997    CN\n",
      "998    CN\n",
      "Name: Group, dtype: object\n",
      "CN\n",
      "(166, 256, 256)\n"
     ]
    },
    {
     "name": "stderr",
     "output_type": "stream",
     "text": [
      "\r",
      " 89%|███████████████████████████████████████████████████████████████████████▍        | 735/823 [05:09<00:34,  2.54it/s]"
     ]
    },
    {
     "name": "stdout",
     "output_type": "stream",
     "text": [
      "\n",
      "965    MCI\n",
      "966    MCI\n",
      "967    MCI\n",
      "968    MCI\n",
      "969    MCI\n",
      "970    MCI\n",
      "971    MCI\n",
      "972    MCI\n",
      "973    MCI\n",
      "974    MCI\n",
      "975    MCI\n",
      "976    MCI\n",
      "977    MCI\n",
      "978    MCI\n",
      "979    MCI\n",
      "980    MCI\n",
      "981    MCI\n",
      "Name: Group, dtype: object\n",
      "MCI\n",
      "(166, 256, 256)\n"
     ]
    },
    {
     "name": "stderr",
     "output_type": "stream",
     "text": [
      "\r",
      " 89%|███████████████████████████████████████████████████████████████████████▌        | 736/823 [05:09<00:34,  2.51it/s]"
     ]
    },
    {
     "name": "stdout",
     "output_type": "stream",
     "text": [
      "\n",
      "958    MCI\n",
      "959    MCI\n",
      "960    MCI\n",
      "961    MCI\n",
      "962    MCI\n",
      "963    MCI\n",
      "964    MCI\n",
      "Name: Group, dtype: object\n",
      "MCI\n",
      "(166, 256, 256)\n"
     ]
    },
    {
     "name": "stderr",
     "output_type": "stream",
     "text": [
      "\r",
      " 90%|███████████████████████████████████████████████████████████████████████▋        | 737/823 [05:10<00:33,  2.56it/s]"
     ]
    },
    {
     "name": "stdout",
     "output_type": "stream",
     "text": [
      "\n",
      "951    MCI\n",
      "952    MCI\n",
      "953    MCI\n",
      "954    MCI\n",
      "955    MCI\n",
      "956    MCI\n",
      "957    MCI\n",
      "Name: Group, dtype: object\n",
      "MCI\n",
      "(166, 256, 256)\n"
     ]
    },
    {
     "name": "stderr",
     "output_type": "stream",
     "text": [
      "\r",
      " 90%|███████████████████████████████████████████████████████████████████████▋        | 738/823 [05:10<00:34,  2.44it/s]"
     ]
    },
    {
     "name": "stdout",
     "output_type": "stream",
     "text": [
      "\n",
      "933    CN\n",
      "934    CN\n",
      "935    CN\n",
      "936    CN\n",
      "937    CN\n",
      "938    CN\n",
      "939    CN\n",
      "940    CN\n",
      "941    CN\n",
      "942    CN\n",
      "943    CN\n",
      "944    CN\n",
      "945    CN\n",
      "946    CN\n",
      "947    CN\n",
      "948    CN\n",
      "949    CN\n",
      "950    CN\n",
      "Name: Group, dtype: object\n",
      "CN\n",
      "(166, 256, 256)\n"
     ]
    },
    {
     "name": "stderr",
     "output_type": "stream",
     "text": [
      "\r",
      " 90%|███████████████████████████████████████████████████████████████████████▊        | 739/823 [05:11<00:34,  2.44it/s]"
     ]
    },
    {
     "name": "stdout",
     "output_type": "stream",
     "text": [
      "\n",
      "915    CN\n",
      "916    CN\n",
      "917    CN\n",
      "918    CN\n",
      "919    CN\n",
      "920    CN\n",
      "921    CN\n",
      "922    CN\n",
      "923    CN\n",
      "924    CN\n",
      "925    CN\n",
      "926    CN\n",
      "927    CN\n",
      "928    CN\n",
      "929    CN\n",
      "930    CN\n",
      "931    CN\n",
      "932    CN\n",
      "Name: Group, dtype: object\n",
      "CN\n",
      "(166, 256, 256)\n"
     ]
    },
    {
     "name": "stderr",
     "output_type": "stream",
     "text": [
      "\r",
      " 90%|███████████████████████████████████████████████████████████████████████▉        | 740/823 [05:11<00:34,  2.38it/s]"
     ]
    },
    {
     "name": "stdout",
     "output_type": "stream",
     "text": [
      "\n",
      "897    CN\n",
      "898    CN\n",
      "899    CN\n",
      "900    CN\n",
      "901    CN\n",
      "902    CN\n",
      "903    CN\n",
      "904    CN\n",
      "905    CN\n",
      "906    CN\n",
      "907    CN\n",
      "908    CN\n",
      "909    CN\n",
      "910    CN\n",
      "911    CN\n",
      "912    CN\n",
      "913    CN\n",
      "914    CN\n",
      "Name: Group, dtype: object\n",
      "CN\n",
      "(166, 256, 256)\n"
     ]
    },
    {
     "name": "stderr",
     "output_type": "stream",
     "text": [
      "\r",
      " 90%|████████████████████████████████████████████████████████████████████████        | 741/823 [05:11<00:34,  2.35it/s]"
     ]
    },
    {
     "name": "stdout",
     "output_type": "stream",
     "text": [
      "\n",
      "877    CN\n",
      "878    CN\n",
      "879    CN\n",
      "880    CN\n",
      "881    CN\n",
      "882    CN\n",
      "883    CN\n",
      "884    CN\n",
      "885    CN\n",
      "886    CN\n",
      "887    CN\n",
      "888    CN\n",
      "889    CN\n",
      "890    CN\n",
      "891    CN\n",
      "892    CN\n",
      "893    CN\n",
      "894    CN\n",
      "895    CN\n",
      "896    CN\n",
      "Name: Group, dtype: object\n",
      "CN\n",
      "(166, 256, 256)\n"
     ]
    },
    {
     "name": "stderr",
     "output_type": "stream",
     "text": [
      "\r",
      " 90%|████████████████████████████████████████████████████████████████████████▏       | 742/823 [05:12<00:35,  2.27it/s]"
     ]
    },
    {
     "name": "stdout",
     "output_type": "stream",
     "text": [
      "\n",
      "862    MCI\n",
      "863    MCI\n",
      "864    MCI\n",
      "865    MCI\n",
      "866    MCI\n",
      "867    MCI\n",
      "868    MCI\n",
      "869    MCI\n",
      "870    MCI\n",
      "871    MCI\n",
      "872    MCI\n",
      "873    MCI\n",
      "874    MCI\n",
      "875    MCI\n",
      "876    MCI\n",
      "Name: Group, dtype: object\n",
      "MCI\n",
      "(166, 256, 256)\n"
     ]
    },
    {
     "name": "stderr",
     "output_type": "stream",
     "text": [
      "\r",
      " 90%|████████████████████████████████████████████████████████████████████████▏       | 743/823 [05:12<00:35,  2.26it/s]"
     ]
    },
    {
     "name": "stdout",
     "output_type": "stream",
     "text": [
      "\n",
      "847    MCI\n",
      "848    MCI\n",
      "849    MCI\n",
      "850    MCI\n",
      "851    MCI\n",
      "852    MCI\n",
      "853    MCI\n",
      "854    MCI\n",
      "855    MCI\n",
      "856    MCI\n",
      "857    MCI\n",
      "858    MCI\n",
      "859    MCI\n",
      "860    MCI\n",
      "861    MCI\n",
      "Name: Group, dtype: object\n",
      "MCI\n",
      "(166, 256, 256)\n"
     ]
    },
    {
     "name": "stderr",
     "output_type": "stream",
     "text": [
      "\r",
      " 90%|████████████████████████████████████████████████████████████████████████▎       | 744/823 [05:13<00:35,  2.20it/s]"
     ]
    },
    {
     "name": "stdout",
     "output_type": "stream",
     "text": [
      "\n",
      "829    MCI\n",
      "830    MCI\n",
      "831    MCI\n",
      "832    MCI\n",
      "833    MCI\n",
      "834    MCI\n",
      "835    MCI\n",
      "836    MCI\n",
      "837    MCI\n",
      "838    MCI\n",
      "839    MCI\n",
      "840    MCI\n",
      "841    MCI\n",
      "842    MCI\n",
      "843    MCI\n",
      "844    MCI\n",
      "845    MCI\n",
      "846    MCI\n",
      "Name: Group, dtype: object\n",
      "MCI\n",
      "(166, 256, 256)\n"
     ]
    },
    {
     "name": "stderr",
     "output_type": "stream",
     "text": [
      "\r",
      " 91%|████████████████████████████████████████████████████████████████████████▍       | 745/823 [05:13<00:35,  2.22it/s]"
     ]
    },
    {
     "name": "stdout",
     "output_type": "stream",
     "text": [
      "\n",
      "807    MCI\n",
      "808    MCI\n",
      "809    MCI\n",
      "810    MCI\n",
      "811    MCI\n",
      "812    MCI\n",
      "813    MCI\n",
      "814    MCI\n",
      "815    MCI\n",
      "816    MCI\n",
      "817    MCI\n",
      "818    MCI\n",
      "819    MCI\n",
      "820    MCI\n",
      "821    MCI\n",
      "822    MCI\n",
      "823    MCI\n",
      "824    MCI\n",
      "825    MCI\n",
      "826    MCI\n",
      "827    MCI\n",
      "828    MCI\n",
      "Name: Group, dtype: object\n",
      "MCI\n",
      "(166, 256, 256)\n"
     ]
    },
    {
     "name": "stderr",
     "output_type": "stream",
     "text": [
      "\r",
      " 91%|████████████████████████████████████████████████████████████████████████▌       | 746/823 [05:14<00:36,  2.12it/s]"
     ]
    },
    {
     "name": "stdout",
     "output_type": "stream",
     "text": [
      "\n",
      "789    MCI\n",
      "790    MCI\n",
      "791    MCI\n",
      "792    MCI\n",
      "793    MCI\n",
      "794    MCI\n",
      "795    MCI\n",
      "796    MCI\n",
      "797    MCI\n",
      "798    MCI\n",
      "799    MCI\n",
      "800    MCI\n",
      "801    MCI\n",
      "802    MCI\n",
      "803    MCI\n",
      "804    MCI\n",
      "805    MCI\n",
      "806    MCI\n",
      "Name: Group, dtype: object\n",
      "MCI\n",
      "(166, 256, 256)\n"
     ]
    },
    {
     "name": "stderr",
     "output_type": "stream",
     "text": [
      "\r",
      " 91%|████████████████████████████████████████████████████████████████████████▌       | 747/823 [05:14<00:36,  2.10it/s]"
     ]
    },
    {
     "name": "stdout",
     "output_type": "stream",
     "text": [
      "\n",
      "771    MCI\n",
      "772    MCI\n",
      "773    MCI\n",
      "774    MCI\n",
      "775    MCI\n",
      "776    MCI\n",
      "777    MCI\n",
      "778    MCI\n",
      "779    MCI\n",
      "780    MCI\n",
      "781    MCI\n",
      "782    MCI\n",
      "783    MCI\n",
      "784    MCI\n",
      "785    MCI\n",
      "786    MCI\n",
      "787    MCI\n",
      "788    MCI\n",
      "Name: Group, dtype: object\n",
      "MCI\n",
      "(166, 256, 256)\n"
     ]
    },
    {
     "name": "stderr",
     "output_type": "stream",
     "text": [
      "\r",
      " 91%|████████████████████████████████████████████████████████████████████████▋       | 748/823 [05:15<00:34,  2.17it/s]"
     ]
    },
    {
     "name": "stdout",
     "output_type": "stream",
     "text": [
      "\n",
      "753    MCI\n",
      "754    MCI\n",
      "755    MCI\n",
      "756    MCI\n",
      "757    MCI\n",
      "758    MCI\n",
      "759    MCI\n",
      "760    MCI\n",
      "761    MCI\n",
      "762    MCI\n",
      "763    MCI\n",
      "764    MCI\n",
      "765    MCI\n",
      "766    MCI\n",
      "767    MCI\n",
      "768    MCI\n",
      "769    MCI\n",
      "770    MCI\n",
      "Name: Group, dtype: object\n",
      "MCI\n",
      "(166, 256, 256)\n"
     ]
    },
    {
     "name": "stderr",
     "output_type": "stream",
     "text": [
      "\r",
      " 91%|████████████████████████████████████████████████████████████████████████▊       | 749/823 [05:15<00:34,  2.16it/s]"
     ]
    },
    {
     "name": "stdout",
     "output_type": "stream",
     "text": [
      "\n",
      "732    MCI\n",
      "733    MCI\n",
      "734    MCI\n",
      "735    MCI\n",
      "736    MCI\n",
      "737    MCI\n",
      "738    MCI\n",
      "739    MCI\n",
      "740    MCI\n",
      "741    MCI\n",
      "742    MCI\n",
      "743    MCI\n",
      "744    MCI\n",
      "745    MCI\n",
      "746    MCI\n",
      "747    MCI\n",
      "748    MCI\n",
      "749    MCI\n",
      "750    MCI\n",
      "751    MCI\n",
      "752    MCI\n",
      "Name: Group, dtype: object\n",
      "MCI\n",
      "(166, 256, 256)\n"
     ]
    },
    {
     "name": "stderr",
     "output_type": "stream",
     "text": [
      "\r",
      " 91%|████████████████████████████████████████████████████████████████████████▉       | 750/823 [05:16<00:36,  2.03it/s]"
     ]
    },
    {
     "name": "stdout",
     "output_type": "stream",
     "text": [
      "\n",
      "714    AD\n",
      "715    AD\n",
      "716    AD\n",
      "717    AD\n",
      "718    AD\n",
      "719    AD\n",
      "720    AD\n",
      "721    AD\n",
      "722    AD\n",
      "723    AD\n",
      "724    AD\n",
      "725    AD\n",
      "726    AD\n",
      "727    AD\n",
      "728    AD\n",
      "729    AD\n",
      "730    AD\n",
      "731    AD\n",
      "Name: Group, dtype: object\n",
      "AD\n",
      "(166, 256, 256)\n"
     ]
    },
    {
     "name": "stderr",
     "output_type": "stream",
     "text": [
      "\r",
      " 91%|█████████████████████████████████████████████████████████████████████████       | 751/823 [05:16<00:35,  2.04it/s]"
     ]
    },
    {
     "name": "stdout",
     "output_type": "stream",
     "text": [
      "\n",
      "692    AD\n",
      "693    AD\n",
      "694    AD\n",
      "695    AD\n",
      "696    AD\n",
      "697    AD\n",
      "698    AD\n",
      "699    AD\n",
      "700    AD\n",
      "701    AD\n",
      "702    AD\n",
      "703    AD\n",
      "704    AD\n",
      "705    AD\n",
      "706    AD\n",
      "707    AD\n",
      "708    AD\n",
      "709    AD\n",
      "710    AD\n",
      "711    AD\n",
      "712    AD\n",
      "713    AD\n",
      "Name: Group, dtype: object\n",
      "AD\n",
      "(166, 256, 256)\n"
     ]
    },
    {
     "name": "stderr",
     "output_type": "stream",
     "text": [
      "\r",
      " 91%|█████████████████████████████████████████████████████████████████████████       | 752/823 [05:17<00:34,  2.03it/s]"
     ]
    },
    {
     "name": "stdout",
     "output_type": "stream",
     "text": [
      "\n",
      "676    CN\n",
      "677    CN\n",
      "678    CN\n",
      "679    CN\n",
      "680    CN\n",
      "681    CN\n",
      "682    CN\n",
      "683    CN\n",
      "684    CN\n",
      "685    CN\n",
      "686    CN\n",
      "687    CN\n",
      "688    CN\n",
      "689    CN\n",
      "690    CN\n",
      "691    CN\n",
      "Name: Group, dtype: object\n",
      "CN\n",
      "(166, 256, 256)\n"
     ]
    },
    {
     "name": "stderr",
     "output_type": "stream",
     "text": [
      "\r",
      " 91%|█████████████████████████████████████████████████████████████████████████▏      | 753/823 [05:17<00:36,  1.93it/s]"
     ]
    },
    {
     "name": "stdout",
     "output_type": "stream",
     "text": [
      "\n",
      "666    MCI\n",
      "667    MCI\n",
      "668    MCI\n",
      "669    MCI\n",
      "670    MCI\n",
      "671    MCI\n",
      "672    MCI\n",
      "673    MCI\n",
      "674    MCI\n",
      "675    MCI\n",
      "Name: Group, dtype: object\n",
      "MCI\n",
      "(166, 256, 256)\n"
     ]
    },
    {
     "name": "stderr",
     "output_type": "stream",
     "text": [
      "\r",
      " 92%|█████████████████████████████████████████████████████████████████████████▎      | 754/823 [05:18<00:35,  1.95it/s]"
     ]
    },
    {
     "name": "stdout",
     "output_type": "stream",
     "text": [
      "\n",
      "650    CN\n",
      "651    CN\n",
      "652    CN\n",
      "653    CN\n",
      "654    CN\n",
      "655    CN\n",
      "656    CN\n",
      "657    CN\n",
      "658    CN\n",
      "659    CN\n",
      "660    CN\n",
      "661    CN\n",
      "662    CN\n",
      "663    CN\n",
      "664    CN\n",
      "665    CN\n",
      "Name: Group, dtype: object\n",
      "CN\n",
      "(166, 256, 256)\n"
     ]
    },
    {
     "name": "stderr",
     "output_type": "stream",
     "text": [
      "\r",
      " 92%|█████████████████████████████████████████████████████████████████████████▍      | 755/823 [05:18<00:33,  2.03it/s]"
     ]
    },
    {
     "name": "stdout",
     "output_type": "stream",
     "text": [
      "\n",
      "640    CN\n",
      "641    CN\n",
      "642    CN\n",
      "643    CN\n",
      "644    CN\n",
      "645    CN\n",
      "646    CN\n",
      "647    CN\n",
      "648    CN\n",
      "649    CN\n",
      "Name: Group, dtype: object\n",
      "CN\n",
      "(166, 256, 256)\n"
     ]
    },
    {
     "name": "stderr",
     "output_type": "stream",
     "text": [
      "\r",
      " 92%|█████████████████████████████████████████████████████████████████████████▍      | 756/823 [05:19<00:32,  2.05it/s]"
     ]
    },
    {
     "name": "stdout",
     "output_type": "stream",
     "text": [
      "\n",
      "624    AD\n",
      "625    AD\n",
      "626    AD\n",
      "627    AD\n",
      "628    AD\n",
      "629    AD\n",
      "630    AD\n",
      "631    AD\n",
      "632    AD\n",
      "633    AD\n",
      "634    AD\n",
      "635    AD\n",
      "636    AD\n",
      "637    AD\n",
      "638    AD\n",
      "639    AD\n",
      "Name: Group, dtype: object\n",
      "AD\n",
      "(166, 256, 256)\n"
     ]
    },
    {
     "name": "stderr",
     "output_type": "stream",
     "text": [
      "\r",
      " 92%|█████████████████████████████████████████████████████████████████████████▌      | 757/823 [05:19<00:31,  2.09it/s]"
     ]
    },
    {
     "name": "stdout",
     "output_type": "stream",
     "text": [
      "\n",
      "608    MCI\n",
      "609    MCI\n",
      "610    MCI\n",
      "611    MCI\n",
      "612    MCI\n",
      "613    MCI\n",
      "614    MCI\n",
      "615    MCI\n",
      "616    MCI\n",
      "617    MCI\n",
      "618    MCI\n",
      "619    MCI\n",
      "620    MCI\n",
      "621    MCI\n",
      "622    MCI\n",
      "623    MCI\n",
      "Name: Group, dtype: object\n",
      "MCI\n",
      "(166, 256, 256)\n"
     ]
    },
    {
     "name": "stderr",
     "output_type": "stream",
     "text": [
      "\r",
      " 92%|█████████████████████████████████████████████████████████████████████████▋      | 758/823 [05:20<00:29,  2.20it/s]"
     ]
    },
    {
     "name": "stdout",
     "output_type": "stream",
     "text": [
      "\n",
      "592    CN\n",
      "593    CN\n",
      "594    CN\n",
      "595    CN\n",
      "596    CN\n",
      "597    CN\n",
      "598    CN\n",
      "599    CN\n",
      "600    CN\n",
      "601    CN\n",
      "602    CN\n",
      "603    CN\n",
      "604    CN\n",
      "605    CN\n",
      "606    CN\n",
      "607    CN\n",
      "Name: Group, dtype: object\n",
      "CN\n",
      "(166, 256, 256)\n"
     ]
    },
    {
     "name": "stderr",
     "output_type": "stream",
     "text": [
      "\r",
      " 92%|█████████████████████████████████████████████████████████████████████████▊      | 759/823 [05:20<00:28,  2.26it/s]"
     ]
    },
    {
     "name": "stdout",
     "output_type": "stream",
     "text": [
      "\n",
      "576    AD\n",
      "577    AD\n",
      "578    AD\n",
      "579    AD\n",
      "580    AD\n",
      "581    AD\n",
      "582    AD\n",
      "583    AD\n",
      "584    AD\n",
      "585    AD\n",
      "586    AD\n",
      "587    AD\n",
      "588    AD\n",
      "589    AD\n",
      "590    AD\n",
      "591    AD\n",
      "Name: Group, dtype: object\n",
      "AD\n",
      "(166, 256, 256)\n"
     ]
    },
    {
     "name": "stderr",
     "output_type": "stream",
     "text": [
      "\r",
      " 92%|█████████████████████████████████████████████████████████████████████████▉      | 760/823 [05:20<00:27,  2.31it/s]"
     ]
    },
    {
     "name": "stdout",
     "output_type": "stream",
     "text": [
      "\n",
      "560    AD\n",
      "561    AD\n",
      "562    AD\n",
      "563    AD\n",
      "564    AD\n",
      "565    AD\n",
      "566    AD\n",
      "567    AD\n",
      "568    AD\n",
      "569    AD\n",
      "570    AD\n",
      "571    AD\n",
      "572    AD\n",
      "573    AD\n",
      "574    AD\n",
      "575    AD\n",
      "Name: Group, dtype: object\n",
      "AD\n",
      "(166, 256, 256)\n"
     ]
    },
    {
     "name": "stderr",
     "output_type": "stream",
     "text": [
      "\r",
      " 92%|█████████████████████████████████████████████████████████████████████████▉      | 761/823 [05:21<00:26,  2.37it/s]"
     ]
    },
    {
     "name": "stdout",
     "output_type": "stream",
     "text": [
      "\n",
      "544    AD\n",
      "545    AD\n",
      "546    AD\n",
      "547    AD\n",
      "548    AD\n",
      "549    AD\n",
      "550    AD\n",
      "551    AD\n",
      "552    AD\n",
      "553    AD\n",
      "554    AD\n",
      "555    AD\n",
      "556    AD\n",
      "557    AD\n",
      "558    AD\n",
      "559    AD\n",
      "Name: Group, dtype: object\n",
      "AD\n",
      "(166, 256, 256)\n"
     ]
    },
    {
     "name": "stderr",
     "output_type": "stream",
     "text": [
      "\r",
      " 93%|██████████████████████████████████████████████████████████████████████████      | 762/823 [05:21<00:26,  2.34it/s]"
     ]
    },
    {
     "name": "stdout",
     "output_type": "stream",
     "text": [
      "\n",
      "528    MCI\n",
      "529    MCI\n",
      "530    MCI\n",
      "531    MCI\n",
      "532    MCI\n",
      "533    MCI\n",
      "534    MCI\n",
      "535    MCI\n",
      "536    MCI\n",
      "537    MCI\n",
      "538    MCI\n",
      "539    MCI\n",
      "540    MCI\n",
      "541    MCI\n",
      "542    MCI\n",
      "543    MCI\n",
      "Name: Group, dtype: object\n",
      "MCI\n",
      "(166, 256, 256)\n"
     ]
    },
    {
     "name": "stderr",
     "output_type": "stream",
     "text": [
      "\r",
      " 93%|██████████████████████████████████████████████████████████████████████████▏     | 763/823 [05:22<00:25,  2.39it/s]"
     ]
    },
    {
     "name": "stdout",
     "output_type": "stream",
     "text": [
      "\n",
      "512    MCI\n",
      "513    MCI\n",
      "514    MCI\n",
      "515    MCI\n",
      "516    MCI\n",
      "517    MCI\n",
      "518    MCI\n",
      "519    MCI\n",
      "520    MCI\n",
      "521    MCI\n",
      "522    MCI\n",
      "523    MCI\n",
      "524    MCI\n",
      "525    MCI\n",
      "526    MCI\n",
      "527    MCI\n",
      "Name: Group, dtype: object\n",
      "MCI\n",
      "(166, 256, 256)\n"
     ]
    },
    {
     "name": "stderr",
     "output_type": "stream",
     "text": [
      "\r",
      " 93%|██████████████████████████████████████████████████████████████████████████▎     | 764/823 [05:22<00:24,  2.42it/s]"
     ]
    },
    {
     "name": "stdout",
     "output_type": "stream",
     "text": [
      "\n",
      "502    MCI\n",
      "503    MCI\n",
      "504    MCI\n",
      "505    MCI\n",
      "506    MCI\n",
      "507    MCI\n",
      "508    MCI\n",
      "509    MCI\n",
      "510    MCI\n",
      "511    MCI\n",
      "Name: Group, dtype: object\n",
      "MCI\n",
      "(166, 256, 256)\n"
     ]
    },
    {
     "name": "stderr",
     "output_type": "stream",
     "text": [
      "\r",
      " 93%|██████████████████████████████████████████████████████████████████████████▎     | 765/823 [05:23<00:24,  2.39it/s]"
     ]
    },
    {
     "name": "stdout",
     "output_type": "stream",
     "text": [
      "\n",
      "494    MCI\n",
      "495    MCI\n",
      "496    MCI\n",
      "497    MCI\n",
      "498    MCI\n",
      "499    MCI\n",
      "500    MCI\n",
      "501    MCI\n",
      "Name: Group, dtype: object\n",
      "MCI\n",
      "(166, 256, 256)\n"
     ]
    },
    {
     "name": "stderr",
     "output_type": "stream",
     "text": [
      "\r",
      " 93%|██████████████████████████████████████████████████████████████████████████▍     | 766/823 [05:23<00:23,  2.38it/s]"
     ]
    },
    {
     "name": "stdout",
     "output_type": "stream",
     "text": [
      "\n",
      "485    MCI\n",
      "486    MCI\n",
      "487    MCI\n",
      "488    MCI\n",
      "489    MCI\n",
      "490    MCI\n",
      "491    MCI\n",
      "492    MCI\n",
      "493    MCI\n",
      "Name: Group, dtype: object\n",
      "MCI\n",
      "(166, 256, 256)\n"
     ]
    },
    {
     "name": "stderr",
     "output_type": "stream",
     "text": [
      "\r",
      " 93%|██████████████████████████████████████████████████████████████████████████▌     | 767/823 [05:23<00:23,  2.39it/s]"
     ]
    },
    {
     "name": "stdout",
     "output_type": "stream",
     "text": [
      "\n",
      "470    MCI\n",
      "471    MCI\n",
      "472    MCI\n",
      "473    MCI\n",
      "474    MCI\n",
      "475    MCI\n",
      "476    MCI\n",
      "477    MCI\n",
      "478    MCI\n",
      "479    MCI\n",
      "480    MCI\n",
      "481    MCI\n",
      "482    MCI\n",
      "483    MCI\n",
      "484    MCI\n",
      "Name: Group, dtype: object\n",
      "MCI\n",
      "(166, 256, 256)\n"
     ]
    },
    {
     "name": "stderr",
     "output_type": "stream",
     "text": [
      "\r",
      " 93%|██████████████████████████████████████████████████████████████████████████▋     | 768/823 [05:24<00:22,  2.40it/s]"
     ]
    },
    {
     "name": "stdout",
     "output_type": "stream",
     "text": [
      "\n",
      "463    MCI\n",
      "464    MCI\n",
      "465    MCI\n",
      "466    MCI\n",
      "467    MCI\n",
      "468    MCI\n",
      "469    MCI\n",
      "Name: Group, dtype: object\n",
      "MCI\n",
      "(166, 256, 256)\n"
     ]
    },
    {
     "name": "stderr",
     "output_type": "stream",
     "text": [
      "\r",
      " 93%|██████████████████████████████████████████████████████████████████████████▊     | 769/823 [05:24<00:22,  2.40it/s]"
     ]
    },
    {
     "name": "stdout",
     "output_type": "stream",
     "text": [
      "\n",
      "455    CN\n",
      "456    CN\n",
      "457    CN\n",
      "458    CN\n",
      "459    CN\n",
      "460    CN\n",
      "461    CN\n",
      "462    CN\n",
      "Name: Group, dtype: object\n",
      "CN\n",
      "(166, 256, 256)\n"
     ]
    },
    {
     "name": "stderr",
     "output_type": "stream",
     "text": [
      "\r",
      " 94%|██████████████████████████████████████████████████████████████████████████▊     | 770/823 [05:25<00:21,  2.42it/s]"
     ]
    },
    {
     "name": "stdout",
     "output_type": "stream",
     "text": [
      "\n",
      "448    CN\n",
      "449    CN\n",
      "450    CN\n",
      "451    CN\n",
      "452    CN\n",
      "453    CN\n",
      "454    CN\n",
      "Name: Group, dtype: object\n",
      "CN\n",
      "(166, 256, 256)\n"
     ]
    },
    {
     "name": "stderr",
     "output_type": "stream",
     "text": [
      "\r",
      " 94%|██████████████████████████████████████████████████████████████████████████▉     | 771/823 [05:25<00:21,  2.47it/s]"
     ]
    },
    {
     "name": "stdout",
     "output_type": "stream",
     "text": [
      "\n",
      "441    AD\n",
      "442    AD\n",
      "443    AD\n",
      "444    AD\n",
      "445    AD\n",
      "446    AD\n",
      "447    AD\n",
      "Name: Group, dtype: object\n",
      "AD\n",
      "(166, 256, 256)\n"
     ]
    },
    {
     "name": "stderr",
     "output_type": "stream",
     "text": [
      "\r",
      " 94%|███████████████████████████████████████████████████████████████████████████     | 772/823 [05:25<00:20,  2.51it/s]"
     ]
    },
    {
     "name": "stdout",
     "output_type": "stream",
     "text": [
      "\n",
      "434    AD\n",
      "435    AD\n",
      "436    AD\n",
      "437    AD\n",
      "438    AD\n",
      "439    AD\n",
      "440    AD\n",
      "Name: Group, dtype: object\n",
      "AD\n",
      "(166, 256, 256)\n"
     ]
    },
    {
     "name": "stderr",
     "output_type": "stream",
     "text": [
      "\r",
      " 94%|███████████████████████████████████████████████████████████████████████████▏    | 773/823 [05:26<00:19,  2.54it/s]"
     ]
    },
    {
     "name": "stdout",
     "output_type": "stream",
     "text": [
      "\n",
      "427    MCI\n",
      "428    MCI\n",
      "429    MCI\n",
      "430    MCI\n",
      "431    MCI\n",
      "432    MCI\n",
      "433    MCI\n",
      "Name: Group, dtype: object\n",
      "MCI\n",
      "(166, 256, 256)\n"
     ]
    },
    {
     "name": "stderr",
     "output_type": "stream",
     "text": [
      "\r",
      " 94%|███████████████████████████████████████████████████████████████████████████▏    | 774/823 [05:26<00:19,  2.51it/s]"
     ]
    },
    {
     "name": "stdout",
     "output_type": "stream",
     "text": [
      "\n",
      "420    CN\n",
      "421    CN\n",
      "422    CN\n",
      "423    CN\n",
      "424    CN\n",
      "425    CN\n",
      "426    CN\n",
      "Name: Group, dtype: object\n",
      "CN\n",
      "(166, 256, 256)\n"
     ]
    },
    {
     "name": "stderr",
     "output_type": "stream",
     "text": [
      "\r",
      " 94%|███████████████████████████████████████████████████████████████████████████▎    | 775/823 [05:27<00:18,  2.57it/s]"
     ]
    },
    {
     "name": "stdout",
     "output_type": "stream",
     "text": [
      "\n",
      "413    MCI\n",
      "414    MCI\n",
      "415    MCI\n",
      "416    MCI\n",
      "417    MCI\n",
      "418    MCI\n",
      "419    MCI\n",
      "Name: Group, dtype: object\n",
      "MCI\n",
      "(166, 256, 256)\n"
     ]
    },
    {
     "name": "stderr",
     "output_type": "stream",
     "text": [
      "\r",
      " 94%|███████████████████████████████████████████████████████████████████████████▍    | 776/823 [05:27<00:18,  2.59it/s]"
     ]
    },
    {
     "name": "stdout",
     "output_type": "stream",
     "text": [
      "\n",
      "406    MCI\n",
      "407    MCI\n",
      "408    MCI\n",
      "409    MCI\n",
      "410    MCI\n",
      "411    MCI\n",
      "412    MCI\n",
      "Name: Group, dtype: object\n",
      "MCI\n",
      "(166, 256, 256)\n"
     ]
    },
    {
     "name": "stderr",
     "output_type": "stream",
     "text": [
      "\r",
      " 94%|███████████████████████████████████████████████████████████████████████████▌    | 777/823 [05:27<00:17,  2.57it/s]"
     ]
    },
    {
     "name": "stdout",
     "output_type": "stream",
     "text": [
      "\n",
      "399    MCI\n",
      "400    MCI\n",
      "401    MCI\n",
      "402    MCI\n",
      "403    MCI\n",
      "404    MCI\n",
      "405    MCI\n",
      "Name: Group, dtype: object\n",
      "MCI\n",
      "(166, 256, 256)\n"
     ]
    },
    {
     "name": "stderr",
     "output_type": "stream",
     "text": [
      "\r",
      " 95%|███████████████████████████████████████████████████████████████████████████▋    | 778/823 [05:28<00:18,  2.47it/s]"
     ]
    },
    {
     "name": "stdout",
     "output_type": "stream",
     "text": [
      "\n",
      "392    MCI\n",
      "393    MCI\n",
      "394    MCI\n",
      "395    MCI\n",
      "396    MCI\n",
      "397    MCI\n",
      "398    MCI\n",
      "Name: Group, dtype: object\n",
      "MCI\n",
      "(166, 256, 256)\n"
     ]
    },
    {
     "name": "stderr",
     "output_type": "stream",
     "text": [
      "\r",
      " 95%|███████████████████████████████████████████████████████████████████████████▋    | 779/823 [05:28<00:17,  2.45it/s]"
     ]
    },
    {
     "name": "stdout",
     "output_type": "stream",
     "text": [
      "\n",
      "385    CN\n",
      "386    CN\n",
      "387    CN\n",
      "388    CN\n",
      "389    CN\n",
      "390    CN\n",
      "391    CN\n",
      "Name: Group, dtype: object\n",
      "CN\n",
      "(166, 256, 256)\n"
     ]
    },
    {
     "name": "stderr",
     "output_type": "stream",
     "text": [
      "\r",
      " 95%|███████████████████████████████████████████████████████████████████████████▊    | 780/823 [05:29<00:17,  2.44it/s]"
     ]
    },
    {
     "name": "stdout",
     "output_type": "stream",
     "text": [
      "\n",
      "378    MCI\n",
      "379    MCI\n",
      "380    MCI\n",
      "381    MCI\n",
      "382    MCI\n",
      "383    MCI\n",
      "384    MCI\n",
      "Name: Group, dtype: object\n",
      "MCI\n",
      "(166, 256, 256)\n"
     ]
    },
    {
     "name": "stderr",
     "output_type": "stream",
     "text": [
      "\r",
      " 95%|███████████████████████████████████████████████████████████████████████████▉    | 781/823 [05:29<00:17,  2.44it/s]"
     ]
    },
    {
     "name": "stdout",
     "output_type": "stream",
     "text": [
      "\n",
      "371    AD\n",
      "372    AD\n",
      "373    AD\n",
      "374    AD\n",
      "375    AD\n",
      "376    AD\n",
      "377    AD\n",
      "Name: Group, dtype: object\n",
      "AD\n",
      "(166, 256, 256)\n"
     ]
    },
    {
     "name": "stderr",
     "output_type": "stream",
     "text": [
      "\r",
      " 95%|████████████████████████████████████████████████████████████████████████████    | 782/823 [05:29<00:17,  2.40it/s]"
     ]
    },
    {
     "name": "stdout",
     "output_type": "stream",
     "text": [
      "\n",
      "364    MCI\n",
      "365    MCI\n",
      "366    MCI\n",
      "367    MCI\n",
      "368    MCI\n",
      "369    MCI\n",
      "370    MCI\n",
      "Name: Group, dtype: object\n",
      "MCI\n",
      "(166, 256, 256)\n"
     ]
    },
    {
     "name": "stderr",
     "output_type": "stream",
     "text": [
      "\r",
      " 95%|████████████████████████████████████████████████████████████████████████████    | 783/823 [05:30<00:16,  2.41it/s]"
     ]
    },
    {
     "name": "stdout",
     "output_type": "stream",
     "text": [
      "\n",
      "357    MCI\n",
      "358    MCI\n",
      "359    MCI\n",
      "360    MCI\n",
      "361    MCI\n",
      "362    MCI\n",
      "363    MCI\n",
      "Name: Group, dtype: object\n",
      "MCI\n",
      "(166, 256, 256)\n"
     ]
    },
    {
     "name": "stderr",
     "output_type": "stream",
     "text": [
      "\r",
      " 95%|████████████████████████████████████████████████████████████████████████████▏   | 784/823 [05:30<00:16,  2.39it/s]"
     ]
    },
    {
     "name": "stdout",
     "output_type": "stream",
     "text": [
      "\n",
      "350    AD\n",
      "351    AD\n",
      "352    AD\n",
      "353    AD\n",
      "354    AD\n",
      "355    AD\n",
      "356    AD\n",
      "Name: Group, dtype: object\n",
      "AD\n",
      "(166, 256, 256)\n"
     ]
    },
    {
     "name": "stderr",
     "output_type": "stream",
     "text": [
      "\r",
      " 95%|████████████████████████████████████████████████████████████████████████████▎   | 785/823 [05:31<00:15,  2.41it/s]"
     ]
    },
    {
     "name": "stdout",
     "output_type": "stream",
     "text": [
      "\n",
      "343    CN\n",
      "344    CN\n",
      "345    CN\n",
      "346    CN\n",
      "347    CN\n",
      "348    CN\n",
      "349    CN\n",
      "Name: Group, dtype: object\n",
      "CN\n",
      "(166, 256, 256)\n"
     ]
    },
    {
     "name": "stderr",
     "output_type": "stream",
     "text": [
      "\r",
      " 96%|████████████████████████████████████████████████████████████████████████████▍   | 786/823 [05:31<00:15,  2.43it/s]"
     ]
    },
    {
     "name": "stdout",
     "output_type": "stream",
     "text": [
      "\n",
      "336    MCI\n",
      "337    MCI\n",
      "338    MCI\n",
      "339    MCI\n",
      "340    MCI\n",
      "341    MCI\n",
      "342    MCI\n",
      "Name: Group, dtype: object\n",
      "MCI\n",
      "(166, 256, 256)\n"
     ]
    },
    {
     "name": "stderr",
     "output_type": "stream",
     "text": [
      "\r",
      " 96%|████████████████████████████████████████████████████████████████████████████▌   | 787/823 [05:31<00:14,  2.47it/s]"
     ]
    },
    {
     "name": "stdout",
     "output_type": "stream",
     "text": [
      "\n",
      "329    MCI\n",
      "330    MCI\n",
      "331    MCI\n",
      "332    MCI\n",
      "333    MCI\n",
      "334    MCI\n",
      "335    MCI\n",
      "Name: Group, dtype: object\n",
      "MCI\n",
      "(166, 256, 256)\n"
     ]
    },
    {
     "name": "stderr",
     "output_type": "stream",
     "text": [
      "\r",
      " 96%|████████████████████████████████████████████████████████████████████████████▌   | 788/823 [05:32<00:14,  2.46it/s]"
     ]
    },
    {
     "name": "stdout",
     "output_type": "stream",
     "text": [
      "\n",
      "322    AD\n",
      "323    AD\n",
      "324    AD\n",
      "325    AD\n",
      "326    AD\n",
      "327    AD\n",
      "328    AD\n",
      "Name: Group, dtype: object\n",
      "AD\n",
      "(166, 256, 256)\n"
     ]
    },
    {
     "name": "stderr",
     "output_type": "stream",
     "text": [
      "\r",
      " 96%|████████████████████████████████████████████████████████████████████████████▋   | 789/823 [05:32<00:13,  2.52it/s]"
     ]
    },
    {
     "name": "stdout",
     "output_type": "stream",
     "text": [
      "\n",
      "315    MCI\n",
      "316    MCI\n",
      "317    MCI\n",
      "318    MCI\n",
      "319    MCI\n",
      "320    MCI\n",
      "321    MCI\n",
      "Name: Group, dtype: object\n",
      "MCI\n",
      "(166, 256, 256)\n"
     ]
    },
    {
     "name": "stderr",
     "output_type": "stream",
     "text": [
      "\r",
      " 96%|████████████████████████████████████████████████████████████████████████████▊   | 790/823 [05:33<00:12,  2.56it/s]"
     ]
    },
    {
     "name": "stdout",
     "output_type": "stream",
     "text": [
      "\n",
      "308    MCI\n",
      "309    MCI\n",
      "310    MCI\n",
      "311    MCI\n",
      "312    MCI\n",
      "313    MCI\n",
      "314    MCI\n",
      "Name: Group, dtype: object\n",
      "MCI\n",
      "(166, 256, 256)\n"
     ]
    },
    {
     "name": "stderr",
     "output_type": "stream",
     "text": [
      "\r",
      " 96%|████████████████████████████████████████████████████████████████████████████▉   | 791/823 [05:33<00:12,  2.52it/s]"
     ]
    },
    {
     "name": "stdout",
     "output_type": "stream",
     "text": [
      "\n",
      "299    AD\n",
      "300    AD\n",
      "301    AD\n",
      "302    AD\n",
      "303    AD\n",
      "304    AD\n",
      "305    AD\n",
      "306    AD\n",
      "307    AD\n",
      "Name: Group, dtype: object\n",
      "AD\n",
      "(166, 256, 256)\n"
     ]
    },
    {
     "name": "stderr",
     "output_type": "stream",
     "text": [
      "\r",
      " 96%|████████████████████████████████████████████████████████████████████████████▉   | 792/823 [05:33<00:12,  2.54it/s]"
     ]
    },
    {
     "name": "stdout",
     "output_type": "stream",
     "text": [
      "\n",
      "290    AD\n",
      "291    AD\n",
      "292    AD\n",
      "293    AD\n",
      "294    AD\n",
      "295    AD\n",
      "296    AD\n",
      "297    AD\n",
      "298    AD\n",
      "Name: Group, dtype: object\n",
      "AD\n",
      "(166, 256, 256)\n"
     ]
    },
    {
     "name": "stderr",
     "output_type": "stream",
     "text": [
      "\r",
      " 96%|█████████████████████████████████████████████████████████████████████████████   | 793/823 [05:34<00:11,  2.54it/s]"
     ]
    },
    {
     "name": "stdout",
     "output_type": "stream",
     "text": [
      "\n",
      "281    MCI\n",
      "282    MCI\n",
      "283    MCI\n",
      "284    MCI\n",
      "285    MCI\n",
      "286    MCI\n",
      "287    MCI\n",
      "288    MCI\n",
      "289    MCI\n",
      "Name: Group, dtype: object\n",
      "MCI\n",
      "(166, 256, 256)\n"
     ]
    },
    {
     "name": "stderr",
     "output_type": "stream",
     "text": [
      "\r",
      " 96%|█████████████████████████████████████████████████████████████████████████████▏  | 794/823 [05:34<00:11,  2.58it/s]"
     ]
    },
    {
     "name": "stdout",
     "output_type": "stream",
     "text": [
      "\n",
      "272    CN\n",
      "273    CN\n",
      "274    CN\n",
      "275    CN\n",
      "276    CN\n",
      "277    CN\n",
      "278    CN\n",
      "279    CN\n",
      "280    CN\n",
      "Name: Group, dtype: object\n",
      "CN\n",
      "(166, 256, 256)\n"
     ]
    },
    {
     "name": "stderr",
     "output_type": "stream",
     "text": [
      "\r",
      " 97%|█████████████████████████████████████████████████████████████████████████████▎  | 795/823 [05:35<00:11,  2.50it/s]"
     ]
    },
    {
     "name": "stdout",
     "output_type": "stream",
     "text": [
      "\n",
      "256    CN\n",
      "257    CN\n",
      "258    CN\n",
      "259    CN\n",
      "260    CN\n",
      "261    CN\n",
      "262    CN\n",
      "263    CN\n",
      "264    CN\n",
      "Name: Group, dtype: object\n",
      "CN\n",
      "(166, 256, 256)\n"
     ]
    },
    {
     "name": "stderr",
     "output_type": "stream",
     "text": [
      "\r",
      " 97%|█████████████████████████████████████████████████████████████████████████████▍  | 796/823 [05:35<00:10,  2.49it/s]"
     ]
    },
    {
     "name": "stdout",
     "output_type": "stream",
     "text": [
      "\n",
      "247    AD\n",
      "248    AD\n",
      "249    AD\n",
      "250    AD\n",
      "251    AD\n",
      "252    AD\n",
      "253    AD\n",
      "254    AD\n",
      "255    AD\n",
      "Name: Group, dtype: object\n",
      "AD\n",
      "(166, 256, 256)\n"
     ]
    },
    {
     "name": "stderr",
     "output_type": "stream",
     "text": [
      "\r",
      " 97%|█████████████████████████████████████████████████████████████████████████████▍  | 797/823 [05:35<00:10,  2.48it/s]"
     ]
    },
    {
     "name": "stdout",
     "output_type": "stream",
     "text": [
      "\n",
      "238    CN\n",
      "239    CN\n",
      "240    CN\n",
      "241    CN\n",
      "242    CN\n",
      "243    CN\n",
      "244    CN\n",
      "245    CN\n",
      "246    CN\n",
      "Name: Group, dtype: object\n",
      "CN\n",
      "(166, 256, 256)\n"
     ]
    },
    {
     "name": "stderr",
     "output_type": "stream",
     "text": [
      "\r",
      " 97%|█████████████████████████████████████████████████████████████████████████████▌  | 798/823 [05:36<00:10,  2.45it/s]"
     ]
    },
    {
     "name": "stdout",
     "output_type": "stream",
     "text": [
      "\n",
      "229    MCI\n",
      "230    MCI\n",
      "231    MCI\n",
      "232    MCI\n",
      "233    MCI\n",
      "234    MCI\n",
      "235    MCI\n",
      "236    MCI\n",
      "237    MCI\n",
      "Name: Group, dtype: object\n",
      "MCI\n",
      "(166, 256, 256)\n"
     ]
    },
    {
     "name": "stderr",
     "output_type": "stream",
     "text": [
      "\r",
      " 97%|█████████████████████████████████████████████████████████████████████████████▋  | 799/823 [05:36<00:09,  2.45it/s]"
     ]
    },
    {
     "name": "stdout",
     "output_type": "stream",
     "text": [
      "\n",
      "220    AD\n",
      "221    AD\n",
      "222    AD\n",
      "223    AD\n",
      "224    AD\n",
      "225    AD\n",
      "226    AD\n",
      "227    AD\n",
      "228    AD\n",
      "Name: Group, dtype: object\n",
      "AD\n",
      "(166, 256, 256)\n"
     ]
    },
    {
     "name": "stderr",
     "output_type": "stream",
     "text": [
      "\r",
      " 97%|█████████████████████████████████████████████████████████████████████████████▊  | 800/823 [05:37<00:09,  2.43it/s]"
     ]
    },
    {
     "name": "stdout",
     "output_type": "stream",
     "text": [
      "\n",
      "211    AD\n",
      "212    AD\n",
      "213    AD\n",
      "214    AD\n",
      "215    AD\n",
      "216    AD\n",
      "217    AD\n",
      "218    AD\n",
      "219    AD\n",
      "Name: Group, dtype: object\n",
      "AD\n",
      "(166, 256, 256)\n"
     ]
    },
    {
     "name": "stderr",
     "output_type": "stream",
     "text": [
      "\r",
      " 97%|█████████████████████████████████████████████████████████████████████████████▊  | 801/823 [05:37<00:09,  2.44it/s]"
     ]
    },
    {
     "name": "stdout",
     "output_type": "stream",
     "text": [
      "\n",
      "193    MCI\n",
      "194    MCI\n",
      "195    MCI\n",
      "196    MCI\n",
      "197    MCI\n",
      "198    MCI\n",
      "199    MCI\n",
      "200    MCI\n",
      "201    MCI\n",
      "202    MCI\n",
      "203    MCI\n",
      "204    MCI\n",
      "205    MCI\n",
      "206    MCI\n",
      "207    MCI\n",
      "208    MCI\n",
      "209    MCI\n",
      "210    MCI\n",
      "Name: Group, dtype: object\n",
      "MCI\n",
      "(166, 256, 256)\n"
     ]
    },
    {
     "name": "stderr",
     "output_type": "stream",
     "text": [
      "\r",
      " 97%|█████████████████████████████████████████████████████████████████████████████▉  | 802/823 [05:37<00:08,  2.44it/s]"
     ]
    },
    {
     "name": "stdout",
     "output_type": "stream",
     "text": [
      "\n",
      "184    MCI\n",
      "185    MCI\n",
      "186    MCI\n",
      "187    MCI\n",
      "188    MCI\n",
      "189    MCI\n",
      "190    MCI\n",
      "191    MCI\n",
      "192    MCI\n",
      "Name: Group, dtype: object\n",
      "MCI\n",
      "(166, 256, 256)\n"
     ]
    },
    {
     "name": "stderr",
     "output_type": "stream",
     "text": [
      "\r",
      " 98%|██████████████████████████████████████████████████████████████████████████████  | 803/823 [05:38<00:08,  2.42it/s]"
     ]
    },
    {
     "name": "stdout",
     "output_type": "stream",
     "text": [
      "\n",
      "177    MCI\n",
      "178    MCI\n",
      "179    MCI\n",
      "180    MCI\n",
      "181    MCI\n",
      "182    MCI\n",
      "183    MCI\n",
      "Name: Group, dtype: object\n",
      "MCI\n",
      "(166, 256, 256)\n"
     ]
    },
    {
     "name": "stderr",
     "output_type": "stream",
     "text": [
      "\r",
      " 98%|██████████████████████████████████████████████████████████████████████████████▏ | 804/823 [05:38<00:07,  2.41it/s]"
     ]
    },
    {
     "name": "stdout",
     "output_type": "stream",
     "text": [
      "\n",
      "168    AD\n",
      "169    AD\n",
      "170    AD\n",
      "171    AD\n",
      "172    AD\n",
      "173    AD\n",
      "174    AD\n",
      "175    AD\n",
      "176    AD\n",
      "Name: Group, dtype: object\n",
      "AD\n",
      "(166, 256, 256)\n"
     ]
    },
    {
     "name": "stderr",
     "output_type": "stream",
     "text": [
      "\r",
      " 98%|██████████████████████████████████████████████████████████████████████████████▎ | 805/823 [05:39<00:07,  2.45it/s]"
     ]
    },
    {
     "name": "stdout",
     "output_type": "stream",
     "text": [
      "\n",
      "159    MCI\n",
      "160    MCI\n",
      "161    MCI\n",
      "162    MCI\n",
      "163    MCI\n",
      "164    MCI\n",
      "165    MCI\n",
      "166    MCI\n",
      "167    MCI\n",
      "Name: Group, dtype: object\n",
      "MCI\n",
      "(166, 256, 256)\n"
     ]
    },
    {
     "name": "stderr",
     "output_type": "stream",
     "text": [
      "\r",
      " 98%|██████████████████████████████████████████████████████████████████████████████▎ | 806/823 [05:39<00:07,  2.43it/s]"
     ]
    },
    {
     "name": "stdout",
     "output_type": "stream",
     "text": [
      "\n",
      "150    MCI\n",
      "151    MCI\n",
      "152    MCI\n",
      "153    MCI\n",
      "154    MCI\n",
      "155    MCI\n",
      "156    MCI\n",
      "157    MCI\n",
      "158    MCI\n",
      "Name: Group, dtype: object\n",
      "MCI\n",
      "(166, 256, 256)\n"
     ]
    },
    {
     "name": "stderr",
     "output_type": "stream",
     "text": [
      "\r",
      " 98%|██████████████████████████████████████████████████████████████████████████████▍ | 807/823 [05:40<00:06,  2.41it/s]"
     ]
    },
    {
     "name": "stdout",
     "output_type": "stream",
     "text": [
      "\n",
      "141    CN\n",
      "142    CN\n",
      "143    CN\n",
      "144    CN\n",
      "145    CN\n",
      "146    CN\n",
      "147    CN\n",
      "148    CN\n",
      "149    CN\n",
      "Name: Group, dtype: object\n",
      "CN\n",
      "(166, 256, 256)\n"
     ]
    },
    {
     "name": "stderr",
     "output_type": "stream",
     "text": [
      "\r",
      " 98%|██████████████████████████████████████████████████████████████████████████████▌ | 808/823 [05:40<00:06,  2.45it/s]"
     ]
    },
    {
     "name": "stdout",
     "output_type": "stream",
     "text": [
      "\n",
      "132    AD\n",
      "133    AD\n",
      "134    AD\n",
      "135    AD\n",
      "136    AD\n",
      "137    AD\n",
      "138    AD\n",
      "139    AD\n",
      "140    AD\n",
      "Name: Group, dtype: object\n",
      "AD\n",
      "(166, 256, 256)\n"
     ]
    },
    {
     "name": "stderr",
     "output_type": "stream",
     "text": [
      "\r",
      " 98%|██████████████████████████████████████████████████████████████████████████████▋ | 809/823 [05:40<00:05,  2.51it/s]"
     ]
    },
    {
     "name": "stdout",
     "output_type": "stream",
     "text": [
      "\n",
      "123    AD\n",
      "124    AD\n",
      "125    AD\n",
      "126    AD\n",
      "127    AD\n",
      "128    AD\n",
      "129    AD\n",
      "130    AD\n",
      "131    AD\n",
      "Name: Group, dtype: object\n",
      "AD\n",
      "(166, 256, 256)\n"
     ]
    },
    {
     "name": "stderr",
     "output_type": "stream",
     "text": [
      "\r",
      " 98%|██████████████████████████████████████████████████████████████████████████████▋ | 810/823 [05:41<00:05,  2.56it/s]"
     ]
    },
    {
     "name": "stdout",
     "output_type": "stream",
     "text": [
      "\n",
      "114    MCI\n",
      "115    MCI\n",
      "116    MCI\n",
      "117    MCI\n",
      "118    MCI\n",
      "119    MCI\n",
      "120    MCI\n",
      "121    MCI\n",
      "122    MCI\n",
      "Name: Group, dtype: object\n",
      "MCI\n",
      "(166, 256, 256)\n"
     ]
    },
    {
     "name": "stderr",
     "output_type": "stream",
     "text": [
      "\r",
      " 99%|██████████████████████████████████████████████████████████████████████████████▊ | 811/823 [05:41<00:04,  2.56it/s]"
     ]
    },
    {
     "name": "stdout",
     "output_type": "stream",
     "text": [
      "\n",
      "105    MCI\n",
      "106    MCI\n",
      "107    MCI\n",
      "108    MCI\n",
      "109    MCI\n",
      "110    MCI\n",
      "111    MCI\n",
      "112    MCI\n",
      "113    MCI\n",
      "Name: Group, dtype: object\n",
      "MCI\n",
      "(166, 256, 256)\n"
     ]
    },
    {
     "name": "stderr",
     "output_type": "stream",
     "text": [
      "\r",
      " 99%|██████████████████████████████████████████████████████████████████████████████▉ | 812/823 [05:41<00:04,  2.56it/s]"
     ]
    },
    {
     "name": "stdout",
     "output_type": "stream",
     "text": [
      "\n",
      "96     MCI\n",
      "97     MCI\n",
      "98     MCI\n",
      "99     MCI\n",
      "100    MCI\n",
      "101    MCI\n",
      "102    MCI\n",
      "103    MCI\n",
      "104    MCI\n",
      "Name: Group, dtype: object\n",
      "MCI\n",
      "(166, 256, 256)\n"
     ]
    },
    {
     "name": "stderr",
     "output_type": "stream",
     "text": [
      "\r",
      " 99%|███████████████████████████████████████████████████████████████████████████████ | 813/823 [05:42<00:03,  2.56it/s]"
     ]
    },
    {
     "name": "stdout",
     "output_type": "stream",
     "text": [
      "\n",
      "87    MCI\n",
      "88    MCI\n",
      "89    MCI\n",
      "90    MCI\n",
      "91    MCI\n",
      "92    MCI\n",
      "93    MCI\n",
      "94    MCI\n",
      "95    MCI\n",
      "Name: Group, dtype: object\n",
      "MCI\n",
      "(166, 256, 256)\n"
     ]
    },
    {
     "name": "stderr",
     "output_type": "stream",
     "text": [
      "\r",
      " 99%|███████████████████████████████████████████████████████████████████████████████▏| 814/823 [05:42<00:03,  2.56it/s]"
     ]
    },
    {
     "name": "stdout",
     "output_type": "stream",
     "text": [
      "\n",
      "77    MCI\n",
      "78    MCI\n",
      "79    MCI\n",
      "80    MCI\n",
      "81    MCI\n",
      "82    MCI\n",
      "83    MCI\n",
      "84    MCI\n",
      "85    MCI\n",
      "86    MCI\n",
      "Name: Group, dtype: object\n",
      "MCI\n",
      "(166, 256, 256)\n"
     ]
    },
    {
     "name": "stderr",
     "output_type": "stream",
     "text": [
      "\r",
      " 99%|███████████████████████████████████████████████████████████████████████████████▏| 815/823 [05:43<00:03,  2.53it/s]"
     ]
    },
    {
     "name": "stdout",
     "output_type": "stream",
     "text": [
      "\n",
      "64    CN\n",
      "65    CN\n",
      "66    CN\n",
      "67    CN\n",
      "68    CN\n",
      "69    CN\n",
      "70    CN\n",
      "71    CN\n",
      "72    CN\n",
      "73    CN\n",
      "74    CN\n",
      "75    CN\n",
      "76    CN\n",
      "Name: Group, dtype: object\n",
      "CN\n",
      "(166, 256, 256)\n"
     ]
    },
    {
     "name": "stderr",
     "output_type": "stream",
     "text": [
      "\r",
      " 99%|███████████████████████████████████████████████████████████████████████████████▎| 816/823 [05:43<00:02,  2.54it/s]"
     ]
    },
    {
     "name": "stdout",
     "output_type": "stream",
     "text": [
      "\n",
      "54    CN\n",
      "55    CN\n",
      "56    CN\n",
      "57    CN\n",
      "58    CN\n",
      "59    CN\n",
      "60    CN\n",
      "61    CN\n",
      "62    CN\n",
      "63    CN\n",
      "Name: Group, dtype: object\n",
      "CN\n",
      "(166, 256, 256)\n"
     ]
    },
    {
     "name": "stderr",
     "output_type": "stream",
     "text": [
      "\r",
      " 99%|███████████████████████████████████████████████████████████████████████████████▍| 817/823 [05:43<00:02,  2.58it/s]"
     ]
    },
    {
     "name": "stdout",
     "output_type": "stream",
     "text": [
      "\n",
      "45    CN\n",
      "46    CN\n",
      "47    CN\n",
      "48    CN\n",
      "49    CN\n",
      "50    CN\n",
      "51    CN\n",
      "52    CN\n",
      "53    CN\n",
      "Name: Group, dtype: object\n",
      "CN\n",
      "(166, 256, 256)\n"
     ]
    },
    {
     "name": "stderr",
     "output_type": "stream",
     "text": [
      "\r",
      " 99%|███████████████████████████████████████████████████████████████████████████████▌| 818/823 [05:44<00:01,  2.57it/s]"
     ]
    },
    {
     "name": "stdout",
     "output_type": "stream",
     "text": [
      "\n",
      "36    CN\n",
      "37    CN\n",
      "38    CN\n",
      "39    CN\n",
      "40    CN\n",
      "41    CN\n",
      "42    CN\n",
      "43    CN\n",
      "44    CN\n",
      "Name: Group, dtype: object\n",
      "CN\n",
      "(166, 256, 256)\n"
     ]
    },
    {
     "name": "stderr",
     "output_type": "stream",
     "text": [
      "\r",
      "100%|███████████████████████████████████████████████████████████████████████████████▌| 819/823 [05:44<00:01,  2.60it/s]"
     ]
    },
    {
     "name": "stdout",
     "output_type": "stream",
     "text": [
      "\n",
      "27    CN\n",
      "28    CN\n",
      "29    CN\n",
      "30    CN\n",
      "31    CN\n",
      "32    CN\n",
      "33    CN\n",
      "34    CN\n",
      "35    CN\n",
      "Name: Group, dtype: object\n",
      "CN\n",
      "(166, 256, 256)\n"
     ]
    },
    {
     "name": "stderr",
     "output_type": "stream",
     "text": [
      "\r",
      "100%|███████████████████████████████████████████████████████████████████████████████▋| 820/823 [05:45<00:01,  2.50it/s]"
     ]
    },
    {
     "name": "stdout",
     "output_type": "stream",
     "text": [
      "\n",
      "18    MCI\n",
      "19    MCI\n",
      "20    MCI\n",
      "21    MCI\n",
      "22    MCI\n",
      "23    MCI\n",
      "24    MCI\n",
      "25    MCI\n",
      "26    MCI\n",
      "Name: Group, dtype: object\n",
      "MCI\n",
      "(166, 256, 256)\n"
     ]
    },
    {
     "name": "stderr",
     "output_type": "stream",
     "text": [
      "\r",
      "100%|███████████████████████████████████████████████████████████████████████████████▊| 821/823 [05:45<00:00,  2.46it/s]"
     ]
    },
    {
     "name": "stdout",
     "output_type": "stream",
     "text": [
      "\n",
      "9     MCI\n",
      "10    MCI\n",
      "11    MCI\n",
      "12    MCI\n",
      "13    MCI\n",
      "14    MCI\n",
      "15    MCI\n",
      "16    MCI\n",
      "17    MCI\n",
      "Name: Group, dtype: object\n",
      "MCI\n",
      "(166, 256, 256)\n"
     ]
    },
    {
     "name": "stderr",
     "output_type": "stream",
     "text": [
      "\r",
      "100%|███████████████████████████████████████████████████████████████████████████████▉| 822/823 [05:45<00:00,  2.40it/s]"
     ]
    },
    {
     "name": "stdout",
     "output_type": "stream",
     "text": [
      "\n",
      "0    MCI\n",
      "1    MCI\n",
      "2    MCI\n",
      "3    MCI\n",
      "4    MCI\n",
      "5    MCI\n",
      "6    MCI\n",
      "7    MCI\n",
      "8    MCI\n",
      "Name: Group, dtype: object\n",
      "MCI\n",
      "(166, 256, 256)\n"
     ]
    },
    {
     "name": "stderr",
     "output_type": "stream",
     "text": [
      "100%|████████████████████████████████████████████████████████████████████████████████| 823/823 [05:46<00:00,  2.42it/s]\n"
     ]
    }
   ],
   "source": [
    "img_tot = []\n",
    "y = []\n",
    "try:\n",
    "    os.makedirs('ADNI1_PROC')\n",
    "except:\n",
    "    print(\"Already Created\")\n",
    "count_AD = 0\n",
    "count_CN = 0\n",
    "count_MCI = 0\n",
    "for data_img in tqdm(dati_img[2:]):\n",
    "    if 'nii' in str(data_img):\n",
    "        sitk_t1 = sitk.ReadImage(IMG_Folder + data_img)\n",
    "        #print(sitk_t1.GetDirection())\n",
    "        #t2 = sitk.Resample(sitk_t1, reference_image, transform,interpolator, default_value)\n",
    "        t1 = sitk.GetArrayFromImage(sitk_t1)\n",
    "        \n",
    "        print()\n",
    "        if Comp == 'FabioPC':\n",
    "            Subject = df.loc[df['Subject'] == '_'.join(data_img.split('_')[1:4])]['Group'].values[0]\n",
    "            Subject_txt = df.loc[df['Subject'] == '_'.join(data_img.split('_')[1:4])]['Group']\n",
    "            print(Subject_txt)\n",
    "        else:\n",
    "            Subject = df.loc[df['Subject'] == '_'.join(data_img.split('_')[2:5])]['Group'].values[0]\n",
    "            Subject_txt = df.loc[df['Subject'] == '_'.join(data_img.split('_')[2:5])]['Group']\n",
    "            print(Subject_txt)\n",
    "        print(Subject)\n",
    "        if Subject=='CN':\n",
    "            count_CN += 1\n",
    "        else:\n",
    "            if Subject=='AD':\n",
    "                count_AD +=1\n",
    "            else:\n",
    "                count_MCI +=1\n",
    "        # Seleziono solamente 200 MCI per bilanciare le classi\n",
    "        if (Subject == 'MCI') and (count_MCI <200):\n",
    "            img_tot.append(t1)\n",
    "            y.append(Subject)\n",
    "        if (Subject in ['AD', 'CN']):\n",
    "            img_tot.append(t1)\n",
    "            y.append(Subject)\n",
    "        #sitk.WriteImage(t2,'ADNI1_PROC/'+ str(data_img))\n",
    "\n",
    "        print(t1.shape)"
   ]
  },
  {
   "cell_type": "code",
   "execution_count": 18,
   "metadata": {},
   "outputs": [],
   "source": [
    "N = len(img_tot)\n",
    "num_chunks = N+1\n",
    "chunks = np.linspace(0, N, num_chunks)"
   ]
  },
  {
   "cell_type": "code",
   "execution_count": 19,
   "metadata": {},
   "outputs": [],
   "source": [
    "chunks = [int(chunk) for chunk in chunks]"
   ]
  },
  {
   "cell_type": "code",
   "execution_count": null,
   "metadata": {},
   "outputs": [],
   "source": []
  },
  {
   "cell_type": "code",
   "execution_count": 20,
   "metadata": {},
   "outputs": [
    {
     "name": "stdout",
     "output_type": "stream",
     "text": [
      "Già creata\n"
     ]
    }
   ],
   "source": [
    "try:\n",
    "    if Comp == 'FabioPC':\n",
    "        os.makedirs('/media/fabio/Disco locale/Fabio/Programmazione/Python/Poliambulanza/Alzheimer/Dati/ADNI/ADNI_Prova/H5Corrette')\n",
    "    else:\n",
    "        os.makedirs('D:/ADNI/Dati/ADNI_T1/ADNI1_T1/ADNI_Registrate/H5Corrette')\n",
    "except:\n",
    "    print('Già creata')"
   ]
  },
  {
   "cell_type": "code",
   "execution_count": 21,
   "metadata": {},
   "outputs": [
    {
     "name": "stderr",
     "output_type": "stream",
     "text": [
      "C:\\ProgramData\\Anaconda3\\lib\\site-packages\\sklearn\\preprocessing\\_encoders.py:371: FutureWarning: The handling of integer data will change in version 0.22. Currently, the categories are determined based on the range [0, max(values)], while in the future they will be determined based on the unique values.\n",
      "If you want the future behaviour and silence this warning, you can specify \"categories='auto'\".\n",
      "In case you used a LabelEncoder before this OneHotEncoder to convert the categories to integers, then you can now use the OneHotEncoder directly.\n",
      "  warnings.warn(msg, FutureWarning)\n"
     ]
    }
   ],
   "source": [
    "label = y\n",
    "    \n",
    "label = label_encoder.fit_transform(label)\n",
    "enc = OneHotEncoder()\n",
    "\n",
    "# 2. FIT\n",
    "enc.fit(label.reshape(-1, 1))\n",
    "\n",
    "# 3. Transform\n",
    "label = enc.transform(label.reshape(-1, 1)).toarray()"
   ]
  },
  {
   "cell_type": "code",
   "execution_count": 22,
   "metadata": {},
   "outputs": [
    {
     "data": {
      "text/plain": [
       "array([[0., 1., 0.],\n",
       "       [0., 1., 0.],\n",
       "       [0., 1., 0.],\n",
       "       ...,\n",
       "       [0., 1., 0.],\n",
       "       [0., 1., 0.],\n",
       "       [0., 1., 0.]])"
      ]
     },
     "execution_count": 22,
     "metadata": {},
     "output_type": "execute_result"
    }
   ],
   "source": [
    "label"
   ]
  },
  {
   "cell_type": "code",
   "execution_count": 23,
   "metadata": {
    "scrolled": true
   },
   "outputs": [
    {
     "name": "stdout",
     "output_type": "stream",
     "text": [
      "0\n",
      "[0. 1. 0.]\n",
      "1\n",
      "[0. 1. 0.]\n",
      "2\n",
      "[0. 1. 0.]\n",
      "3\n",
      "[0. 1. 0.]\n",
      "4\n",
      "[0. 0. 1.]\n",
      "5\n",
      "[0. 0. 1.]\n",
      "6\n",
      "[1. 0. 0.]\n",
      "7\n",
      "[1. 0. 0.]\n",
      "8\n",
      "[0. 0. 1.]\n",
      "9\n",
      "[1. 0. 0.]\n",
      "10\n",
      "[1. 0. 0.]\n",
      "11\n",
      "[0. 0. 1.]\n",
      "12\n",
      "[0. 0. 1.]\n",
      "13\n",
      "[0. 1. 0.]\n",
      "14\n",
      "[0. 0. 1.]\n",
      "15\n",
      "[0. 1. 0.]\n",
      "16\n",
      "[0. 1. 0.]\n",
      "17\n",
      "[0. 0. 1.]\n",
      "18\n",
      "[0. 1. 0.]\n",
      "19\n",
      "[0. 1. 0.]\n",
      "20\n",
      "[0. 1. 0.]\n",
      "21\n",
      "[0. 0. 1.]\n",
      "22\n",
      "[1. 0. 0.]\n",
      "23\n",
      "[0. 0. 1.]\n",
      "24\n",
      "[0. 0. 1.]\n",
      "25\n",
      "[1. 0. 0.]\n",
      "26\n",
      "[1. 0. 0.]\n",
      "27\n",
      "[0. 0. 1.]\n",
      "28\n",
      "[0. 1. 0.]\n",
      "29\n",
      "[0. 0. 1.]\n",
      "30\n",
      "[0. 0. 1.]\n",
      "31\n",
      "[0. 0. 1.]\n",
      "32\n",
      "[0. 1. 0.]\n",
      "33\n",
      "[0. 0. 1.]\n",
      "34\n",
      "[0. 1. 0.]\n",
      "35\n",
      "[0. 1. 0.]\n",
      "36\n",
      "[1. 0. 0.]\n",
      "37\n",
      "[1. 0. 0.]\n",
      "38\n",
      "[0. 0. 1.]\n",
      "39\n",
      "[1. 0. 0.]\n",
      "40\n",
      "[0. 0. 1.]\n",
      "41\n",
      "[0. 1. 0.]\n",
      "42\n",
      "[0. 1. 0.]\n",
      "43\n",
      "[0. 0. 1.]\n",
      "44\n",
      "[1. 0. 0.]\n",
      "45\n",
      "[1. 0. 0.]\n",
      "46\n",
      "[0. 0. 1.]\n",
      "47\n",
      "[0. 1. 0.]\n",
      "48\n",
      "[0. 1. 0.]\n",
      "49\n",
      "[0. 0. 1.]\n",
      "50\n",
      "[0. 0. 1.]\n",
      "51\n",
      "[0. 1. 0.]\n",
      "52\n",
      "[0. 1. 0.]\n",
      "53\n",
      "[0. 0. 1.]\n",
      "54\n",
      "[0. 0. 1.]\n",
      "55\n",
      "[0. 0. 1.]\n",
      "56\n",
      "[0. 0. 1.]\n",
      "57\n",
      "[1. 0. 0.]\n",
      "58\n",
      "[0. 0. 1.]\n",
      "59\n",
      "[0. 0. 1.]\n",
      "60\n",
      "[0. 0. 1.]\n",
      "61\n",
      "[0. 1. 0.]\n",
      "62\n",
      "[0. 1. 0.]\n",
      "63\n",
      "[1. 0. 0.]\n",
      "64\n",
      "[1. 0. 0.]\n",
      "65\n",
      "[1. 0. 0.]\n",
      "66\n",
      "[0. 1. 0.]\n",
      "67\n",
      "[0. 1. 0.]\n",
      "68\n",
      "[0. 1. 0.]\n",
      "69\n",
      "[0. 0. 1.]\n",
      "70\n",
      "[0. 0. 1.]\n",
      "71\n",
      "[1. 0. 0.]\n",
      "72\n",
      "[0. 1. 0.]\n",
      "73\n",
      "[0. 0. 1.]\n",
      "74\n",
      "[0. 1. 0.]\n",
      "75\n",
      "[0. 1. 0.]\n",
      "76\n",
      "[0. 0. 1.]\n",
      "77\n",
      "[0. 1. 0.]\n",
      "78\n",
      "[0. 0. 1.]\n",
      "79\n",
      "[1. 0. 0.]\n",
      "80\n",
      "[0. 0. 1.]\n",
      "81\n",
      "[1. 0. 0.]\n",
      "82\n",
      "[0. 0. 1.]\n",
      "83\n",
      "[0. 1. 0.]\n",
      "84\n",
      "[1. 0. 0.]\n",
      "85\n",
      "[0. 1. 0.]\n",
      "86\n",
      "[0. 1. 0.]\n",
      "87\n",
      "[1. 0. 0.]\n",
      "88\n",
      "[0. 1. 0.]\n",
      "89\n",
      "[0. 1. 0.]\n",
      "90\n",
      "[0. 1. 0.]\n",
      "91\n",
      "[0. 1. 0.]\n",
      "92\n",
      "[1. 0. 0.]\n",
      "93\n",
      "[0. 0. 1.]\n",
      "94\n",
      "[1. 0. 0.]\n",
      "95\n",
      "[0. 0. 1.]\n",
      "96\n",
      "[0. 0. 1.]\n",
      "97\n",
      "[0. 0. 1.]\n",
      "98\n",
      "[0. 0. 1.]\n",
      "99\n",
      "[0. 0. 1.]\n",
      "100\n",
      "[0. 0. 1.]\n",
      "101\n",
      "[0. 0. 1.]\n",
      "102\n",
      "[0. 0. 1.]\n",
      "103\n",
      "[0. 1. 0.]\n",
      "104\n",
      "[1. 0. 0.]\n",
      "105\n",
      "[1. 0. 0.]\n",
      "106\n",
      "[1. 0. 0.]\n",
      "107\n",
      "[1. 0. 0.]\n",
      "108\n",
      "[0. 0. 1.]\n",
      "109\n",
      "[0. 0. 1.]\n",
      "110\n",
      "[0. 1. 0.]\n",
      "111\n",
      "[0. 0. 1.]\n",
      "112\n",
      "[0. 1. 0.]\n",
      "113\n",
      "[0. 0. 1.]\n",
      "114\n",
      "[0. 0. 1.]\n",
      "115\n",
      "[0. 1. 0.]\n",
      "116\n",
      "[0. 0. 1.]\n",
      "117\n",
      "[0. 0. 1.]\n",
      "118\n",
      "[0. 0. 1.]\n",
      "119\n",
      "[0. 0. 1.]\n",
      "120\n",
      "[0. 1. 0.]\n",
      "121\n",
      "[0. 1. 0.]\n",
      "122\n",
      "[1. 0. 0.]\n",
      "123\n",
      "[1. 0. 0.]\n",
      "124\n",
      "[0. 0. 1.]\n",
      "125\n",
      "[1. 0. 0.]\n",
      "126\n",
      "[0. 1. 0.]\n",
      "127\n",
      "[0. 0. 1.]\n",
      "128\n",
      "[1. 0. 0.]\n",
      "129\n",
      "[0. 0. 1.]\n",
      "130\n",
      "[1. 0. 0.]\n",
      "131\n",
      "[0. 0. 1.]\n",
      "132\n",
      "[0. 1. 0.]\n",
      "133\n",
      "[0. 0. 1.]\n",
      "134\n",
      "[1. 0. 0.]\n",
      "135\n",
      "[1. 0. 0.]\n",
      "136\n",
      "[1. 0. 0.]\n",
      "137\n",
      "[0. 1. 0.]\n",
      "138\n",
      "[0. 1. 0.]\n",
      "139\n",
      "[0. 1. 0.]\n",
      "140\n",
      "[0. 0. 1.]\n",
      "141\n",
      "[0. 1. 0.]\n",
      "142\n",
      "[0. 0. 1.]\n",
      "143\n",
      "[0. 0. 1.]\n",
      "144\n",
      "[1. 0. 0.]\n",
      "145\n",
      "[0. 0. 1.]\n",
      "146\n",
      "[0. 1. 0.]\n",
      "147\n",
      "[0. 1. 0.]\n",
      "148\n",
      "[0. 0. 1.]\n",
      "149\n",
      "[0. 0. 1.]\n",
      "150\n",
      "[0. 0. 1.]\n",
      "151\n",
      "[1. 0. 0.]\n",
      "152\n",
      "[0. 0. 1.]\n",
      "153\n",
      "[0. 0. 1.]\n",
      "154\n",
      "[0. 0. 1.]\n",
      "155\n",
      "[0. 0. 1.]\n",
      "156\n",
      "[0. 0. 1.]\n",
      "157\n",
      "[0. 0. 1.]\n",
      "158\n",
      "[1. 0. 0.]\n",
      "159\n",
      "[0. 0. 1.]\n",
      "160\n",
      "[0. 1. 0.]\n",
      "161\n",
      "[0. 0. 1.]\n",
      "162\n",
      "[0. 0. 1.]\n",
      "163\n",
      "[0. 0. 1.]\n",
      "164\n",
      "[0. 0. 1.]\n",
      "165\n",
      "[0. 0. 1.]\n",
      "166\n",
      "[0. 0. 1.]\n",
      "167\n",
      "[1. 0. 0.]\n",
      "168\n",
      "[1. 0. 0.]\n",
      "169\n",
      "[1. 0. 0.]\n",
      "170\n",
      "[0. 1. 0.]\n",
      "171\n",
      "[0. 0. 1.]\n",
      "172\n",
      "[0. 1. 0.]\n",
      "173\n",
      "[0. 0. 1.]\n",
      "174\n",
      "[1. 0. 0.]\n",
      "175\n",
      "[1. 0. 0.]\n",
      "176\n",
      "[0. 1. 0.]\n",
      "177\n",
      "[1. 0. 0.]\n",
      "178\n",
      "[0. 1. 0.]\n",
      "179\n",
      "[0. 1. 0.]\n",
      "180\n",
      "[0. 1. 0.]\n",
      "181\n",
      "[0. 0. 1.]\n",
      "182\n",
      "[0. 1. 0.]\n",
      "183\n",
      "[0. 0. 1.]\n",
      "184\n",
      "[0. 0. 1.]\n",
      "185\n",
      "[0. 0. 1.]\n",
      "186\n",
      "[0. 0. 1.]\n",
      "187\n",
      "[0. 0. 1.]\n",
      "188\n",
      "[0. 1. 0.]\n",
      "189\n",
      "[1. 0. 0.]\n",
      "190\n",
      "[0. 0. 1.]\n",
      "191\n",
      "[0. 0. 1.]\n",
      "192\n",
      "[1. 0. 0.]\n",
      "193\n",
      "[0. 1. 0.]\n",
      "194\n",
      "[1. 0. 0.]\n",
      "195\n",
      "[0. 1. 0.]\n",
      "196\n",
      "[1. 0. 0.]\n",
      "197\n",
      "[0. 0. 1.]\n",
      "198\n",
      "[1. 0. 0.]\n",
      "199\n",
      "[0. 1. 0.]\n",
      "200\n",
      "[0. 0. 1.]\n",
      "201\n",
      "[0. 1. 0.]\n",
      "202\n",
      "[0. 1. 0.]\n",
      "203\n",
      "[1. 0. 0.]\n",
      "204\n",
      "[0. 1. 0.]\n",
      "205\n",
      "[1. 0. 0.]\n",
      "206\n",
      "[1. 0. 0.]\n",
      "207\n",
      "[0. 0. 1.]\n",
      "208\n",
      "[0. 0. 1.]\n",
      "209\n",
      "[0. 0. 1.]\n",
      "210\n",
      "[0. 0. 1.]\n",
      "211\n",
      "[0. 0. 1.]\n",
      "212\n",
      "[0. 0. 1.]\n",
      "213\n",
      "[0. 0. 1.]\n",
      "214\n",
      "[0. 0. 1.]\n",
      "215\n",
      "[0. 0. 1.]\n",
      "216\n",
      "[0. 1. 0.]\n",
      "217\n",
      "[0. 0. 1.]\n",
      "218\n",
      "[0. 1. 0.]\n",
      "219\n",
      "[0. 1. 0.]\n",
      "220\n",
      "[0. 1. 0.]\n",
      "221\n",
      "[1. 0. 0.]\n",
      "222\n",
      "[1. 0. 0.]\n",
      "223\n",
      "[1. 0. 0.]\n",
      "224\n",
      "[0. 0. 1.]\n",
      "225\n",
      "[1. 0. 0.]\n",
      "226\n",
      "[0. 0. 1.]\n",
      "227\n",
      "[0. 0. 1.]\n",
      "228\n",
      "[0. 0. 1.]\n",
      "229\n",
      "[0. 0. 1.]\n",
      "230\n",
      "[0. 0. 1.]\n",
      "231\n",
      "[0. 0. 1.]\n",
      "232\n",
      "[0. 0. 1.]\n",
      "233\n",
      "[0. 0. 1.]\n",
      "234\n",
      "[1. 0. 0.]\n",
      "235\n",
      "[0. 1. 0.]\n",
      "236\n",
      "[0. 1. 0.]\n",
      "237\n",
      "[0. 0. 1.]\n",
      "238\n",
      "[0. 0. 1.]\n",
      "239\n",
      "[0. 0. 1.]\n",
      "240\n",
      "[0. 1. 0.]\n",
      "241\n",
      "[0. 0. 1.]\n",
      "242\n",
      "[1. 0. 0.]\n",
      "243\n",
      "[1. 0. 0.]\n",
      "244\n",
      "[0. 1. 0.]\n",
      "245\n",
      "[0. 1. 0.]\n",
      "246\n",
      "[0. 1. 0.]\n",
      "247\n",
      "[1. 0. 0.]\n",
      "248\n",
      "[1. 0. 0.]\n",
      "249\n",
      "[0. 0. 1.]\n",
      "250\n",
      "[0. 0. 1.]\n",
      "251\n",
      "[0. 0. 1.]\n",
      "252\n",
      "[0. 1. 0.]\n",
      "253\n",
      "[0. 0. 1.]\n",
      "254\n",
      "[0. 0. 1.]\n",
      "255\n",
      "[0. 0. 1.]\n",
      "256\n",
      "[0. 1. 0.]\n",
      "257\n",
      "[1. 0. 0.]\n",
      "258\n",
      "[0. 0. 1.]\n",
      "259\n",
      "[0. 0. 1.]\n",
      "260\n",
      "[0. 0. 1.]\n",
      "261\n",
      "[0. 0. 1.]\n",
      "262\n",
      "[0. 0. 1.]\n",
      "263\n",
      "[0. 0. 1.]\n",
      "264\n",
      "[1. 0. 0.]\n",
      "265\n",
      "[0. 0. 1.]\n",
      "266\n",
      "[0. 0. 1.]\n",
      "267\n",
      "[1. 0. 0.]\n",
      "268\n",
      "[1. 0. 0.]\n",
      "269\n",
      "[0. 0. 1.]\n",
      "270\n",
      "[1. 0. 0.]\n",
      "271\n",
      "[0. 0. 1.]\n",
      "272\n",
      "[0. 0. 1.]\n",
      "273\n",
      "[1. 0. 0.]\n",
      "274\n",
      "[0. 0. 1.]\n",
      "275\n",
      "[0. 1. 0.]\n",
      "276\n",
      "[1. 0. 0.]\n",
      "277\n",
      "[0. 1. 0.]\n",
      "278\n",
      "[0. 1. 0.]\n",
      "279\n",
      "[0. 1. 0.]\n",
      "280\n",
      "[0. 0. 1.]\n",
      "281\n",
      "[0. 0. 1.]\n",
      "282\n",
      "[0. 0. 1.]\n",
      "283\n",
      "[1. 0. 0.]\n",
      "284\n",
      "[0. 0. 1.]\n",
      "285\n",
      "[1. 0. 0.]\n",
      "286\n",
      "[0. 0. 1.]\n",
      "287\n",
      "[1. 0. 0.]\n",
      "288\n",
      "[0. 0. 1.]\n",
      "289\n",
      "[0. 0. 1.]\n",
      "290\n",
      "[0. 0. 1.]\n",
      "291\n",
      "[0. 0. 1.]\n",
      "292\n",
      "[1. 0. 0.]\n",
      "293\n",
      "[0. 0. 1.]\n",
      "294\n",
      "[1. 0. 0.]\n",
      "295\n",
      "[0. 0. 1.]\n",
      "296\n",
      "[0. 1. 0.]\n",
      "297\n",
      "[1. 0. 0.]\n",
      "298\n",
      "[0. 0. 1.]\n",
      "299\n",
      "[0. 0. 1.]\n",
      "300\n",
      "[0. 0. 1.]\n",
      "301\n",
      "[0. 0. 1.]\n",
      "302\n",
      "[1. 0. 0.]\n",
      "303\n",
      "[0. 1. 0.]\n",
      "304\n",
      "[1. 0. 0.]\n",
      "305\n",
      "[0. 0. 1.]\n",
      "306\n",
      "[0. 0. 1.]\n",
      "307\n",
      "[1. 0. 0.]\n",
      "308\n",
      "[0. 1. 0.]\n",
      "309\n",
      "[0. 1. 0.]\n",
      "310\n",
      "[0. 0. 1.]\n",
      "311\n",
      "[0. 0. 1.]\n",
      "312\n",
      "[1. 0. 0.]\n",
      "313\n",
      "[1. 0. 0.]\n",
      "314\n",
      "[0. 1. 0.]\n",
      "315\n",
      "[0. 0. 1.]\n",
      "316\n",
      "[0. 0. 1.]\n",
      "317\n",
      "[0. 0. 1.]\n",
      "318\n",
      "[0. 1. 0.]\n",
      "319\n",
      "[0. 0. 1.]\n",
      "320\n",
      "[0. 0. 1.]\n",
      "321\n",
      "[1. 0. 0.]\n",
      "322\n",
      "[0. 0. 1.]\n",
      "323\n",
      "[1. 0. 0.]\n",
      "324\n",
      "[0. 1. 0.]\n",
      "325\n",
      "[1. 0. 0.]\n",
      "326\n",
      "[0. 1. 0.]\n",
      "327\n",
      "[1. 0. 0.]\n",
      "328\n",
      "[1. 0. 0.]\n",
      "329\n",
      "[0. 0. 1.]\n",
      "330\n",
      "[0. 1. 0.]\n",
      "331\n",
      "[0. 0. 1.]\n",
      "332\n",
      "[0. 1. 0.]\n",
      "333\n",
      "[0. 1. 0.]\n",
      "334\n",
      "[0. 1. 0.]\n",
      "335\n",
      "[1. 0. 0.]\n",
      "336\n",
      "[0. 1. 0.]\n",
      "337\n",
      "[0. 0. 1.]\n",
      "338\n",
      "[0. 0. 1.]\n",
      "339\n",
      "[1. 0. 0.]\n",
      "340\n",
      "[1. 0. 0.]\n",
      "341\n",
      "[0. 0. 1.]\n",
      "342\n",
      "[1. 0. 0.]\n",
      "343\n",
      "[1. 0. 0.]\n",
      "344\n",
      "[0. 0. 1.]\n",
      "345\n",
      "[0. 0. 1.]\n",
      "346\n",
      "[0. 1. 0.]\n",
      "347\n",
      "[0. 1. 0.]\n",
      "348\n",
      "[0. 0. 1.]\n",
      "349\n",
      "[0. 0. 1.]\n",
      "350\n",
      "[1. 0. 0.]\n",
      "351\n",
      "[0. 1. 0.]\n",
      "352\n",
      "[0. 0. 1.]\n",
      "353\n",
      "[0. 1. 0.]\n",
      "354\n",
      "[1. 0. 0.]\n",
      "355\n",
      "[0. 0. 1.]\n",
      "356\n",
      "[0. 1. 0.]\n",
      "357\n",
      "[0. 0. 1.]\n",
      "358\n",
      "[0. 0. 1.]\n",
      "359\n",
      "[1. 0. 0.]\n",
      "360\n",
      "[1. 0. 0.]\n",
      "361\n",
      "[0. 1. 0.]\n",
      "362\n",
      "[0. 0. 1.]\n",
      "363\n",
      "[0. 0. 1.]\n",
      "364\n",
      "[0. 0. 1.]\n",
      "365\n",
      "[1. 0. 0.]\n",
      "366\n",
      "[0. 1. 0.]\n",
      "367\n",
      "[0. 0. 1.]\n",
      "368\n",
      "[0. 0. 1.]\n",
      "369\n",
      "[0. 0. 1.]\n",
      "370\n",
      "[0. 0. 1.]\n",
      "371\n",
      "[0. 1. 0.]\n",
      "372\n",
      "[0. 1. 0.]\n",
      "373\n",
      "[0. 0. 1.]\n",
      "374\n",
      "[0. 1. 0.]\n",
      "375\n",
      "[0. 1. 0.]\n",
      "376\n",
      "[0. 0. 1.]\n",
      "377\n",
      "[0. 0. 1.]\n",
      "378\n",
      "[0. 0. 1.]\n",
      "379\n",
      "[0. 0. 1.]\n",
      "380\n",
      "[0. 0. 1.]\n",
      "381\n",
      "[1. 0. 0.]\n",
      "382\n",
      "[0. 0. 1.]\n",
      "383\n",
      "[0. 0. 1.]\n",
      "384\n",
      "[0. 0. 1.]\n",
      "385\n",
      "[0. 1. 0.]\n",
      "386\n",
      "[0. 1. 0.]\n",
      "387\n",
      "[0. 0. 1.]\n",
      "388\n",
      "[0. 0. 1.]\n",
      "389\n",
      "[0. 0. 1.]\n",
      "390\n",
      "[0. 0. 1.]\n",
      "391\n",
      "[0. 0. 1.]\n",
      "392\n",
      "[0. 0. 1.]\n",
      "393\n",
      "[0. 0. 1.]\n",
      "394\n",
      "[0. 0. 1.]\n",
      "395\n",
      "[0. 1. 0.]\n",
      "396\n",
      "[0. 1. 0.]\n",
      "397\n",
      "[0. 0. 1.]\n",
      "398\n",
      "[0. 0. 1.]\n",
      "399\n",
      "[1. 0. 0.]\n",
      "400\n",
      "[1. 0. 0.]\n",
      "401\n",
      "[0. 0. 1.]\n",
      "402\n",
      "[0. 0. 1.]\n",
      "403\n",
      "[0. 0. 1.]\n",
      "404\n",
      "[0. 0. 1.]\n",
      "405\n",
      "[1. 0. 0.]\n",
      "406\n",
      "[0. 1. 0.]\n",
      "407\n",
      "[1. 0. 0.]\n",
      "408\n",
      "[0. 1. 0.]\n",
      "409\n",
      "[0. 1. 0.]\n",
      "410\n",
      "[0. 1. 0.]\n",
      "411\n",
      "[1. 0. 0.]\n",
      "412\n",
      "[1. 0. 0.]\n",
      "413\n",
      "[0. 1. 0.]\n",
      "414\n",
      "[0. 1. 0.]\n",
      "415\n",
      "[0. 1. 0.]\n",
      "416\n",
      "[0. 1. 0.]\n",
      "417\n",
      "[1. 0. 0.]\n",
      "418\n",
      "[1. 0. 0.]\n",
      "419\n",
      "[1. 0. 0.]\n",
      "420\n",
      "[1. 0. 0.]\n",
      "421\n",
      "[0. 1. 0.]\n",
      "422\n",
      "[1. 0. 0.]\n",
      "423\n",
      "[1. 0. 0.]\n",
      "424\n",
      "[0. 1. 0.]\n",
      "425\n",
      "[1. 0. 0.]\n",
      "426\n",
      "[0. 1. 0.]\n",
      "427\n",
      "[0. 1. 0.]\n",
      "428\n",
      "[1. 0. 0.]\n",
      "429\n",
      "[0. 1. 0.]\n",
      "430\n",
      "[1. 0. 0.]\n",
      "431\n",
      "[0. 1. 0.]\n",
      "432\n",
      "[0. 1. 0.]\n",
      "433\n",
      "[1. 0. 0.]\n",
      "434\n",
      "[1. 0. 0.]\n",
      "435\n",
      "[0. 1. 0.]\n",
      "436\n",
      "[0. 1. 0.]\n",
      "437\n",
      "[1. 0. 0.]\n",
      "438\n",
      "[1. 0. 0.]\n",
      "439\n",
      "[1. 0. 0.]\n",
      "440\n",
      "[1. 0. 0.]\n",
      "441\n",
      "[1. 0. 0.]\n",
      "442\n",
      "[0. 1. 0.]\n",
      "443\n",
      "[0. 1. 0.]\n",
      "444\n",
      "[0. 1. 0.]\n",
      "445\n",
      "[0. 1. 0.]\n",
      "446\n",
      "[0. 1. 0.]\n",
      "447\n",
      "[0. 1. 0.]\n",
      "448\n",
      "[0. 1. 0.]\n",
      "449\n",
      "[0. 1. 0.]\n",
      "450\n",
      "[0. 1. 0.]\n",
      "451\n",
      "[1. 0. 0.]\n",
      "452\n",
      "[1. 0. 0.]\n",
      "453\n",
      "[0. 1. 0.]\n",
      "454\n",
      "[0. 1. 0.]\n",
      "455\n",
      "[0. 1. 0.]\n",
      "456\n",
      "[0. 1. 0.]\n",
      "457\n",
      "[1. 0. 0.]\n",
      "458\n",
      "[0. 1. 0.]\n",
      "459\n",
      "[1. 0. 0.]\n",
      "460\n",
      "[0. 1. 0.]\n",
      "461\n",
      "[0. 1. 0.]\n",
      "462\n",
      "[0. 1. 0.]\n",
      "463\n",
      "[0. 1. 0.]\n",
      "464\n",
      "[1. 0. 0.]\n",
      "465\n",
      "[1. 0. 0.]\n",
      "466\n",
      "[1. 0. 0.]\n",
      "467\n",
      "[1. 0. 0.]\n",
      "468\n",
      "[0. 1. 0.]\n",
      "469\n",
      "[0. 1. 0.]\n",
      "470\n",
      "[1. 0. 0.]\n",
      "471\n",
      "[1. 0. 0.]\n",
      "472\n",
      "[1. 0. 0.]\n",
      "473\n",
      "[0. 1. 0.]\n",
      "474\n",
      "[0. 1. 0.]\n",
      "475\n",
      "[1. 0. 0.]\n",
      "476\n",
      "[0. 1. 0.]\n",
      "477\n",
      "[0. 1. 0.]\n",
      "478\n",
      "[0. 1. 0.]\n",
      "479\n",
      "[0. 1. 0.]\n",
      "480\n",
      "[1. 0. 0.]\n",
      "481\n",
      "[0. 1. 0.]\n",
      "482\n",
      "[0. 1. 0.]\n",
      "483\n",
      "[0. 1. 0.]\n",
      "484\n",
      "[0. 1. 0.]\n",
      "485\n",
      "[1. 0. 0.]\n",
      "486\n",
      "[1. 0. 0.]\n",
      "487\n",
      "[1. 0. 0.]\n",
      "488\n",
      "[1. 0. 0.]\n",
      "489\n",
      "[0. 1. 0.]\n",
      "490\n",
      "[1. 0. 0.]\n",
      "491\n",
      "[0. 1. 0.]\n",
      "492\n",
      "[0. 1. 0.]\n",
      "493\n",
      "[0. 1. 0.]\n",
      "494\n",
      "[0. 1. 0.]\n",
      "495\n",
      "[0. 1. 0.]\n",
      "496\n",
      "[1. 0. 0.]\n",
      "497\n",
      "[1. 0. 0.]\n",
      "498\n",
      "[0. 1. 0.]\n",
      "499\n",
      "[0. 1. 0.]\n",
      "500\n",
      "[1. 0. 0.]\n",
      "501\n",
      "[1. 0. 0.]\n",
      "502\n",
      "[0. 1. 0.]\n",
      "503\n",
      "[0. 1. 0.]\n",
      "504\n",
      "[1. 0. 0.]\n",
      "505\n",
      "[0. 1. 0.]\n",
      "506\n",
      "[1. 0. 0.]\n",
      "507\n",
      "[0. 1. 0.]\n",
      "508\n",
      "[1. 0. 0.]\n",
      "509\n",
      "[1. 0. 0.]\n",
      "510\n",
      "[0. 1. 0.]\n",
      "511\n",
      "[0. 1. 0.]\n",
      "512\n",
      "[1. 0. 0.]\n",
      "513\n",
      "[0. 1. 0.]\n",
      "514\n",
      "[0. 1. 0.]\n",
      "515\n",
      "[1. 0. 0.]\n",
      "516\n",
      "[0. 1. 0.]\n",
      "517\n",
      "[1. 0. 0.]\n",
      "518\n",
      "[1. 0. 0.]\n",
      "519\n",
      "[1. 0. 0.]\n",
      "520\n",
      "[0. 1. 0.]\n",
      "521\n",
      "[0. 1. 0.]\n",
      "522\n",
      "[1. 0. 0.]\n",
      "523\n",
      "[0. 1. 0.]\n",
      "524\n",
      "[0. 1. 0.]\n",
      "525\n",
      "[0. 1. 0.]\n",
      "526\n",
      "[0. 1. 0.]\n",
      "527\n",
      "[1. 0. 0.]\n",
      "528\n",
      "[0. 1. 0.]\n",
      "529\n",
      "[1. 0. 0.]\n",
      "530\n",
      "[1. 0. 0.]\n",
      "531\n",
      "[1. 0. 0.]\n",
      "532\n",
      "[0. 1. 0.]\n",
      "533\n",
      "[0. 1. 0.]\n",
      "534\n",
      "[1. 0. 0.]\n",
      "535\n",
      "[0. 1. 0.]\n",
      "536\n",
      "[0. 1. 0.]\n",
      "537\n",
      "[1. 0. 0.]\n",
      "538\n",
      "[1. 0. 0.]\n",
      "539\n",
      "[1. 0. 0.]\n",
      "540\n",
      "[1. 0. 0.]\n",
      "541\n",
      "[1. 0. 0.]\n",
      "542\n",
      "[0. 1. 0.]\n",
      "543\n",
      "[0. 1. 0.]\n",
      "544\n",
      "[0. 1. 0.]\n",
      "545\n",
      "[1. 0. 0.]\n",
      "546\n",
      "[0. 1. 0.]\n",
      "547\n",
      "[1. 0. 0.]\n",
      "548\n",
      "[0. 1. 0.]\n",
      "549\n",
      "[1. 0. 0.]\n",
      "550\n",
      "[0. 1. 0.]\n",
      "551\n",
      "[1. 0. 0.]\n",
      "552\n",
      "[0. 1. 0.]\n",
      "553\n",
      "[1. 0. 0.]\n",
      "554\n",
      "[1. 0. 0.]\n",
      "555\n",
      "[1. 0. 0.]\n",
      "556\n",
      "[0. 1. 0.]\n",
      "557\n",
      "[0. 1. 0.]\n",
      "558\n",
      "[1. 0. 0.]\n",
      "559\n",
      "[1. 0. 0.]\n",
      "560\n",
      "[0. 1. 0.]\n",
      "561\n",
      "[0. 1. 0.]\n",
      "562\n",
      "[0. 1. 0.]\n",
      "563\n",
      "[1. 0. 0.]\n",
      "564\n",
      "[0. 1. 0.]\n",
      "565\n",
      "[0. 1. 0.]\n",
      "566\n",
      "[1. 0. 0.]\n",
      "567\n",
      "[1. 0. 0.]\n",
      "568\n",
      "[1. 0. 0.]\n",
      "569\n",
      "[0. 1. 0.]\n",
      "570\n",
      "[0. 1. 0.]\n",
      "571\n",
      "[0. 1. 0.]\n",
      "572\n",
      "[0. 1. 0.]\n",
      "573\n",
      "[1. 0. 0.]\n",
      "574\n",
      "[1. 0. 0.]\n",
      "575\n",
      "[1. 0. 0.]\n",
      "576\n",
      "[0. 1. 0.]\n",
      "577\n",
      "[0. 1. 0.]\n",
      "578\n",
      "[0. 1. 0.]\n",
      "579\n",
      "[0. 1. 0.]\n",
      "580\n",
      "[0. 1. 0.]\n",
      "581\n",
      "[1. 0. 0.]\n",
      "582\n",
      "[1. 0. 0.]\n",
      "583\n",
      "[0. 1. 0.]\n",
      "584\n",
      "[0. 1. 0.]\n",
      "585\n",
      "[0. 1. 0.]\n",
      "586\n",
      "[1. 0. 0.]\n",
      "587\n",
      "[0. 1. 0.]\n",
      "588\n",
      "[1. 0. 0.]\n",
      "589\n",
      "[1. 0. 0.]\n",
      "590\n",
      "[1. 0. 0.]\n",
      "591\n",
      "[0. 1. 0.]\n",
      "592\n",
      "[0. 1. 0.]\n",
      "593\n",
      "[1. 0. 0.]\n",
      "594\n",
      "[1. 0. 0.]\n",
      "595\n",
      "[0. 1. 0.]\n",
      "596\n",
      "[0. 1. 0.]\n",
      "597\n",
      "[1. 0. 0.]\n",
      "598\n",
      "[1. 0. 0.]\n",
      "599\n",
      "[0. 1. 0.]\n",
      "600\n",
      "[1. 0. 0.]\n",
      "601\n",
      "[1. 0. 0.]\n",
      "602\n",
      "[1. 0. 0.]\n",
      "603\n",
      "[0. 1. 0.]\n",
      "604\n",
      "[0. 1. 0.]\n",
      "605\n",
      "[1. 0. 0.]\n",
      "606\n",
      "[0. 1. 0.]\n",
      "607\n",
      "[1. 0. 0.]\n",
      "608\n",
      "[1. 0. 0.]\n",
      "609\n",
      "[1. 0. 0.]\n",
      "610\n",
      "[0. 1. 0.]\n",
      "611\n",
      "[1. 0. 0.]\n",
      "612\n",
      "[1. 0. 0.]\n",
      "613\n",
      "[0. 1. 0.]\n",
      "614\n",
      "[0. 1. 0.]\n",
      "615\n",
      "[0. 1. 0.]\n",
      "616\n",
      "[0. 1. 0.]\n",
      "617\n",
      "[0. 1. 0.]\n"
     ]
    }
   ],
   "source": [
    "if Comp == 'FabioPC':\n",
    "    hf = h5py.File('/media/fabio/Disco locale/Fabio/Programmazione/Python/Poliambulanza/Alzheimer/Dati/ADNI/ADNI_Prova/H5Corrette/data_ADNI1.h5', 'w')\n",
    "else:\n",
    "    hf = h5py.File('D:/ADNI/Dati/ADNI_T1/ADNI1_T1/ADNI_Registrate/H5Corrette/data_img_norm_intere.h5', 'w')\n",
    "    \n",
    "img_data = hf.create_dataset('data', (1, 166, 256, 256), maxshape=(None, None, None, None))\n",
    "label_data = hf.create_dataset('label', (1,1), maxshape=(None, None))\n",
    "\n",
    "for i in range(len(chunks) -1):\n",
    "    grp = hf.create_group(\"group_{}\".format(i))\n",
    "    \n",
    "    print(i)\n",
    "    sub_img_tot = img_tot[chunks[i]:chunks[i+1]]\n",
    "    label_chunks = label[chunks[i]:chunks[i+1]][0]\n",
    "    \n",
    "    print(label_chunks)\n",
    "    sub_img_array = np.asarray(sub_img_tot)\n",
    "    sub_img_array = (sub_img_array - sub_img_array.mean())/sub_img_array.std()\n",
    "    img_data.resize((i+1, 166, 256, 256))\n",
    "    label_data.resize((i+1,3))\n",
    "    img_data[i,:,:,:] = sub_img_array\n",
    "    label_data[i] = label_chunks\n",
    "hf.close()"
   ]
  },
  {
   "cell_type": "code",
   "execution_count": 51,
   "metadata": {},
   "outputs": [],
   "source": [
    "hf.close()"
   ]
  },
  {
   "cell_type": "code",
   "execution_count": 29,
   "metadata": {},
   "outputs": [
    {
     "data": {
      "text/plain": [
       "225"
      ]
     },
     "execution_count": 29,
     "metadata": {},
     "output_type": "execute_result"
    }
   ],
   "source": [
    "y.count('CN')"
   ]
  },
  {
   "cell_type": "code",
   "execution_count": 30,
   "metadata": {
    "scrolled": true
   },
   "outputs": [
    {
     "data": {
      "text/plain": [
       "194"
      ]
     },
     "execution_count": 30,
     "metadata": {},
     "output_type": "execute_result"
    }
   ],
   "source": [
    "y.count('AD')"
   ]
  },
  {
   "cell_type": "code",
   "execution_count": 31,
   "metadata": {},
   "outputs": [
    {
     "data": {
      "text/plain": [
       "199"
      ]
     },
     "execution_count": 31,
     "metadata": {},
     "output_type": "execute_result"
    }
   ],
   "source": [
    "y.count('MCI')"
   ]
  },
  {
   "cell_type": "code",
   "execution_count": 57,
   "metadata": {},
   "outputs": [],
   "source": [
    "label = label_encoder.fit_transform(y)"
   ]
  },
  {
   "cell_type": "code",
   "execution_count": 59,
   "metadata": {},
   "outputs": [
    {
     "name": "stderr",
     "output_type": "stream",
     "text": [
      "C:\\ProgramData\\Anaconda3\\lib\\site-packages\\sklearn\\preprocessing\\_encoders.py:371: FutureWarning: The handling of integer data will change in version 0.22. Currently, the categories are determined based on the range [0, max(values)], while in the future they will be determined based on the unique values.\n",
      "If you want the future behaviour and silence this warning, you can specify \"categories='auto'\".\n",
      "In case you used a LabelEncoder before this OneHotEncoder to convert the categories to integers, then you can now use the OneHotEncoder directly.\n",
      "  warnings.warn(msg, FutureWarning)\n"
     ]
    }
   ],
   "source": [
    "enc = OneHotEncoder()\n",
    "\n",
    "# 2. FIT\n",
    "enc.fit(label.reshape(-1, 1))\n",
    "\n",
    "# 3. Transform\n",
    "label = enc.transform(label.reshape(-1, 1)).toarray()"
   ]
  },
  {
   "cell_type": "code",
   "execution_count": 65,
   "metadata": {},
   "outputs": [
    {
     "data": {
      "text/plain": [
       "(166, 256, 256)"
      ]
     },
     "execution_count": 65,
     "metadata": {},
     "output_type": "execute_result"
    }
   ],
   "source": [
    "img_tot[800].shape"
   ]
  },
  {
   "cell_type": "code",
   "execution_count": 104,
   "metadata": {},
   "outputs": [],
   "source": [
    "class dataset_h5(torch.utils.data.Dataset):\n",
    "    \n",
    "    def __init__(self, in_file, imgs_key='data', labels_key='label', transform = None):\n",
    "        super(dataset_h5, self).__init__()\n",
    "\n",
    "        self.in_file = in_file\n",
    "        self.imgs_key = imgs_key\n",
    "        self.labels_key = labels_key\n",
    "        self.transform = transform\n",
    "\n",
    "    def __getitem__(self, index):\n",
    "        with h5py.File(self.in_file,'r') as db:\n",
    "            img_data = db.file[self.imgs_key][index]\n",
    "            label = db.file[self.labels_key][index]\n",
    "            if self.transform:\n",
    "                img_data = self.transform(img_data)\n",
    "        \n",
    "        return (img_data, label)\n",
    "\n",
    "    def __len__(self):\n",
    "        with h5py.File(self.in_file,'r') as db:\n",
    "            lens=len(db[self.labels_key])\n",
    "            \n",
    "        return lens"
   ]
  },
  {
   "cell_type": "code",
   "execution_count": 105,
   "metadata": {},
   "outputs": [],
   "source": [
    "if Comp == 'FabioPC':\n",
    "    dataset = dataset_h5('/media/fabio/Disco locale/Fabio/Programmazione/Python/Poliambulanza/Alzheimer/Dati/ADNI/ADNI_Prova/H5Corrette/data_img.h5', transform)\n",
    "else:\n",
    "    dataset = dataset_h5('D:/ADNI/Dati/ADNI_T1/ADNI1_T1/ADNI_Registrate/H5Corrette/data_img_norm.h5')"
   ]
  },
  {
   "cell_type": "code",
   "execution_count": 106,
   "metadata": {},
   "outputs": [],
   "source": [
    "from torch.utils.data.sampler import SubsetRandomSampler\n",
    "\n",
    "dataset_size = len(dataset)\n",
    "indices = list(range(dataset_size))\n",
    "validation_split = .2\n",
    "shuffle_dataset = True\n",
    "random_seed= 42\n",
    "\n",
    "split = int(np.floor(validation_split * dataset_size))\n",
    "if shuffle_dataset :\n",
    "    np.random.seed(random_seed)\n",
    "    np.random.shuffle(indices)\n",
    "    \n",
    "train_indices, val_indices = indices[split:], indices[:split]\n",
    "\n",
    "train_sampler = SubsetRandomSampler(train_indices)\n",
    "valid_sampler = SubsetRandomSampler(val_indices)"
   ]
  },
  {
   "cell_type": "code",
   "execution_count": 109,
   "metadata": {},
   "outputs": [],
   "source": [
    "train_loader = torch.utils.data.DataLoader(dataset, batch_size=25, \n",
    "                                           sampler=train_sampler)"
   ]
  },
  {
   "cell_type": "code",
   "execution_count": 113,
   "metadata": {},
   "outputs": [
    {
     "data": {
      "text/plain": [
       "<matplotlib.image.AxesImage at 0x208f04452b0>"
      ]
     },
     "execution_count": 113,
     "metadata": {},
     "output_type": "execute_result"
    },
    {
     "data": {
      "text/plain": [
       "<Figure size 1440x576 with 0 Axes>"
      ]
     },
     "metadata": {},
     "output_type": "display_data"
    },
    {
     "data": {
      "image/png": "[encoded data removed]",
      "text/plain": [
       "<Figure size 432x288 with 4 Axes>"
      ]
     },
     "metadata": {
      "needs_background": "light"
     },
     "output_type": "display_data"
    }
   ],
   "source": [
    "plt.figure(figsize=(20,8))\n",
    "fig, axs = plt.subplots(2, 2)\n",
    "axs[0, 0].imshow(img[0][80,:,:], cmap='gray')\n",
    "axs[0, 1].imshow(img[1][80,:,:], cmap='gray')\n",
    "axs[1, 0].imshow(img[3][80,:,:], cmap='gray')\n",
    "axs[1, 1].imshow(img[4][80,:,:], cmap='gray')\n"
   ]
  },
  {
   "cell_type": "code",
   "execution_count": 117,
   "metadata": {},
   "outputs": [
    {
     "data": {
      "text/plain": [
       "tensor([[0., 0., 1.],\n",
       "        [0., 1., 0.],\n",
       "        [0., 1., 0.],\n",
       "        [0., 0., 1.],\n",
       "        [0., 1., 0.]])"
      ]
     },
     "execution_count": 117,
     "metadata": {},
     "output_type": "execute_result"
    }
   ],
   "source": [
    "labels"
   ]
  },
  {
   "cell_type": "code",
   "execution_count": null,
   "metadata": {},
   "outputs": [],
   "source": []
  }
 ],
 "metadata": {
  "kernelspec": {
   "display_name": "Python 3",
   "language": "python",
   "name": "python3"
  },
  "language_info": {
   "codemirror_mode": {
    "name": "ipython",
    "version": 3
   },
   "file_extension": ".py",
   "mimetype": "text/x-python",
   "name": "python",
   "nbconvert_exporter": "python",
   "pygments_lexer": "ipython3",
   "version": "3.6.1"
  }
 },
 "nbformat": 4,
 "nbformat_minor": 2
}
