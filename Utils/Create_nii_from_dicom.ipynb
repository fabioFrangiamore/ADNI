{
 "cells": [
  {
   "cell_type": "code",
   "execution_count": 1,
   "metadata": {},
   "outputs": [],
   "source": [
    "import os, subprocess, time"
   ]
  },
  {
   "cell_type": "code",
   "execution_count": 3,
   "metadata": {},
   "outputs": [],
   "source": [
    "from Create_nii_from_dicom import convert_dcmtonii, return_folder"
   ]
  },
  {
   "cell_type": "code",
   "execution_count": 4,
   "metadata": {},
   "outputs": [],
   "source": [
    "# da modificare in funzione del pc dove si lavora\n",
    "ADNI1_folder = '/media/fabio/Disco locale/Fabio/Programmazione/Python/Poliambulanza/Alzheimer/Dati/ADNI/ADNI1/ADNI/'\n",
    "scaricati_dir = '/media/fabio/Disco locale/Scaricati'\n",
    "new_folder = '/media/fabio/Disco locale/Fabio/Programmazione/Python/Poliambulanza/Alzheimer/Dati/ADNI/ADNI1/ADNI_Proc'\n",
    "CSF_folder = '/media/fabio/Disco locale/Fabio/Programmazione/Python/Poliambulanza/Alzheimer/'"
   ]
  },
  {
   "cell_type": "code",
   "execution_count": 5,
   "metadata": {},
   "outputs": [
    {
     "name": "stdout",
     "output_type": "stream",
     "text": [
      "   Unnamed: 0  RID        PTID VISCODE COLPROT    EXAMDATE DX_bl   AGE  \\\n",
      "0           1    3  011_S_0003      bl   ADNI1  2005-09-12    AD  81.3   \n",
      "1           5    4  022_S_0004      bl   ADNI1  2005-11-08  LMCI  67.5   \n",
      "2          10    5  011_S_0005      bl   ADNI1  2005-09-07    CN  73.7   \n",
      "3          22   10  011_S_0010      bl   ADNI1  2005-11-10    AD  73.9   \n",
      "4          26   14  022_S_0014      bl   ADNI1  2005-11-04    CN  78.5   \n",
      "\n",
      "  PTGENDER   ABETA    TAU   PTAU  Month_bl  \n",
      "0     Male   741.5  239.7  22.83       0.0  \n",
      "1     Male  1501.0  153.1  13.29       0.0  \n",
      "2     Male   547.3  337.0  33.43       0.0  \n",
      "3   Female   357.4  329.9  31.26       0.0  \n",
      "4   Female  1582.0  203.6  16.68       0.0  \n",
      "Folder already created\n",
      "/media/fabio/Disco locale/Fabio/Programmazione/Python/Poliambulanza/Alzheimer/Dati/ADNI/ADNI1/ADNI/023_S_0139/MPRAGE/2006-01-24_11_12_57.0/S11079\n",
      "++++++++++++++++++\n",
      "\n",
      "0/78\n",
      "['/media/fabio/Disco locale/Scaricati/dcm2niix/build/bin/dcm2niix', '-o', '/media/fabio/Disco locale/Fabio/Programmazione/Python/Poliambulanza/Alzheimer/Dati/ADNI/ADNI1/ADNI_Proc', '/media/fabio/Disco locale/Fabio/Programmazione/Python/Poliambulanza/Alzheimer/Dati/ADNI/ADNI1/ADNI/023_S_0139/MPRAGE/2006-01-24_11_12_57.0/S11079']\n",
      "[0, None, b\"Chris Rorden's dcm2niiX version v1.0.20190902  GCC5.4.0 (64-bit Linux)\\nFound 160 DICOM file(s)\\nConvert 160 DICOM as /media/fabio/Disco locale/Fabio/Programmazione/Python/Poliambulanza/Alzheimer/Dati/ADNI/ADNI1/ADNI_Proc/S11079_MPRAGE_20060124110148_2d (192x192x160x1)\\nConversion required 0.266355 seconds (0.161965 for core code).\\n\"]\n",
      "/media/fabio/Disco locale/Fabio/Programmazione/Python/Poliambulanza/Alzheimer/Dati/ADNI/ADNI1/ADNI/098_S_0269/MP-RAGE/2006-03-04_17_22_56.0/S11964\n",
      "++++++++++++++++++\n",
      "\n",
      "1/78\n",
      "['/media/fabio/Disco locale/Scaricati/dcm2niix/build/bin/dcm2niix', '-o', '/media/fabio/Disco locale/Fabio/Programmazione/Python/Poliambulanza/Alzheimer/Dati/ADNI/ADNI1/ADNI_Proc', '/media/fabio/Disco locale/Fabio/Programmazione/Python/Poliambulanza/Alzheimer/Dati/ADNI/ADNI1/ADNI/098_S_0269/MP-RAGE/2006-03-04_17_22_56.0/S11964']\n",
      "[0, None, b\"Chris Rorden's dcm2niiX version v1.0.20190902  GCC5.4.0 (64-bit Linux)\\nFound 166 DICOM file(s)\\nConvert 166 DICOM as /media/fabio/Disco locale/Fabio/Programmazione/Python/Poliambulanza/Alzheimer/Dati/ADNI/ADNI1/ADNI_Proc/S11964_MP-RAGE_20060304172104_2c (256x256x166x1)\\nConversion required 0.415240 seconds (0.245670 for core code).\\n\"]\n",
      "/media/fabio/Disco locale/Fabio/Programmazione/Python/Poliambulanza/Alzheimer/Dati/ADNI/ADNI1/ADNI/002_S_0295/MP-RAGE/2006-04-18_08_20_30.0/S13408\n",
      "++++++++++++++++++\n",
      "\n",
      "2/78\n",
      "['/media/fabio/Disco locale/Scaricati/dcm2niix/build/bin/dcm2niix', '-o', '/media/fabio/Disco locale/Fabio/Programmazione/Python/Poliambulanza/Alzheimer/Dati/ADNI/ADNI1/ADNI_Proc', '/media/fabio/Disco locale/Fabio/Programmazione/Python/Poliambulanza/Alzheimer/Dati/ADNI/ADNI1/ADNI/002_S_0295/MP-RAGE/2006-04-18_08_20_30.0/S13408']\n",
      "[0, None, b\"Chris Rorden's dcm2niiX version v1.0.20190902  GCC5.4.0 (64-bit Linux)\\nFound 166 DICOM file(s)\\nConvert 166 DICOM as /media/fabio/Disco locale/Fabio/Programmazione/Python/Poliambulanza/Alzheimer/Dati/ADNI/ADNI1/ADNI_Proc/S13408_MP-RAGE_20060418081744_3a (256x256x166x1)\\nConversion required 0.834642 seconds (0.224576 for core code).\\n\"]\n",
      "/media/fabio/Disco locale/Fabio/Programmazione/Python/Poliambulanza/Alzheimer/Dati/ADNI/ADNI1/ADNI/005_S_0221/MP-RAGE/2006-02-22_10_18_17.0/S11956\n",
      "++++++++++++++++++\n",
      "\n",
      "3/78\n",
      "['/media/fabio/Disco locale/Scaricati/dcm2niix/build/bin/dcm2niix', '-o', '/media/fabio/Disco locale/Fabio/Programmazione/Python/Poliambulanza/Alzheimer/Dati/ADNI/ADNI1/ADNI_Proc', '/media/fabio/Disco locale/Fabio/Programmazione/Python/Poliambulanza/Alzheimer/Dati/ADNI/ADNI1/ADNI/005_S_0221/MP-RAGE/2006-02-22_10_18_17.0/S11956']\n",
      "[0, None, b\"Chris Rorden's dcm2niiX version v1.0.20190902  GCC5.4.0 (64-bit Linux)\\nFound 166 DICOM file(s)\\nConvert 166 DICOM as /media/fabio/Disco locale/Fabio/Programmazione/Python/Poliambulanza/Alzheimer/Dati/ADNI/ADNI1/ADNI_Proc/S11956_MP-RAGE_20060222093951_6a (256x256x166x1)\\nConversion required 0.370566 seconds (0.214351 for core code).\\n\"]\n",
      "/media/fabio/Disco locale/Fabio/Programmazione/Python/Poliambulanza/Alzheimer/Dati/ADNI/ADNI1/ADNI/005_S_0223/MP-RAGE/2006-02-28_09_31_12.0/S11981\n",
      "++++++++++++++++++\n",
      "\n",
      "4/78\n",
      "['/media/fabio/Disco locale/Scaricati/dcm2niix/build/bin/dcm2niix', '-o', '/media/fabio/Disco locale/Fabio/Programmazione/Python/Poliambulanza/Alzheimer/Dati/ADNI/ADNI1/ADNI_Proc', '/media/fabio/Disco locale/Fabio/Programmazione/Python/Poliambulanza/Alzheimer/Dati/ADNI/ADNI1/ADNI/005_S_0223/MP-RAGE/2006-02-28_09_31_12.0/S11981']\n",
      "[0, None, b\"Chris Rorden's dcm2niiX version v1.0.20190902  GCC5.4.0 (64-bit Linux)\\nFound 166 DICOM file(s)\\nConvert 166 DICOM as /media/fabio/Disco locale/Fabio/Programmazione/Python/Poliambulanza/Alzheimer/Dati/ADNI/ADNI1/ADNI_Proc/S11981_MP-RAGE_20060228093013_2 (256x256x166x1)\\nConversion required 1.322047 seconds (0.318569 for core code).\\n\"]\n",
      "/media/fabio/Disco locale/Fabio/Programmazione/Python/Poliambulanza/Alzheimer/Dati/ADNI/ADNI1/ADNI/007_S_0070/MP-RAGE/2006-01-18_14_40_56.0/S10949\n",
      "++++++++++++++++++\n",
      "\n",
      "5/78\n",
      "['/media/fabio/Disco locale/Scaricati/dcm2niix/build/bin/dcm2niix', '-o', '/media/fabio/Disco locale/Fabio/Programmazione/Python/Poliambulanza/Alzheimer/Dati/ADNI/ADNI1/ADNI_Proc', '/media/fabio/Disco locale/Fabio/Programmazione/Python/Poliambulanza/Alzheimer/Dati/ADNI/ADNI1/ADNI/007_S_0070/MP-RAGE/2006-01-18_14_40_56.0/S10949']\n",
      "[0, None, b\"Chris Rorden's dcm2niiX version v1.0.20190902  GCC5.4.0 (64-bit Linux)\\nFound 166 DICOM file(s)\\nConvert 166 DICOM as /media/fabio/Disco locale/Fabio/Programmazione/Python/Poliambulanza/Alzheimer/Dati/ADNI/ADNI1/ADNI_Proc/S10949_MP-RAGE_20060118143954_2 (256x256x166x1)\\nConversion required 4.081452 seconds (0.503819 for core code).\\n\"]\n",
      "/media/fabio/Disco locale/Fabio/Programmazione/Python/Poliambulanza/Alzheimer/Dati/ADNI/ADNI1/ADNI/007_S_0101/MP-RAGE/2005-12-20_10_20_16.0/S10679\n",
      "++++++++++++++++++\n",
      "\n",
      "6/78\n",
      "['/media/fabio/Disco locale/Scaricati/dcm2niix/build/bin/dcm2niix', '-o', '/media/fabio/Disco locale/Fabio/Programmazione/Python/Poliambulanza/Alzheimer/Dati/ADNI/ADNI1/ADNI_Proc', '/media/fabio/Disco locale/Fabio/Programmazione/Python/Poliambulanza/Alzheimer/Dati/ADNI/ADNI1/ADNI/007_S_0101/MP-RAGE/2005-12-20_10_20_16.0/S10679']\n"
     ]
    },
    {
     "ename": "KeyboardInterrupt",
     "evalue": "",
     "output_type": "error",
     "traceback": [
      "\u001b[0;31m---------------------------------------------------------------------------\u001b[0m",
      "\u001b[0;31mKeyboardInterrupt\u001b[0m                         Traceback (most recent call last)",
      "\u001b[0;32m<ipython-input-5-013326d237b7>\u001b[0m in \u001b[0;36m<module>\u001b[0;34m\u001b[0m\n\u001b[0;32m----> 1\u001b[0;31m \u001b[0mprint\u001b[0m\u001b[0;34m(\u001b[0m\u001b[0mconvert_dcmtonii\u001b[0m\u001b[0;34m(\u001b[0m\u001b[0mADNI1_folder\u001b[0m\u001b[0;34m,\u001b[0m \u001b[0mscaricati_dir\u001b[0m\u001b[0;34m,\u001b[0m \u001b[0mnew_folder\u001b[0m\u001b[0;34m,\u001b[0m \u001b[0mCSF_folder\u001b[0m\u001b[0;34m)\u001b[0m\u001b[0;34m)\u001b[0m\u001b[0;34m\u001b[0m\u001b[0m\n\u001b[0m",
      "\u001b[0;32m/media/fabio/Disco locale/Fabio/Programmazione/Python/Poliambulanza/Alzheimer/ADNI/Utils/Create_nii_from_dicom.py\u001b[0m in \u001b[0;36mconvert_dcmtonii\u001b[0;34m(dirs_main, dcm_folder, new_folder, csf_folder)\u001b[0m\n\u001b[1;32m     62\u001b[0m         \u001b[0mprint\u001b[0m\u001b[0;34m(\u001b[0m\u001b[0mcommand\u001b[0m\u001b[0;34m)\u001b[0m\u001b[0;34m\u001b[0m\u001b[0m\n\u001b[1;32m     63\u001b[0m         \u001b[0mregistration\u001b[0m \u001b[0;34m=\u001b[0m \u001b[0msubprocess\u001b[0m\u001b[0;34m.\u001b[0m\u001b[0mPopen\u001b[0m\u001b[0;34m(\u001b[0m\u001b[0mcommand\u001b[0m\u001b[0;34m,\u001b[0m \u001b[0mstdout\u001b[0m\u001b[0;34m=\u001b[0m\u001b[0msubprocess\u001b[0m\u001b[0;34m.\u001b[0m\u001b[0mPIPE\u001b[0m\u001b[0;34m)\u001b[0m\u001b[0;34m\u001b[0m\u001b[0m\n\u001b[0;32m---> 64\u001b[0;31m         \u001b[0moutput\u001b[0m\u001b[0;34m,\u001b[0m \u001b[0merrors\u001b[0m \u001b[0;34m=\u001b[0m \u001b[0mregistration\u001b[0m\u001b[0;34m.\u001b[0m\u001b[0mcommunicate\u001b[0m\u001b[0;34m(\u001b[0m\u001b[0;34m)\u001b[0m\u001b[0;34m\u001b[0m\u001b[0m\n\u001b[0m\u001b[1;32m     65\u001b[0m         \u001b[0mprint\u001b[0m \u001b[0;34m(\u001b[0m\u001b[0;34m[\u001b[0m\u001b[0mregistration\u001b[0m\u001b[0;34m.\u001b[0m\u001b[0mreturncode\u001b[0m\u001b[0;34m,\u001b[0m \u001b[0merrors\u001b[0m\u001b[0;34m,\u001b[0m \u001b[0moutput\u001b[0m\u001b[0;34m]\u001b[0m\u001b[0;34m)\u001b[0m\u001b[0;34m\u001b[0m\u001b[0m\n\u001b[1;32m     66\u001b[0m         \u001b[0mtime\u001b[0m\u001b[0;34m.\u001b[0m\u001b[0msleep\u001b[0m\u001b[0;34m(\u001b[0m\u001b[0;36m3\u001b[0m\u001b[0;34m)\u001b[0m\u001b[0;34m\u001b[0m\u001b[0m\n",
      "\u001b[0;32m~/.pyenv/versions/3.6.1/lib/python3.6/subprocess.py\u001b[0m in \u001b[0;36mcommunicate\u001b[0;34m(self, input, timeout)\u001b[0m\n\u001b[1;32m    821\u001b[0m                 \u001b[0mself\u001b[0m\u001b[0;34m.\u001b[0m\u001b[0m_stdin_write\u001b[0m\u001b[0;34m(\u001b[0m\u001b[0minput\u001b[0m\u001b[0;34m)\u001b[0m\u001b[0;34m\u001b[0m\u001b[0m\n\u001b[1;32m    822\u001b[0m             \u001b[0;32melif\u001b[0m \u001b[0mself\u001b[0m\u001b[0;34m.\u001b[0m\u001b[0mstdout\u001b[0m\u001b[0;34m:\u001b[0m\u001b[0;34m\u001b[0m\u001b[0m\n\u001b[0;32m--> 823\u001b[0;31m                 \u001b[0mstdout\u001b[0m \u001b[0;34m=\u001b[0m \u001b[0mself\u001b[0m\u001b[0;34m.\u001b[0m\u001b[0mstdout\u001b[0m\u001b[0;34m.\u001b[0m\u001b[0mread\u001b[0m\u001b[0;34m(\u001b[0m\u001b[0;34m)\u001b[0m\u001b[0;34m\u001b[0m\u001b[0m\n\u001b[0m\u001b[1;32m    824\u001b[0m                 \u001b[0mself\u001b[0m\u001b[0;34m.\u001b[0m\u001b[0mstdout\u001b[0m\u001b[0;34m.\u001b[0m\u001b[0mclose\u001b[0m\u001b[0;34m(\u001b[0m\u001b[0;34m)\u001b[0m\u001b[0;34m\u001b[0m\u001b[0m\n\u001b[1;32m    825\u001b[0m             \u001b[0;32melif\u001b[0m \u001b[0mself\u001b[0m\u001b[0;34m.\u001b[0m\u001b[0mstderr\u001b[0m\u001b[0;34m:\u001b[0m\u001b[0;34m\u001b[0m\u001b[0m\n",
      "\u001b[0;31mKeyboardInterrupt\u001b[0m: "
     ]
    }
   ],
   "source": [
    "print(convert_dcmtonii(ADNI1_folder, scaricati_dir, new_folder, CSF_folder))"
   ]
  },
  {
   "cell_type": "code",
   "execution_count": null,
   "metadata": {},
   "outputs": [],
   "source": []
  },
  {
   "cell_type": "code",
   "execution_count": null,
   "metadata": {},
   "outputs": [],
   "source": []
  }
 ],
 "metadata": {
  "kernelspec": {
   "display_name": "Python 3",
   "language": "python",
   "name": "python3"
  },
  "language_info": {
   "codemirror_mode": {
    "name": "ipython",
    "version": 3
   },
   "file_extension": ".py",
   "mimetype": "text/x-python",
   "name": "python",
   "nbconvert_exporter": "python",
   "pygments_lexer": "ipython3",
   "version": "3.6.1"
  }
 },
 "nbformat": 4,
 "nbformat_minor": 2
}
