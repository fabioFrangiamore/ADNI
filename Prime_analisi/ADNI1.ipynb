{
 "cells": [
  {
   "cell_type": "code",
   "execution_count": 1,
   "metadata": {},
   "outputs": [
    {
     "data": {
      "application/javascript": [
       "if (window.IPython && IPython.notebook.kernel) IPython.notebook.kernel.execute('jovian.utils.jupyter.get_notebook_name_saved = lambda: \"' + IPython.notebook.notebook_name + '\"')"
      ],
      "text/plain": [
       "<IPython.core.display.Javascript object>"
      ]
     },
     "metadata": {},
     "output_type": "display_data"
    },
    {
     "name": "stderr",
     "output_type": "stream",
     "text": [
      "/home/fabio/.local/lib/python3.6/site-packages/ipykernel_launcher.py:9: DeprecationWarning: deprecated\n",
      "  if __name__ == '__main__':\n"
     ]
    }
   ],
   "source": [
    "import pandas as pd\n",
    "import matplotlib.pyplot as plt\n",
    "import seaborn as sns\n",
    "import warnings\n",
    "import numpy as np\n",
    "import jovian\n",
    "import os\n",
    "\n",
    "warnings.warn(\"deprecated\", DeprecationWarning)"
   ]
  },
  {
   "cell_type": "markdown",
   "metadata": {},
   "source": [
    "Carico il file di testo contenente tutte le info su tutte le raccolte ADNI"
   ]
  },
  {
   "cell_type": "code",
   "execution_count": 2,
   "metadata": {},
   "outputs": [
    {
     "name": "stderr",
     "output_type": "stream",
     "text": [
      "/home/fabio/.local/lib/python3.6/site-packages/IPython/core/interactiveshell.py:3051: DtypeWarning: Columns (18,19,20,103,104) have mixed types. Specify dtype option on import or set low_memory=False.\n",
      "  interactivity=interactivity, compiler=compiler, result=result)\n"
     ]
    }
   ],
   "source": [
    "ADNI = pd.read_csv('Dati_CSF/ADNIMERGE.csv')"
   ]
  },
  {
   "cell_type": "code",
   "execution_count": 3,
   "metadata": {},
   "outputs": [
    {
     "data": {
      "text/html": [
       "<div>\n",
       "<style scoped>\n",
       "    .dataframe tbody tr th:only-of-type {\n",
       "        vertical-align: middle;\n",
       "    }\n",
       "\n",
       "    .dataframe tbody tr th {\n",
       "        vertical-align: top;\n",
       "    }\n",
       "\n",
       "    .dataframe thead th {\n",
       "        text-align: right;\n",
       "    }\n",
       "</style>\n",
       "<table border=\"1\" class=\"dataframe\">\n",
       "  <thead>\n",
       "    <tr style=\"text-align: right;\">\n",
       "      <th></th>\n",
       "      <th>RID</th>\n",
       "      <th>PTID</th>\n",
       "      <th>VISCODE</th>\n",
       "      <th>SITE</th>\n",
       "      <th>COLPROT</th>\n",
       "      <th>ORIGPROT</th>\n",
       "      <th>EXAMDATE</th>\n",
       "      <th>DX_bl</th>\n",
       "      <th>AGE</th>\n",
       "      <th>PTGENDER</th>\n",
       "      <th>...</th>\n",
       "      <th>TAU_bl</th>\n",
       "      <th>PTAU_bl</th>\n",
       "      <th>FDG_bl</th>\n",
       "      <th>PIB_bl</th>\n",
       "      <th>AV45_bl</th>\n",
       "      <th>Years_bl</th>\n",
       "      <th>Month_bl</th>\n",
       "      <th>Month</th>\n",
       "      <th>M</th>\n",
       "      <th>update_stamp</th>\n",
       "    </tr>\n",
       "  </thead>\n",
       "  <tbody>\n",
       "    <tr>\n",
       "      <th>0</th>\n",
       "      <td>2</td>\n",
       "      <td>011_S_0002</td>\n",
       "      <td>bl</td>\n",
       "      <td>11</td>\n",
       "      <td>ADNI1</td>\n",
       "      <td>ADNI1</td>\n",
       "      <td>2005-09-08</td>\n",
       "      <td>CN</td>\n",
       "      <td>74.3</td>\n",
       "      <td>Male</td>\n",
       "      <td>...</td>\n",
       "      <td>NaN</td>\n",
       "      <td>NaN</td>\n",
       "      <td>1.36665</td>\n",
       "      <td>NaN</td>\n",
       "      <td>NaN</td>\n",
       "      <td>0.000000</td>\n",
       "      <td>0.00000</td>\n",
       "      <td>0</td>\n",
       "      <td>0.0</td>\n",
       "      <td>2020-01-09 04:20:17.0</td>\n",
       "    </tr>\n",
       "    <tr>\n",
       "      <th>1</th>\n",
       "      <td>3</td>\n",
       "      <td>011_S_0003</td>\n",
       "      <td>bl</td>\n",
       "      <td>11</td>\n",
       "      <td>ADNI1</td>\n",
       "      <td>ADNI1</td>\n",
       "      <td>2005-09-12</td>\n",
       "      <td>AD</td>\n",
       "      <td>81.3</td>\n",
       "      <td>Male</td>\n",
       "      <td>...</td>\n",
       "      <td>239.7</td>\n",
       "      <td>22.83</td>\n",
       "      <td>1.08355</td>\n",
       "      <td>NaN</td>\n",
       "      <td>NaN</td>\n",
       "      <td>0.000000</td>\n",
       "      <td>0.00000</td>\n",
       "      <td>0</td>\n",
       "      <td>0.0</td>\n",
       "      <td>2020-01-09 04:20:17.0</td>\n",
       "    </tr>\n",
       "    <tr>\n",
       "      <th>2</th>\n",
       "      <td>3</td>\n",
       "      <td>011_S_0003</td>\n",
       "      <td>m06</td>\n",
       "      <td>11</td>\n",
       "      <td>ADNI1</td>\n",
       "      <td>ADNI1</td>\n",
       "      <td>2006-03-13</td>\n",
       "      <td>AD</td>\n",
       "      <td>81.3</td>\n",
       "      <td>Male</td>\n",
       "      <td>...</td>\n",
       "      <td>239.7</td>\n",
       "      <td>22.83</td>\n",
       "      <td>1.08355</td>\n",
       "      <td>NaN</td>\n",
       "      <td>NaN</td>\n",
       "      <td>0.498289</td>\n",
       "      <td>5.96721</td>\n",
       "      <td>6</td>\n",
       "      <td>6.0</td>\n",
       "      <td>2020-01-09 04:20:17.0</td>\n",
       "    </tr>\n",
       "    <tr>\n",
       "      <th>3</th>\n",
       "      <td>3</td>\n",
       "      <td>011_S_0003</td>\n",
       "      <td>m12</td>\n",
       "      <td>11</td>\n",
       "      <td>ADNI1</td>\n",
       "      <td>ADNI1</td>\n",
       "      <td>2006-09-12</td>\n",
       "      <td>AD</td>\n",
       "      <td>81.3</td>\n",
       "      <td>Male</td>\n",
       "      <td>...</td>\n",
       "      <td>239.7</td>\n",
       "      <td>22.83</td>\n",
       "      <td>1.08355</td>\n",
       "      <td>NaN</td>\n",
       "      <td>NaN</td>\n",
       "      <td>0.999316</td>\n",
       "      <td>11.96720</td>\n",
       "      <td>12</td>\n",
       "      <td>12.0</td>\n",
       "      <td>2020-01-09 04:20:17.0</td>\n",
       "    </tr>\n",
       "    <tr>\n",
       "      <th>4</th>\n",
       "      <td>3</td>\n",
       "      <td>011_S_0003</td>\n",
       "      <td>m24</td>\n",
       "      <td>11</td>\n",
       "      <td>ADNI1</td>\n",
       "      <td>ADNI1</td>\n",
       "      <td>2007-09-12</td>\n",
       "      <td>AD</td>\n",
       "      <td>81.3</td>\n",
       "      <td>Male</td>\n",
       "      <td>...</td>\n",
       "      <td>239.7</td>\n",
       "      <td>22.83</td>\n",
       "      <td>1.08355</td>\n",
       "      <td>NaN</td>\n",
       "      <td>NaN</td>\n",
       "      <td>1.998630</td>\n",
       "      <td>23.93440</td>\n",
       "      <td>24</td>\n",
       "      <td>24.0</td>\n",
       "      <td>2020-01-09 04:20:17.0</td>\n",
       "    </tr>\n",
       "  </tbody>\n",
       "</table>\n",
       "<p>5 rows × 113 columns</p>\n",
       "</div>"
      ],
      "text/plain": [
       "   RID        PTID VISCODE  SITE COLPROT ORIGPROT    EXAMDATE DX_bl   AGE  \\\n",
       "0    2  011_S_0002      bl    11   ADNI1    ADNI1  2005-09-08    CN  74.3   \n",
       "1    3  011_S_0003      bl    11   ADNI1    ADNI1  2005-09-12    AD  81.3   \n",
       "2    3  011_S_0003     m06    11   ADNI1    ADNI1  2006-03-13    AD  81.3   \n",
       "3    3  011_S_0003     m12    11   ADNI1    ADNI1  2006-09-12    AD  81.3   \n",
       "4    3  011_S_0003     m24    11   ADNI1    ADNI1  2007-09-12    AD  81.3   \n",
       "\n",
       "  PTGENDER          ...            TAU_bl PTAU_bl   FDG_bl PIB_bl  AV45_bl  \\\n",
       "0     Male          ...               NaN     NaN  1.36665    NaN      NaN   \n",
       "1     Male          ...             239.7   22.83  1.08355    NaN      NaN   \n",
       "2     Male          ...             239.7   22.83  1.08355    NaN      NaN   \n",
       "3     Male          ...             239.7   22.83  1.08355    NaN      NaN   \n",
       "4     Male          ...             239.7   22.83  1.08355    NaN      NaN   \n",
       "\n",
       "   Years_bl  Month_bl  Month     M           update_stamp  \n",
       "0  0.000000   0.00000      0   0.0  2020-01-09 04:20:17.0  \n",
       "1  0.000000   0.00000      0   0.0  2020-01-09 04:20:17.0  \n",
       "2  0.498289   5.96721      6   6.0  2020-01-09 04:20:17.0  \n",
       "3  0.999316  11.96720     12  12.0  2020-01-09 04:20:17.0  \n",
       "4  1.998630  23.93440     24  24.0  2020-01-09 04:20:17.0  \n",
       "\n",
       "[5 rows x 113 columns]"
      ]
     },
     "execution_count": 3,
     "metadata": {},
     "output_type": "execute_result"
    }
   ],
   "source": [
    "ADNI.head()"
   ]
  },
  {
   "cell_type": "markdown",
   "metadata": {},
   "source": [
    "Carico il file per le correzioni"
   ]
  },
  {
   "cell_type": "code",
   "execution_count": 4,
   "metadata": {},
   "outputs": [],
   "source": [
    "df = pd.read_csv('Dati_CSF/UPENNBIOMK9_04_19_17.csv')"
   ]
  },
  {
   "cell_type": "code",
   "execution_count": 5,
   "metadata": {},
   "outputs": [
    {
     "data": {
      "text/html": [
       "<div>\n",
       "<style scoped>\n",
       "    .dataframe tbody tr th:only-of-type {\n",
       "        vertical-align: middle;\n",
       "    }\n",
       "\n",
       "    .dataframe tbody tr th {\n",
       "        vertical-align: top;\n",
       "    }\n",
       "\n",
       "    .dataframe thead th {\n",
       "        text-align: right;\n",
       "    }\n",
       "</style>\n",
       "<table border=\"1\" class=\"dataframe\">\n",
       "  <thead>\n",
       "    <tr style=\"text-align: right;\">\n",
       "      <th></th>\n",
       "      <th>RID</th>\n",
       "      <th>VISCODE</th>\n",
       "      <th>VISCODE2</th>\n",
       "      <th>EXAMDATE</th>\n",
       "      <th>PHASE</th>\n",
       "      <th>BATCH</th>\n",
       "      <th>KIT</th>\n",
       "      <th>STDS</th>\n",
       "      <th>RUNDATE</th>\n",
       "      <th>ABETA</th>\n",
       "      <th>TAU</th>\n",
       "      <th>PTAU</th>\n",
       "      <th>COMMENT</th>\n",
       "      <th>update_stamp</th>\n",
       "    </tr>\n",
       "  </thead>\n",
       "  <tbody>\n",
       "    <tr>\n",
       "      <th>0</th>\n",
       "      <td>3</td>\n",
       "      <td>bl</td>\n",
       "      <td>bl</td>\n",
       "      <td>2005-09-12</td>\n",
       "      <td>ADNI1</td>\n",
       "      <td>UPENNBIOMK9</td>\n",
       "      <td>P06-MP02-MP01</td>\n",
       "      <td>P06-MP02-MP01/2</td>\n",
       "      <td>2016-12-14</td>\n",
       "      <td>741.5</td>\n",
       "      <td>239.7</td>\n",
       "      <td>22.83</td>\n",
       "      <td>NaN</td>\n",
       "      <td>2017-04-20 14:39:54.0</td>\n",
       "    </tr>\n",
       "    <tr>\n",
       "      <th>1</th>\n",
       "      <td>3</td>\n",
       "      <td>m12</td>\n",
       "      <td>m12</td>\n",
       "      <td>2006-09-13</td>\n",
       "      <td>ADNI1</td>\n",
       "      <td>UPENNBIOMK9</td>\n",
       "      <td>P06-MP02-MP01</td>\n",
       "      <td>P06-MP02-MP01/2</td>\n",
       "      <td>2016-12-14</td>\n",
       "      <td>601.4</td>\n",
       "      <td>251.7</td>\n",
       "      <td>24.18</td>\n",
       "      <td>NaN</td>\n",
       "      <td>2017-04-20 14:39:54.0</td>\n",
       "    </tr>\n",
       "    <tr>\n",
       "      <th>2</th>\n",
       "      <td>4</td>\n",
       "      <td>bl</td>\n",
       "      <td>bl</td>\n",
       "      <td>2005-11-22</td>\n",
       "      <td>ADNI1</td>\n",
       "      <td>UPENNBIOMK9</td>\n",
       "      <td>P06-MP02-MP01</td>\n",
       "      <td>P06-MP02-MP01/2</td>\n",
       "      <td>2017-01-09</td>\n",
       "      <td>1501</td>\n",
       "      <td>153.1</td>\n",
       "      <td>13.29</td>\n",
       "      <td>NaN</td>\n",
       "      <td>2017-04-20 14:39:54.0</td>\n",
       "    </tr>\n",
       "    <tr>\n",
       "      <th>3</th>\n",
       "      <td>4</td>\n",
       "      <td>m12</td>\n",
       "      <td>m12</td>\n",
       "      <td>2006-11-28</td>\n",
       "      <td>ADNI1</td>\n",
       "      <td>UPENNBIOMK9</td>\n",
       "      <td>P06-MP02-MP01</td>\n",
       "      <td>P06-MP02-MP01/2</td>\n",
       "      <td>2017-01-09</td>\n",
       "      <td>1176</td>\n",
       "      <td>159.7</td>\n",
       "      <td>13.3</td>\n",
       "      <td>NaN</td>\n",
       "      <td>2017-04-20 14:39:54.0</td>\n",
       "    </tr>\n",
       "    <tr>\n",
       "      <th>4</th>\n",
       "      <td>5</td>\n",
       "      <td>m12</td>\n",
       "      <td>m12</td>\n",
       "      <td>2006-09-06</td>\n",
       "      <td>ADNI1</td>\n",
       "      <td>UPENNBIOMK9</td>\n",
       "      <td>P06-MP02-MP01</td>\n",
       "      <td>P06-MP02-MP01/2</td>\n",
       "      <td>2016-11-22</td>\n",
       "      <td>472.8</td>\n",
       "      <td>334.1</td>\n",
       "      <td>34.04</td>\n",
       "      <td>NaN</td>\n",
       "      <td>2017-04-20 14:39:54.0</td>\n",
       "    </tr>\n",
       "  </tbody>\n",
       "</table>\n",
       "</div>"
      ],
      "text/plain": [
       "   RID VISCODE VISCODE2    EXAMDATE  PHASE        BATCH            KIT  \\\n",
       "0    3      bl       bl  2005-09-12  ADNI1  UPENNBIOMK9  P06-MP02-MP01   \n",
       "1    3     m12      m12  2006-09-13  ADNI1  UPENNBIOMK9  P06-MP02-MP01   \n",
       "2    4      bl       bl  2005-11-22  ADNI1  UPENNBIOMK9  P06-MP02-MP01   \n",
       "3    4     m12      m12  2006-11-28  ADNI1  UPENNBIOMK9  P06-MP02-MP01   \n",
       "4    5     m12      m12  2006-09-06  ADNI1  UPENNBIOMK9  P06-MP02-MP01   \n",
       "\n",
       "              STDS     RUNDATE  ABETA    TAU   PTAU COMMENT  \\\n",
       "0  P06-MP02-MP01/2  2016-12-14  741.5  239.7  22.83     NaN   \n",
       "1  P06-MP02-MP01/2  2016-12-14  601.4  251.7  24.18     NaN   \n",
       "2  P06-MP02-MP01/2  2017-01-09   1501  153.1  13.29     NaN   \n",
       "3  P06-MP02-MP01/2  2017-01-09   1176  159.7   13.3     NaN   \n",
       "4  P06-MP02-MP01/2  2016-11-22  472.8  334.1  34.04     NaN   \n",
       "\n",
       "            update_stamp  \n",
       "0  2017-04-20 14:39:54.0  \n",
       "1  2017-04-20 14:39:54.0  \n",
       "2  2017-04-20 14:39:54.0  \n",
       "3  2017-04-20 14:39:54.0  \n",
       "4  2017-04-20 14:39:54.0  "
      ]
     },
     "execution_count": 5,
     "metadata": {},
     "output_type": "execute_result"
    }
   ],
   "source": [
    "df.head()"
   ]
  },
  {
   "cell_type": "markdown",
   "metadata": {},
   "source": [
    "Elimino le colonne che non mi interessano e tengo solo le baseline degli ADNI1. A questo punto elimino tutte le righe che non contengono i CSF"
   ]
  },
  {
   "cell_type": "code",
   "execution_count": 6,
   "metadata": {},
   "outputs": [],
   "source": [
    "ADNI = ADNI[['RID', 'PTID', 'VISCODE', 'COLPROT', 'EXAMDATE', 'DX_bl','AGE',\n",
    "             'PTGENDER', 'ABETA', 'TAU', 'PTAU', 'Month_bl']]\n",
    "ADNI1 = ADNI.loc[(ADNI['COLPROT'] == 'ADNI1') & (ADNI['VISCODE'] == 'bl')]\n",
    "ADNI1 = ADNI1.dropna(axis=0, subset=['ABETA'])\n",
    "\n",
    "# ADNITOT è la raccolta comprendente ADNI 2 + go +3. Le baseline in questo caso si riferiscono\n",
    "# solamente ai nuovi pazienti per le nuove raccolte\n",
    "\n",
    "ADNITOT = ADNI.loc[(ADNI['COLPROT'] != 'ADNI1') & (ADNI['VISCODE'] == 'bl')]\n",
    "ADNITOT = ADNITOT.dropna(axis=0, subset=['ABETA'])"
   ]
  },
  {
   "cell_type": "code",
   "execution_count": 7,
   "metadata": {},
   "outputs": [
    {
     "data": {
      "text/html": [
       "<div>\n",
       "<style scoped>\n",
       "    .dataframe tbody tr th:only-of-type {\n",
       "        vertical-align: middle;\n",
       "    }\n",
       "\n",
       "    .dataframe tbody tr th {\n",
       "        vertical-align: top;\n",
       "    }\n",
       "\n",
       "    .dataframe thead th {\n",
       "        text-align: right;\n",
       "    }\n",
       "</style>\n",
       "<table border=\"1\" class=\"dataframe\">\n",
       "  <thead>\n",
       "    <tr style=\"text-align: right;\">\n",
       "      <th></th>\n",
       "      <th>RID</th>\n",
       "      <th>PTID</th>\n",
       "      <th>VISCODE</th>\n",
       "      <th>COLPROT</th>\n",
       "      <th>EXAMDATE</th>\n",
       "      <th>DX_bl</th>\n",
       "      <th>AGE</th>\n",
       "      <th>PTGENDER</th>\n",
       "      <th>ABETA</th>\n",
       "      <th>TAU</th>\n",
       "      <th>PTAU</th>\n",
       "      <th>Month_bl</th>\n",
       "    </tr>\n",
       "  </thead>\n",
       "  <tbody>\n",
       "    <tr>\n",
       "      <th>1</th>\n",
       "      <td>3</td>\n",
       "      <td>011_S_0003</td>\n",
       "      <td>bl</td>\n",
       "      <td>ADNI1</td>\n",
       "      <td>2005-09-12</td>\n",
       "      <td>AD</td>\n",
       "      <td>81.3</td>\n",
       "      <td>Male</td>\n",
       "      <td>741.5</td>\n",
       "      <td>239.7</td>\n",
       "      <td>22.83</td>\n",
       "      <td>0.0</td>\n",
       "    </tr>\n",
       "    <tr>\n",
       "      <th>5</th>\n",
       "      <td>4</td>\n",
       "      <td>022_S_0004</td>\n",
       "      <td>bl</td>\n",
       "      <td>ADNI1</td>\n",
       "      <td>2005-11-08</td>\n",
       "      <td>LMCI</td>\n",
       "      <td>67.5</td>\n",
       "      <td>Male</td>\n",
       "      <td>1501</td>\n",
       "      <td>153.1</td>\n",
       "      <td>13.29</td>\n",
       "      <td>0.0</td>\n",
       "    </tr>\n",
       "    <tr>\n",
       "      <th>10</th>\n",
       "      <td>5</td>\n",
       "      <td>011_S_0005</td>\n",
       "      <td>bl</td>\n",
       "      <td>ADNI1</td>\n",
       "      <td>2005-09-07</td>\n",
       "      <td>CN</td>\n",
       "      <td>73.7</td>\n",
       "      <td>Male</td>\n",
       "      <td>547.3</td>\n",
       "      <td>337</td>\n",
       "      <td>33.43</td>\n",
       "      <td>0.0</td>\n",
       "    </tr>\n",
       "    <tr>\n",
       "      <th>22</th>\n",
       "      <td>10</td>\n",
       "      <td>011_S_0010</td>\n",
       "      <td>bl</td>\n",
       "      <td>ADNI1</td>\n",
       "      <td>2005-11-10</td>\n",
       "      <td>AD</td>\n",
       "      <td>73.9</td>\n",
       "      <td>Female</td>\n",
       "      <td>357.4</td>\n",
       "      <td>329.9</td>\n",
       "      <td>31.26</td>\n",
       "      <td>0.0</td>\n",
       "    </tr>\n",
       "    <tr>\n",
       "      <th>26</th>\n",
       "      <td>14</td>\n",
       "      <td>022_S_0014</td>\n",
       "      <td>bl</td>\n",
       "      <td>ADNI1</td>\n",
       "      <td>2005-11-04</td>\n",
       "      <td>CN</td>\n",
       "      <td>78.5</td>\n",
       "      <td>Female</td>\n",
       "      <td>1582</td>\n",
       "      <td>203.6</td>\n",
       "      <td>16.68</td>\n",
       "      <td>0.0</td>\n",
       "    </tr>\n",
       "  </tbody>\n",
       "</table>\n",
       "</div>"
      ],
      "text/plain": [
       "    RID        PTID VISCODE COLPROT    EXAMDATE DX_bl   AGE PTGENDER  ABETA  \\\n",
       "1     3  011_S_0003      bl   ADNI1  2005-09-12    AD  81.3     Male  741.5   \n",
       "5     4  022_S_0004      bl   ADNI1  2005-11-08  LMCI  67.5     Male   1501   \n",
       "10    5  011_S_0005      bl   ADNI1  2005-09-07    CN  73.7     Male  547.3   \n",
       "22   10  011_S_0010      bl   ADNI1  2005-11-10    AD  73.9   Female  357.4   \n",
       "26   14  022_S_0014      bl   ADNI1  2005-11-04    CN  78.5   Female   1582   \n",
       "\n",
       "      TAU   PTAU  Month_bl  \n",
       "1   239.7  22.83       0.0  \n",
       "5   153.1  13.29       0.0  \n",
       "10    337  33.43       0.0  \n",
       "22  329.9  31.26       0.0  \n",
       "26  203.6  16.68       0.0  "
      ]
     },
     "execution_count": 7,
     "metadata": {},
     "output_type": "execute_result"
    }
   ],
   "source": [
    "ADNI1.head()"
   ]
  },
  {
   "cell_type": "markdown",
   "metadata": {},
   "source": [
    "Raggruppo in base alle classi 'AD', 'CN', 'LMCI' e conto "
   ]
  },
  {
   "cell_type": "code",
   "execution_count": 8,
   "metadata": {},
   "outputs": [
    {
     "data": {
      "text/html": [
       "<div>\n",
       "<style scoped>\n",
       "    .dataframe tbody tr th:only-of-type {\n",
       "        vertical-align: middle;\n",
       "    }\n",
       "\n",
       "    .dataframe tbody tr th {\n",
       "        vertical-align: top;\n",
       "    }\n",
       "\n",
       "    .dataframe thead th {\n",
       "        text-align: right;\n",
       "    }\n",
       "</style>\n",
       "<table border=\"1\" class=\"dataframe\">\n",
       "  <thead>\n",
       "    <tr style=\"text-align: right;\">\n",
       "      <th></th>\n",
       "      <th>RID</th>\n",
       "      <th>PTID</th>\n",
       "      <th>VISCODE</th>\n",
       "      <th>COLPROT</th>\n",
       "      <th>EXAMDATE</th>\n",
       "      <th>AGE</th>\n",
       "      <th>PTGENDER</th>\n",
       "      <th>ABETA</th>\n",
       "      <th>TAU</th>\n",
       "      <th>PTAU</th>\n",
       "      <th>Month_bl</th>\n",
       "    </tr>\n",
       "    <tr>\n",
       "      <th>DX_bl</th>\n",
       "      <th></th>\n",
       "      <th></th>\n",
       "      <th></th>\n",
       "      <th></th>\n",
       "      <th></th>\n",
       "      <th></th>\n",
       "      <th></th>\n",
       "      <th></th>\n",
       "      <th></th>\n",
       "      <th></th>\n",
       "      <th></th>\n",
       "    </tr>\n",
       "  </thead>\n",
       "  <tbody>\n",
       "    <tr>\n",
       "      <th>AD</th>\n",
       "      <td>97</td>\n",
       "      <td>97</td>\n",
       "      <td>97</td>\n",
       "      <td>97</td>\n",
       "      <td>97</td>\n",
       "      <td>97</td>\n",
       "      <td>97</td>\n",
       "      <td>97</td>\n",
       "      <td>97</td>\n",
       "      <td>97</td>\n",
       "      <td>97</td>\n",
       "    </tr>\n",
       "    <tr>\n",
       "      <th>CN</th>\n",
       "      <td>112</td>\n",
       "      <td>112</td>\n",
       "      <td>112</td>\n",
       "      <td>112</td>\n",
       "      <td>112</td>\n",
       "      <td>112</td>\n",
       "      <td>112</td>\n",
       "      <td>112</td>\n",
       "      <td>112</td>\n",
       "      <td>112</td>\n",
       "      <td>112</td>\n",
       "    </tr>\n",
       "    <tr>\n",
       "      <th>LMCI</th>\n",
       "      <td>187</td>\n",
       "      <td>187</td>\n",
       "      <td>187</td>\n",
       "      <td>187</td>\n",
       "      <td>187</td>\n",
       "      <td>187</td>\n",
       "      <td>187</td>\n",
       "      <td>187</td>\n",
       "      <td>187</td>\n",
       "      <td>187</td>\n",
       "      <td>187</td>\n",
       "    </tr>\n",
       "  </tbody>\n",
       "</table>\n",
       "</div>"
      ],
      "text/plain": [
       "       RID  PTID  VISCODE  COLPROT  EXAMDATE  AGE  PTGENDER  ABETA  TAU  PTAU  \\\n",
       "DX_bl                                                                           \n",
       "AD      97    97       97       97        97   97        97     97   97    97   \n",
       "CN     112   112      112      112       112  112       112    112  112   112   \n",
       "LMCI   187   187      187      187       187  187       187    187  187   187   \n",
       "\n",
       "       Month_bl  \n",
       "DX_bl            \n",
       "AD           97  \n",
       "CN          112  \n",
       "LMCI        187  "
      ]
     },
     "execution_count": 8,
     "metadata": {},
     "output_type": "execute_result"
    }
   ],
   "source": [
    "ADNI1.groupby('DX_bl').count()"
   ]
  },
  {
   "cell_type": "code",
   "execution_count": 9,
   "metadata": {
    "scrolled": true
   },
   "outputs": [
    {
     "data": {
      "text/html": [
       "<div>\n",
       "<style scoped>\n",
       "    .dataframe tbody tr th:only-of-type {\n",
       "        vertical-align: middle;\n",
       "    }\n",
       "\n",
       "    .dataframe tbody tr th {\n",
       "        vertical-align: top;\n",
       "    }\n",
       "\n",
       "    .dataframe thead th {\n",
       "        text-align: right;\n",
       "    }\n",
       "</style>\n",
       "<table border=\"1\" class=\"dataframe\">\n",
       "  <thead>\n",
       "    <tr style=\"text-align: right;\">\n",
       "      <th></th>\n",
       "      <th>RID</th>\n",
       "      <th>PTID</th>\n",
       "      <th>VISCODE</th>\n",
       "      <th>COLPROT</th>\n",
       "      <th>EXAMDATE</th>\n",
       "      <th>AGE</th>\n",
       "      <th>PTGENDER</th>\n",
       "      <th>ABETA</th>\n",
       "      <th>TAU</th>\n",
       "      <th>PTAU</th>\n",
       "      <th>Month_bl</th>\n",
       "    </tr>\n",
       "    <tr>\n",
       "      <th>DX_bl</th>\n",
       "      <th></th>\n",
       "      <th></th>\n",
       "      <th></th>\n",
       "      <th></th>\n",
       "      <th></th>\n",
       "      <th></th>\n",
       "      <th></th>\n",
       "      <th></th>\n",
       "      <th></th>\n",
       "      <th></th>\n",
       "      <th></th>\n",
       "    </tr>\n",
       "  </thead>\n",
       "  <tbody>\n",
       "    <tr>\n",
       "      <th>AD</th>\n",
       "      <td>132</td>\n",
       "      <td>132</td>\n",
       "      <td>132</td>\n",
       "      <td>132</td>\n",
       "      <td>132</td>\n",
       "      <td>132</td>\n",
       "      <td>132</td>\n",
       "      <td>132</td>\n",
       "      <td>132</td>\n",
       "      <td>132</td>\n",
       "      <td>132</td>\n",
       "    </tr>\n",
       "    <tr>\n",
       "      <th>CN</th>\n",
       "      <td>160</td>\n",
       "      <td>160</td>\n",
       "      <td>160</td>\n",
       "      <td>160</td>\n",
       "      <td>160</td>\n",
       "      <td>160</td>\n",
       "      <td>160</td>\n",
       "      <td>160</td>\n",
       "      <td>160</td>\n",
       "      <td>160</td>\n",
       "      <td>160</td>\n",
       "    </tr>\n",
       "    <tr>\n",
       "      <th>EMCI</th>\n",
       "      <td>277</td>\n",
       "      <td>277</td>\n",
       "      <td>277</td>\n",
       "      <td>277</td>\n",
       "      <td>277</td>\n",
       "      <td>277</td>\n",
       "      <td>277</td>\n",
       "      <td>277</td>\n",
       "      <td>277</td>\n",
       "      <td>277</td>\n",
       "      <td>277</td>\n",
       "    </tr>\n",
       "    <tr>\n",
       "      <th>LMCI</th>\n",
       "      <td>155</td>\n",
       "      <td>155</td>\n",
       "      <td>155</td>\n",
       "      <td>155</td>\n",
       "      <td>155</td>\n",
       "      <td>155</td>\n",
       "      <td>155</td>\n",
       "      <td>155</td>\n",
       "      <td>155</td>\n",
       "      <td>155</td>\n",
       "      <td>155</td>\n",
       "    </tr>\n",
       "    <tr>\n",
       "      <th>SMC</th>\n",
       "      <td>95</td>\n",
       "      <td>95</td>\n",
       "      <td>95</td>\n",
       "      <td>95</td>\n",
       "      <td>95</td>\n",
       "      <td>95</td>\n",
       "      <td>95</td>\n",
       "      <td>95</td>\n",
       "      <td>95</td>\n",
       "      <td>95</td>\n",
       "      <td>95</td>\n",
       "    </tr>\n",
       "  </tbody>\n",
       "</table>\n",
       "</div>"
      ],
      "text/plain": [
       "       RID  PTID  VISCODE  COLPROT  EXAMDATE  AGE  PTGENDER  ABETA  TAU  PTAU  \\\n",
       "DX_bl                                                                           \n",
       "AD     132   132      132      132       132  132       132    132  132   132   \n",
       "CN     160   160      160      160       160  160       160    160  160   160   \n",
       "EMCI   277   277      277      277       277  277       277    277  277   277   \n",
       "LMCI   155   155      155      155       155  155       155    155  155   155   \n",
       "SMC     95    95       95       95        95   95        95     95   95    95   \n",
       "\n",
       "       Month_bl  \n",
       "DX_bl            \n",
       "AD          132  \n",
       "CN          160  \n",
       "EMCI        277  \n",
       "LMCI        155  \n",
       "SMC          95  "
      ]
     },
     "execution_count": 9,
     "metadata": {},
     "output_type": "execute_result"
    }
   ],
   "source": [
    "ADNITOT.groupby('DX_bl').count()"
   ]
  },
  {
   "cell_type": "markdown",
   "metadata": {},
   "source": [
    "In alcuni casi, quando il valore per i CSF supera una certa soglia, non viene riportato il valore vero ma un valore indicativo (es. > 1700). Sostituisco questi intervalli con il valore riportato"
   ]
  },
  {
   "cell_type": "code",
   "execution_count": 10,
   "metadata": {},
   "outputs": [],
   "source": [
    "# verifico il numero di casi in cui questo accade nella raccolta ADNI1\n",
    "ADNI1_NO = ADNI1.loc[(ADNI1['ABETA']=='>1700') | (ADNI1['ABETA']=='<200') | (ADNI1['TAU']=='>1300') \n",
    "                 | (ADNI1['TAU']=='<80') | (ADNI1['PTAU']=='>120') | (ADNI1['PTAU']=='<8')]"
   ]
  },
  {
   "cell_type": "code",
   "execution_count": 11,
   "metadata": {},
   "outputs": [
    {
     "data": {
      "text/html": [
       "<div>\n",
       "<style scoped>\n",
       "    .dataframe tbody tr th:only-of-type {\n",
       "        vertical-align: middle;\n",
       "    }\n",
       "\n",
       "    .dataframe tbody tr th {\n",
       "        vertical-align: top;\n",
       "    }\n",
       "\n",
       "    .dataframe thead th {\n",
       "        text-align: right;\n",
       "    }\n",
       "</style>\n",
       "<table border=\"1\" class=\"dataframe\">\n",
       "  <thead>\n",
       "    <tr style=\"text-align: right;\">\n",
       "      <th></th>\n",
       "      <th>RID</th>\n",
       "      <th>PTID</th>\n",
       "      <th>VISCODE</th>\n",
       "      <th>COLPROT</th>\n",
       "      <th>EXAMDATE</th>\n",
       "      <th>AGE</th>\n",
       "      <th>PTGENDER</th>\n",
       "      <th>ABETA</th>\n",
       "      <th>TAU</th>\n",
       "      <th>PTAU</th>\n",
       "      <th>Month_bl</th>\n",
       "    </tr>\n",
       "    <tr>\n",
       "      <th>DX_bl</th>\n",
       "      <th></th>\n",
       "      <th></th>\n",
       "      <th></th>\n",
       "      <th></th>\n",
       "      <th></th>\n",
       "      <th></th>\n",
       "      <th></th>\n",
       "      <th></th>\n",
       "      <th></th>\n",
       "      <th></th>\n",
       "      <th></th>\n",
       "    </tr>\n",
       "  </thead>\n",
       "  <tbody>\n",
       "    <tr>\n",
       "      <th>AD</th>\n",
       "      <td>4</td>\n",
       "      <td>4</td>\n",
       "      <td>4</td>\n",
       "      <td>4</td>\n",
       "      <td>4</td>\n",
       "      <td>4</td>\n",
       "      <td>4</td>\n",
       "      <td>4</td>\n",
       "      <td>4</td>\n",
       "      <td>4</td>\n",
       "      <td>4</td>\n",
       "    </tr>\n",
       "    <tr>\n",
       "      <th>CN</th>\n",
       "      <td>24</td>\n",
       "      <td>24</td>\n",
       "      <td>24</td>\n",
       "      <td>24</td>\n",
       "      <td>24</td>\n",
       "      <td>24</td>\n",
       "      <td>24</td>\n",
       "      <td>24</td>\n",
       "      <td>24</td>\n",
       "      <td>24</td>\n",
       "      <td>24</td>\n",
       "    </tr>\n",
       "    <tr>\n",
       "      <th>LMCI</th>\n",
       "      <td>17</td>\n",
       "      <td>17</td>\n",
       "      <td>17</td>\n",
       "      <td>17</td>\n",
       "      <td>17</td>\n",
       "      <td>17</td>\n",
       "      <td>17</td>\n",
       "      <td>17</td>\n",
       "      <td>17</td>\n",
       "      <td>17</td>\n",
       "      <td>17</td>\n",
       "    </tr>\n",
       "  </tbody>\n",
       "</table>\n",
       "</div>"
      ],
      "text/plain": [
       "       RID  PTID  VISCODE  COLPROT  EXAMDATE  AGE  PTGENDER  ABETA  TAU  PTAU  \\\n",
       "DX_bl                                                                           \n",
       "AD       4     4        4        4         4    4         4      4    4     4   \n",
       "CN      24    24       24       24        24   24        24     24   24    24   \n",
       "LMCI    17    17       17       17        17   17        17     17   17    17   \n",
       "\n",
       "       Month_bl  \n",
       "DX_bl            \n",
       "AD            4  \n",
       "CN           24  \n",
       "LMCI         17  "
      ]
     },
     "execution_count": 11,
     "metadata": {},
     "output_type": "execute_result"
    }
   ],
   "source": [
    "ADNI1_NO.groupby('DX_bl').count()"
   ]
  },
  {
   "cell_type": "markdown",
   "metadata": {},
   "source": [
    "I dati in cui i CSF non sono indicati nel dettaglio nella raccolta ADNI1 sono il 4% per il caso AD, il 21% per il caso CN e il 9% per il caso LMCI\n"
   ]
  },
  {
   "cell_type": "code",
   "execution_count": 12,
   "metadata": {},
   "outputs": [],
   "source": [
    "# verifico il numero di casi in cui questo accade nella raccolta completa ADNI2 +3 +GO\n",
    "ADNITOT_NO = ADNITOT.loc[(ADNITOT['ABETA']=='>1700') | (ADNITOT['ABETA']=='<200') | (ADNITOT['TAU']=='>1300') \n",
    "                 | (ADNITOT['TAU']=='<80') | (ADNITOT['PTAU']=='>120') | (ADNITOT['PTAU']=='<8')]"
   ]
  },
  {
   "cell_type": "code",
   "execution_count": 13,
   "metadata": {},
   "outputs": [],
   "source": [
    "# sistemo! Posso però farlo solamente per il >1700. vedo quanto migliora\n",
    "for index, row in ADNI1.iterrows():\n",
    "    if row['ABETA']=='>1700':\n",
    "        x = (df.loc[(df.RID==row['RID']) & (df.VISCODE2 == 'bl')]['COMMENT'].str.split(' ').values[0][-2])\n",
    "        ADNI1.at[index, 'ABETA'] = x\n",
    "        \n",
    "for index, row in ADNITOT.iterrows():\n",
    "    if row['ABETA']=='>1700':\n",
    "        x = (df.loc[(df.RID==row['RID']) & (df.VISCODE2 == 'bl')]['COMMENT'].str.split(' ').values[0][-2])\n",
    "        ADNITOT.at[index, 'ABETA'] = x"
   ]
  },
  {
   "cell_type": "markdown",
   "metadata": {},
   "source": [
    "Verifico quanto è migliorata la situazione"
   ]
  },
  {
   "cell_type": "code",
   "execution_count": 14,
   "metadata": {},
   "outputs": [],
   "source": [
    "ADNI1_NO = ADNI1.loc[(ADNI1['ABETA']=='>1700') | (ADNI1['ABETA']=='<200') | (ADNI1['TAU']=='>1300') \n",
    "                 | (ADNI1['TAU']=='<80') | (ADNI1['PTAU']=='>120') | (ADNI1['PTAU']=='<8')]\n",
    "ADNITOT_NO = ADNITOT.loc[(ADNITOT['ABETA']=='>1700') | (ADNITOT['ABETA']=='<200') | (ADNITOT['TAU']=='>1300') \n",
    "                 | (ADNITOT['TAU']=='<80') | (ADNITOT['PTAU']=='>120') | (ADNITOT['PTAU']=='<8')]"
   ]
  },
  {
   "cell_type": "code",
   "execution_count": 15,
   "metadata": {},
   "outputs": [
    {
     "data": {
      "text/html": [
       "<div>\n",
       "<style scoped>\n",
       "    .dataframe tbody tr th:only-of-type {\n",
       "        vertical-align: middle;\n",
       "    }\n",
       "\n",
       "    .dataframe tbody tr th {\n",
       "        vertical-align: top;\n",
       "    }\n",
       "\n",
       "    .dataframe thead th {\n",
       "        text-align: right;\n",
       "    }\n",
       "</style>\n",
       "<table border=\"1\" class=\"dataframe\">\n",
       "  <thead>\n",
       "    <tr style=\"text-align: right;\">\n",
       "      <th></th>\n",
       "      <th>RID</th>\n",
       "      <th>PTID</th>\n",
       "      <th>VISCODE</th>\n",
       "      <th>COLPROT</th>\n",
       "      <th>EXAMDATE</th>\n",
       "      <th>AGE</th>\n",
       "      <th>PTGENDER</th>\n",
       "      <th>ABETA</th>\n",
       "      <th>TAU</th>\n",
       "      <th>PTAU</th>\n",
       "      <th>Month_bl</th>\n",
       "    </tr>\n",
       "    <tr>\n",
       "      <th>DX_bl</th>\n",
       "      <th></th>\n",
       "      <th></th>\n",
       "      <th></th>\n",
       "      <th></th>\n",
       "      <th></th>\n",
       "      <th></th>\n",
       "      <th></th>\n",
       "      <th></th>\n",
       "      <th></th>\n",
       "      <th></th>\n",
       "      <th></th>\n",
       "    </tr>\n",
       "  </thead>\n",
       "  <tbody>\n",
       "    <tr>\n",
       "      <th>AD</th>\n",
       "      <td>1</td>\n",
       "      <td>1</td>\n",
       "      <td>1</td>\n",
       "      <td>1</td>\n",
       "      <td>1</td>\n",
       "      <td>1</td>\n",
       "      <td>1</td>\n",
       "      <td>1</td>\n",
       "      <td>1</td>\n",
       "      <td>1</td>\n",
       "      <td>1</td>\n",
       "    </tr>\n",
       "    <tr>\n",
       "      <th>CN</th>\n",
       "      <td>4</td>\n",
       "      <td>4</td>\n",
       "      <td>4</td>\n",
       "      <td>4</td>\n",
       "      <td>4</td>\n",
       "      <td>4</td>\n",
       "      <td>4</td>\n",
       "      <td>4</td>\n",
       "      <td>4</td>\n",
       "      <td>4</td>\n",
       "      <td>4</td>\n",
       "    </tr>\n",
       "    <tr>\n",
       "      <th>LMCI</th>\n",
       "      <td>1</td>\n",
       "      <td>1</td>\n",
       "      <td>1</td>\n",
       "      <td>1</td>\n",
       "      <td>1</td>\n",
       "      <td>1</td>\n",
       "      <td>1</td>\n",
       "      <td>1</td>\n",
       "      <td>1</td>\n",
       "      <td>1</td>\n",
       "      <td>1</td>\n",
       "    </tr>\n",
       "  </tbody>\n",
       "</table>\n",
       "</div>"
      ],
      "text/plain": [
       "       RID  PTID  VISCODE  COLPROT  EXAMDATE  AGE  PTGENDER  ABETA  TAU  PTAU  \\\n",
       "DX_bl                                                                           \n",
       "AD       1     1        1        1         1    1         1      1    1     1   \n",
       "CN       4     4        4        4         4    4         4      4    4     4   \n",
       "LMCI     1     1        1        1         1    1         1      1    1     1   \n",
       "\n",
       "       Month_bl  \n",
       "DX_bl            \n",
       "AD            1  \n",
       "CN            4  \n",
       "LMCI          1  "
      ]
     },
     "execution_count": 15,
     "metadata": {},
     "output_type": "execute_result"
    }
   ],
   "source": [
    "ADNI1_NO.groupby('DX_bl').count()"
   ]
  },
  {
   "cell_type": "code",
   "execution_count": 16,
   "metadata": {},
   "outputs": [
    {
     "data": {
      "text/html": [
       "<div>\n",
       "<style scoped>\n",
       "    .dataframe tbody tr th:only-of-type {\n",
       "        vertical-align: middle;\n",
       "    }\n",
       "\n",
       "    .dataframe tbody tr th {\n",
       "        vertical-align: top;\n",
       "    }\n",
       "\n",
       "    .dataframe thead th {\n",
       "        text-align: right;\n",
       "    }\n",
       "</style>\n",
       "<table border=\"1\" class=\"dataframe\">\n",
       "  <thead>\n",
       "    <tr style=\"text-align: right;\">\n",
       "      <th></th>\n",
       "      <th>RID</th>\n",
       "      <th>PTID</th>\n",
       "      <th>VISCODE</th>\n",
       "      <th>COLPROT</th>\n",
       "      <th>EXAMDATE</th>\n",
       "      <th>AGE</th>\n",
       "      <th>PTGENDER</th>\n",
       "      <th>ABETA</th>\n",
       "      <th>TAU</th>\n",
       "      <th>PTAU</th>\n",
       "      <th>Month_bl</th>\n",
       "    </tr>\n",
       "    <tr>\n",
       "      <th>DX_bl</th>\n",
       "      <th></th>\n",
       "      <th></th>\n",
       "      <th></th>\n",
       "      <th></th>\n",
       "      <th></th>\n",
       "      <th></th>\n",
       "      <th></th>\n",
       "      <th></th>\n",
       "      <th></th>\n",
       "      <th></th>\n",
       "      <th></th>\n",
       "    </tr>\n",
       "  </thead>\n",
       "  <tbody>\n",
       "    <tr>\n",
       "      <th>CN</th>\n",
       "      <td>1</td>\n",
       "      <td>1</td>\n",
       "      <td>1</td>\n",
       "      <td>1</td>\n",
       "      <td>1</td>\n",
       "      <td>1</td>\n",
       "      <td>1</td>\n",
       "      <td>1</td>\n",
       "      <td>1</td>\n",
       "      <td>1</td>\n",
       "      <td>1</td>\n",
       "    </tr>\n",
       "  </tbody>\n",
       "</table>\n",
       "</div>"
      ],
      "text/plain": [
       "       RID  PTID  VISCODE  COLPROT  EXAMDATE  AGE  PTGENDER  ABETA  TAU  PTAU  \\\n",
       "DX_bl                                                                           \n",
       "CN       1     1        1        1         1    1         1      1    1     1   \n",
       "\n",
       "       Month_bl  \n",
       "DX_bl            \n",
       "CN            1  "
      ]
     },
     "execution_count": 16,
     "metadata": {},
     "output_type": "execute_result"
    }
   ],
   "source": [
    "ADNITOT_NO.groupby('DX_bl').count()"
   ]
  },
  {
   "cell_type": "markdown",
   "metadata": {},
   "source": [
    "Molto meglio! questi casi rimanenti li elimino direttamente"
   ]
  },
  {
   "cell_type": "code",
   "execution_count": 17,
   "metadata": {},
   "outputs": [],
   "source": [
    "ADNI1 = pd.concat([ADNI1, ADNI1_NO]).drop_duplicates(keep=False)\n",
    "ADNITOT = pd.concat([ADNITOT, ADNITOT_NO]).drop_duplicates(keep=False)"
   ]
  },
  {
   "cell_type": "code",
   "execution_count": 18,
   "metadata": {},
   "outputs": [
    {
     "data": {
      "text/html": [
       "<div>\n",
       "<style scoped>\n",
       "    .dataframe tbody tr th:only-of-type {\n",
       "        vertical-align: middle;\n",
       "    }\n",
       "\n",
       "    .dataframe tbody tr th {\n",
       "        vertical-align: top;\n",
       "    }\n",
       "\n",
       "    .dataframe thead th {\n",
       "        text-align: right;\n",
       "    }\n",
       "</style>\n",
       "<table border=\"1\" class=\"dataframe\">\n",
       "  <thead>\n",
       "    <tr style=\"text-align: right;\">\n",
       "      <th></th>\n",
       "      <th>RID</th>\n",
       "      <th>PTID</th>\n",
       "      <th>VISCODE</th>\n",
       "      <th>COLPROT</th>\n",
       "      <th>EXAMDATE</th>\n",
       "      <th>DX_bl</th>\n",
       "      <th>AGE</th>\n",
       "      <th>PTGENDER</th>\n",
       "      <th>ABETA</th>\n",
       "      <th>TAU</th>\n",
       "      <th>PTAU</th>\n",
       "      <th>Month_bl</th>\n",
       "    </tr>\n",
       "  </thead>\n",
       "  <tbody>\n",
       "  </tbody>\n",
       "</table>\n",
       "</div>"
      ],
      "text/plain": [
       "Empty DataFrame\n",
       "Columns: [RID, PTID, VISCODE, COLPROT, EXAMDATE, DX_bl, AGE, PTGENDER, ABETA, TAU, PTAU, Month_bl]\n",
       "Index: []"
      ]
     },
     "execution_count": 18,
     "metadata": {},
     "output_type": "execute_result"
    }
   ],
   "source": [
    "# Verifico che non ci siano più casi simili\n",
    "ADNI1.loc[(ADNI1['ABETA']=='>1700') | (ADNI1['ABETA']=='<200') | (ADNI1['TAU']=='>1300') \n",
    "                 | (ADNI1['TAU']=='<80') | (ADNI1['PTAU']=='>120') | (ADNI1['PTAU']=='<8')]"
   ]
  },
  {
   "cell_type": "code",
   "execution_count": 19,
   "metadata": {},
   "outputs": [
    {
     "data": {
      "text/html": [
       "<div>\n",
       "<style scoped>\n",
       "    .dataframe tbody tr th:only-of-type {\n",
       "        vertical-align: middle;\n",
       "    }\n",
       "\n",
       "    .dataframe tbody tr th {\n",
       "        vertical-align: top;\n",
       "    }\n",
       "\n",
       "    .dataframe thead th {\n",
       "        text-align: right;\n",
       "    }\n",
       "</style>\n",
       "<table border=\"1\" class=\"dataframe\">\n",
       "  <thead>\n",
       "    <tr style=\"text-align: right;\">\n",
       "      <th></th>\n",
       "      <th>RID</th>\n",
       "      <th>PTID</th>\n",
       "      <th>VISCODE</th>\n",
       "      <th>COLPROT</th>\n",
       "      <th>EXAMDATE</th>\n",
       "      <th>DX_bl</th>\n",
       "      <th>AGE</th>\n",
       "      <th>PTGENDER</th>\n",
       "      <th>ABETA</th>\n",
       "      <th>TAU</th>\n",
       "      <th>PTAU</th>\n",
       "      <th>Month_bl</th>\n",
       "    </tr>\n",
       "  </thead>\n",
       "  <tbody>\n",
       "  </tbody>\n",
       "</table>\n",
       "</div>"
      ],
      "text/plain": [
       "Empty DataFrame\n",
       "Columns: [RID, PTID, VISCODE, COLPROT, EXAMDATE, DX_bl, AGE, PTGENDER, ABETA, TAU, PTAU, Month_bl]\n",
       "Index: []"
      ]
     },
     "execution_count": 19,
     "metadata": {},
     "output_type": "execute_result"
    }
   ],
   "source": [
    "ADNITOT.loc[(ADNITOT['ABETA']=='>1700') | (ADNITOT['ABETA']=='<200') | (ADNITOT['TAU']=='>1300') \n",
    "                 | (ADNITOT['TAU']=='<80') | (ADNITOT['PTAU']=='>120') | (ADNITOT['PTAU']=='<8')]"
   ]
  },
  {
   "cell_type": "code",
   "execution_count": 20,
   "metadata": {},
   "outputs": [
    {
     "name": "stdout",
     "output_type": "stream",
     "text": [
      "[Errno 17] File exists: 'Output'\n"
     ]
    }
   ],
   "source": [
    "try:\n",
    "    os.makedirs('Output')\n",
    "except Exception as e:\n",
    "    print(e)"
   ]
  },
  {
   "cell_type": "code",
   "execution_count": 21,
   "metadata": {},
   "outputs": [],
   "source": [
    "ADNI1.to_csv('Output/ADNI1.csv')\n",
    "ADNITOT.to_csv('Output/ADNITOT.csv')"
   ]
  },
  {
   "cell_type": "markdown",
   "metadata": {},
   "source": [
    "Grafico per ABeta42"
   ]
  },
  {
   "cell_type": "code",
   "execution_count": null,
   "metadata": {},
   "outputs": [],
   "source": [
    "plt.figure(figsize=(20,8))\n",
    "\n",
    "plt.subplot(121)\n",
    "plt.title('Abeta42 ADNI2, 3, GO')\n",
    "plt.grid()\n",
    "for i, dati in ADNITOT.groupby('DX_bl'):\n",
    "    sns.distplot(dati['ABETA'].astype(float), label=str(i), kde_kws={\"lw\": 2.5})\n",
    "plt.legend()\n",
    "\n",
    "plt.subplot(122)\n",
    "plt.title('Abeta42 ADNI1')\n",
    "plt.grid()\n",
    "for i, dati in ADNI1.groupby('DX_bl'):\n",
    "    sns.distplot(dati['ABETA'].astype(float), label=str(i),kde_kws={\"lw\": 2.5})\n",
    "plt.legend()"
   ]
  },
  {
   "cell_type": "markdown",
   "metadata": {},
   "source": [
    "Grafico per Tau"
   ]
  },
  {
   "cell_type": "code",
   "execution_count": null,
   "metadata": {},
   "outputs": [],
   "source": [
    "plt.figure(figsize=(20,8))\n",
    "\n",
    "plt.subplot(121)\n",
    "plt.grid()\n",
    "plt.title('PTAU ADNI2, 3, GO')\n",
    "for i, dati in ADNITOT.groupby('DX_bl'):\n",
    "    sns.distplot(dati['PTAU'].astype(float), label=str(i), kde_kws={\"lw\": 2.5})\n",
    "plt.legend()\n",
    "\n",
    "plt.subplot(122)\n",
    "\n",
    "plt.grid()\n",
    "plt.title('PTAU ADNI1')\n",
    "for i, dati in ADNI1.groupby('DX_bl'):\n",
    "    sns.distplot(dati['PTAU'].astype(float), label=str(i), kde_kws={\"lw\": 2.5})\n",
    "plt.legend()"
   ]
  },
  {
   "cell_type": "markdown",
   "metadata": {},
   "source": [
    "Grafico per tau fosforilata"
   ]
  },
  {
   "cell_type": "code",
   "execution_count": null,
   "metadata": {},
   "outputs": [],
   "source": [
    "plt.figure(figsize=(20,8))\n",
    "\n",
    "plt.subplot(121)\n",
    "plt.title('TAU ADNI2, 3, GO')\n",
    "plt.grid()\n",
    "for i, dati in ADNITOT.groupby('DX_bl'):\n",
    "    sns.distplot(dati['TAU'].astype(float), label=str(i), kde_kws={\"lw\": 2.5})\n",
    "plt.legend()\n",
    "\n",
    "plt.subplot(122)\n",
    "plt.title('TAU ADNI1')\n",
    "plt.grid()\n",
    "for i, dati in ADNI1.groupby('DX_bl'):\n",
    "    sns.distplot(dati['TAU'].astype(float), label=str(i), kde_kws={\"lw\": 2.5})\n",
    "plt.legend()"
   ]
  },
  {
   "cell_type": "markdown",
   "metadata": {},
   "source": [
    "Provo grafici di rapporti: \n",
    "log(PTAU/ABETA)"
   ]
  },
  {
   "cell_type": "code",
   "execution_count": null,
   "metadata": {},
   "outputs": [],
   "source": [
    "plt.figure(figsize=(20,8))\n",
    "\n",
    "plt.subplot(121)\n",
    "plt.grid()\n",
    "for i, dati in ADNITOT.groupby('DX_bl'):\n",
    "    sns.distplot(np.log(dati['PTAU'].astype(float)/(dati['ABETA'].astype(float))), label=str(i), kde_kws={\"lw\": 2.5})\n",
    "plt.legend()\n",
    "\n",
    "plt.subplot(122)\n",
    "\n",
    "plt.grid()\n",
    "for i, dati in ADNI1.groupby('DX_bl'):\n",
    "    sns.distplot(np.log(dati['PTAU'].astype(float)/(dati['ABETA'].astype(float))), label=str(i), kde_kws={\"lw\": 2.5})\n",
    "plt.legend()"
   ]
  },
  {
   "cell_type": "code",
   "execution_count": null,
   "metadata": {},
   "outputs": [],
   "source": [
    "plt.figure(figsize=(20,15))\n",
    "plt.grid()\n",
    "for i, dati in ADNI1.groupby('DX_bl'):\n",
    "    sns.scatterplot(x = 'TAU', y = 'ABETA', s=100, data= dati, label=str(i))\n",
    "plt.legend()"
   ]
  },
  {
   "cell_type": "code",
   "execution_count": null,
   "metadata": {},
   "outputs": [],
   "source": [
    "plt.figure(figsize=(20,15))\n",
    "plt.grid()\n",
    "for i, dati in ADNITOT.groupby('DX_bl'):\n",
    "    if str(i) in ['CN', 'LMCI']:\n",
    "        sns.scatterplot(x = 'PTAU', y = 'ABETA', s=100, data= dati, label=str(i))\n",
    "plt.legend()"
   ]
  },
  {
   "cell_type": "code",
   "execution_count": null,
   "metadata": {},
   "outputs": [],
   "source": [
    "plt.figure(figsize=(20,15))\n",
    "plt.grid()\n",
    "for i, dati in ADNI1.groupby('DX_bl'):\n",
    "    sns.scatterplot(x = 'PTAU', y = 'ABETA', s=100, data= dati, label=str(i))\n",
    "plt.legend()"
   ]
  },
  {
   "cell_type": "code",
   "execution_count": null,
   "metadata": {},
   "outputs": [],
   "source": [
    "plt.figure(figsize=(20,15))\n",
    "plt.grid()\n",
    "for i, dati in ADNI1.groupby('DX_bl'):\n",
    "    sns.scatterplot(x = 'PTAU', y = 'TAU', s=100, data= dati, label=str(i))\n",
    "plt.legend()"
   ]
  },
  {
   "cell_type": "code",
   "execution_count": null,
   "metadata": {},
   "outputs": [],
   "source": [
    "from sklearn.ensemble import RandomForestClassifier\n",
    "from sklearn.model_selection import train_test_split\n",
    "\n",
    "ADNI_train = ADNI1[['ABETA', 'TAU', 'PTAU']]"
   ]
  },
  {
   "cell_type": "code",
   "execution_count": null,
   "metadata": {},
   "outputs": [],
   "source": [
    "xtrain, xtest, ytrain, ytest = train_test_split(ADNI_train, ADNI1['DX_bl'], test_size=0.3, random_state=42)"
   ]
  },
  {
   "cell_type": "code",
   "execution_count": null,
   "metadata": {},
   "outputs": [],
   "source": [
    "\n",
    "\n",
    "# Create the model with 100 trees\n",
    "model = RandomForestClassifier(n_estimators=150, \n",
    "                               bootstrap = True,\n",
    "                               max_features = 'sqrt')\n",
    "# Fit on training data\n",
    "model.fit(xtrain, ytrain)"
   ]
  },
  {
   "cell_type": "code",
   "execution_count": null,
   "metadata": {},
   "outputs": [],
   "source": [
    "# Actual class predictions\n",
    "rf_predictions = model.predict(xtest)\n",
    "# Probabilities for each class\n",
    "rf_probs = model.predict_proba(xtest)[:, 1]"
   ]
  },
  {
   "cell_type": "code",
   "execution_count": null,
   "metadata": {},
   "outputs": [],
   "source": []
  },
  {
   "cell_type": "code",
   "execution_count": null,
   "metadata": {},
   "outputs": [],
   "source": [
    "from sklearn.metrics import confusion_matrix"
   ]
  },
  {
   "cell_type": "code",
   "execution_count": null,
   "metadata": {
    "scrolled": true
   },
   "outputs": [],
   "source": [
    "confusion_matrix(rf_predictions, ytest)"
   ]
  },
  {
   "cell_type": "code",
   "execution_count": null,
   "metadata": {},
   "outputs": [],
   "source": [
    "from sklearn.metrics import accuracy_score,recall_score,confusion_matrix"
   ]
  },
  {
   "cell_type": "code",
   "execution_count": null,
   "metadata": {},
   "outputs": [],
   "source": [
    "accuracy_score(rf_predictions, ytest)"
   ]
  },
  {
   "cell_type": "code",
   "execution_count": null,
   "metadata": {},
   "outputs": [],
   "source": [
    "ADNI1_CUTOFF = ADNI1.loc[((ADNI1['DX_bl']=='AD') & (ADNI1['ABETA'].astype(float) <1000)) | ((ADNI1['DX_bl']=='CN') & (ADNI1['ABETA'].astype(float) >1000)) | (ADNI1['DX_bl']=='LMCI')]"
   ]
  },
  {
   "cell_type": "code",
   "execution_count": null,
   "metadata": {},
   "outputs": [],
   "source": [
    "plt.figure(figsize=(20,8))\n",
    "plt.subplot(121)\n",
    "plt.title('ADNI1')\n",
    "plt.grid()\n",
    "for i, dati in ADNI1.groupby('DX_bl'):\n",
    "    sns.distplot(dati['ABETA'].astype(float), label=str(i), kde_kws={\"lw\": 2.5})\n",
    "plt.legend()\n",
    "\n",
    "plt.subplot(122)\n",
    "plt.title('ADNI1 _ CUTOFF')\n",
    "plt.grid()\n",
    "for i, dati in ADNI1_CUTOFF.groupby('DX_bl'):\n",
    "    sns.distplot(dati['ABETA'].astype(float), label=str(i), kde_kws={\"lw\": 2.5})\n",
    "plt.legend()"
   ]
  },
  {
   "cell_type": "code",
   "execution_count": null,
   "metadata": {},
   "outputs": [],
   "source": [
    "ADNI1_CUTOFF.groupby('DX_bl').count()"
   ]
  },
  {
   "cell_type": "code",
   "execution_count": null,
   "metadata": {},
   "outputs": [],
   "source": [
    "ADNITOT_CUTOFF = ADNITOT.loc[((ADNITOT['DX_bl']=='AD') & (ADNITOT['ABETA'].astype(float) <1000)) | ((ADNITOT['DX_bl']=='CN') & (ADNITOT['ABETA'].astype(float) >1000)) | (ADNITOT['DX_bl'].isin(['LMCI', 'EMCI']))]"
   ]
  },
  {
   "cell_type": "code",
   "execution_count": null,
   "metadata": {},
   "outputs": [],
   "source": [
    "plt.figure(figsize=(20,8))\n",
    "plt.subplot(121)\n",
    "plt.title('ADNITOT')\n",
    "plt.grid()\n",
    "for i, dati in ADNITOT.groupby('DX_bl'):\n",
    "    sns.distplot(dati['ABETA'].astype(float), label=str(i), kde_kws={\"lw\": 2.5})\n",
    "plt.legend()\n",
    "\n",
    "plt.subplot(122)\n",
    "plt.title('ADNITOT _ CUTOFF')\n",
    "plt.grid()\n",
    "for i, dati in ADNITOT_CUTOFF.groupby('DX_bl'):\n",
    "    sns.distplot(dati['ABETA'].astype(float), label=str(i), kde_kws={\"lw\": 2.5})\n",
    "plt.legend()"
   ]
  },
  {
   "cell_type": "code",
   "execution_count": null,
   "metadata": {},
   "outputs": [],
   "source": [
    "ADNITOT_CUTOFF.groupby('DX_bl').count()"
   ]
  },
  {
   "cell_type": "code",
   "execution_count": null,
   "metadata": {},
   "outputs": [],
   "source": [
    "ADNI1.head()"
   ]
  },
  {
   "cell_type": "code",
   "execution_count": 38,
   "metadata": {},
   "outputs": [
    {
     "name": "stdout",
     "output_type": "stream",
     "text": [
      "037_S_0566\n",
      "no\n",
      "100_S_0892\n",
      "no\n",
      "100_S_0930\n",
      "no\n",
      "018_S_0055\n",
      "no\n",
      "4\n"
     ]
    }
   ],
   "source": [
    "counter = 0\n",
    "for rows in ADNI1.PTID:\n",
    "    for roots, dirs, files in os.walk('/media/fabio/Disco locale/Scaricati/output_ADNI/'):\n",
    "        if rows not in ['_'.join(file.split('_')[1:4]) for file in files]:\n",
    "            print(rows)\n",
    "            print('no')\n",
    "            counter +=1\n",
    "print(counter)"
   ]
  },
  {
   "cell_type": "code",
   "execution_count": null,
   "metadata": {},
   "outputs": [],
   "source": [
    "for rows in ADNI1.PTID:\n",
    "    print(rows)"
   ]
  },
  {
   "cell_type": "code",
   "execution_count": null,
   "metadata": {},
   "outputs": [],
   "source": []
  }
 ],
 "metadata": {
  "kernelspec": {
   "display_name": "Python 3",
   "language": "python",
   "name": "python3"
  },
  "language_info": {
   "codemirror_mode": {
    "name": "ipython",
    "version": 3
   },
   "file_extension": ".py",
   "mimetype": "text/x-python",
   "name": "python",
   "nbconvert_exporter": "python",
   "pygments_lexer": "ipython3",
   "version": "3.6.1"
  }
 },
 "nbformat": 4,
 "nbformat_minor": 2
}
